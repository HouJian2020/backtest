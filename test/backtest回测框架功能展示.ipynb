{
 "cells": [
  {
   "cell_type": "code",
   "execution_count": 1,
   "id": "c301f154",
   "metadata": {
    "ExecuteTime": {
     "end_time": "2023-04-14T03:23:51.914994Z",
     "start_time": "2023-04-14T03:23:51.776726Z"
    },
    "execution": {
     "iopub.execute_input": "2023-10-09T08:17:27.097158Z",
     "iopub.status.busy": "2023-10-09T08:17:27.097158Z",
     "iopub.status.idle": "2023-10-09T08:17:27.164249Z",
     "shell.execute_reply": "2023-10-09T08:17:27.162245Z",
     "shell.execute_reply.started": "2023-10-09T08:17:27.097158Z"
    }
   },
   "outputs": [],
   "source": [
    "%load_ext autoreload\n",
    "%autoreload 2"
   ]
  },
  {
   "cell_type": "code",
   "execution_count": 2,
   "id": "ece0bb95",
   "metadata": {
    "ExecuteTime": {
     "end_time": "2023-04-14T03:23:53.019926Z",
     "start_time": "2023-04-14T03:23:51.917997Z"
    },
    "execution": {
     "iopub.execute_input": "2023-10-09T08:17:27.167284Z",
     "iopub.status.busy": "2023-10-09T08:17:27.166259Z",
     "iopub.status.idle": "2023-10-09T08:17:27.618173Z",
     "shell.execute_reply": "2023-10-09T08:17:27.617175Z",
     "shell.execute_reply.started": "2023-10-09T08:17:27.167284Z"
    }
   },
   "outputs": [],
   "source": [
    "import pandas as pd \n",
    "df = pd.read_pickle('./data/index300.pkl ')"
   ]
  },
  {
   "cell_type": "markdown",
   "id": "9e966a35",
   "metadata": {},
   "source": [
    "# 回测模块导入"
   ]
  },
  {
   "cell_type": "code",
   "execution_count": 3,
   "id": "cb6a9ba6",
   "metadata": {
    "ExecuteTime": {
     "end_time": "2023-04-14T03:23:54.358436Z",
     "start_time": "2023-04-14T03:23:53.023928Z"
    },
    "execution": {
     "iopub.execute_input": "2023-10-09T08:17:27.620176Z",
     "iopub.status.busy": "2023-10-09T08:17:27.619181Z",
     "iopub.status.idle": "2023-10-09T08:17:28.071130Z",
     "shell.execute_reply": "2023-10-09T08:17:28.070141Z",
     "shell.execute_reply.started": "2023-10-09T08:17:27.620176Z"
    }
   },
   "outputs": [],
   "source": [
    "from backtest.dataframe import TradeSession, PMPandas\n",
    "from backtest.base_api import event_generator"
   ]
  },
  {
   "cell_type": "markdown",
   "id": "83d3acd1",
   "metadata": {},
   "source": [
    "# 一个例子"
   ]
  },
  {
   "cell_type": "markdown",
   "id": "8dc7534f",
   "metadata": {},
   "source": [
    "## 极简回测实现"
   ]
  },
  {
   "cell_type": "markdown",
   "id": "60875d6a",
   "metadata": {},
   "source": [
    "### 策略逻辑"
   ]
  },
  {
   "cell_type": "markdown",
   "id": "aba3e366",
   "metadata": {},
   "source": [
    "1. 每隔5个交易日，开盘的时候买入5个价格最低的股票（扣除即将退市）  \n",
    "    a. 如果开盘买入不成功则取消订单\n",
    "2. 持有至第4个交易日收盘， 以市价单卖出  \n",
    "    b. 如果收盘没有交易成功，直到交易成功为止  "
   ]
  },
  {
   "cell_type": "code",
   "execution_count": 4,
   "id": "2ca0be1c",
   "metadata": {
    "ExecuteTime": {
     "end_time": "2023-04-14T03:23:54.530853Z",
     "start_time": "2023-04-14T03:23:54.361422Z"
    },
    "execution": {
     "iopub.execute_input": "2023-10-09T08:17:28.073139Z",
     "iopub.status.busy": "2023-10-09T08:17:28.072137Z",
     "iopub.status.idle": "2023-10-09T08:17:28.165169Z",
     "shell.execute_reply": "2023-10-09T08:17:28.164175Z",
     "shell.execute_reply.started": "2023-10-09T08:17:28.073139Z"
    }
   },
   "outputs": [],
   "source": [
    "class PM1(PMPandas):\n",
    "    \"\"\"基金经理（策略）的具体实现\"\"\"\n",
    "    \n",
    "    def init(self):        \n",
    "        # 获取市场数据， 粗略计算距离退市的时间\n",
    "        data = self.get_mkt_data()\n",
    "        data['ndelist'] = data.groupby('code', group_keys=False)['tradeDate'].apply(\n",
    "            lambda x: pd.Series(range(len(x), 0, -1), index=x.index))\n",
    "#         self.pb = pd.read_csv('xxx')\n",
    "        # 初始化一个计数的变量\n",
    "        self.open_count = 0 \n",
    "        print('-'*10 + '初始化工作完成' + '-'*10)\n",
    "        \n",
    "        \n",
    "    def after_open(self):\n",
    "        if  self.open_count % 5 == 0:   \n",
    "            data = self.get_mkt_frame()\n",
    "            data = data.sort_values('settlePrice').head(5).query(\"ndelist > 100\")\n",
    "            data['ratio_relative'] = data['settlePrice'] # 以价格为成交比例 \n",
    "            data['code'] = data.index\n",
    "            self.send_orders(\n",
    "                data[['code', 'ratio_relative']],\n",
    "                ratio_to_netasset=0.5,  # 二分之一的仓位去交易\n",
    "                order_type='ratio_market',\n",
    "                order_seq=1)  # 交易优先级靠后， 保证有足够的资金释放\n",
    "        self.open_count += 1 \n",
    "        \n",
    "    def after_close(self):\n",
    "        if  (self.open_count+1) % 5 == 0:\n",
    "#             self.position_sell = self.position.query(\"code in {}\")\n",
    "            self.sell_position(self.position, \n",
    "                               order_seq=0) # 交易优先级靠前， 保证有足够的资金释放\n",
    "            \n",
    "#     def after_evnt(self):\n",
    "#         pass\n",
    "            \n",
    "    def __str__(self):\n",
    "        return(\"精简版本的策略\")"
   ]
  },
  {
   "cell_type": "markdown",
   "id": "1db914da",
   "metadata": {},
   "source": [
    "### 策略运行"
   ]
  },
  {
   "cell_type": "code",
   "execution_count": 5,
   "id": "109cb6cf",
   "metadata": {
    "ExecuteTime": {
     "end_time": "2023-04-14T03:24:00.739260Z",
     "start_time": "2023-04-14T03:23:54.533854Z"
    },
    "execution": {
     "iopub.execute_input": "2023-10-09T08:17:28.165169Z",
     "iopub.status.busy": "2023-10-09T08:17:28.165169Z",
     "iopub.status.idle": "2023-10-09T08:17:31.186375Z",
     "shell.execute_reply": "2023-10-09T08:17:31.185363Z",
     "shell.execute_reply.started": "2023-10-09T08:17:28.165169Z"
    }
   },
   "outputs": [
    {
     "name": "stdout",
     "output_type": "stream",
     "text": [
      "----------初始化工作完成----------\n"
     ]
    }
   ],
   "source": [
    "ts = TradeSession(PM1, start_datetime='2021-01-01', end_datetime='2021-03-01',  markets='stock_daily')\n",
    "obs = ts.run()"
   ]
  },
  {
   "cell_type": "markdown",
   "id": "05115558",
   "metadata": {},
   "source": [
    "## 回测结果"
   ]
  },
  {
   "cell_type": "markdown",
   "id": "2f36bb89",
   "metadata": {},
   "source": [
    "### 结果"
   ]
  },
  {
   "cell_type": "markdown",
   "id": "df00f01c",
   "metadata": {},
   "source": [
    "#### 组合现状"
   ]
  },
  {
   "cell_type": "code",
   "execution_count": 6,
   "id": "3b36249c",
   "metadata": {
    "ExecuteTime": {
     "end_time": "2023-04-14T03:24:00.908807Z",
     "start_time": "2023-04-14T03:24:00.740261Z"
    },
    "execution": {
     "iopub.execute_input": "2023-10-09T08:17:31.187369Z",
     "iopub.status.busy": "2023-10-09T08:17:31.187369Z",
     "iopub.status.idle": "2023-10-09T08:17:31.279447Z",
     "shell.execute_reply": "2023-10-09T08:17:31.278449Z",
     "shell.execute_reply.started": "2023-10-09T08:17:31.187369Z"
    }
   },
   "outputs": [
    {
     "data": {
      "text/html": [
       "<div>\n",
       "<style scoped>\n",
       "    .dataframe tbody tr th:only-of-type {\n",
       "        vertical-align: middle;\n",
       "    }\n",
       "\n",
       "    .dataframe tbody tr th {\n",
       "        vertical-align: top;\n",
       "    }\n",
       "\n",
       "    .dataframe thead th {\n",
       "        text-align: right;\n",
       "    }\n",
       "</style>\n",
       "<table border=\"1\" class=\"dataframe\">\n",
       "  <thead>\n",
       "    <tr style=\"text-align: right;\">\n",
       "      <th></th>\n",
       "      <th>orderID</th>\n",
       "      <th>tradeID</th>\n",
       "      <th>secuType</th>\n",
       "      <th>code</th>\n",
       "      <th>transTime</th>\n",
       "      <th>transPrice</th>\n",
       "      <th>settlePrice</th>\n",
       "      <th>volume</th>\n",
       "      <th>frozenVol</th>\n",
       "    </tr>\n",
       "  </thead>\n",
       "  <tbody>\n",
       "    <tr>\n",
       "      <th>0</th>\n",
       "      <td>56</td>\n",
       "      <td>56</td>\n",
       "      <td>stock_daily</td>\n",
       "      <td>000585.SZ</td>\n",
       "      <td>2021-03-01 15:00:00</td>\n",
       "      <td>2.186808</td>\n",
       "      <td>2.186808</td>\n",
       "      <td>3.893456e+06</td>\n",
       "      <td>-0.0</td>\n",
       "    </tr>\n",
       "    <tr>\n",
       "      <th>1</th>\n",
       "      <td>57</td>\n",
       "      <td>57</td>\n",
       "      <td>stock_daily</td>\n",
       "      <td>000820.SZ</td>\n",
       "      <td>2021-03-01 15:00:00</td>\n",
       "      <td>2.771862</td>\n",
       "      <td>2.771862</td>\n",
       "      <td>3.804463e+06</td>\n",
       "      <td>-0.0</td>\n",
       "    </tr>\n",
       "    <tr>\n",
       "      <th>2</th>\n",
       "      <td>58</td>\n",
       "      <td>58</td>\n",
       "      <td>stock_daily</td>\n",
       "      <td>000809.SZ</td>\n",
       "      <td>2021-03-01 15:00:00</td>\n",
       "      <td>5.293855</td>\n",
       "      <td>5.293855</td>\n",
       "      <td>3.762884e+06</td>\n",
       "      <td>-0.0</td>\n",
       "    </tr>\n",
       "    <tr>\n",
       "      <th>3</th>\n",
       "      <td>59</td>\n",
       "      <td>59</td>\n",
       "      <td>stock_daily</td>\n",
       "      <td>000882.SZ</td>\n",
       "      <td>2021-03-01 15:00:00</td>\n",
       "      <td>5.329569</td>\n",
       "      <td>5.329569</td>\n",
       "      <td>3.740701e+06</td>\n",
       "      <td>-0.0</td>\n",
       "    </tr>\n",
       "  </tbody>\n",
       "</table>\n",
       "</div>"
      ],
      "text/plain": [
       "   orderID  tradeID     secuType       code           transTime  transPrice  \\\n",
       "0       56       56  stock_daily  000585.SZ 2021-03-01 15:00:00    2.186808   \n",
       "1       57       57  stock_daily  000820.SZ 2021-03-01 15:00:00    2.771862   \n",
       "2       58       58  stock_daily  000809.SZ 2021-03-01 15:00:00    5.293855   \n",
       "3       59       59  stock_daily  000882.SZ 2021-03-01 15:00:00    5.329569   \n",
       "\n",
       "   settlePrice        volume  frozenVol  \n",
       "0     2.186808  3.893456e+06       -0.0  \n",
       "1     2.771862  3.804463e+06       -0.0  \n",
       "2     5.293855  3.762884e+06       -0.0  \n",
       "3     5.329569  3.740701e+06       -0.0  "
      ]
     },
     "execution_count": 6,
     "metadata": {},
     "output_type": "execute_result"
    }
   ],
   "source": [
    "obs.position"
   ]
  },
  {
   "cell_type": "code",
   "execution_count": 7,
   "id": "f4977009",
   "metadata": {
    "ExecuteTime": {
     "end_time": "2023-04-14T03:24:01.081153Z",
     "start_time": "2023-04-14T03:24:00.910318Z"
    },
    "execution": {
     "iopub.execute_input": "2023-10-09T08:17:31.282459Z",
     "iopub.status.busy": "2023-10-09T08:17:31.281456Z",
     "iopub.status.idle": "2023-10-09T08:17:31.359471Z",
     "shell.execute_reply": "2023-10-09T08:17:31.358476Z",
     "shell.execute_reply.started": "2023-10-09T08:17:31.282459Z"
    }
   },
   "outputs": [
    {
     "data": {
      "text/plain": [
       "{'netAsset': 117861807.25576738, 'cash': 58945632.67152965, 'frozenCash': 0}"
      ]
     },
     "execution_count": 7,
     "metadata": {},
     "output_type": "execute_result"
    }
   ],
   "source": [
    "obs.balance"
   ]
  },
  {
   "cell_type": "code",
   "execution_count": 8,
   "id": "1c9c2ddb",
   "metadata": {
    "ExecuteTime": {
     "end_time": "2023-04-14T03:24:01.236350Z",
     "start_time": "2023-04-14T03:24:01.084153Z"
    },
    "execution": {
     "iopub.execute_input": "2023-10-09T08:17:31.360467Z",
     "iopub.status.busy": "2023-10-09T08:17:31.360467Z",
     "iopub.status.idle": "2023-10-09T08:17:31.452991Z",
     "shell.execute_reply": "2023-10-09T08:17:31.451984Z",
     "shell.execute_reply.started": "2023-10-09T08:17:31.360467Z"
    }
   },
   "outputs": [
    {
     "data": {
      "text/html": [
       "<div>\n",
       "<style scoped>\n",
       "    .dataframe tbody tr th:only-of-type {\n",
       "        vertical-align: middle;\n",
       "    }\n",
       "\n",
       "    .dataframe tbody tr th {\n",
       "        vertical-align: top;\n",
       "    }\n",
       "\n",
       "    .dataframe thead th {\n",
       "        text-align: right;\n",
       "    }\n",
       "</style>\n",
       "<table border=\"1\" class=\"dataframe\">\n",
       "  <thead>\n",
       "    <tr style=\"text-align: right;\">\n",
       "      <th></th>\n",
       "      <th>orderID</th>\n",
       "      <th>secuType</th>\n",
       "      <th>code</th>\n",
       "      <th>orderTime</th>\n",
       "      <th>orderType</th>\n",
       "      <th>direction</th>\n",
       "      <th>targetPrice</th>\n",
       "      <th>targetVol</th>\n",
       "      <th>filledVol</th>\n",
       "      <th>offsetID</th>\n",
       "      <th>status</th>\n",
       "      <th>orderSeq</th>\n",
       "    </tr>\n",
       "  </thead>\n",
       "  <tbody>\n",
       "  </tbody>\n",
       "</table>\n",
       "</div>"
      ],
      "text/plain": [
       "Empty DataFrame\n",
       "Columns: [orderID, secuType, code, orderTime, orderType, direction, targetPrice, targetVol, filledVol, offsetID, status, orderSeq]\n",
       "Index: []"
      ]
     },
     "execution_count": 8,
     "metadata": {},
     "output_type": "execute_result"
    }
   ],
   "source": [
    "obs.active_orders"
   ]
  },
  {
   "cell_type": "code",
   "execution_count": 9,
   "id": "4c2c83f7",
   "metadata": {
    "ExecuteTime": {
     "end_time": "2023-04-14T03:24:01.378383Z",
     "start_time": "2023-04-14T03:24:01.241352Z"
    },
    "execution": {
     "iopub.execute_input": "2023-10-09T08:17:31.454974Z",
     "iopub.status.busy": "2023-10-09T08:17:31.453991Z",
     "iopub.status.idle": "2023-10-09T08:17:31.547658Z",
     "shell.execute_reply": "2023-10-09T08:17:31.545656Z",
     "shell.execute_reply.started": "2023-10-09T08:17:31.454974Z"
    }
   },
   "outputs": [
    {
     "data": {
      "text/plain": [
       "{}"
      ]
     },
     "execution_count": 9,
     "metadata": {},
     "output_type": "execute_result"
    }
   ],
   "source": [
    "obs.active_order_params"
   ]
  },
  {
   "cell_type": "markdown",
   "id": "b9b95991",
   "metadata": {},
   "source": [
    "#### 交易记录"
   ]
  },
  {
   "cell_type": "code",
   "execution_count": 10,
   "id": "aeffc520",
   "metadata": {
    "ExecuteTime": {
     "end_time": "2023-04-14T03:24:01.550976Z",
     "start_time": "2023-04-14T03:24:01.381388Z"
    },
    "execution": {
     "iopub.execute_input": "2023-10-09T08:17:31.549652Z",
     "iopub.status.busy": "2023-10-09T08:17:31.548656Z",
     "iopub.status.idle": "2023-10-09T08:17:31.640223Z",
     "shell.execute_reply": "2023-10-09T08:17:31.639221Z",
     "shell.execute_reply.started": "2023-10-09T08:17:31.549652Z"
    }
   },
   "outputs": [
    {
     "data": {
      "text/html": [
       "<div>\n",
       "<style scoped>\n",
       "    .dataframe tbody tr th:only-of-type {\n",
       "        vertical-align: middle;\n",
       "    }\n",
       "\n",
       "    .dataframe tbody tr th {\n",
       "        vertical-align: top;\n",
       "    }\n",
       "\n",
       "    .dataframe thead th {\n",
       "        text-align: right;\n",
       "    }\n",
       "</style>\n",
       "<table border=\"1\" class=\"dataframe\">\n",
       "  <thead>\n",
       "    <tr style=\"text-align: right;\">\n",
       "      <th></th>\n",
       "      <th>tradeID</th>\n",
       "      <th>orderID</th>\n",
       "      <th>secuType</th>\n",
       "      <th>code</th>\n",
       "      <th>transTime</th>\n",
       "      <th>direction</th>\n",
       "      <th>transPrice</th>\n",
       "      <th>transVol</th>\n",
       "      <th>offsetID</th>\n",
       "      <th>transCost</th>\n",
       "    </tr>\n",
       "  </thead>\n",
       "  <tbody>\n",
       "    <tr>\n",
       "      <th>55</th>\n",
       "      <td>55</td>\n",
       "      <td>55</td>\n",
       "      <td>stock_daily</td>\n",
       "      <td>000585.SZ</td>\n",
       "      <td>2021-02-26 09:30:00</td>\n",
       "      <td>net</td>\n",
       "      <td>2.237961</td>\n",
       "      <td>-3.854868e+06</td>\n",
       "      <td>48</td>\n",
       "      <td>12940.568477</td>\n",
       "    </tr>\n",
       "    <tr>\n",
       "      <th>56</th>\n",
       "      <td>56</td>\n",
       "      <td>56</td>\n",
       "      <td>stock_daily</td>\n",
       "      <td>000585.SZ</td>\n",
       "      <td>2021-03-01 15:00:00</td>\n",
       "      <td>long</td>\n",
       "      <td>2.186808</td>\n",
       "      <td>3.893456e+06</td>\n",
       "      <td>-1</td>\n",
       "      <td>4257.120339</td>\n",
       "    </tr>\n",
       "    <tr>\n",
       "      <th>57</th>\n",
       "      <td>57</td>\n",
       "      <td>57</td>\n",
       "      <td>stock_daily</td>\n",
       "      <td>000820.SZ</td>\n",
       "      <td>2021-03-01 15:00:00</td>\n",
       "      <td>long</td>\n",
       "      <td>2.771862</td>\n",
       "      <td>3.804463e+06</td>\n",
       "      <td>-1</td>\n",
       "      <td>5272.722696</td>\n",
       "    </tr>\n",
       "    <tr>\n",
       "      <th>58</th>\n",
       "      <td>58</td>\n",
       "      <td>58</td>\n",
       "      <td>stock_daily</td>\n",
       "      <td>000809.SZ</td>\n",
       "      <td>2021-03-01 15:00:00</td>\n",
       "      <td>long</td>\n",
       "      <td>5.293855</td>\n",
       "      <td>3.762884e+06</td>\n",
       "      <td>-1</td>\n",
       "      <td>9960.081685</td>\n",
       "    </tr>\n",
       "    <tr>\n",
       "      <th>59</th>\n",
       "      <td>59</td>\n",
       "      <td>59</td>\n",
       "      <td>stock_daily</td>\n",
       "      <td>000882.SZ</td>\n",
       "      <td>2021-03-01 15:00:00</td>\n",
       "      <td>long</td>\n",
       "      <td>5.329569</td>\n",
       "      <td>3.740701e+06</td>\n",
       "      <td>-1</td>\n",
       "      <td>9968.162573</td>\n",
       "    </tr>\n",
       "  </tbody>\n",
       "</table>\n",
       "</div>"
      ],
      "text/plain": [
       "    tradeID  orderID     secuType       code           transTime direction  \\\n",
       "55       55       55  stock_daily  000585.SZ 2021-02-26 09:30:00       net   \n",
       "56       56       56  stock_daily  000585.SZ 2021-03-01 15:00:00      long   \n",
       "57       57       57  stock_daily  000820.SZ 2021-03-01 15:00:00      long   \n",
       "58       58       58  stock_daily  000809.SZ 2021-03-01 15:00:00      long   \n",
       "59       59       59  stock_daily  000882.SZ 2021-03-01 15:00:00      long   \n",
       "\n",
       "    transPrice      transVol  offsetID     transCost  \n",
       "55    2.237961 -3.854868e+06        48  12940.568477  \n",
       "56    2.186808  3.893456e+06        -1   4257.120339  \n",
       "57    2.771862  3.804463e+06        -1   5272.722696  \n",
       "58    5.293855  3.762884e+06        -1   9960.081685  \n",
       "59    5.329569  3.740701e+06        -1   9968.162573  "
      ]
     },
     "execution_count": 10,
     "metadata": {},
     "output_type": "execute_result"
    }
   ],
   "source": [
    "obs.trade_records.tail()"
   ]
  },
  {
   "cell_type": "markdown",
   "id": "303df05d",
   "metadata": {},
   "source": [
    "#### balance记录"
   ]
  },
  {
   "cell_type": "code",
   "execution_count": 11,
   "id": "6402b973",
   "metadata": {
    "ExecuteTime": {
     "end_time": "2023-04-14T03:24:01.709014Z",
     "start_time": "2023-04-14T03:24:01.553979Z"
    },
    "execution": {
     "iopub.execute_input": "2023-10-09T08:17:31.641216Z",
     "iopub.status.busy": "2023-10-09T08:17:31.641216Z",
     "iopub.status.idle": "2023-10-09T08:17:31.752071Z",
     "shell.execute_reply": "2023-10-09T08:17:31.750559Z",
     "shell.execute_reply.started": "2023-10-09T08:17:31.641216Z"
    }
   },
   "outputs": [
    {
     "data": {
      "text/html": [
       "<div>\n",
       "<style scoped>\n",
       "    .dataframe tbody tr th:only-of-type {\n",
       "        vertical-align: middle;\n",
       "    }\n",
       "\n",
       "    .dataframe tbody tr th {\n",
       "        vertical-align: top;\n",
       "    }\n",
       "\n",
       "    .dataframe thead th {\n",
       "        text-align: right;\n",
       "    }\n",
       "</style>\n",
       "<table border=\"1\" class=\"dataframe\">\n",
       "  <thead>\n",
       "    <tr style=\"text-align: right;\">\n",
       "      <th></th>\n",
       "      <th>recordTime</th>\n",
       "      <th>netAsset</th>\n",
       "      <th>cash</th>\n",
       "      <th>frozenCash</th>\n",
       "      <th>date</th>\n",
       "    </tr>\n",
       "  </thead>\n",
       "  <tbody>\n",
       "    <tr>\n",
       "      <th>31</th>\n",
       "      <td>2021-02-23 20:00:00</td>\n",
       "      <td>1.140668e+08</td>\n",
       "      <td>5.648411e+07</td>\n",
       "      <td>0.0</td>\n",
       "      <td>2021-02-23</td>\n",
       "    </tr>\n",
       "    <tr>\n",
       "      <th>32</th>\n",
       "      <td>2021-02-24 20:00:00</td>\n",
       "      <td>1.147797e+08</td>\n",
       "      <td>5.648411e+07</td>\n",
       "      <td>0.0</td>\n",
       "      <td>2021-02-24</td>\n",
       "    </tr>\n",
       "    <tr>\n",
       "      <th>33</th>\n",
       "      <td>2021-02-25 20:00:00</td>\n",
       "      <td>1.168512e+08</td>\n",
       "      <td>5.648411e+07</td>\n",
       "      <td>0.0</td>\n",
       "      <td>2021-02-25</td>\n",
       "    </tr>\n",
       "    <tr>\n",
       "      <th>34</th>\n",
       "      <td>2021-02-26 20:00:00</td>\n",
       "      <td>1.178913e+08</td>\n",
       "      <td>1.178913e+08</td>\n",
       "      <td>0.0</td>\n",
       "      <td>2021-02-26</td>\n",
       "    </tr>\n",
       "    <tr>\n",
       "      <th>35</th>\n",
       "      <td>2021-03-01 20:00:00</td>\n",
       "      <td>1.178618e+08</td>\n",
       "      <td>5.894563e+07</td>\n",
       "      <td>0.0</td>\n",
       "      <td>2021-03-01</td>\n",
       "    </tr>\n",
       "  </tbody>\n",
       "</table>\n",
       "</div>"
      ],
      "text/plain": [
       "            recordTime      netAsset          cash  frozenCash        date\n",
       "31 2021-02-23 20:00:00  1.140668e+08  5.648411e+07         0.0  2021-02-23\n",
       "32 2021-02-24 20:00:00  1.147797e+08  5.648411e+07         0.0  2021-02-24\n",
       "33 2021-02-25 20:00:00  1.168512e+08  5.648411e+07         0.0  2021-02-25\n",
       "34 2021-02-26 20:00:00  1.178913e+08  1.178913e+08         0.0  2021-02-26\n",
       "35 2021-03-01 20:00:00  1.178618e+08  5.894563e+07         0.0  2021-03-01"
      ]
     },
     "execution_count": 11,
     "metadata": {},
     "output_type": "execute_result"
    }
   ],
   "source": [
    "obs.balance_records.tail()"
   ]
  },
  {
   "cell_type": "markdown",
   "id": "e14fa095",
   "metadata": {},
   "source": [
    "#### 持仓记录"
   ]
  },
  {
   "cell_type": "code",
   "execution_count": 12,
   "id": "317fa93d",
   "metadata": {
    "ExecuteTime": {
     "end_time": "2023-04-14T03:24:01.883053Z",
     "start_time": "2023-04-14T03:24:01.713016Z"
    },
    "execution": {
     "iopub.execute_input": "2023-10-09T08:17:31.755069Z",
     "iopub.status.busy": "2023-10-09T08:17:31.754071Z",
     "iopub.status.idle": "2023-10-09T08:17:31.846994Z",
     "shell.execute_reply": "2023-10-09T08:17:31.845994Z",
     "shell.execute_reply.started": "2023-10-09T08:17:31.755069Z"
    }
   },
   "outputs": [
    {
     "data": {
      "text/html": [
       "<div>\n",
       "<style scoped>\n",
       "    .dataframe tbody tr th:only-of-type {\n",
       "        vertical-align: middle;\n",
       "    }\n",
       "\n",
       "    .dataframe tbody tr th {\n",
       "        vertical-align: top;\n",
       "    }\n",
       "\n",
       "    .dataframe thead th {\n",
       "        text-align: right;\n",
       "    }\n",
       "</style>\n",
       "<table border=\"1\" class=\"dataframe\">\n",
       "  <thead>\n",
       "    <tr style=\"text-align: right;\">\n",
       "      <th></th>\n",
       "      <th>recordTime</th>\n",
       "      <th>orderID</th>\n",
       "      <th>tradeID</th>\n",
       "      <th>secuType</th>\n",
       "      <th>code</th>\n",
       "      <th>transTime</th>\n",
       "      <th>transPrice</th>\n",
       "      <th>settlePrice</th>\n",
       "      <th>volume</th>\n",
       "      <th>frozenVol</th>\n",
       "      <th>date</th>\n",
       "      <th>mktv</th>\n",
       "    </tr>\n",
       "  </thead>\n",
       "  <tbody>\n",
       "    <tr>\n",
       "      <th>0</th>\n",
       "      <td>2021-01-04 20:00:00</td>\n",
       "      <td>0</td>\n",
       "      <td>0</td>\n",
       "      <td>stock_daily</td>\n",
       "      <td>000585.SZ</td>\n",
       "      <td>2021-01-04 15:00:00</td>\n",
       "      <td>2.161231</td>\n",
       "      <td>2.161231</td>\n",
       "      <td>3.884032e+06</td>\n",
       "      <td>-0.000000e+00</td>\n",
       "      <td>2021-01-04</td>\n",
       "      <td>8.394292e+06</td>\n",
       "    </tr>\n",
       "    <tr>\n",
       "      <th>1</th>\n",
       "      <td>2021-01-04 20:00:00</td>\n",
       "      <td>1</td>\n",
       "      <td>1</td>\n",
       "      <td>stock_daily</td>\n",
       "      <td>000820.SZ</td>\n",
       "      <td>2021-01-04 15:00:00</td>\n",
       "      <td>2.367632</td>\n",
       "      <td>2.367632</td>\n",
       "      <td>3.738814e+06</td>\n",
       "      <td>-0.000000e+00</td>\n",
       "      <td>2021-01-04</td>\n",
       "      <td>8.852135e+06</td>\n",
       "    </tr>\n",
       "    <tr>\n",
       "      <th>2</th>\n",
       "      <td>2021-01-04 20:00:00</td>\n",
       "      <td>2</td>\n",
       "      <td>2</td>\n",
       "      <td>stock_daily</td>\n",
       "      <td>000980.SZ</td>\n",
       "      <td>2021-01-04 15:00:00</td>\n",
       "      <td>2.830359</td>\n",
       "      <td>2.830359</td>\n",
       "      <td>3.872746e+06</td>\n",
       "      <td>-0.000000e+00</td>\n",
       "      <td>2021-01-04</td>\n",
       "      <td>1.096126e+07</td>\n",
       "    </tr>\n",
       "    <tr>\n",
       "      <th>3</th>\n",
       "      <td>2021-01-04 20:00:00</td>\n",
       "      <td>3</td>\n",
       "      <td>3</td>\n",
       "      <td>stock_daily</td>\n",
       "      <td>000882.SZ</td>\n",
       "      <td>2021-01-04 15:00:00</td>\n",
       "      <td>5.537988</td>\n",
       "      <td>5.537988</td>\n",
       "      <td>3.930548e+06</td>\n",
       "      <td>-0.000000e+00</td>\n",
       "      <td>2021-01-04</td>\n",
       "      <td>2.176733e+07</td>\n",
       "    </tr>\n",
       "    <tr>\n",
       "      <th>4</th>\n",
       "      <td>2021-01-05 20:00:00</td>\n",
       "      <td>0</td>\n",
       "      <td>0</td>\n",
       "      <td>stock_daily</td>\n",
       "      <td>000585.SZ</td>\n",
       "      <td>2021-01-04 15:00:00</td>\n",
       "      <td>2.161231</td>\n",
       "      <td>2.058924</td>\n",
       "      <td>3.884032e+06</td>\n",
       "      <td>-0.000000e+00</td>\n",
       "      <td>2021-01-05</td>\n",
       "      <td>7.996929e+06</td>\n",
       "    </tr>\n",
       "    <tr>\n",
       "      <th>...</th>\n",
       "      <td>...</td>\n",
       "      <td>...</td>\n",
       "      <td>...</td>\n",
       "      <td>...</td>\n",
       "      <td>...</td>\n",
       "      <td>...</td>\n",
       "      <td>...</td>\n",
       "      <td>...</td>\n",
       "      <td>...</td>\n",
       "      <td>...</td>\n",
       "      <td>...</td>\n",
       "      <td>...</td>\n",
       "    </tr>\n",
       "    <tr>\n",
       "      <th>111</th>\n",
       "      <td>2021-02-25 20:00:00</td>\n",
       "      <td>51</td>\n",
       "      <td>51</td>\n",
       "      <td>stock_daily</td>\n",
       "      <td>000882.SZ</td>\n",
       "      <td>2021-02-22 15:00:00</td>\n",
       "      <td>5.240247</td>\n",
       "      <td>5.240247</td>\n",
       "      <td>3.928639e+06</td>\n",
       "      <td>3.928639e+06</td>\n",
       "      <td>2021-02-25</td>\n",
       "      <td>0.000000e+00</td>\n",
       "    </tr>\n",
       "    <tr>\n",
       "      <th>112</th>\n",
       "      <td>2021-03-01 20:00:00</td>\n",
       "      <td>56</td>\n",
       "      <td>56</td>\n",
       "      <td>stock_daily</td>\n",
       "      <td>000585.SZ</td>\n",
       "      <td>2021-03-01 15:00:00</td>\n",
       "      <td>2.186808</td>\n",
       "      <td>2.186808</td>\n",
       "      <td>3.893456e+06</td>\n",
       "      <td>-0.000000e+00</td>\n",
       "      <td>2021-03-01</td>\n",
       "      <td>8.514241e+06</td>\n",
       "    </tr>\n",
       "    <tr>\n",
       "      <th>113</th>\n",
       "      <td>2021-03-01 20:00:00</td>\n",
       "      <td>57</td>\n",
       "      <td>57</td>\n",
       "      <td>stock_daily</td>\n",
       "      <td>000820.SZ</td>\n",
       "      <td>2021-03-01 15:00:00</td>\n",
       "      <td>2.771862</td>\n",
       "      <td>2.771862</td>\n",
       "      <td>3.804463e+06</td>\n",
       "      <td>-0.000000e+00</td>\n",
       "      <td>2021-03-01</td>\n",
       "      <td>1.054545e+07</td>\n",
       "    </tr>\n",
       "    <tr>\n",
       "      <th>114</th>\n",
       "      <td>2021-03-01 20:00:00</td>\n",
       "      <td>58</td>\n",
       "      <td>58</td>\n",
       "      <td>stock_daily</td>\n",
       "      <td>000809.SZ</td>\n",
       "      <td>2021-03-01 15:00:00</td>\n",
       "      <td>5.293855</td>\n",
       "      <td>5.293855</td>\n",
       "      <td>3.762884e+06</td>\n",
       "      <td>-0.000000e+00</td>\n",
       "      <td>2021-03-01</td>\n",
       "      <td>1.992016e+07</td>\n",
       "    </tr>\n",
       "    <tr>\n",
       "      <th>115</th>\n",
       "      <td>2021-03-01 20:00:00</td>\n",
       "      <td>59</td>\n",
       "      <td>59</td>\n",
       "      <td>stock_daily</td>\n",
       "      <td>000882.SZ</td>\n",
       "      <td>2021-03-01 15:00:00</td>\n",
       "      <td>5.329569</td>\n",
       "      <td>5.329569</td>\n",
       "      <td>3.740701e+06</td>\n",
       "      <td>-0.000000e+00</td>\n",
       "      <td>2021-03-01</td>\n",
       "      <td>1.993633e+07</td>\n",
       "    </tr>\n",
       "  </tbody>\n",
       "</table>\n",
       "<p>116 rows × 12 columns</p>\n",
       "</div>"
      ],
      "text/plain": [
       "             recordTime  orderID  tradeID     secuType       code  \\\n",
       "0   2021-01-04 20:00:00        0        0  stock_daily  000585.SZ   \n",
       "1   2021-01-04 20:00:00        1        1  stock_daily  000820.SZ   \n",
       "2   2021-01-04 20:00:00        2        2  stock_daily  000980.SZ   \n",
       "3   2021-01-04 20:00:00        3        3  stock_daily  000882.SZ   \n",
       "4   2021-01-05 20:00:00        0        0  stock_daily  000585.SZ   \n",
       "..                  ...      ...      ...          ...        ...   \n",
       "111 2021-02-25 20:00:00       51       51  stock_daily  000882.SZ   \n",
       "112 2021-03-01 20:00:00       56       56  stock_daily  000585.SZ   \n",
       "113 2021-03-01 20:00:00       57       57  stock_daily  000820.SZ   \n",
       "114 2021-03-01 20:00:00       58       58  stock_daily  000809.SZ   \n",
       "115 2021-03-01 20:00:00       59       59  stock_daily  000882.SZ   \n",
       "\n",
       "              transTime  transPrice  settlePrice        volume     frozenVol  \\\n",
       "0   2021-01-04 15:00:00    2.161231     2.161231  3.884032e+06 -0.000000e+00   \n",
       "1   2021-01-04 15:00:00    2.367632     2.367632  3.738814e+06 -0.000000e+00   \n",
       "2   2021-01-04 15:00:00    2.830359     2.830359  3.872746e+06 -0.000000e+00   \n",
       "3   2021-01-04 15:00:00    5.537988     5.537988  3.930548e+06 -0.000000e+00   \n",
       "4   2021-01-04 15:00:00    2.161231     2.058924  3.884032e+06 -0.000000e+00   \n",
       "..                  ...         ...          ...           ...           ...   \n",
       "111 2021-02-22 15:00:00    5.240247     5.240247  3.928639e+06  3.928639e+06   \n",
       "112 2021-03-01 15:00:00    2.186808     2.186808  3.893456e+06 -0.000000e+00   \n",
       "113 2021-03-01 15:00:00    2.771862     2.771862  3.804463e+06 -0.000000e+00   \n",
       "114 2021-03-01 15:00:00    5.293855     5.293855  3.762884e+06 -0.000000e+00   \n",
       "115 2021-03-01 15:00:00    5.329569     5.329569  3.740701e+06 -0.000000e+00   \n",
       "\n",
       "           date          mktv  \n",
       "0    2021-01-04  8.394292e+06  \n",
       "1    2021-01-04  8.852135e+06  \n",
       "2    2021-01-04  1.096126e+07  \n",
       "3    2021-01-04  2.176733e+07  \n",
       "4    2021-01-05  7.996929e+06  \n",
       "..          ...           ...  \n",
       "111  2021-02-25  0.000000e+00  \n",
       "112  2021-03-01  8.514241e+06  \n",
       "113  2021-03-01  1.054545e+07  \n",
       "114  2021-03-01  1.992016e+07  \n",
       "115  2021-03-01  1.993633e+07  \n",
       "\n",
       "[116 rows x 12 columns]"
      ]
     },
     "execution_count": 12,
     "metadata": {},
     "output_type": "execute_result"
    }
   ],
   "source": [
    "obs.position_records"
   ]
  },
  {
   "cell_type": "markdown",
   "id": "df1b42ad",
   "metadata": {},
   "source": [
    "### 检查"
   ]
  },
  {
   "cell_type": "markdown",
   "id": "d7de45df",
   "metadata": {},
   "source": [
    "持仓资产+现金等于基金净值"
   ]
  },
  {
   "cell_type": "code",
   "execution_count": 13,
   "id": "f69a5a50",
   "metadata": {
    "ExecuteTime": {
     "end_time": "2023-04-14T03:24:02.057331Z",
     "start_time": "2023-04-14T03:24:01.885054Z"
    },
    "execution": {
     "iopub.execute_input": "2023-10-09T08:17:31.848990Z",
     "iopub.status.busy": "2023-10-09T08:17:31.847993Z",
     "iopub.status.idle": "2023-10-09T08:17:31.957667Z",
     "shell.execute_reply": "2023-10-09T08:17:31.956680Z",
     "shell.execute_reply.started": "2023-10-09T08:17:31.848990Z"
    },
    "scrolled": true
   },
   "outputs": [
    {
     "data": {
      "text/html": [
       "<div>\n",
       "<style scoped>\n",
       "    .dataframe tbody tr th:only-of-type {\n",
       "        vertical-align: middle;\n",
       "    }\n",
       "\n",
       "    .dataframe tbody tr th {\n",
       "        vertical-align: top;\n",
       "    }\n",
       "\n",
       "    .dataframe thead th {\n",
       "        text-align: right;\n",
       "    }\n",
       "</style>\n",
       "<table border=\"1\" class=\"dataframe\">\n",
       "  <thead>\n",
       "    <tr style=\"text-align: right;\">\n",
       "      <th></th>\n",
       "      <th>netAsset</th>\n",
       "      <th>cash</th>\n",
       "      <th>position_asset</th>\n",
       "      <th>netAsset_cal</th>\n",
       "    </tr>\n",
       "    <tr>\n",
       "      <th>recordTime</th>\n",
       "      <th></th>\n",
       "      <th></th>\n",
       "      <th></th>\n",
       "      <th></th>\n",
       "    </tr>\n",
       "  </thead>\n",
       "  <tbody>\n",
       "    <tr>\n",
       "      <th>2021-01-04 20:00:00</th>\n",
       "      <td>9.997501e+07</td>\n",
       "      <td>5.000000e+07</td>\n",
       "      <td>4.997501e+07</td>\n",
       "      <td>9.997501e+07</td>\n",
       "    </tr>\n",
       "    <tr>\n",
       "      <th>2021-01-05 20:00:00</th>\n",
       "      <td>9.958730e+07</td>\n",
       "      <td>5.000000e+07</td>\n",
       "      <td>4.958730e+07</td>\n",
       "      <td>9.958730e+07</td>\n",
       "    </tr>\n",
       "    <tr>\n",
       "      <th>2021-01-06 20:00:00</th>\n",
       "      <td>9.884482e+07</td>\n",
       "      <td>5.000000e+07</td>\n",
       "      <td>4.884482e+07</td>\n",
       "      <td>9.884482e+07</td>\n",
       "    </tr>\n",
       "    <tr>\n",
       "      <th>2021-01-07 20:00:00</th>\n",
       "      <td>9.776839e+07</td>\n",
       "      <td>5.000000e+07</td>\n",
       "      <td>4.776839e+07</td>\n",
       "      <td>9.776839e+07</td>\n",
       "    </tr>\n",
       "    <tr>\n",
       "      <th>2021-01-08 20:00:00</th>\n",
       "      <td>9.745531e+07</td>\n",
       "      <td>9.745531e+07</td>\n",
       "      <td>NaN</td>\n",
       "      <td>9.745531e+07</td>\n",
       "    </tr>\n",
       "    <tr>\n",
       "      <th>2021-01-11 20:00:00</th>\n",
       "      <td>9.743096e+07</td>\n",
       "      <td>4.872765e+07</td>\n",
       "      <td>4.870330e+07</td>\n",
       "      <td>9.743096e+07</td>\n",
       "    </tr>\n",
       "    <tr>\n",
       "      <th>2021-01-12 20:00:00</th>\n",
       "      <td>9.754035e+07</td>\n",
       "      <td>4.872765e+07</td>\n",
       "      <td>4.881270e+07</td>\n",
       "      <td>9.754035e+07</td>\n",
       "    </tr>\n",
       "    <tr>\n",
       "      <th>2021-01-13 20:00:00</th>\n",
       "      <td>9.785861e+07</td>\n",
       "      <td>4.872765e+07</td>\n",
       "      <td>4.913095e+07</td>\n",
       "      <td>9.785861e+07</td>\n",
       "    </tr>\n",
       "    <tr>\n",
       "      <th>2021-01-14 20:00:00</th>\n",
       "      <td>9.914559e+07</td>\n",
       "      <td>4.872765e+07</td>\n",
       "      <td>5.041794e+07</td>\n",
       "      <td>9.914559e+07</td>\n",
       "    </tr>\n",
       "    <tr>\n",
       "      <th>2021-01-15 20:00:00</th>\n",
       "      <td>9.934285e+07</td>\n",
       "      <td>9.934285e+07</td>\n",
       "      <td>NaN</td>\n",
       "      <td>9.934285e+07</td>\n",
       "    </tr>\n",
       "    <tr>\n",
       "      <th>2021-01-18 20:00:00</th>\n",
       "      <td>9.931803e+07</td>\n",
       "      <td>4.967143e+07</td>\n",
       "      <td>4.964660e+07</td>\n",
       "      <td>9.931803e+07</td>\n",
       "    </tr>\n",
       "    <tr>\n",
       "      <th>2021-01-19 20:00:00</th>\n",
       "      <td>1.016010e+08</td>\n",
       "      <td>4.967143e+07</td>\n",
       "      <td>5.192954e+07</td>\n",
       "      <td>1.016010e+08</td>\n",
       "    </tr>\n",
       "    <tr>\n",
       "      <th>2021-01-20 20:00:00</th>\n",
       "      <td>1.035387e+08</td>\n",
       "      <td>4.967143e+07</td>\n",
       "      <td>5.386727e+07</td>\n",
       "      <td>1.035387e+08</td>\n",
       "    </tr>\n",
       "    <tr>\n",
       "      <th>2021-01-21 20:00:00</th>\n",
       "      <td>1.052745e+08</td>\n",
       "      <td>4.967143e+07</td>\n",
       "      <td>5.560310e+07</td>\n",
       "      <td>1.052745e+08</td>\n",
       "    </tr>\n",
       "    <tr>\n",
       "      <th>2021-01-22 20:00:00</th>\n",
       "      <td>1.026090e+08</td>\n",
       "      <td>1.026090e+08</td>\n",
       "      <td>NaN</td>\n",
       "      <td>1.026090e+08</td>\n",
       "    </tr>\n",
       "    <tr>\n",
       "      <th>2021-01-25 20:00:00</th>\n",
       "      <td>1.025834e+08</td>\n",
       "      <td>5.130451e+07</td>\n",
       "      <td>5.127887e+07</td>\n",
       "      <td>1.025834e+08</td>\n",
       "    </tr>\n",
       "    <tr>\n",
       "      <th>2021-01-26 20:00:00</th>\n",
       "      <td>1.033315e+08</td>\n",
       "      <td>5.130451e+07</td>\n",
       "      <td>5.202696e+07</td>\n",
       "      <td>1.033315e+08</td>\n",
       "    </tr>\n",
       "    <tr>\n",
       "      <th>2021-01-27 20:00:00</th>\n",
       "      <td>1.045126e+08</td>\n",
       "      <td>5.130451e+07</td>\n",
       "      <td>5.320805e+07</td>\n",
       "      <td>1.045126e+08</td>\n",
       "    </tr>\n",
       "    <tr>\n",
       "      <th>2021-01-28 20:00:00</th>\n",
       "      <td>1.054780e+08</td>\n",
       "      <td>5.130451e+07</td>\n",
       "      <td>5.417348e+07</td>\n",
       "      <td>1.054780e+08</td>\n",
       "    </tr>\n",
       "    <tr>\n",
       "      <th>2021-01-29 20:00:00</th>\n",
       "      <td>1.077210e+08</td>\n",
       "      <td>1.077210e+08</td>\n",
       "      <td>NaN</td>\n",
       "      <td>1.077210e+08</td>\n",
       "    </tr>\n",
       "    <tr>\n",
       "      <th>2021-02-01 20:00:00</th>\n",
       "      <td>1.076941e+08</td>\n",
       "      <td>5.386052e+07</td>\n",
       "      <td>5.383360e+07</td>\n",
       "      <td>1.076941e+08</td>\n",
       "    </tr>\n",
       "    <tr>\n",
       "      <th>2021-02-02 20:00:00</th>\n",
       "      <td>1.101665e+08</td>\n",
       "      <td>5.386052e+07</td>\n",
       "      <td>5.630601e+07</td>\n",
       "      <td>1.101665e+08</td>\n",
       "    </tr>\n",
       "    <tr>\n",
       "      <th>2021-02-03 20:00:00</th>\n",
       "      <td>1.115220e+08</td>\n",
       "      <td>5.386052e+07</td>\n",
       "      <td>5.766144e+07</td>\n",
       "      <td>1.115220e+08</td>\n",
       "    </tr>\n",
       "    <tr>\n",
       "      <th>2021-02-04 20:00:00</th>\n",
       "      <td>1.100926e+08</td>\n",
       "      <td>5.386052e+07</td>\n",
       "      <td>5.623213e+07</td>\n",
       "      <td>1.100926e+08</td>\n",
       "    </tr>\n",
       "    <tr>\n",
       "      <th>2021-02-05 20:00:00</th>\n",
       "      <td>1.090874e+08</td>\n",
       "      <td>1.090874e+08</td>\n",
       "      <td>NaN</td>\n",
       "      <td>1.090874e+08</td>\n",
       "    </tr>\n",
       "    <tr>\n",
       "      <th>2021-02-08 20:00:00</th>\n",
       "      <td>1.090602e+08</td>\n",
       "      <td>5.454372e+07</td>\n",
       "      <td>5.451647e+07</td>\n",
       "      <td>1.090602e+08</td>\n",
       "    </tr>\n",
       "    <tr>\n",
       "      <th>2021-02-09 20:00:00</th>\n",
       "      <td>1.093215e+08</td>\n",
       "      <td>5.454372e+07</td>\n",
       "      <td>5.477777e+07</td>\n",
       "      <td>1.093215e+08</td>\n",
       "    </tr>\n",
       "    <tr>\n",
       "      <th>2021-02-10 20:00:00</th>\n",
       "      <td>1.104265e+08</td>\n",
       "      <td>5.454372e+07</td>\n",
       "      <td>5.588279e+07</td>\n",
       "      <td>1.104265e+08</td>\n",
       "    </tr>\n",
       "    <tr>\n",
       "      <th>2021-02-18 20:00:00</th>\n",
       "      <td>1.122503e+08</td>\n",
       "      <td>5.454372e+07</td>\n",
       "      <td>5.770660e+07</td>\n",
       "      <td>1.122503e+08</td>\n",
       "    </tr>\n",
       "    <tr>\n",
       "      <th>2021-02-19 20:00:00</th>\n",
       "      <td>1.129682e+08</td>\n",
       "      <td>1.129682e+08</td>\n",
       "      <td>NaN</td>\n",
       "      <td>1.129682e+08</td>\n",
       "    </tr>\n",
       "    <tr>\n",
       "      <th>2021-02-22 20:00:00</th>\n",
       "      <td>1.129400e+08</td>\n",
       "      <td>5.648411e+07</td>\n",
       "      <td>5.645588e+07</td>\n",
       "      <td>1.129400e+08</td>\n",
       "    </tr>\n",
       "    <tr>\n",
       "      <th>2021-02-23 20:00:00</th>\n",
       "      <td>1.140668e+08</td>\n",
       "      <td>5.648411e+07</td>\n",
       "      <td>5.758267e+07</td>\n",
       "      <td>1.140668e+08</td>\n",
       "    </tr>\n",
       "    <tr>\n",
       "      <th>2021-02-24 20:00:00</th>\n",
       "      <td>1.147797e+08</td>\n",
       "      <td>5.648411e+07</td>\n",
       "      <td>5.829558e+07</td>\n",
       "      <td>1.147797e+08</td>\n",
       "    </tr>\n",
       "    <tr>\n",
       "      <th>2021-02-25 20:00:00</th>\n",
       "      <td>1.168512e+08</td>\n",
       "      <td>5.648411e+07</td>\n",
       "      <td>6.036706e+07</td>\n",
       "      <td>1.168512e+08</td>\n",
       "    </tr>\n",
       "    <tr>\n",
       "      <th>2021-02-26 20:00:00</th>\n",
       "      <td>1.178913e+08</td>\n",
       "      <td>1.178913e+08</td>\n",
       "      <td>NaN</td>\n",
       "      <td>1.178913e+08</td>\n",
       "    </tr>\n",
       "    <tr>\n",
       "      <th>2021-03-01 20:00:00</th>\n",
       "      <td>1.178618e+08</td>\n",
       "      <td>5.894563e+07</td>\n",
       "      <td>5.891617e+07</td>\n",
       "      <td>1.178618e+08</td>\n",
       "    </tr>\n",
       "  </tbody>\n",
       "</table>\n",
       "</div>"
      ],
      "text/plain": [
       "                         netAsset          cash  position_asset  netAsset_cal\n",
       "recordTime                                                                   \n",
       "2021-01-04 20:00:00  9.997501e+07  5.000000e+07    4.997501e+07  9.997501e+07\n",
       "2021-01-05 20:00:00  9.958730e+07  5.000000e+07    4.958730e+07  9.958730e+07\n",
       "2021-01-06 20:00:00  9.884482e+07  5.000000e+07    4.884482e+07  9.884482e+07\n",
       "2021-01-07 20:00:00  9.776839e+07  5.000000e+07    4.776839e+07  9.776839e+07\n",
       "2021-01-08 20:00:00  9.745531e+07  9.745531e+07             NaN  9.745531e+07\n",
       "2021-01-11 20:00:00  9.743096e+07  4.872765e+07    4.870330e+07  9.743096e+07\n",
       "2021-01-12 20:00:00  9.754035e+07  4.872765e+07    4.881270e+07  9.754035e+07\n",
       "2021-01-13 20:00:00  9.785861e+07  4.872765e+07    4.913095e+07  9.785861e+07\n",
       "2021-01-14 20:00:00  9.914559e+07  4.872765e+07    5.041794e+07  9.914559e+07\n",
       "2021-01-15 20:00:00  9.934285e+07  9.934285e+07             NaN  9.934285e+07\n",
       "2021-01-18 20:00:00  9.931803e+07  4.967143e+07    4.964660e+07  9.931803e+07\n",
       "2021-01-19 20:00:00  1.016010e+08  4.967143e+07    5.192954e+07  1.016010e+08\n",
       "2021-01-20 20:00:00  1.035387e+08  4.967143e+07    5.386727e+07  1.035387e+08\n",
       "2021-01-21 20:00:00  1.052745e+08  4.967143e+07    5.560310e+07  1.052745e+08\n",
       "2021-01-22 20:00:00  1.026090e+08  1.026090e+08             NaN  1.026090e+08\n",
       "2021-01-25 20:00:00  1.025834e+08  5.130451e+07    5.127887e+07  1.025834e+08\n",
       "2021-01-26 20:00:00  1.033315e+08  5.130451e+07    5.202696e+07  1.033315e+08\n",
       "2021-01-27 20:00:00  1.045126e+08  5.130451e+07    5.320805e+07  1.045126e+08\n",
       "2021-01-28 20:00:00  1.054780e+08  5.130451e+07    5.417348e+07  1.054780e+08\n",
       "2021-01-29 20:00:00  1.077210e+08  1.077210e+08             NaN  1.077210e+08\n",
       "2021-02-01 20:00:00  1.076941e+08  5.386052e+07    5.383360e+07  1.076941e+08\n",
       "2021-02-02 20:00:00  1.101665e+08  5.386052e+07    5.630601e+07  1.101665e+08\n",
       "2021-02-03 20:00:00  1.115220e+08  5.386052e+07    5.766144e+07  1.115220e+08\n",
       "2021-02-04 20:00:00  1.100926e+08  5.386052e+07    5.623213e+07  1.100926e+08\n",
       "2021-02-05 20:00:00  1.090874e+08  1.090874e+08             NaN  1.090874e+08\n",
       "2021-02-08 20:00:00  1.090602e+08  5.454372e+07    5.451647e+07  1.090602e+08\n",
       "2021-02-09 20:00:00  1.093215e+08  5.454372e+07    5.477777e+07  1.093215e+08\n",
       "2021-02-10 20:00:00  1.104265e+08  5.454372e+07    5.588279e+07  1.104265e+08\n",
       "2021-02-18 20:00:00  1.122503e+08  5.454372e+07    5.770660e+07  1.122503e+08\n",
       "2021-02-19 20:00:00  1.129682e+08  1.129682e+08             NaN  1.129682e+08\n",
       "2021-02-22 20:00:00  1.129400e+08  5.648411e+07    5.645588e+07  1.129400e+08\n",
       "2021-02-23 20:00:00  1.140668e+08  5.648411e+07    5.758267e+07  1.140668e+08\n",
       "2021-02-24 20:00:00  1.147797e+08  5.648411e+07    5.829558e+07  1.147797e+08\n",
       "2021-02-25 20:00:00  1.168512e+08  5.648411e+07    6.036706e+07  1.168512e+08\n",
       "2021-02-26 20:00:00  1.178913e+08  1.178913e+08             NaN  1.178913e+08\n",
       "2021-03-01 20:00:00  1.178618e+08  5.894563e+07    5.891617e+07  1.178618e+08"
      ]
     },
     "execution_count": 13,
     "metadata": {},
     "output_type": "execute_result"
    }
   ],
   "source": [
    "obs.check_position_net()"
   ]
  },
  {
   "cell_type": "markdown",
   "id": "44eed11c",
   "metadata": {},
   "source": [
    "期初期末持仓价值变动+期间的交易的费用=期初期末净资产的变动"
   ]
  },
  {
   "cell_type": "code",
   "execution_count": 14,
   "id": "674d452c",
   "metadata": {
    "ExecuteTime": {
     "end_time": "2023-04-14T03:24:02.246758Z",
     "start_time": "2023-04-14T03:24:02.060334Z"
    },
    "execution": {
     "iopub.execute_input": "2023-10-09T08:17:31.959669Z",
     "iopub.status.busy": "2023-10-09T08:17:31.958668Z",
     "iopub.status.idle": "2023-10-09T08:17:32.051802Z",
     "shell.execute_reply": "2023-10-09T08:17:32.050800Z",
     "shell.execute_reply.started": "2023-10-09T08:17:31.959669Z"
    },
    "scrolled": true
   },
   "outputs": [
    {
     "data": {
      "text/plain": [
       "{'nav_end': 117861807.25576738,\n",
       " 'nav_start': 99975012.49375312,\n",
       " 'trade_amount': -9706894.80623212,\n",
       " 'trade_cost': 761262.1347024126,\n",
       " 'pv_end': 58916174.58423762,\n",
       " 'pv_start': 49975012.49375312,\n",
       " 'nav_end_cal': 117861807.25576733}"
      ]
     },
     "execution_count": 14,
     "metadata": {},
     "output_type": "execute_result"
    }
   ],
   "source": [
    "obs.check_trade_net()"
   ]
  },
  {
   "cell_type": "markdown",
   "id": "fa18bba5",
   "metadata": {},
   "source": [
    "期末持仓等于期初持仓+期间的交易"
   ]
  },
  {
   "cell_type": "code",
   "execution_count": 15,
   "id": "0050aa92",
   "metadata": {
    "ExecuteTime": {
     "end_time": "2023-04-14T03:24:02.435453Z",
     "start_time": "2023-04-14T03:24:02.249757Z"
    },
    "execution": {
     "iopub.execute_input": "2023-10-09T08:17:32.053802Z",
     "iopub.status.busy": "2023-10-09T08:17:32.052800Z",
     "iopub.status.idle": "2023-10-09T08:17:32.147823Z",
     "shell.execute_reply": "2023-10-09T08:17:32.146822Z",
     "shell.execute_reply.started": "2023-10-09T08:17:32.053802Z"
    }
   },
   "outputs": [
    {
     "data": {
      "text/html": [
       "<div>\n",
       "<style scoped>\n",
       "    .dataframe tbody tr th:only-of-type {\n",
       "        vertical-align: middle;\n",
       "    }\n",
       "\n",
       "    .dataframe tbody tr th {\n",
       "        vertical-align: top;\n",
       "    }\n",
       "\n",
       "    .dataframe thead th {\n",
       "        text-align: right;\n",
       "    }\n",
       "</style>\n",
       "<table border=\"1\" class=\"dataframe\">\n",
       "  <thead>\n",
       "    <tr style=\"text-align: right;\">\n",
       "      <th></th>\n",
       "      <th></th>\n",
       "      <th>volume_start</th>\n",
       "      <th>volume_trade</th>\n",
       "      <th>volume_end</th>\n",
       "      <th>volume_net</th>\n",
       "    </tr>\n",
       "    <tr>\n",
       "      <th>secuType</th>\n",
       "      <th>code</th>\n",
       "      <th></th>\n",
       "      <th></th>\n",
       "      <th></th>\n",
       "      <th></th>\n",
       "    </tr>\n",
       "  </thead>\n",
       "  <tbody>\n",
       "    <tr>\n",
       "      <th rowspan=\"6\" valign=\"top\">stock_daily</th>\n",
       "      <th>000585.SZ</th>\n",
       "      <td>3.884032e+06</td>\n",
       "      <td>9.423818e+03</td>\n",
       "      <td>3.893456e+06</td>\n",
       "      <td>0.0</td>\n",
       "    </tr>\n",
       "    <tr>\n",
       "      <th>000820.SZ</th>\n",
       "      <td>3.738814e+06</td>\n",
       "      <td>6.564921e+04</td>\n",
       "      <td>3.804463e+06</td>\n",
       "      <td>0.0</td>\n",
       "    </tr>\n",
       "    <tr>\n",
       "      <th>000882.SZ</th>\n",
       "      <td>3.930548e+06</td>\n",
       "      <td>-1.898468e+05</td>\n",
       "      <td>3.740701e+06</td>\n",
       "      <td>0.0</td>\n",
       "    </tr>\n",
       "    <tr>\n",
       "      <th>000980.SZ</th>\n",
       "      <td>3.872746e+06</td>\n",
       "      <td>-3.872746e+06</td>\n",
       "      <td>NaN</td>\n",
       "      <td>0.0</td>\n",
       "    </tr>\n",
       "    <tr>\n",
       "      <th>000613.SZ</th>\n",
       "      <td>NaN</td>\n",
       "      <td>0.000000e+00</td>\n",
       "      <td>NaN</td>\n",
       "      <td>0.0</td>\n",
       "    </tr>\n",
       "    <tr>\n",
       "      <th>000809.SZ</th>\n",
       "      <td>NaN</td>\n",
       "      <td>3.762884e+06</td>\n",
       "      <td>3.762884e+06</td>\n",
       "      <td>0.0</td>\n",
       "    </tr>\n",
       "  </tbody>\n",
       "</table>\n",
       "</div>"
      ],
      "text/plain": [
       "                       volume_start  volume_trade    volume_end  volume_net\n",
       "secuType    code                                                           \n",
       "stock_daily 000585.SZ  3.884032e+06  9.423818e+03  3.893456e+06         0.0\n",
       "            000820.SZ  3.738814e+06  6.564921e+04  3.804463e+06         0.0\n",
       "            000882.SZ  3.930548e+06 -1.898468e+05  3.740701e+06         0.0\n",
       "            000980.SZ  3.872746e+06 -3.872746e+06           NaN         0.0\n",
       "            000613.SZ           NaN  0.000000e+00           NaN         0.0\n",
       "            000809.SZ           NaN  3.762884e+06  3.762884e+06         0.0"
      ]
     },
     "execution_count": 15,
     "metadata": {},
     "output_type": "execute_result"
    }
   ],
   "source": [
    "obs.check_trade_position()"
   ]
  },
  {
   "cell_type": "markdown",
   "id": "61c77644",
   "metadata": {},
   "source": [
    "### 分析"
   ]
  },
  {
   "cell_type": "code",
   "execution_count": 16,
   "id": "a40f09dd",
   "metadata": {
    "ExecuteTime": {
     "end_time": "2023-04-14T03:24:02.639482Z",
     "start_time": "2023-04-14T03:24:02.438455Z"
    },
    "execution": {
     "iopub.execute_input": "2023-10-09T08:17:32.149824Z",
     "iopub.status.busy": "2023-10-09T08:17:32.148824Z",
     "iopub.status.idle": "2023-10-09T08:17:32.258699Z",
     "shell.execute_reply": "2023-10-09T08:17:32.256693Z",
     "shell.execute_reply.started": "2023-10-09T08:17:32.149824Z"
    }
   },
   "outputs": [
    {
     "data": {
      "text/html": [
       "<div>\n",
       "<style scoped>\n",
       "    .dataframe tbody tr th:only-of-type {\n",
       "        vertical-align: middle;\n",
       "    }\n",
       "\n",
       "    .dataframe tbody tr th {\n",
       "        vertical-align: top;\n",
       "    }\n",
       "\n",
       "    .dataframe thead th {\n",
       "        text-align: right;\n",
       "    }\n",
       "</style>\n",
       "<table border=\"1\" class=\"dataframe\">\n",
       "  <thead>\n",
       "    <tr style=\"text-align: right;\">\n",
       "      <th></th>\n",
       "      <th>总收益率</th>\n",
       "      <th>年化收益率</th>\n",
       "      <th>年化风险</th>\n",
       "      <th>最大回撤</th>\n",
       "      <th>夏普比率</th>\n",
       "      <th>信息比率</th>\n",
       "    </tr>\n",
       "  </thead>\n",
       "  <tbody>\n",
       "    <tr>\n",
       "      <th>netAsset</th>\n",
       "      <td>0.209393</td>\n",
       "      <td>2.441038</td>\n",
       "      <td>0.114148</td>\n",
       "      <td>0.000250</td>\n",
       "      <td>21.384816</td>\n",
       "      <td>7.481076</td>\n",
       "    </tr>\n",
       "    <tr>\n",
       "      <th>benchmark</th>\n",
       "      <td>-0.042332</td>\n",
       "      <td>-0.245088</td>\n",
       "      <td>0.279200</td>\n",
       "      <td>0.093827</td>\n",
       "      <td>-0.877824</td>\n",
       "      <td>NaN</td>\n",
       "    </tr>\n",
       "  </tbody>\n",
       "</table>\n",
       "</div>"
      ],
      "text/plain": [
       "               总收益率     年化收益率      年化风险      最大回撤       夏普比率      信息比率\n",
       "netAsset   0.209393  2.441038  0.114148  0.000250  21.384816  7.481076\n",
       "benchmark -0.042332 -0.245088  0.279200  0.093827  -0.877824       NaN"
      ]
     },
     "execution_count": 16,
     "metadata": {},
     "output_type": "execute_result"
    }
   ],
   "source": [
    "obs.pnl_analyse(freq='week', benchmark=df,  chicol=True)"
   ]
  },
  {
   "cell_type": "code",
   "execution_count": 17,
   "id": "771e3d74",
   "metadata": {
    "ExecuteTime": {
     "end_time": "2023-04-14T03:24:02.829201Z",
     "start_time": "2023-04-14T03:24:02.643484Z"
    },
    "execution": {
     "iopub.execute_input": "2023-10-09T08:17:32.260701Z",
     "iopub.status.busy": "2023-10-09T08:17:32.259714Z",
     "iopub.status.idle": "2023-10-09T08:17:32.367690Z",
     "shell.execute_reply": "2023-10-09T08:17:32.366681Z",
     "shell.execute_reply.started": "2023-10-09T08:17:32.260701Z"
    }
   },
   "outputs": [
    {
     "data": {
      "text/html": [
       "<div>\n",
       "<style scoped>\n",
       "    .dataframe tbody tr th:only-of-type {\n",
       "        vertical-align: middle;\n",
       "    }\n",
       "\n",
       "    .dataframe tbody tr th {\n",
       "        vertical-align: top;\n",
       "    }\n",
       "\n",
       "    .dataframe thead th {\n",
       "        text-align: right;\n",
       "    }\n",
       "</style>\n",
       "<table border=\"1\" class=\"dataframe\">\n",
       "  <thead>\n",
       "    <tr style=\"text-align: right;\">\n",
       "      <th></th>\n",
       "      <th>netAsset</th>\n",
       "      <th>benchmark</th>\n",
       "    </tr>\n",
       "  </thead>\n",
       "  <tbody>\n",
       "    <tr>\n",
       "      <th>2021-01-10</th>\n",
       "      <td>9.745531e+07</td>\n",
       "      <td>5495.4306</td>\n",
       "    </tr>\n",
       "    <tr>\n",
       "      <th>2021-01-17</th>\n",
       "      <td>9.934285e+07</td>\n",
       "      <td>5458.0812</td>\n",
       "    </tr>\n",
       "    <tr>\n",
       "      <th>2021-01-24</th>\n",
       "      <td>1.026090e+08</td>\n",
       "      <td>5569.7760</td>\n",
       "    </tr>\n",
       "    <tr>\n",
       "      <th>2021-01-31</th>\n",
       "      <td>1.077210e+08</td>\n",
       "      <td>5351.9646</td>\n",
       "    </tr>\n",
       "    <tr>\n",
       "      <th>2021-02-07</th>\n",
       "      <td>1.090874e+08</td>\n",
       "      <td>5483.4140</td>\n",
       "    </tr>\n",
       "    <tr>\n",
       "      <th>2021-02-14</th>\n",
       "      <td>1.104265e+08</td>\n",
       "      <td>5807.7191</td>\n",
       "    </tr>\n",
       "    <tr>\n",
       "      <th>2021-02-21</th>\n",
       "      <td>1.129682e+08</td>\n",
       "      <td>5778.8420</td>\n",
       "    </tr>\n",
       "    <tr>\n",
       "      <th>2021-02-28</th>\n",
       "      <td>1.178913e+08</td>\n",
       "      <td>5336.7609</td>\n",
       "    </tr>\n",
       "    <tr>\n",
       "      <th>2021-03-07</th>\n",
       "      <td>1.178618e+08</td>\n",
       "      <td>5262.7958</td>\n",
       "    </tr>\n",
       "  </tbody>\n",
       "</table>\n",
       "</div>"
      ],
      "text/plain": [
       "                netAsset  benchmark\n",
       "2021-01-10  9.745531e+07  5495.4306\n",
       "2021-01-17  9.934285e+07  5458.0812\n",
       "2021-01-24  1.026090e+08  5569.7760\n",
       "2021-01-31  1.077210e+08  5351.9646\n",
       "2021-02-07  1.090874e+08  5483.4140\n",
       "2021-02-14  1.104265e+08  5807.7191\n",
       "2021-02-21  1.129682e+08  5778.8420\n",
       "2021-02-28  1.178913e+08  5336.7609\n",
       "2021-03-07  1.178618e+08  5262.7958"
      ]
     },
     "execution_count": 17,
     "metadata": {},
     "output_type": "execute_result"
    }
   ],
   "source": [
    "obs.get_pnl_net(benchmark=df, freq='week')"
   ]
  },
  {
   "cell_type": "code",
   "execution_count": 18,
   "id": "e19884fa",
   "metadata": {
    "ExecuteTime": {
     "end_time": "2023-04-14T03:24:03.380948Z",
     "start_time": "2023-04-14T03:24:02.832190Z"
    },
    "execution": {
     "iopub.execute_input": "2023-10-09T08:17:32.369694Z",
     "iopub.status.busy": "2023-10-09T08:17:32.368700Z",
     "iopub.status.idle": "2023-10-09T08:17:32.678794Z",
     "shell.execute_reply": "2023-10-09T08:17:32.677808Z",
     "shell.execute_reply.started": "2023-10-09T08:17:32.369694Z"
    }
   },
   "outputs": [
    {
     "data": {
      "image/png": "[encoded data removed]",
      "text/plain": [
       "<Figure size 1000x500 with 1 Axes>"
      ]
     },
     "execution_count": 18,
     "metadata": {},
     "output_type": "execute_result"
    }
   ],
   "source": [
    "obs.pnl_plot(title='测试',benchmark=df, freq='week')"
   ]
  },
  {
   "cell_type": "markdown",
   "id": "712094eb",
   "metadata": {},
   "source": [
    "# 策略端实现逻辑"
   ]
  },
  {
   "cell_type": "markdown",
   "id": "04db909b",
   "metadata": {},
   "source": [
    "## 策略模板"
   ]
  },
  {
   "cell_type": "markdown",
   "id": "2e15969c",
   "metadata": {},
   "source": [
    "回测的过程实际上就是在“事件”发生之后， 结合“市场数据”与“当前组合状态”而做出“决策”的过程  \n",
    "1. 事件\n",
    "    1. 行情触发类事件，如“open”， “close”\n",
    "    2. 记录类事件“record”\n",
    "    3. 自定义事件（见下例）\n",
    "2. 市场数据\n",
    "    1. 市场数据 self.get_mkt_data, self.get_mkt_obj, self.get_mkt_frame\n",
    "    2. 其它外部数据， 通过self.init实现数据或信号的传入\n",
    "3. 组合状态\n",
    "    1. 资产数据 self.balance\n",
    "    2. 持仓数据 self.position\n",
    "    3. 活跃的订单数据  self.active_orders\n",
    "4. 决策\n",
    "    1. 买入 self.send_orders\n",
    "    2. 取消订单 self.cancel_orders\n",
    "    3. 平仓 self.sell_position"
   ]
  },
  {
   "cell_type": "code",
   "execution_count": 19,
   "id": "0cb74e8e",
   "metadata": {
    "ExecuteTime": {
     "end_time": "2023-04-14T03:24:03.569203Z",
     "start_time": "2023-04-14T03:24:03.383949Z"
    },
    "execution": {
     "iopub.execute_input": "2023-10-09T08:17:32.679795Z",
     "iopub.status.busy": "2023-10-09T08:17:32.679795Z",
     "iopub.status.idle": "2023-10-09T08:17:32.773146Z",
     "shell.execute_reply": "2023-10-09T08:17:32.772164Z",
     "shell.execute_reply.started": "2023-10-09T08:17:32.679795Z"
    }
   },
   "outputs": [],
   "source": [
    "class PM2(PMPandas):\n",
    "    \"\"\"基金经理（策略）的具体实现\"\"\"\n",
    "    \n",
    "    def init(self):\n",
    "        print('回测前基金经理开始做准备工作了：') \n",
    "        print('先把计算好的信号放进来（可以读取外部数据，可以用内部数据计算）：')\n",
    "        self.signal = [0,1,2] \n",
    "        print(f'信号已经读进来了，信号是;{self.signal}')\n",
    "        print('其它的准备工作：')\n",
    "        # 获取市场数据， 粗略计算距离退市的时间\n",
    "        data = self.get_mkt_data()\n",
    "        data['ndelist'] = data.groupby('code', group_keys=False)['tradeDate'].apply(\n",
    "            lambda x: pd.Series(range(len(x), 0, -1), index=x.index))\n",
    "        \n",
    "        # 初始化一个计数的变量\n",
    "        self.n_any = self.open_count = 0 \n",
    "        print('其它的准备工作已经完成')\n",
    "        print('-'*10 + '初始化工作完成' + '-'*10)\n",
    "        \n",
    "        \n",
    "    def after_open(self):\n",
    "        if  self.open_count % 5 == 0:\n",
    "            print(f'{self.observer.time}开盘了，且self.open_count是5的整数倍，执行买入操作')         \n",
    "            data = self.get_mkt_frame()\n",
    "            data = data.sort_values('settlePrice').head(5).query(\"ndelist > 30\")\n",
    "            data['ratio_relative'] = data['settlePrice'] # 以价格为成交比例\n",
    "            data['code'] = data.index\n",
    "            self.send_orders(\n",
    "                data[['code', 'ratio_relative']],\n",
    "                ratio_to_netasset=0.5,  # 二分之一的现金去交易\n",
    "                order_type='ratio_market',\n",
    "                order_seq=1)  # 交易优先级靠后， 保证有足够的资金释放\n",
    "        self.open_count += 1 \n",
    "        \n",
    "    def after_close(self):\n",
    "        if  (self.open_count+1) % 5 == 0:\n",
    "            print(f'{self.observer.time}收盘了，触发卖出条件，执行平仓操作') \n",
    "            self.sell_position(self.position)\n",
    "    \n",
    "    def after_any(self):\n",
    "        self.n_any += 1\n",
    "        print(f'{self.observer.time}any类型的事件第{self.n_any}次被触发了')\n",
    "        if self.n_any == 1:\n",
    "            print('---'*15)\n",
    "            print(\"当前基金经理可以获得的外部数据和内部数据包含：\")\n",
    "            print(f\"当前时间:{self.observer.time}\")\n",
    "            print(f\"当前持仓:{self.position}\")\n",
    "            print(f\"当前权益:{self.balance}\")\n",
    "            print(f\"当前活跃订单:{self.active_orders}\")\n",
    "            print(f\"当前市场行情:{self.get_mkt_data().tail()}\")\n",
    "            print(f\"外部输入的信号:{self.signal}\")\n",
    "            print('---'*15)\n",
    "            \n",
    "    def __str__(self):\n",
    "        return(\"打印注释版本的策略\")"
   ]
  },
  {
   "cell_type": "markdown",
   "id": "ea8932f8",
   "metadata": {},
   "source": [
    "## 增加any类事件"
   ]
  },
  {
   "cell_type": "markdown",
   "id": "73027bd7",
   "metadata": {},
   "source": [
    "### 当前事件类型"
   ]
  },
  {
   "cell_type": "code",
   "execution_count": 20,
   "id": "216c8a18",
   "metadata": {
    "ExecuteTime": {
     "end_time": "2023-04-14T03:24:03.931269Z",
     "start_time": "2023-04-14T03:24:03.571204Z"
    },
    "execution": {
     "iopub.execute_input": "2023-10-09T08:17:32.774146Z",
     "iopub.status.busy": "2023-10-09T08:17:32.773146Z",
     "iopub.status.idle": "2023-10-09T08:17:32.975080Z",
     "shell.execute_reply": "2023-10-09T08:17:32.974081Z",
     "shell.execute_reply.started": "2023-10-09T08:17:32.774146Z"
    }
   },
   "outputs": [
    {
     "data": {
      "text/plain": [
       "EventType.CLOSE     2685\n",
       "EventType.OPEN      2685\n",
       "EventType.RECORD      37\n",
       "Name: event_type, dtype: int64"
      ]
     },
     "execution_count": 20,
     "metadata": {},
     "output_type": "execute_result"
    }
   ],
   "source": [
    "pd.DataFrame(ts.events)['event_type'].value_counts()"
   ]
  },
  {
   "cell_type": "markdown",
   "id": "08408b98",
   "metadata": {},
   "source": [
    "### 添加any类事件类型"
   ]
  },
  {
   "cell_type": "code",
   "execution_count": 21,
   "id": "bfb439aa",
   "metadata": {
    "ExecuteTime": {
     "end_time": "2023-04-14T03:24:04.103402Z",
     "start_time": "2023-04-14T03:24:03.933271Z"
    },
    "execution": {
     "iopub.execute_input": "2023-10-09T08:17:32.977089Z",
     "iopub.status.busy": "2023-10-09T08:17:32.976087Z",
     "iopub.status.idle": "2023-10-09T08:17:33.068232Z",
     "shell.execute_reply": "2023-10-09T08:17:33.066207Z",
     "shell.execute_reply.started": "2023-10-09T08:17:32.977089Z"
    }
   },
   "outputs": [],
   "source": [
    "t_series = pd.date_range('2021-01-01', '2021-03-01', freq='w')\n",
    "events = event_generator(t_series.to_pydatetime(), event_type='any')\n",
    "ts.add_events(events)"
   ]
  },
  {
   "cell_type": "code",
   "execution_count": 22,
   "id": "57923e4e",
   "metadata": {
    "ExecuteTime": {
     "end_time": "2023-04-14T03:24:04.496371Z",
     "start_time": "2023-04-14T03:24:04.106405Z"
    },
    "execution": {
     "iopub.execute_input": "2023-10-09T08:17:33.072227Z",
     "iopub.status.busy": "2023-10-09T08:17:33.072227Z",
     "iopub.status.idle": "2023-10-09T08:17:33.269710Z",
     "shell.execute_reply": "2023-10-09T08:17:33.268714Z",
     "shell.execute_reply.started": "2023-10-09T08:17:33.072227Z"
    }
   },
   "outputs": [
    {
     "data": {
      "text/plain": [
       "EventType.CLOSE     2685\n",
       "EventType.OPEN      2685\n",
       "EventType.RECORD      37\n",
       "any                    9\n",
       "Name: event_type, dtype: int64"
      ]
     },
     "execution_count": 22,
     "metadata": {},
     "output_type": "execute_result"
    }
   ],
   "source": [
    "pd.DataFrame(ts.events)['event_type'].value_counts()"
   ]
  },
  {
   "cell_type": "markdown",
   "id": "29a62880",
   "metadata": {},
   "source": [
    "### 更改ts的PM类，重新回测"
   ]
  },
  {
   "cell_type": "code",
   "execution_count": 23,
   "id": "6891d968",
   "metadata": {
    "ExecuteTime": {
     "end_time": "2023-04-14T03:24:09.100826Z",
     "start_time": "2023-04-14T03:24:04.499373Z"
    },
    "execution": {
     "iopub.execute_input": "2023-10-09T08:17:33.270717Z",
     "iopub.status.busy": "2023-10-09T08:17:33.270717Z",
     "iopub.status.idle": "2023-10-09T08:17:36.399897Z",
     "shell.execute_reply": "2023-10-09T08:17:36.398886Z",
     "shell.execute_reply.started": "2023-10-09T08:17:33.270717Z"
    }
   },
   "outputs": [
    {
     "name": "stdout",
     "output_type": "stream",
     "text": [
      "回测前基金经理开始做准备工作了：\n",
      "先把计算好的信号放进来（可以读取外部数据，可以用内部数据计算）：\n",
      "信号已经读进来了，信号是;[0, 1, 2]\n",
      "其它的准备工作：\n",
      "其它的准备工作已经完成\n",
      "----------初始化工作完成----------\n",
      "2021-01-03 00:00:00any类型的事件第1次被触发了\n",
      "---------------------------------------------\n",
      "当前基金经理可以获得的外部数据和内部数据包含：\n",
      "当前时间:2021-01-03 00:00:00\n",
      "当前持仓:Empty DataFrame\n",
      "Columns: [orderID, tradeID, secuType, code, transTime, transPrice, settlePrice, volume, frozenVol]\n",
      "Index: []\n",
      "当前权益:{'netAsset': 100000000.0, 'cash': 100000000.0, 'frozenCash': 0.0}\n",
      "当前活跃订单:Empty DataFrame\n",
      "Columns: [orderID, secuType, code, orderTime, orderType, direction, targetPrice, targetVol, filledVol, offsetID, status, orderSeq]\n",
      "Index: []\n",
      "当前市场行情:              code  tradeDate     openAdj     highAdj     lowAdj    closeAdj  \\\n",
      "2993188  000999.SZ 2023-01-12   99.439538  101.938231  97.660806   98.846627   \n",
      "2993189  000999.SZ 2023-01-13   99.439538  101.535899  97.851385  101.366496   \n",
      "2993190  000999.SZ 2023-01-16  101.641776  102.869947  99.524239  100.286552   \n",
      "2993191  000999.SZ 2023-01-17  100.371254  101.366496  99.270135  100.244202   \n",
      "2993192  000999.SZ 2023-01-18   99.545414  100.223026  97.999612   99.714817   \n",
      "\n",
      "         vwapOpenAdj  vwapCloseAdj      volume        amount  ifSuspend  \\\n",
      "2993188    99.439538     98.846627   7170876.0  3.367665e+08      False   \n",
      "2993189    99.439538    101.366496   8426290.0  3.998636e+08      False   \n",
      "2993190   101.641776    100.286552  12989265.0  6.170321e+08      False   \n",
      "2993191   100.371254    100.244202   5968058.0  2.827078e+08      False   \n",
      "2993192    99.545414     99.714817   7430877.0  3.473432e+08      False   \n",
      "\n",
      "         downLimit     upLimit  ndelist  \n",
      "2993188  89.476526  109.360198        5  \n",
      "2993189  88.961964  108.731290        4  \n",
      "2993190  91.229847  111.503146        3  \n",
      "2993191  90.257897  110.315208        2  \n",
      "2993192  90.219781  110.268622        1  \n",
      "外部输入的信号:[0, 1, 2]\n",
      "---------------------------------------------\n",
      "2021-01-04 09:30:00开盘了，且self.open_count是5的整数倍，执行买入操作\n",
      "2021-01-07 15:00:00收盘了，触发卖出条件，执行平仓操作\n",
      "2021-01-10 00:00:00any类型的事件第2次被触发了\n",
      "2021-01-11 09:30:00开盘了，且self.open_count是5的整数倍，执行买入操作\n",
      "2021-01-14 15:00:00收盘了，触发卖出条件，执行平仓操作\n",
      "2021-01-17 00:00:00any类型的事件第3次被触发了\n",
      "2021-01-18 09:30:00开盘了，且self.open_count是5的整数倍，执行买入操作\n",
      "2021-01-21 15:00:00收盘了，触发卖出条件，执行平仓操作\n",
      "2021-01-24 00:00:00any类型的事件第4次被触发了\n",
      "2021-01-25 09:30:00开盘了，且self.open_count是5的整数倍，执行买入操作\n",
      "2021-01-28 15:00:00收盘了，触发卖出条件，执行平仓操作\n",
      "2021-01-31 00:00:00any类型的事件第5次被触发了\n",
      "2021-02-01 09:30:00开盘了，且self.open_count是5的整数倍，执行买入操作\n",
      "2021-02-04 15:00:00收盘了，触发卖出条件，执行平仓操作\n",
      "2021-02-07 00:00:00any类型的事件第6次被触发了\n",
      "2021-02-08 09:30:00开盘了，且self.open_count是5的整数倍，执行买入操作\n",
      "2021-02-14 00:00:00any类型的事件第7次被触发了\n",
      "2021-02-18 15:00:00收盘了，触发卖出条件，执行平仓操作\n",
      "2021-02-21 00:00:00any类型的事件第8次被触发了\n",
      "2021-02-22 09:30:00开盘了，且self.open_count是5的整数倍，执行买入操作\n",
      "2021-02-25 15:00:00收盘了，触发卖出条件，执行平仓操作\n",
      "2021-02-28 00:00:00any类型的事件第9次被触发了\n",
      "2021-03-01 09:30:00开盘了，且self.open_count是5的整数倍，执行买入操作\n"
     ]
    }
   ],
   "source": [
    "ts.PortfolioManager = PM2\n",
    "obs = ts.run()"
   ]
  },
  {
   "cell_type": "markdown",
   "id": "fe28da0a",
   "metadata": {},
   "source": [
    "# 回测参数修改"
   ]
  },
  {
   "cell_type": "markdown",
   "id": "37880214",
   "metadata": {},
   "source": [
    "## 可通过赋值修改的参数"
   ]
  },
  {
   "cell_type": "code",
   "execution_count": 24,
   "id": "1ca02246",
   "metadata": {
    "ExecuteTime": {
     "end_time": "2023-04-14T03:24:09.242858Z",
     "start_time": "2023-04-14T03:24:09.103836Z"
    },
    "execution": {
     "iopub.execute_input": "2023-10-09T08:17:36.402885Z",
     "iopub.status.busy": "2023-10-09T08:17:36.401884Z",
     "iopub.status.idle": "2023-10-09T08:17:36.491957Z",
     "shell.execute_reply": "2023-10-09T08:17:36.490952Z",
     "shell.execute_reply.started": "2023-10-09T08:17:36.402885Z"
    }
   },
   "outputs": [
    {
     "name": "stdout",
     "output_type": "stream",
     "text": [
      "2021-01-01 00:00:00\n",
      "2021-03-02 00:00:00\n",
      "打印注释版本的策略\n",
      "100000000.0\n"
     ]
    }
   ],
   "source": [
    "print(ts.start_datetime)\n",
    "print(ts.end_datetime)\n",
    "print(ts.pm) # 策略的实例化\n",
    "print(ts.cash)"
   ]
  },
  {
   "cell_type": "code",
   "execution_count": 25,
   "id": "28bca5c6",
   "metadata": {
    "ExecuteTime": {
     "end_time": "2023-04-14T03:24:09.384890Z",
     "start_time": "2023-04-14T03:24:09.244859Z"
    },
    "execution": {
     "iopub.execute_input": "2023-10-09T08:17:36.493965Z",
     "iopub.status.busy": "2023-10-09T08:17:36.492962Z",
     "iopub.status.idle": "2023-10-09T08:17:36.587492Z",
     "shell.execute_reply": "2023-10-09T08:17:36.585491Z",
     "shell.execute_reply.started": "2023-10-09T08:17:36.493965Z"
    }
   },
   "outputs": [],
   "source": [
    "ts.start_datetime = '2018-01-01'# 更改回测开始时间\n",
    "ts.end_datetime = '2021-12-31' # 更改回测结束时间\n",
    "ts.PortfolioManager = PM1  # 更改策略\n",
    "ts.cash = 1e10 # 更改初始资金大小"
   ]
  },
  {
   "cell_type": "code",
   "execution_count": 26,
   "id": "3d32bb84",
   "metadata": {
    "ExecuteTime": {
     "end_time": "2023-04-14T03:24:09.542110Z",
     "start_time": "2023-04-14T03:24:09.387892Z"
    },
    "execution": {
     "iopub.execute_input": "2023-10-09T08:17:36.588500Z",
     "iopub.status.busy": "2023-10-09T08:17:36.587492Z",
     "iopub.status.idle": "2023-10-09T08:17:36.682130Z",
     "shell.execute_reply": "2023-10-09T08:17:36.680563Z",
     "shell.execute_reply.started": "2023-10-09T08:17:36.588500Z"
    }
   },
   "outputs": [
    {
     "name": "stdout",
     "output_type": "stream",
     "text": [
      "2018-01-01 00:00:00\n",
      "2022-01-01 00:00:00\n",
      "<class '__main__.PM1'>\n",
      "10000000000.0\n"
     ]
    }
   ],
   "source": [
    "print(ts.start_datetime)\n",
    "print(ts.end_datetime)\n",
    "print(ts.PortfolioManager)  # 策略已经变为PM1了\n",
    "print(ts.cash)"
   ]
  },
  {
   "cell_type": "markdown",
   "id": "91486241",
   "metadata": {},
   "source": [
    "## 市场的修改"
   ]
  },
  {
   "cell_type": "code",
   "execution_count": 27,
   "id": "dc196225",
   "metadata": {
    "ExecuteTime": {
     "end_time": "2023-04-14T03:24:09.699143Z",
     "start_time": "2023-04-14T03:24:09.550111Z"
    },
    "execution": {
     "iopub.execute_input": "2023-10-09T08:17:36.683655Z",
     "iopub.status.busy": "2023-10-09T08:17:36.682642Z",
     "iopub.status.idle": "2023-10-09T08:17:36.775426Z",
     "shell.execute_reply": "2023-10-09T08:17:36.773420Z",
     "shell.execute_reply.started": "2023-10-09T08:17:36.682642Z"
    }
   },
   "outputs": [
    {
     "data": {
      "text/plain": [
       "Timestamp('2012-01-04 00:00:00')"
      ]
     },
     "execution_count": 27,
     "metadata": {},
     "output_type": "execute_result"
    }
   ],
   "source": [
    "ts.market_list[0].data['tradeDate'].min()"
   ]
  },
  {
   "cell_type": "code",
   "execution_count": 28,
   "id": "a4f4ba04",
   "metadata": {
    "ExecuteTime": {
     "end_time": "2023-04-14T03:24:11.539553Z",
     "start_time": "2023-04-14T03:24:09.702147Z"
    },
    "execution": {
     "iopub.execute_input": "2023-10-09T08:17:36.776426Z",
     "iopub.status.busy": "2023-10-09T08:17:36.776426Z",
     "iopub.status.idle": "2023-10-09T08:17:38.135241Z",
     "shell.execute_reply": "2023-10-09T08:17:38.133240Z",
     "shell.execute_reply.started": "2023-10-09T08:17:36.776426Z"
    },
    "scrolled": true
   },
   "outputs": [
    {
     "data": {
      "text/plain": [
       "Timestamp('2017-01-03 00:00:00')"
      ]
     },
     "execution_count": 28,
     "metadata": {},
     "output_type": "execute_result"
    }
   ],
   "source": [
    "ts.reset_markets('stock_daily', mkt_startdate='2017-01-01') # 第一个值为模块名称， 第二个值为市场数读取时间\n",
    "ts.market_list[0].data['tradeDate'].min()"
   ]
  },
  {
   "cell_type": "markdown",
   "id": "ef405a99",
   "metadata": {},
   "source": [
    "## 记录频率修改"
   ]
  },
  {
   "cell_type": "markdown",
   "id": "bee09d2a",
   "metadata": {},
   "source": [
    "1. 记录类事件仅仅在ts初始化的时候初始化一次，后面修改回测时间区间的时候纪录类时间不会自动改变\n",
    "2. 纪录类时间可以通过init_records重新按固定的设置重新生成\n",
    "3. 纪录类时间可以通过reset_records替代当前的纪录类事件"
   ]
  },
  {
   "cell_type": "code",
   "execution_count": 29,
   "id": "457d71ff",
   "metadata": {
    "ExecuteTime": {
     "end_time": "2023-04-14T03:24:11.776600Z",
     "start_time": "2023-04-14T03:24:11.542550Z"
    },
    "execution": {
     "iopub.execute_input": "2023-10-09T08:17:38.137241Z",
     "iopub.status.busy": "2023-10-09T08:17:38.136241Z",
     "iopub.status.idle": "2023-10-09T08:17:38.306582Z",
     "shell.execute_reply": "2023-10-09T08:17:38.305580Z",
     "shell.execute_reply.started": "2023-10-09T08:17:38.137241Z"
    }
   },
   "outputs": [
    {
     "name": "stdout",
     "output_type": "stream",
     "text": [
      "目前纪录类事件还是初始化时候生成的\n"
     ]
    },
    {
     "data": {
      "text/plain": [
       "EventType.CLOSE     1471\n",
       "EventType.OPEN      1471\n",
       "EventType.RECORD      37\n",
       "any                    9\n",
       "Name: event_type, dtype: int64"
      ]
     },
     "execution_count": 29,
     "metadata": {},
     "output_type": "execute_result"
    }
   ],
   "source": [
    "print(\"目前纪录类事件还是初始化时候生成的\")\n",
    "pd.DataFrame(ts.events)['event_type'].value_counts()"
   ]
  },
  {
   "cell_type": "code",
   "execution_count": 30,
   "id": "debfce51",
   "metadata": {
    "ExecuteTime": {
     "end_time": "2023-04-14T03:24:12.029256Z",
     "start_time": "2023-04-14T03:24:11.780599Z"
    },
    "execution": {
     "iopub.execute_input": "2023-10-09T08:17:38.308583Z",
     "iopub.status.busy": "2023-10-09T08:17:38.308583Z",
     "iopub.status.idle": "2023-10-09T08:17:38.478808Z",
     "shell.execute_reply": "2023-10-09T08:17:38.477800Z",
     "shell.execute_reply.started": "2023-10-09T08:17:38.308583Z"
    }
   },
   "outputs": [
    {
     "name": "stdout",
     "output_type": "stream",
     "text": [
      "重新初始化后为周频记录\n"
     ]
    },
    {
     "data": {
      "text/plain": [
       "EventType.CLOSE     1471\n",
       "EventType.OPEN      1471\n",
       "EventType.RECORD     973\n",
       "any                    9\n",
       "Name: event_type, dtype: int64"
      ]
     },
     "execution_count": 30,
     "metadata": {},
     "output_type": "execute_result"
    }
   ],
   "source": [
    "print(\"重新初始化后为周频记录\")\n",
    "ts.init_records()\n",
    "pd.DataFrame(ts.events)['event_type'].value_counts()"
   ]
  },
  {
   "cell_type": "code",
   "execution_count": 31,
   "id": "1f2633fb",
   "metadata": {
    "ExecuteTime": {
     "end_time": "2023-04-14T03:24:12.345332Z",
     "start_time": "2023-04-14T03:24:12.032258Z"
    },
    "execution": {
     "iopub.execute_input": "2023-10-09T08:17:38.479807Z",
     "iopub.status.busy": "2023-10-09T08:17:38.479807Z",
     "iopub.status.idle": "2023-10-09T08:17:38.666853Z",
     "shell.execute_reply": "2023-10-09T08:17:38.665851Z",
     "shell.execute_reply.started": "2023-10-09T08:17:38.479807Z"
    }
   },
   "outputs": [
    {
     "name": "stdout",
     "output_type": "stream",
     "text": [
      "替换为日频记录\n"
     ]
    },
    {
     "data": {
      "text/plain": [
       "EventType.CLOSE     1471\n",
       "EventType.OPEN      1471\n",
       "EventType.RECORD    1462\n",
       "any                    9\n",
       "Name: event_type, dtype: int64"
      ]
     },
     "execution_count": 31,
     "metadata": {},
     "output_type": "execute_result"
    }
   ],
   "source": [
    "t_series = pd.date_range(ts.start_datetime,ts.end_datetime)\n",
    "events = event_generator(t_series.to_pydatetime(), event_type='record')\n",
    "ts.reset_records(events)\n",
    "print(\"替换为日频记录\")\n",
    "pd.DataFrame(ts.events)['event_type'].value_counts()"
   ]
  },
  {
   "cell_type": "markdown",
   "id": "278e5d7b",
   "metadata": {},
   "source": [
    "## 运行修改后的回测"
   ]
  },
  {
   "cell_type": "code",
   "execution_count": 32,
   "id": "90a73bcf",
   "metadata": {
    "ExecuteTime": {
     "end_time": "2023-04-14T03:24:56.106985Z",
     "start_time": "2023-04-14T03:24:12.347331Z"
    },
    "execution": {
     "iopub.execute_input": "2023-10-09T08:17:38.668859Z",
     "iopub.status.busy": "2023-10-09T08:17:38.667851Z",
     "iopub.status.idle": "2023-10-09T08:18:20.562446Z",
     "shell.execute_reply": "2023-10-09T08:18:20.561446Z",
     "shell.execute_reply.started": "2023-10-09T08:17:38.668859Z"
    }
   },
   "outputs": [
    {
     "name": "stdout",
     "output_type": "stream",
     "text": [
      "----------初始化工作完成----------\n"
     ]
    }
   ],
   "source": [
    "obs = ts.run()"
   ]
  },
  {
   "cell_type": "code",
   "execution_count": 33,
   "id": "5d40b9a7",
   "metadata": {
    "ExecuteTime": {
     "end_time": "2023-04-14T03:24:56.247556Z",
     "start_time": "2023-04-14T03:24:56.109986Z"
    },
    "execution": {
     "iopub.execute_input": "2023-10-09T08:18:20.564444Z",
     "iopub.status.busy": "2023-10-09T08:18:20.564444Z",
     "iopub.status.idle": "2023-10-09T08:18:20.642464Z",
     "shell.execute_reply": "2023-10-09T08:18:20.641458Z",
     "shell.execute_reply.started": "2023-10-09T08:18:20.564444Z"
    }
   },
   "outputs": [
    {
     "name": "stdout",
     "output_type": "stream",
     "text": [
      "精简版本的策略\n"
     ]
    }
   ],
   "source": [
    "print(ts.pm)  # 策略已经变为PM1了"
   ]
  },
  {
   "cell_type": "markdown",
   "id": "a03374fa",
   "metadata": {},
   "source": [
    "### 结果"
   ]
  },
  {
   "cell_type": "markdown",
   "id": "b5964df7",
   "metadata": {},
   "source": [
    "#### 组合现状"
   ]
  },
  {
   "cell_type": "code",
   "execution_count": 34,
   "id": "ab39a29a",
   "metadata": {
    "ExecuteTime": {
     "end_time": "2023-04-14T03:24:56.390159Z",
     "start_time": "2023-04-14T03:24:56.250556Z"
    },
    "execution": {
     "iopub.execute_input": "2023-10-09T08:18:20.644460Z",
     "iopub.status.busy": "2023-10-09T08:18:20.643453Z",
     "iopub.status.idle": "2023-10-09T08:18:20.736475Z",
     "shell.execute_reply": "2023-10-09T08:18:20.735473Z",
     "shell.execute_reply.started": "2023-10-09T08:18:20.644460Z"
    }
   },
   "outputs": [
    {
     "data": {
      "text/html": [
       "<div>\n",
       "<style scoped>\n",
       "    .dataframe tbody tr th:only-of-type {\n",
       "        vertical-align: middle;\n",
       "    }\n",
       "\n",
       "    .dataframe tbody tr th {\n",
       "        vertical-align: top;\n",
       "    }\n",
       "\n",
       "    .dataframe thead th {\n",
       "        text-align: right;\n",
       "    }\n",
       "</style>\n",
       "<table border=\"1\" class=\"dataframe\">\n",
       "  <thead>\n",
       "    <tr style=\"text-align: right;\">\n",
       "      <th></th>\n",
       "      <th>orderID</th>\n",
       "      <th>tradeID</th>\n",
       "      <th>secuType</th>\n",
       "      <th>code</th>\n",
       "      <th>transTime</th>\n",
       "      <th>transPrice</th>\n",
       "      <th>settlePrice</th>\n",
       "      <th>volume</th>\n",
       "      <th>frozenVol</th>\n",
       "    </tr>\n",
       "  </thead>\n",
       "  <tbody>\n",
       "    <tr>\n",
       "      <th>0</th>\n",
       "      <td>1842</td>\n",
       "      <td>1842</td>\n",
       "      <td>stock_daily</td>\n",
       "      <td>000927.SZ</td>\n",
       "      <td>2021-12-29 15:00:00</td>\n",
       "      <td>5.638050</td>\n",
       "      <td>5.622168</td>\n",
       "      <td>2.281555e+08</td>\n",
       "      <td>-0.0</td>\n",
       "    </tr>\n",
       "    <tr>\n",
       "      <th>1</th>\n",
       "      <td>1843</td>\n",
       "      <td>1843</td>\n",
       "      <td>stock_daily</td>\n",
       "      <td>000882.SZ</td>\n",
       "      <td>2021-12-29 15:00:00</td>\n",
       "      <td>5.637086</td>\n",
       "      <td>5.696737</td>\n",
       "      <td>2.282341e+08</td>\n",
       "      <td>-0.0</td>\n",
       "    </tr>\n",
       "    <tr>\n",
       "      <th>2</th>\n",
       "      <td>1844</td>\n",
       "      <td>1844</td>\n",
       "      <td>stock_daily</td>\n",
       "      <td>000613.SZ</td>\n",
       "      <td>2021-12-29 15:00:00</td>\n",
       "      <td>5.519800</td>\n",
       "      <td>5.834400</td>\n",
       "      <td>2.342036e+08</td>\n",
       "      <td>-0.0</td>\n",
       "    </tr>\n",
       "    <tr>\n",
       "      <th>3</th>\n",
       "      <td>1845</td>\n",
       "      <td>1845</td>\n",
       "      <td>stock_daily</td>\n",
       "      <td>000687.SZ</td>\n",
       "      <td>2021-12-29 15:00:00</td>\n",
       "      <td>6.111182</td>\n",
       "      <td>6.111182</td>\n",
       "      <td>2.332937e+08</td>\n",
       "      <td>-0.0</td>\n",
       "    </tr>\n",
       "  </tbody>\n",
       "</table>\n",
       "</div>"
      ],
      "text/plain": [
       "   orderID  tradeID     secuType       code           transTime  transPrice  \\\n",
       "0     1842     1842  stock_daily  000927.SZ 2021-12-29 15:00:00    5.638050   \n",
       "1     1843     1843  stock_daily  000882.SZ 2021-12-29 15:00:00    5.637086   \n",
       "2     1844     1844  stock_daily  000613.SZ 2021-12-29 15:00:00    5.519800   \n",
       "3     1845     1845  stock_daily  000687.SZ 2021-12-29 15:00:00    6.111182   \n",
       "\n",
       "   settlePrice        volume  frozenVol  \n",
       "0     5.622168  2.281555e+08       -0.0  \n",
       "1     5.696737  2.282341e+08       -0.0  \n",
       "2     5.834400  2.342036e+08       -0.0  \n",
       "3     6.111182  2.332937e+08       -0.0  "
      ]
     },
     "execution_count": 34,
     "metadata": {},
     "output_type": "execute_result"
    }
   ],
   "source": [
    "obs.position"
   ]
  },
  {
   "cell_type": "code",
   "execution_count": 35,
   "id": "3370a588",
   "metadata": {
    "ExecuteTime": {
     "end_time": "2023-04-14T03:24:56.532272Z",
     "start_time": "2023-04-14T03:24:56.393161Z"
    },
    "execution": {
     "iopub.execute_input": "2023-10-09T08:18:20.738468Z",
     "iopub.status.busy": "2023-10-09T08:18:20.737468Z",
     "iopub.status.idle": "2023-10-09T08:18:20.816116Z",
     "shell.execute_reply": "2023-10-09T08:18:20.815122Z",
     "shell.execute_reply.started": "2023-10-09T08:18:20.738468Z"
    }
   },
   "outputs": [
    {
     "data": {
      "text/plain": [
       "{'netAsset': 10669085565.608765, 'cash': 5294029894.564766, 'frozenCash': 0}"
      ]
     },
     "execution_count": 35,
     "metadata": {},
     "output_type": "execute_result"
    }
   ],
   "source": [
    "obs.balance"
   ]
  },
  {
   "cell_type": "code",
   "execution_count": 36,
   "id": "017c046a",
   "metadata": {
    "ExecuteTime": {
     "end_time": "2023-04-14T03:24:56.658542Z",
     "start_time": "2023-04-14T03:24:56.535272Z"
    },
    "execution": {
     "iopub.execute_input": "2023-10-09T08:18:20.818117Z",
     "iopub.status.busy": "2023-10-09T08:18:20.818117Z",
     "iopub.status.idle": "2023-10-09T08:18:20.911463Z",
     "shell.execute_reply": "2023-10-09T08:18:20.909445Z",
     "shell.execute_reply.started": "2023-10-09T08:18:20.818117Z"
    }
   },
   "outputs": [
    {
     "data": {
      "text/html": [
       "<div>\n",
       "<style scoped>\n",
       "    .dataframe tbody tr th:only-of-type {\n",
       "        vertical-align: middle;\n",
       "    }\n",
       "\n",
       "    .dataframe tbody tr th {\n",
       "        vertical-align: top;\n",
       "    }\n",
       "\n",
       "    .dataframe thead th {\n",
       "        text-align: right;\n",
       "    }\n",
       "</style>\n",
       "<table border=\"1\" class=\"dataframe\">\n",
       "  <thead>\n",
       "    <tr style=\"text-align: right;\">\n",
       "      <th></th>\n",
       "      <th>orderID</th>\n",
       "      <th>secuType</th>\n",
       "      <th>code</th>\n",
       "      <th>orderTime</th>\n",
       "      <th>orderType</th>\n",
       "      <th>direction</th>\n",
       "      <th>targetPrice</th>\n",
       "      <th>targetVol</th>\n",
       "      <th>filledVol</th>\n",
       "      <th>offsetID</th>\n",
       "      <th>status</th>\n",
       "      <th>orderSeq</th>\n",
       "    </tr>\n",
       "  </thead>\n",
       "  <tbody>\n",
       "  </tbody>\n",
       "</table>\n",
       "</div>"
      ],
      "text/plain": [
       "Empty DataFrame\n",
       "Columns: [orderID, secuType, code, orderTime, orderType, direction, targetPrice, targetVol, filledVol, offsetID, status, orderSeq]\n",
       "Index: []"
      ]
     },
     "execution_count": 36,
     "metadata": {},
     "output_type": "execute_result"
    }
   ],
   "source": [
    "obs.active_orders"
   ]
  },
  {
   "cell_type": "code",
   "execution_count": 37,
   "id": "f5269f89",
   "metadata": {
    "ExecuteTime": {
     "end_time": "2023-04-14T03:24:56.785574Z",
     "start_time": "2023-04-14T03:24:56.661540Z"
    },
    "execution": {
     "iopub.execute_input": "2023-10-09T08:18:20.912458Z",
     "iopub.status.busy": "2023-10-09T08:18:20.912458Z",
     "iopub.status.idle": "2023-10-09T08:18:21.004306Z",
     "shell.execute_reply": "2023-10-09T08:18:21.003312Z",
     "shell.execute_reply.started": "2023-10-09T08:18:20.912458Z"
    }
   },
   "outputs": [
    {
     "data": {
      "text/plain": [
       "{}"
      ]
     },
     "execution_count": 37,
     "metadata": {},
     "output_type": "execute_result"
    }
   ],
   "source": [
    "obs.active_order_params"
   ]
  },
  {
   "cell_type": "markdown",
   "id": "656bf287",
   "metadata": {},
   "source": [
    "#### 交易记录"
   ]
  },
  {
   "cell_type": "code",
   "execution_count": 38,
   "id": "67a123e5",
   "metadata": {
    "ExecuteTime": {
     "end_time": "2023-04-14T03:24:56.927591Z",
     "start_time": "2023-04-14T03:24:56.788560Z"
    },
    "execution": {
     "iopub.execute_input": "2023-10-09T08:18:21.005306Z",
     "iopub.status.busy": "2023-10-09T08:18:21.005306Z",
     "iopub.status.idle": "2023-10-09T08:18:21.099334Z",
     "shell.execute_reply": "2023-10-09T08:18:21.097344Z",
     "shell.execute_reply.started": "2023-10-09T08:18:21.005306Z"
    }
   },
   "outputs": [
    {
     "data": {
      "text/html": [
       "<div>\n",
       "<style scoped>\n",
       "    .dataframe tbody tr th:only-of-type {\n",
       "        vertical-align: middle;\n",
       "    }\n",
       "\n",
       "    .dataframe tbody tr th {\n",
       "        vertical-align: top;\n",
       "    }\n",
       "\n",
       "    .dataframe thead th {\n",
       "        text-align: right;\n",
       "    }\n",
       "</style>\n",
       "<table border=\"1\" class=\"dataframe\">\n",
       "  <thead>\n",
       "    <tr style=\"text-align: right;\">\n",
       "      <th></th>\n",
       "      <th>tradeID</th>\n",
       "      <th>orderID</th>\n",
       "      <th>secuType</th>\n",
       "      <th>code</th>\n",
       "      <th>transTime</th>\n",
       "      <th>direction</th>\n",
       "      <th>transPrice</th>\n",
       "      <th>transVol</th>\n",
       "      <th>offsetID</th>\n",
       "      <th>transCost</th>\n",
       "    </tr>\n",
       "  </thead>\n",
       "  <tbody>\n",
       "    <tr>\n",
       "      <th>1841</th>\n",
       "      <td>1841</td>\n",
       "      <td>1841</td>\n",
       "      <td>stock_daily</td>\n",
       "      <td>000613.SZ</td>\n",
       "      <td>2021-12-28 09:30:00</td>\n",
       "      <td>net</td>\n",
       "      <td>5.662800</td>\n",
       "      <td>-2.212823e+08</td>\n",
       "      <td>1834</td>\n",
       "      <td>1.879616e+06</td>\n",
       "    </tr>\n",
       "    <tr>\n",
       "      <th>1842</th>\n",
       "      <td>1842</td>\n",
       "      <td>1842</td>\n",
       "      <td>stock_daily</td>\n",
       "      <td>000927.SZ</td>\n",
       "      <td>2021-12-29 15:00:00</td>\n",
       "      <td>long</td>\n",
       "      <td>5.638050</td>\n",
       "      <td>2.281555e+08</td>\n",
       "      <td>-1</td>\n",
       "      <td>6.431760e+05</td>\n",
       "    </tr>\n",
       "    <tr>\n",
       "      <th>1843</th>\n",
       "      <td>1843</td>\n",
       "      <td>1843</td>\n",
       "      <td>stock_daily</td>\n",
       "      <td>000882.SZ</td>\n",
       "      <td>2021-12-29 15:00:00</td>\n",
       "      <td>long</td>\n",
       "      <td>5.637086</td>\n",
       "      <td>2.282341e+08</td>\n",
       "      <td>-1</td>\n",
       "      <td>6.432877e+05</td>\n",
       "    </tr>\n",
       "    <tr>\n",
       "      <th>1844</th>\n",
       "      <td>1844</td>\n",
       "      <td>1844</td>\n",
       "      <td>stock_daily</td>\n",
       "      <td>000613.SZ</td>\n",
       "      <td>2021-12-29 15:00:00</td>\n",
       "      <td>long</td>\n",
       "      <td>5.519800</td>\n",
       "      <td>2.342036e+08</td>\n",
       "      <td>-1</td>\n",
       "      <td>6.463784e+05</td>\n",
       "    </tr>\n",
       "    <tr>\n",
       "      <th>1845</th>\n",
       "      <td>1845</td>\n",
       "      <td>1845</td>\n",
       "      <td>stock_daily</td>\n",
       "      <td>000687.SZ</td>\n",
       "      <td>2021-12-29 15:00:00</td>\n",
       "      <td>long</td>\n",
       "      <td>6.111182</td>\n",
       "      <td>2.332937e+08</td>\n",
       "      <td>-1</td>\n",
       "      <td>7.128500e+05</td>\n",
       "    </tr>\n",
       "  </tbody>\n",
       "</table>\n",
       "</div>"
      ],
      "text/plain": [
       "      tradeID  orderID     secuType       code           transTime direction  \\\n",
       "1841     1841     1841  stock_daily  000613.SZ 2021-12-28 09:30:00       net   \n",
       "1842     1842     1842  stock_daily  000927.SZ 2021-12-29 15:00:00      long   \n",
       "1843     1843     1843  stock_daily  000882.SZ 2021-12-29 15:00:00      long   \n",
       "1844     1844     1844  stock_daily  000613.SZ 2021-12-29 15:00:00      long   \n",
       "1845     1845     1845  stock_daily  000687.SZ 2021-12-29 15:00:00      long   \n",
       "\n",
       "      transPrice      transVol  offsetID     transCost  \n",
       "1841    5.662800 -2.212823e+08      1834  1.879616e+06  \n",
       "1842    5.638050  2.281555e+08        -1  6.431760e+05  \n",
       "1843    5.637086  2.282341e+08        -1  6.432877e+05  \n",
       "1844    5.519800  2.342036e+08        -1  6.463784e+05  \n",
       "1845    6.111182  2.332937e+08        -1  7.128500e+05  "
      ]
     },
     "execution_count": 38,
     "metadata": {},
     "output_type": "execute_result"
    }
   ],
   "source": [
    "obs.trade_records.tail()"
   ]
  },
  {
   "cell_type": "markdown",
   "id": "8d6087f8",
   "metadata": {},
   "source": [
    "#### balance记录"
   ]
  },
  {
   "cell_type": "code",
   "execution_count": 39,
   "id": "ece09436",
   "metadata": {
    "ExecuteTime": {
     "end_time": "2023-04-14T03:24:57.085413Z",
     "start_time": "2023-04-14T03:24:56.930598Z"
    },
    "execution": {
     "iopub.execute_input": "2023-10-09T08:18:21.101330Z",
     "iopub.status.busy": "2023-10-09T08:18:21.100335Z",
     "iopub.status.idle": "2023-10-09T08:18:21.192437Z",
     "shell.execute_reply": "2023-10-09T08:18:21.191441Z",
     "shell.execute_reply.started": "2023-10-09T08:18:21.101330Z"
    }
   },
   "outputs": [
    {
     "data": {
      "text/html": [
       "<div>\n",
       "<style scoped>\n",
       "    .dataframe tbody tr th:only-of-type {\n",
       "        vertical-align: middle;\n",
       "    }\n",
       "\n",
       "    .dataframe tbody tr th {\n",
       "        vertical-align: top;\n",
       "    }\n",
       "\n",
       "    .dataframe thead th {\n",
       "        text-align: right;\n",
       "    }\n",
       "</style>\n",
       "<table border=\"1\" class=\"dataframe\">\n",
       "  <thead>\n",
       "    <tr style=\"text-align: right;\">\n",
       "      <th></th>\n",
       "      <th>recordTime</th>\n",
       "      <th>netAsset</th>\n",
       "      <th>cash</th>\n",
       "      <th>frozenCash</th>\n",
       "      <th>date</th>\n",
       "    </tr>\n",
       "  </thead>\n",
       "  <tbody>\n",
       "    <tr>\n",
       "      <th>1457</th>\n",
       "      <td>2021-12-28</td>\n",
       "      <td>1.059276e+10</td>\n",
       "      <td>5.372060e+09</td>\n",
       "      <td>0.0</td>\n",
       "      <td>2021-12-28</td>\n",
       "    </tr>\n",
       "    <tr>\n",
       "      <th>1458</th>\n",
       "      <td>2021-12-29</td>\n",
       "      <td>1.058806e+10</td>\n",
       "      <td>1.058806e+10</td>\n",
       "      <td>0.0</td>\n",
       "      <td>2021-12-29</td>\n",
       "    </tr>\n",
       "    <tr>\n",
       "      <th>1459</th>\n",
       "      <td>2021-12-30</td>\n",
       "      <td>1.058541e+10</td>\n",
       "      <td>5.294030e+09</td>\n",
       "      <td>0.0</td>\n",
       "      <td>2021-12-30</td>\n",
       "    </tr>\n",
       "    <tr>\n",
       "      <th>1460</th>\n",
       "      <td>2021-12-31</td>\n",
       "      <td>1.064021e+10</td>\n",
       "      <td>5.294030e+09</td>\n",
       "      <td>0.0</td>\n",
       "      <td>2021-12-31</td>\n",
       "    </tr>\n",
       "    <tr>\n",
       "      <th>1461</th>\n",
       "      <td>2022-01-01</td>\n",
       "      <td>1.066909e+10</td>\n",
       "      <td>5.294030e+09</td>\n",
       "      <td>0.0</td>\n",
       "      <td>2022-01-01</td>\n",
       "    </tr>\n",
       "  </tbody>\n",
       "</table>\n",
       "</div>"
      ],
      "text/plain": [
       "     recordTime      netAsset          cash  frozenCash        date\n",
       "1457 2021-12-28  1.059276e+10  5.372060e+09         0.0  2021-12-28\n",
       "1458 2021-12-29  1.058806e+10  1.058806e+10         0.0  2021-12-29\n",
       "1459 2021-12-30  1.058541e+10  5.294030e+09         0.0  2021-12-30\n",
       "1460 2021-12-31  1.064021e+10  5.294030e+09         0.0  2021-12-31\n",
       "1461 2022-01-01  1.066909e+10  5.294030e+09         0.0  2022-01-01"
      ]
     },
     "execution_count": 39,
     "metadata": {},
     "output_type": "execute_result"
    }
   ],
   "source": [
    "obs.balance_records.tail()"
   ]
  },
  {
   "cell_type": "markdown",
   "id": "d0bc8dea",
   "metadata": {},
   "source": [
    "#### 持仓记录"
   ]
  },
  {
   "cell_type": "code",
   "execution_count": 40,
   "id": "d39ead04",
   "metadata": {
    "ExecuteTime": {
     "end_time": "2023-04-14T03:24:57.226453Z",
     "start_time": "2023-04-14T03:24:57.087414Z"
    },
    "execution": {
     "iopub.execute_input": "2023-10-09T08:18:21.194433Z",
     "iopub.status.busy": "2023-10-09T08:18:21.193421Z",
     "iopub.status.idle": "2023-10-09T08:18:21.304448Z",
     "shell.execute_reply": "2023-10-09T08:18:21.303448Z",
     "shell.execute_reply.started": "2023-10-09T08:18:21.194433Z"
    }
   },
   "outputs": [
    {
     "data": {
      "text/html": [
       "<div>\n",
       "<style scoped>\n",
       "    .dataframe tbody tr th:only-of-type {\n",
       "        vertical-align: middle;\n",
       "    }\n",
       "\n",
       "    .dataframe tbody tr th {\n",
       "        vertical-align: top;\n",
       "    }\n",
       "\n",
       "    .dataframe thead th {\n",
       "        text-align: right;\n",
       "    }\n",
       "</style>\n",
       "<table border=\"1\" class=\"dataframe\">\n",
       "  <thead>\n",
       "    <tr style=\"text-align: right;\">\n",
       "      <th></th>\n",
       "      <th>recordTime</th>\n",
       "      <th>orderID</th>\n",
       "      <th>tradeID</th>\n",
       "      <th>secuType</th>\n",
       "      <th>code</th>\n",
       "      <th>transTime</th>\n",
       "      <th>transPrice</th>\n",
       "      <th>settlePrice</th>\n",
       "      <th>volume</th>\n",
       "      <th>frozenVol</th>\n",
       "      <th>date</th>\n",
       "      <th>mktv</th>\n",
       "    </tr>\n",
       "  </thead>\n",
       "  <tbody>\n",
       "    <tr>\n",
       "      <th>0</th>\n",
       "      <td>2018-01-03</td>\n",
       "      <td>0</td>\n",
       "      <td>0</td>\n",
       "      <td>stock_daily</td>\n",
       "      <td>000875.SZ</td>\n",
       "      <td>2018-01-02 15:00:00</td>\n",
       "      <td>5.489387</td>\n",
       "      <td>5.489387</td>\n",
       "      <td>1.408787e+08</td>\n",
       "      <td>-0.0</td>\n",
       "      <td>2018-01-03</td>\n",
       "      <td>7.733376e+08</td>\n",
       "    </tr>\n",
       "    <tr>\n",
       "      <th>1</th>\n",
       "      <td>2018-01-03</td>\n",
       "      <td>2</td>\n",
       "      <td>1</td>\n",
       "      <td>stock_daily</td>\n",
       "      <td>000927.SZ</td>\n",
       "      <td>2018-01-02 15:00:00</td>\n",
       "      <td>7.242114</td>\n",
       "      <td>7.242114</td>\n",
       "      <td>1.419708e+08</td>\n",
       "      <td>-0.0</td>\n",
       "      <td>2018-01-03</td>\n",
       "      <td>1.028169e+09</td>\n",
       "    </tr>\n",
       "    <tr>\n",
       "      <th>2</th>\n",
       "      <td>2018-01-03</td>\n",
       "      <td>3</td>\n",
       "      <td>2</td>\n",
       "      <td>stock_daily</td>\n",
       "      <td>000166.SZ</td>\n",
       "      <td>2018-01-02 15:00:00</td>\n",
       "      <td>7.521514</td>\n",
       "      <td>7.521514</td>\n",
       "      <td>1.417069e+08</td>\n",
       "      <td>-0.0</td>\n",
       "      <td>2018-01-03</td>\n",
       "      <td>1.065850e+09</td>\n",
       "    </tr>\n",
       "    <tr>\n",
       "      <th>3</th>\n",
       "      <td>2018-01-03</td>\n",
       "      <td>4</td>\n",
       "      <td>3</td>\n",
       "      <td>stock_daily</td>\n",
       "      <td>000931.SZ</td>\n",
       "      <td>2018-01-02 15:00:00</td>\n",
       "      <td>8.182565</td>\n",
       "      <td>8.182565</td>\n",
       "      <td>1.436168e+08</td>\n",
       "      <td>-0.0</td>\n",
       "      <td>2018-01-03</td>\n",
       "      <td>1.175154e+09</td>\n",
       "    </tr>\n",
       "    <tr>\n",
       "      <th>4</th>\n",
       "      <td>2018-01-04</td>\n",
       "      <td>0</td>\n",
       "      <td>0</td>\n",
       "      <td>stock_daily</td>\n",
       "      <td>000875.SZ</td>\n",
       "      <td>2018-01-02 15:00:00</td>\n",
       "      <td>5.489387</td>\n",
       "      <td>5.573839</td>\n",
       "      <td>1.408787e+08</td>\n",
       "      <td>-0.0</td>\n",
       "      <td>2018-01-04</td>\n",
       "      <td>7.852351e+08</td>\n",
       "    </tr>\n",
       "    <tr>\n",
       "      <th>...</th>\n",
       "      <td>...</td>\n",
       "      <td>...</td>\n",
       "      <td>...</td>\n",
       "      <td>...</td>\n",
       "      <td>...</td>\n",
       "      <td>...</td>\n",
       "      <td>...</td>\n",
       "      <td>...</td>\n",
       "      <td>...</td>\n",
       "      <td>...</td>\n",
       "      <td>...</td>\n",
       "      <td>...</td>\n",
       "    </tr>\n",
       "    <tr>\n",
       "      <th>5465</th>\n",
       "      <td>2021-12-31</td>\n",
       "      <td>1845</td>\n",
       "      <td>1845</td>\n",
       "      <td>stock_daily</td>\n",
       "      <td>000687.SZ</td>\n",
       "      <td>2021-12-29 15:00:00</td>\n",
       "      <td>6.111182</td>\n",
       "      <td>6.145322</td>\n",
       "      <td>2.332937e+08</td>\n",
       "      <td>-0.0</td>\n",
       "      <td>2021-12-31</td>\n",
       "      <td>1.433665e+09</td>\n",
       "    </tr>\n",
       "    <tr>\n",
       "      <th>5466</th>\n",
       "      <td>2022-01-01</td>\n",
       "      <td>1842</td>\n",
       "      <td>1842</td>\n",
       "      <td>stock_daily</td>\n",
       "      <td>000927.SZ</td>\n",
       "      <td>2021-12-29 15:00:00</td>\n",
       "      <td>5.638050</td>\n",
       "      <td>5.622168</td>\n",
       "      <td>2.281555e+08</td>\n",
       "      <td>-0.0</td>\n",
       "      <td>2022-01-01</td>\n",
       "      <td>1.282728e+09</td>\n",
       "    </tr>\n",
       "    <tr>\n",
       "      <th>5467</th>\n",
       "      <td>2022-01-01</td>\n",
       "      <td>1843</td>\n",
       "      <td>1843</td>\n",
       "      <td>stock_daily</td>\n",
       "      <td>000882.SZ</td>\n",
       "      <td>2021-12-29 15:00:00</td>\n",
       "      <td>5.637086</td>\n",
       "      <td>5.696737</td>\n",
       "      <td>2.282341e+08</td>\n",
       "      <td>-0.0</td>\n",
       "      <td>2022-01-01</td>\n",
       "      <td>1.300190e+09</td>\n",
       "    </tr>\n",
       "    <tr>\n",
       "      <th>5468</th>\n",
       "      <td>2022-01-01</td>\n",
       "      <td>1844</td>\n",
       "      <td>1844</td>\n",
       "      <td>stock_daily</td>\n",
       "      <td>000613.SZ</td>\n",
       "      <td>2021-12-29 15:00:00</td>\n",
       "      <td>5.519800</td>\n",
       "      <td>5.834400</td>\n",
       "      <td>2.342036e+08</td>\n",
       "      <td>-0.0</td>\n",
       "      <td>2022-01-01</td>\n",
       "      <td>1.366437e+09</td>\n",
       "    </tr>\n",
       "    <tr>\n",
       "      <th>5469</th>\n",
       "      <td>2022-01-01</td>\n",
       "      <td>1845</td>\n",
       "      <td>1845</td>\n",
       "      <td>stock_daily</td>\n",
       "      <td>000687.SZ</td>\n",
       "      <td>2021-12-29 15:00:00</td>\n",
       "      <td>6.111182</td>\n",
       "      <td>6.111182</td>\n",
       "      <td>2.332937e+08</td>\n",
       "      <td>-0.0</td>\n",
       "      <td>2022-01-01</td>\n",
       "      <td>1.425700e+09</td>\n",
       "    </tr>\n",
       "  </tbody>\n",
       "</table>\n",
       "<p>5470 rows × 12 columns</p>\n",
       "</div>"
      ],
      "text/plain": [
       "     recordTime  orderID  tradeID     secuType       code           transTime  \\\n",
       "0    2018-01-03        0        0  stock_daily  000875.SZ 2018-01-02 15:00:00   \n",
       "1    2018-01-03        2        1  stock_daily  000927.SZ 2018-01-02 15:00:00   \n",
       "2    2018-01-03        3        2  stock_daily  000166.SZ 2018-01-02 15:00:00   \n",
       "3    2018-01-03        4        3  stock_daily  000931.SZ 2018-01-02 15:00:00   \n",
       "4    2018-01-04        0        0  stock_daily  000875.SZ 2018-01-02 15:00:00   \n",
       "...         ...      ...      ...          ...        ...                 ...   \n",
       "5465 2021-12-31     1845     1845  stock_daily  000687.SZ 2021-12-29 15:00:00   \n",
       "5466 2022-01-01     1842     1842  stock_daily  000927.SZ 2021-12-29 15:00:00   \n",
       "5467 2022-01-01     1843     1843  stock_daily  000882.SZ 2021-12-29 15:00:00   \n",
       "5468 2022-01-01     1844     1844  stock_daily  000613.SZ 2021-12-29 15:00:00   \n",
       "5469 2022-01-01     1845     1845  stock_daily  000687.SZ 2021-12-29 15:00:00   \n",
       "\n",
       "      transPrice  settlePrice        volume  frozenVol        date  \\\n",
       "0       5.489387     5.489387  1.408787e+08       -0.0  2018-01-03   \n",
       "1       7.242114     7.242114  1.419708e+08       -0.0  2018-01-03   \n",
       "2       7.521514     7.521514  1.417069e+08       -0.0  2018-01-03   \n",
       "3       8.182565     8.182565  1.436168e+08       -0.0  2018-01-03   \n",
       "4       5.489387     5.573839  1.408787e+08       -0.0  2018-01-04   \n",
       "...          ...          ...           ...        ...         ...   \n",
       "5465    6.111182     6.145322  2.332937e+08       -0.0  2021-12-31   \n",
       "5466    5.638050     5.622168  2.281555e+08       -0.0  2022-01-01   \n",
       "5467    5.637086     5.696737  2.282341e+08       -0.0  2022-01-01   \n",
       "5468    5.519800     5.834400  2.342036e+08       -0.0  2022-01-01   \n",
       "5469    6.111182     6.111182  2.332937e+08       -0.0  2022-01-01   \n",
       "\n",
       "              mktv  \n",
       "0     7.733376e+08  \n",
       "1     1.028169e+09  \n",
       "2     1.065850e+09  \n",
       "3     1.175154e+09  \n",
       "4     7.852351e+08  \n",
       "...            ...  \n",
       "5465  1.433665e+09  \n",
       "5466  1.282728e+09  \n",
       "5467  1.300190e+09  \n",
       "5468  1.366437e+09  \n",
       "5469  1.425700e+09  \n",
       "\n",
       "[5470 rows x 12 columns]"
      ]
     },
     "execution_count": 40,
     "metadata": {},
     "output_type": "execute_result"
    }
   ],
   "source": [
    "obs.position_records"
   ]
  },
  {
   "cell_type": "markdown",
   "id": "d3205a80",
   "metadata": {},
   "source": [
    "### 检查"
   ]
  },
  {
   "cell_type": "markdown",
   "id": "63ab1628",
   "metadata": {},
   "source": [
    "持仓资产+现金等于基金净值"
   ]
  },
  {
   "cell_type": "code",
   "execution_count": 41,
   "id": "4e879fbf",
   "metadata": {
    "ExecuteTime": {
     "end_time": "2023-04-14T03:24:57.574140Z",
     "start_time": "2023-04-14T03:24:57.229453Z"
    },
    "execution": {
     "iopub.execute_input": "2023-10-09T08:18:21.305448Z",
     "iopub.status.busy": "2023-10-09T08:18:21.305448Z",
     "iopub.status.idle": "2023-10-09T08:18:21.540520Z",
     "shell.execute_reply": "2023-10-09T08:18:21.539507Z",
     "shell.execute_reply.started": "2023-10-09T08:18:21.305448Z"
    },
    "scrolled": true
   },
   "outputs": [
    {
     "data": {
      "text/html": [
       "<div>\n",
       "<style scoped>\n",
       "    .dataframe tbody tr th:only-of-type {\n",
       "        vertical-align: middle;\n",
       "    }\n",
       "\n",
       "    .dataframe tbody tr th {\n",
       "        vertical-align: top;\n",
       "    }\n",
       "\n",
       "    .dataframe thead th {\n",
       "        text-align: right;\n",
       "    }\n",
       "</style>\n",
       "<table border=\"1\" class=\"dataframe\">\n",
       "  <thead>\n",
       "    <tr style=\"text-align: right;\">\n",
       "      <th></th>\n",
       "      <th>netAsset</th>\n",
       "      <th>cash</th>\n",
       "      <th>position_asset</th>\n",
       "      <th>netAsset_cal</th>\n",
       "    </tr>\n",
       "    <tr>\n",
       "      <th>recordTime</th>\n",
       "      <th></th>\n",
       "      <th></th>\n",
       "      <th></th>\n",
       "      <th></th>\n",
       "    </tr>\n",
       "  </thead>\n",
       "  <tbody>\n",
       "    <tr>\n",
       "      <th>2018-01-01</th>\n",
       "      <td>1.000000e+10</td>\n",
       "      <td>1.000000e+10</td>\n",
       "      <td>NaN</td>\n",
       "      <td>1.000000e+10</td>\n",
       "    </tr>\n",
       "    <tr>\n",
       "      <th>2018-01-02</th>\n",
       "      <td>1.000000e+10</td>\n",
       "      <td>1.000000e+10</td>\n",
       "      <td>NaN</td>\n",
       "      <td>1.000000e+10</td>\n",
       "    </tr>\n",
       "    <tr>\n",
       "      <th>2018-01-03</th>\n",
       "      <td>9.997979e+09</td>\n",
       "      <td>5.955468e+09</td>\n",
       "      <td>4.042510e+09</td>\n",
       "      <td>9.997979e+09</td>\n",
       "    </tr>\n",
       "    <tr>\n",
       "      <th>2018-01-04</th>\n",
       "      <td>1.003740e+10</td>\n",
       "      <td>5.955468e+09</td>\n",
       "      <td>4.081931e+09</td>\n",
       "      <td>1.003740e+10</td>\n",
       "    </tr>\n",
       "    <tr>\n",
       "      <th>2018-01-05</th>\n",
       "      <td>1.002434e+10</td>\n",
       "      <td>5.955468e+09</td>\n",
       "      <td>4.068873e+09</td>\n",
       "      <td>1.002434e+10</td>\n",
       "    </tr>\n",
       "    <tr>\n",
       "      <th>...</th>\n",
       "      <td>...</td>\n",
       "      <td>...</td>\n",
       "      <td>...</td>\n",
       "      <td>...</td>\n",
       "    </tr>\n",
       "    <tr>\n",
       "      <th>2021-12-28</th>\n",
       "      <td>1.059276e+10</td>\n",
       "      <td>5.372060e+09</td>\n",
       "      <td>5.220700e+09</td>\n",
       "      <td>1.059276e+10</td>\n",
       "    </tr>\n",
       "    <tr>\n",
       "      <th>2021-12-29</th>\n",
       "      <td>1.058806e+10</td>\n",
       "      <td>1.058806e+10</td>\n",
       "      <td>NaN</td>\n",
       "      <td>1.058806e+10</td>\n",
       "    </tr>\n",
       "    <tr>\n",
       "      <th>2021-12-30</th>\n",
       "      <td>1.058541e+10</td>\n",
       "      <td>5.294030e+09</td>\n",
       "      <td>5.291384e+09</td>\n",
       "      <td>1.058541e+10</td>\n",
       "    </tr>\n",
       "    <tr>\n",
       "      <th>2021-12-31</th>\n",
       "      <td>1.064021e+10</td>\n",
       "      <td>5.294030e+09</td>\n",
       "      <td>5.346180e+09</td>\n",
       "      <td>1.064021e+10</td>\n",
       "    </tr>\n",
       "    <tr>\n",
       "      <th>2022-01-01</th>\n",
       "      <td>1.066909e+10</td>\n",
       "      <td>5.294030e+09</td>\n",
       "      <td>5.375056e+09</td>\n",
       "      <td>1.066909e+10</td>\n",
       "    </tr>\n",
       "  </tbody>\n",
       "</table>\n",
       "<p>1462 rows × 4 columns</p>\n",
       "</div>"
      ],
      "text/plain": [
       "                netAsset          cash  position_asset  netAsset_cal\n",
       "recordTime                                                          \n",
       "2018-01-01  1.000000e+10  1.000000e+10             NaN  1.000000e+10\n",
       "2018-01-02  1.000000e+10  1.000000e+10             NaN  1.000000e+10\n",
       "2018-01-03  9.997979e+09  5.955468e+09    4.042510e+09  9.997979e+09\n",
       "2018-01-04  1.003740e+10  5.955468e+09    4.081931e+09  1.003740e+10\n",
       "2018-01-05  1.002434e+10  5.955468e+09    4.068873e+09  1.002434e+10\n",
       "...                  ...           ...             ...           ...\n",
       "2021-12-28  1.059276e+10  5.372060e+09    5.220700e+09  1.059276e+10\n",
       "2021-12-29  1.058806e+10  1.058806e+10             NaN  1.058806e+10\n",
       "2021-12-30  1.058541e+10  5.294030e+09    5.291384e+09  1.058541e+10\n",
       "2021-12-31  1.064021e+10  5.294030e+09    5.346180e+09  1.064021e+10\n",
       "2022-01-01  1.066909e+10  5.294030e+09    5.375056e+09  1.066909e+10\n",
       "\n",
       "[1462 rows x 4 columns]"
      ]
     },
     "execution_count": 41,
     "metadata": {},
     "output_type": "execute_result"
    }
   ],
   "source": [
    "obs.check_position_net()"
   ]
  },
  {
   "cell_type": "markdown",
   "id": "adf4e566",
   "metadata": {},
   "source": [
    "期初期末持仓价值变动+期间的交易的费用=期初期末净资产的变动"
   ]
  },
  {
   "cell_type": "code",
   "execution_count": 42,
   "id": "bc1ee6df",
   "metadata": {
    "ExecuteTime": {
     "end_time": "2023-04-14T03:24:57.731168Z",
     "start_time": "2023-04-14T03:24:57.577149Z"
    },
    "execution": {
     "iopub.execute_input": "2023-10-09T08:18:21.542501Z",
     "iopub.status.busy": "2023-10-09T08:18:21.541500Z",
     "iopub.status.idle": "2023-10-09T08:18:21.650095Z",
     "shell.execute_reply": "2023-10-09T08:18:21.649093Z",
     "shell.execute_reply.started": "2023-10-09T08:18:21.542501Z"
    },
    "scrolled": true
   },
   "outputs": [
    {
     "data": {
      "text/plain": [
       "{'nav_end': 10669085565.608765,\n",
       " 'nav_start': 9997978744.789328,\n",
       " 'trade_amount': -1020121919.2124264,\n",
       " 'trade_cost': 1681560348.0927286,\n",
       " 'pv_end': 5375055671.044014,\n",
       " 'pv_start': 4042510421.344275,\n",
       " 'nav_end_cal': 10669085565.608767}"
      ]
     },
     "execution_count": 42,
     "metadata": {},
     "output_type": "execute_result"
    }
   ],
   "source": [
    "obs.check_trade_net()"
   ]
  },
  {
   "cell_type": "markdown",
   "id": "835a31ec",
   "metadata": {},
   "source": [
    "期末持仓等于期初持仓+期间的交易"
   ]
  },
  {
   "cell_type": "code",
   "execution_count": 43,
   "id": "15e41ba3",
   "metadata": {
    "ExecuteTime": {
     "end_time": "2023-04-14T03:24:57.889215Z",
     "start_time": "2023-04-14T03:24:57.733171Z"
    },
    "execution": {
     "iopub.execute_input": "2023-10-09T08:18:21.652096Z",
     "iopub.status.busy": "2023-10-09T08:18:21.652096Z",
     "iopub.status.idle": "2023-10-09T08:18:21.759713Z",
     "shell.execute_reply": "2023-10-09T08:18:21.759191Z",
     "shell.execute_reply.started": "2023-10-09T08:18:21.652096Z"
    }
   },
   "outputs": [
    {
     "data": {
      "text/html": [
       "<div>\n",
       "<style scoped>\n",
       "    .dataframe tbody tr th:only-of-type {\n",
       "        vertical-align: middle;\n",
       "    }\n",
       "\n",
       "    .dataframe tbody tr th {\n",
       "        vertical-align: top;\n",
       "    }\n",
       "\n",
       "    .dataframe thead th {\n",
       "        text-align: right;\n",
       "    }\n",
       "</style>\n",
       "<table border=\"1\" class=\"dataframe\">\n",
       "  <thead>\n",
       "    <tr style=\"text-align: right;\">\n",
       "      <th></th>\n",
       "      <th></th>\n",
       "      <th>volume_start</th>\n",
       "      <th>volume_trade</th>\n",
       "      <th>volume_end</th>\n",
       "      <th>volume_net</th>\n",
       "    </tr>\n",
       "    <tr>\n",
       "      <th>secuType</th>\n",
       "      <th>code</th>\n",
       "      <th></th>\n",
       "      <th></th>\n",
       "      <th></th>\n",
       "      <th></th>\n",
       "    </tr>\n",
       "  </thead>\n",
       "  <tbody>\n",
       "    <tr>\n",
       "      <th rowspan=\"23\" valign=\"top\">stock_daily</th>\n",
       "      <th>000166.SZ</th>\n",
       "      <td>1.417069e+08</td>\n",
       "      <td>-1.417069e+08</td>\n",
       "      <td>NaN</td>\n",
       "      <td>0.0</td>\n",
       "    </tr>\n",
       "    <tr>\n",
       "      <th>000875.SZ</th>\n",
       "      <td>1.408787e+08</td>\n",
       "      <td>-1.408787e+08</td>\n",
       "      <td>NaN</td>\n",
       "      <td>0.0</td>\n",
       "    </tr>\n",
       "    <tr>\n",
       "      <th>000927.SZ</th>\n",
       "      <td>1.419708e+08</td>\n",
       "      <td>8.618472e+07</td>\n",
       "      <td>2.281555e+08</td>\n",
       "      <td>0.0</td>\n",
       "    </tr>\n",
       "    <tr>\n",
       "      <th>000931.SZ</th>\n",
       "      <td>1.436168e+08</td>\n",
       "      <td>-1.436168e+08</td>\n",
       "      <td>NaN</td>\n",
       "      <td>0.0</td>\n",
       "    </tr>\n",
       "    <tr>\n",
       "      <th>000068.SZ</th>\n",
       "      <td>NaN</td>\n",
       "      <td>0.000000e+00</td>\n",
       "      <td>NaN</td>\n",
       "      <td>0.0</td>\n",
       "    </tr>\n",
       "    <tr>\n",
       "      <th>000155.SZ</th>\n",
       "      <td>NaN</td>\n",
       "      <td>0.000000e+00</td>\n",
       "      <td>NaN</td>\n",
       "      <td>0.0</td>\n",
       "    </tr>\n",
       "    <tr>\n",
       "      <th>000533.SZ</th>\n",
       "      <td>NaN</td>\n",
       "      <td>0.000000e+00</td>\n",
       "      <td>NaN</td>\n",
       "      <td>0.0</td>\n",
       "    </tr>\n",
       "    <tr>\n",
       "      <th>000536.SZ</th>\n",
       "      <td>NaN</td>\n",
       "      <td>0.000000e+00</td>\n",
       "      <td>NaN</td>\n",
       "      <td>0.0</td>\n",
       "    </tr>\n",
       "    <tr>\n",
       "      <th>000585.SZ</th>\n",
       "      <td>NaN</td>\n",
       "      <td>0.000000e+00</td>\n",
       "      <td>NaN</td>\n",
       "      <td>0.0</td>\n",
       "    </tr>\n",
       "    <tr>\n",
       "      <th>000613.SZ</th>\n",
       "      <td>NaN</td>\n",
       "      <td>2.342036e+08</td>\n",
       "      <td>2.342036e+08</td>\n",
       "      <td>0.0</td>\n",
       "    </tr>\n",
       "    <tr>\n",
       "      <th>000620.SZ</th>\n",
       "      <td>NaN</td>\n",
       "      <td>0.000000e+00</td>\n",
       "      <td>NaN</td>\n",
       "      <td>0.0</td>\n",
       "    </tr>\n",
       "    <tr>\n",
       "      <th>000669.SZ</th>\n",
       "      <td>NaN</td>\n",
       "      <td>0.000000e+00</td>\n",
       "      <td>NaN</td>\n",
       "      <td>0.0</td>\n",
       "    </tr>\n",
       "    <tr>\n",
       "      <th>000687.SZ</th>\n",
       "      <td>NaN</td>\n",
       "      <td>2.332937e+08</td>\n",
       "      <td>2.332937e+08</td>\n",
       "      <td>0.0</td>\n",
       "    </tr>\n",
       "    <tr>\n",
       "      <th>000693.SZ</th>\n",
       "      <td>NaN</td>\n",
       "      <td>0.000000e+00</td>\n",
       "      <td>NaN</td>\n",
       "      <td>0.0</td>\n",
       "    </tr>\n",
       "    <tr>\n",
       "      <th>000761.SZ</th>\n",
       "      <td>NaN</td>\n",
       "      <td>0.000000e+00</td>\n",
       "      <td>NaN</td>\n",
       "      <td>0.0</td>\n",
       "    </tr>\n",
       "    <tr>\n",
       "      <th>000809.SZ</th>\n",
       "      <td>NaN</td>\n",
       "      <td>0.000000e+00</td>\n",
       "      <td>NaN</td>\n",
       "      <td>0.0</td>\n",
       "    </tr>\n",
       "    <tr>\n",
       "      <th>000820.SZ</th>\n",
       "      <td>NaN</td>\n",
       "      <td>0.000000e+00</td>\n",
       "      <td>NaN</td>\n",
       "      <td>0.0</td>\n",
       "    </tr>\n",
       "    <tr>\n",
       "      <th>000882.SZ</th>\n",
       "      <td>NaN</td>\n",
       "      <td>2.282341e+08</td>\n",
       "      <td>2.282341e+08</td>\n",
       "      <td>0.0</td>\n",
       "    </tr>\n",
       "    <tr>\n",
       "      <th>000918.SZ</th>\n",
       "      <td>NaN</td>\n",
       "      <td>0.000000e+00</td>\n",
       "      <td>NaN</td>\n",
       "      <td>0.0</td>\n",
       "    </tr>\n",
       "    <tr>\n",
       "      <th>000972.SZ</th>\n",
       "      <td>NaN</td>\n",
       "      <td>0.000000e+00</td>\n",
       "      <td>NaN</td>\n",
       "      <td>0.0</td>\n",
       "    </tr>\n",
       "    <tr>\n",
       "      <th>000980.SZ</th>\n",
       "      <td>NaN</td>\n",
       "      <td>0.000000e+00</td>\n",
       "      <td>NaN</td>\n",
       "      <td>0.0</td>\n",
       "    </tr>\n",
       "    <tr>\n",
       "      <th>000981.SZ</th>\n",
       "      <td>NaN</td>\n",
       "      <td>0.000000e+00</td>\n",
       "      <td>NaN</td>\n",
       "      <td>0.0</td>\n",
       "    </tr>\n",
       "    <tr>\n",
       "      <th>000995.SZ</th>\n",
       "      <td>NaN</td>\n",
       "      <td>0.000000e+00</td>\n",
       "      <td>NaN</td>\n",
       "      <td>0.0</td>\n",
       "    </tr>\n",
       "  </tbody>\n",
       "</table>\n",
       "</div>"
      ],
      "text/plain": [
       "                       volume_start  volume_trade    volume_end  volume_net\n",
       "secuType    code                                                           \n",
       "stock_daily 000166.SZ  1.417069e+08 -1.417069e+08           NaN         0.0\n",
       "            000875.SZ  1.408787e+08 -1.408787e+08           NaN         0.0\n",
       "            000927.SZ  1.419708e+08  8.618472e+07  2.281555e+08         0.0\n",
       "            000931.SZ  1.436168e+08 -1.436168e+08           NaN         0.0\n",
       "            000068.SZ           NaN  0.000000e+00           NaN         0.0\n",
       "            000155.SZ           NaN  0.000000e+00           NaN         0.0\n",
       "            000533.SZ           NaN  0.000000e+00           NaN         0.0\n",
       "            000536.SZ           NaN  0.000000e+00           NaN         0.0\n",
       "            000585.SZ           NaN  0.000000e+00           NaN         0.0\n",
       "            000613.SZ           NaN  2.342036e+08  2.342036e+08         0.0\n",
       "            000620.SZ           NaN  0.000000e+00           NaN         0.0\n",
       "            000669.SZ           NaN  0.000000e+00           NaN         0.0\n",
       "            000687.SZ           NaN  2.332937e+08  2.332937e+08         0.0\n",
       "            000693.SZ           NaN  0.000000e+00           NaN         0.0\n",
       "            000761.SZ           NaN  0.000000e+00           NaN         0.0\n",
       "            000809.SZ           NaN  0.000000e+00           NaN         0.0\n",
       "            000820.SZ           NaN  0.000000e+00           NaN         0.0\n",
       "            000882.SZ           NaN  2.282341e+08  2.282341e+08         0.0\n",
       "            000918.SZ           NaN  0.000000e+00           NaN         0.0\n",
       "            000972.SZ           NaN  0.000000e+00           NaN         0.0\n",
       "            000980.SZ           NaN  0.000000e+00           NaN         0.0\n",
       "            000981.SZ           NaN  0.000000e+00           NaN         0.0\n",
       "            000995.SZ           NaN  0.000000e+00           NaN         0.0"
      ]
     },
     "execution_count": 43,
     "metadata": {},
     "output_type": "execute_result"
    }
   ],
   "source": [
    "obs.check_trade_position()"
   ]
  },
  {
   "cell_type": "markdown",
   "id": "f510744f",
   "metadata": {},
   "source": [
    "### 分析"
   ]
  },
  {
   "cell_type": "code",
   "execution_count": 44,
   "id": "00877863",
   "metadata": {
    "ExecuteTime": {
     "end_time": "2023-04-14T03:24:58.060798Z",
     "start_time": "2023-04-14T03:24:57.892212Z"
    },
    "execution": {
     "iopub.execute_input": "2023-10-09T08:18:21.761707Z",
     "iopub.status.busy": "2023-10-09T08:18:21.761707Z",
     "iopub.status.idle": "2023-10-09T08:18:21.871298Z",
     "shell.execute_reply": "2023-10-09T08:18:21.870294Z",
     "shell.execute_reply.started": "2023-10-09T08:18:21.761707Z"
    }
   },
   "outputs": [
    {
     "data": {
      "text/html": [
       "<div>\n",
       "<style scoped>\n",
       "    .dataframe tbody tr th:only-of-type {\n",
       "        vertical-align: middle;\n",
       "    }\n",
       "\n",
       "    .dataframe tbody tr th {\n",
       "        vertical-align: top;\n",
       "    }\n",
       "\n",
       "    .dataframe thead th {\n",
       "        text-align: right;\n",
       "    }\n",
       "</style>\n",
       "<table border=\"1\" class=\"dataframe\">\n",
       "  <thead>\n",
       "    <tr style=\"text-align: right;\">\n",
       "      <th></th>\n",
       "      <th>总收益率</th>\n",
       "      <th>年化收益率</th>\n",
       "      <th>年化风险</th>\n",
       "      <th>最大回撤</th>\n",
       "      <th>夏普比率</th>\n",
       "      <th>信息比率</th>\n",
       "    </tr>\n",
       "  </thead>\n",
       "  <tbody>\n",
       "    <tr>\n",
       "      <th>netAsset</th>\n",
       "      <td>0.064021</td>\n",
       "      <td>0.015700</td>\n",
       "      <td>0.124874</td>\n",
       "      <td>0.287609</td>\n",
       "      <td>0.125723</td>\n",
       "      <td>-0.13311</td>\n",
       "    </tr>\n",
       "    <tr>\n",
       "      <th>benchmark</th>\n",
       "      <td>0.208683</td>\n",
       "      <td>0.048728</td>\n",
       "      <td>0.204022</td>\n",
       "      <td>0.324620</td>\n",
       "      <td>0.238837</td>\n",
       "      <td>NaN</td>\n",
       "    </tr>\n",
       "  </tbody>\n",
       "</table>\n",
       "</div>"
      ],
      "text/plain": [
       "               总收益率     年化收益率      年化风险      最大回撤      夏普比率     信息比率\n",
       "netAsset   0.064021  0.015700  0.124874  0.287609  0.125723 -0.13311\n",
       "benchmark  0.208683  0.048728  0.204022  0.324620  0.238837      NaN"
      ]
     },
     "execution_count": 44,
     "metadata": {},
     "output_type": "execute_result"
    }
   ],
   "source": [
    "obs.pnl_analyse(freq='day', benchmark=df,  chicol=True)"
   ]
  },
  {
   "cell_type": "code",
   "execution_count": 45,
   "id": "6d6e0800",
   "metadata": {
    "ExecuteTime": {
     "end_time": "2023-04-14T03:24:58.218833Z",
     "start_time": "2023-04-14T03:24:58.063798Z"
    },
    "execution": {
     "iopub.execute_input": "2023-10-09T08:18:21.872295Z",
     "iopub.status.busy": "2023-10-09T08:18:21.872295Z",
     "iopub.status.idle": "2023-10-09T08:18:21.981329Z",
     "shell.execute_reply": "2023-10-09T08:18:21.980319Z",
     "shell.execute_reply.started": "2023-10-09T08:18:21.872295Z"
    }
   },
   "outputs": [
    {
     "data": {
      "text/html": [
       "<div>\n",
       "<style scoped>\n",
       "    .dataframe tbody tr th:only-of-type {\n",
       "        vertical-align: middle;\n",
       "    }\n",
       "\n",
       "    .dataframe tbody tr th {\n",
       "        vertical-align: top;\n",
       "    }\n",
       "\n",
       "    .dataframe thead th {\n",
       "        text-align: right;\n",
       "    }\n",
       "</style>\n",
       "<table border=\"1\" class=\"dataframe\">\n",
       "  <thead>\n",
       "    <tr style=\"text-align: right;\">\n",
       "      <th></th>\n",
       "      <th>netAsset</th>\n",
       "      <th>benchmark</th>\n",
       "    </tr>\n",
       "  </thead>\n",
       "  <tbody>\n",
       "    <tr>\n",
       "      <th>2018-01-02</th>\n",
       "      <td>1.000000e+10</td>\n",
       "      <td>4087.4012</td>\n",
       "    </tr>\n",
       "    <tr>\n",
       "      <th>2018-01-03</th>\n",
       "      <td>9.997979e+09</td>\n",
       "      <td>4111.3925</td>\n",
       "    </tr>\n",
       "    <tr>\n",
       "      <th>2018-01-04</th>\n",
       "      <td>1.003740e+10</td>\n",
       "      <td>4128.8119</td>\n",
       "    </tr>\n",
       "    <tr>\n",
       "      <th>2018-01-05</th>\n",
       "      <td>1.002434e+10</td>\n",
       "      <td>4138.7505</td>\n",
       "    </tr>\n",
       "    <tr>\n",
       "      <th>2018-01-08</th>\n",
       "      <td>1.007038e+10</td>\n",
       "      <td>4160.1595</td>\n",
       "    </tr>\n",
       "    <tr>\n",
       "      <th>...</th>\n",
       "      <td>...</td>\n",
       "      <td>...</td>\n",
       "    </tr>\n",
       "    <tr>\n",
       "      <th>2021-12-27</th>\n",
       "      <td>1.055805e+10</td>\n",
       "      <td>4919.3238</td>\n",
       "    </tr>\n",
       "    <tr>\n",
       "      <th>2021-12-28</th>\n",
       "      <td>1.059276e+10</td>\n",
       "      <td>4955.9644</td>\n",
       "    </tr>\n",
       "    <tr>\n",
       "      <th>2021-12-29</th>\n",
       "      <td>1.058806e+10</td>\n",
       "      <td>4883.4804</td>\n",
       "    </tr>\n",
       "    <tr>\n",
       "      <th>2021-12-30</th>\n",
       "      <td>1.058541e+10</td>\n",
       "      <td>4921.5109</td>\n",
       "    </tr>\n",
       "    <tr>\n",
       "      <th>2021-12-31</th>\n",
       "      <td>1.064021e+10</td>\n",
       "      <td>4940.3733</td>\n",
       "    </tr>\n",
       "  </tbody>\n",
       "</table>\n",
       "<p>973 rows × 2 columns</p>\n",
       "</div>"
      ],
      "text/plain": [
       "                netAsset  benchmark\n",
       "2018-01-02  1.000000e+10  4087.4012\n",
       "2018-01-03  9.997979e+09  4111.3925\n",
       "2018-01-04  1.003740e+10  4128.8119\n",
       "2018-01-05  1.002434e+10  4138.7505\n",
       "2018-01-08  1.007038e+10  4160.1595\n",
       "...                  ...        ...\n",
       "2021-12-27  1.055805e+10  4919.3238\n",
       "2021-12-28  1.059276e+10  4955.9644\n",
       "2021-12-29  1.058806e+10  4883.4804\n",
       "2021-12-30  1.058541e+10  4921.5109\n",
       "2021-12-31  1.064021e+10  4940.3733\n",
       "\n",
       "[973 rows x 2 columns]"
      ]
     },
     "execution_count": 45,
     "metadata": {},
     "output_type": "execute_result"
    }
   ],
   "source": [
    "obs.get_pnl_net(benchmark=df, freq='day')"
   ]
  },
  {
   "cell_type": "code",
   "execution_count": 46,
   "id": "26bd31dd",
   "metadata": {
    "ExecuteTime": {
     "end_time": "2023-04-14T03:24:58.551000Z",
     "start_time": "2023-04-14T03:24:58.221834Z"
    },
    "execution": {
     "iopub.execute_input": "2023-10-09T08:18:21.983325Z",
     "iopub.status.busy": "2023-10-09T08:18:21.983325Z",
     "iopub.status.idle": "2023-10-09T08:18:22.330164Z",
     "shell.execute_reply": "2023-10-09T08:18:22.328158Z",
     "shell.execute_reply.started": "2023-10-09T08:18:21.983325Z"
    }
   },
   "outputs": [
    {
     "data": {
      "image/png": "[encoded data removed]",
      "text/plain": [
       "<Figure size 1000x500 with 1 Axes>"
      ]
     },
     "execution_count": 46,
     "metadata": {},
     "output_type": "execute_result"
    }
   ],
   "source": [
    "obs.pnl_plot(title='测试',benchmark=df, freq='day')"
   ]
  },
  {
   "cell_type": "markdown",
   "id": "47ada9ec",
   "metadata": {},
   "source": [
    "# 添加新市场和新的订单策略"
   ]
  },
  {
   "cell_type": "markdown",
   "id": "61c3b323",
   "metadata": {},
   "source": [
    "1. 在dataframe框架下， 同一个市场类型（SecuType）的市场类和订单策略类要放在一个模块下（参考stock_daily)\n",
    "2. 市场类型和策略订单类型要在constant脚本中的SecuType, OrderType下添加成员"
   ]
  },
  {
   "cell_type": "markdown",
   "id": "054c15ec",
   "metadata": {},
   "source": [
    "## 新增市场要点"
   ]
  },
  {
   "cell_type": "markdown",
   "id": "49df70ed",
   "metadata": {},
   "source": [
    "1. 类变量实现手续费率与证券类型\n",
    "2. 初始化方法：\n",
    "    1. start_data为参数， 确定数据读取的范围，如果有其它参数建议传入默认值\n",
    "    1. 执行后， 实例需要有self.data, self.trigger_events属性\n",
    "3. init方法必须实现，执行后市场状态会改变至t时刻之间\n",
    "4. on_trigger方法必须实现，定义了遇到行情推动事件时市场状态如何改变 \n",
    "5. settlement方法必须实现，输入持仓数据， 返回结算好的持仓数据与盈利值"
   ]
  },
  {
   "cell_type": "markdown",
   "id": "07b88062",
   "metadata": {},
   "source": [
    "## 新增订单策略要点"
   ]
  },
  {
   "cell_type": "markdown",
   "id": "99373852",
   "metadata": {},
   "source": [
    "1. 类变量实现证券类型与订单类型\n",
    "2. 实现send_orders方法\n",
    "    1. 传入参数要包含order_seq参数， 确定订单执行的相对顺序\n",
    "    2. 函数实现后要执行两行代码：\n",
    "        1. self.observer.add_active_orders(order_data)  # 提交订单\n",
    "        2. self.observer.cal_frozen()  # 计算冻结的资金和冻结的持仓\n",
    "    3. 函数内部实现该类订单的生成的过程\n",
    "2. 基于行情推动事件的交易逻辑（如 on_close）：\n",
    "    1. 方法以‘on_’+ EventType.value的形式命名\n",
    "    2. 方法的输入为属于该订单策略处理的订单数据\n",
    "    3. 方法的输出为订单的三个去向\n",
    "        1. 未完成交易并继续执行订单；\n",
    "        2. 未完成交易并取消订单；\n",
    "        3. 完成交易。\n",
    "    4. 市场有几个行情推动事件， 订单策略就必须实现几个对应的方法，如果不准备调用该方法直接pass也可以\n"
   ]
  },
  {
   "cell_type": "markdown",
   "id": "951c1ec3",
   "metadata": {},
   "source": [
    "# 新的订单策略-VWAP"
   ]
  },
  {
   "cell_type": "code",
   "execution_count": 47,
   "id": "d5df7f95",
   "metadata": {
    "ExecuteTime": {
     "end_time": "2023-04-14T03:24:58.677020Z",
     "start_time": "2023-04-14T03:24:58.553002Z"
    },
    "execution": {
     "iopub.execute_input": "2023-10-09T08:18:22.331163Z",
     "iopub.status.busy": "2023-10-09T08:18:22.331163Z",
     "iopub.status.idle": "2023-10-09T08:18:22.409181Z",
     "shell.execute_reply": "2023-10-09T08:18:22.408179Z",
     "shell.execute_reply.started": "2023-10-09T08:18:22.331163Z"
    }
   },
   "outputs": [],
   "source": [
    "class PMVWAP(PMPandas):\n",
    "    \"\"\"基金经理（策略）的具体实现\"\"\"\n",
    "    ratio_limit = 0.001\n",
    "    \n",
    "    def init(self):\n",
    "        # 获取市场数据， 粗略计算距离退市的时间\n",
    "        data = self.get_mkt_data()\n",
    "        data['ndelist'] = data.groupby('code', group_keys=False)['tradeDate'].apply(\n",
    "            lambda x: pd.Series(range(len(x), 0, -1), index=x.index))\n",
    "\n",
    "        # 初始化一个计数的变量\n",
    "        self.open_count = 0\n",
    "\n",
    "    def after_open(self):\n",
    "        if self.open_count % 5 == 0:\n",
    "            data = self.get_mkt_frame()\n",
    "            data = data.sort_values('settlePrice').head(\n",
    "                5).query(\"ndelist > 100\")\n",
    "            data['ratio_relative'] = data['settlePrice']  # 以价格为成交比例\n",
    "            data['code'] = data.index\n",
    "            self.send_orders(\n",
    "                data[['code', 'ratio_relative']],\n",
    "                ratio_to_netasset=0.5,  # 二分之一的现金去交易\n",
    "                vwap_volume_limit_ratio=self.ratio_limit,\n",
    "                order_type='ratio_vwap',\n",
    "                order_seq=1)  # 交易优先级靠后， 保证有足够的资金释放\n",
    "        self.open_count += 1\n",
    "\n",
    "    def after_close(self):\n",
    "        if (self.open_count+1) % 5 == 0:\n",
    "            self.sell_position(self.position,\n",
    "                               order_seq=0)  # 交易优先级靠前， 保证有足够的资金释放\n",
    "\n",
    "    def __str__(self):\n",
    "        return(\"vwap订单测试\")"
   ]
  },
  {
   "cell_type": "code",
   "execution_count": 48,
   "id": "8fa870c7",
   "metadata": {
    "ExecuteTime": {
     "end_time": "2023-04-14T03:25:14.557563Z",
     "start_time": "2023-04-14T03:24:58.679021Z"
    },
    "execution": {
     "iopub.execute_input": "2023-10-09T08:18:22.411182Z",
     "iopub.status.busy": "2023-10-09T08:18:22.410182Z",
     "iopub.status.idle": "2023-10-09T08:18:33.906273Z",
     "shell.execute_reply": "2023-10-09T08:18:33.905262Z",
     "shell.execute_reply.started": "2023-10-09T08:18:22.411182Z"
    }
   },
   "outputs": [
    {
     "data": {
      "text/html": [
       "<div>\n",
       "<style scoped>\n",
       "    .dataframe tbody tr th:only-of-type {\n",
       "        vertical-align: middle;\n",
       "    }\n",
       "\n",
       "    .dataframe tbody tr th {\n",
       "        vertical-align: top;\n",
       "    }\n",
       "\n",
       "    .dataframe thead th {\n",
       "        text-align: right;\n",
       "    }\n",
       "</style>\n",
       "<table border=\"1\" class=\"dataframe\">\n",
       "  <thead>\n",
       "    <tr style=\"text-align: right;\">\n",
       "      <th></th>\n",
       "      <th>tradeID</th>\n",
       "      <th>orderID</th>\n",
       "      <th>secuType</th>\n",
       "      <th>code</th>\n",
       "      <th>transTime</th>\n",
       "      <th>direction</th>\n",
       "      <th>transPrice</th>\n",
       "      <th>transVol</th>\n",
       "      <th>offsetID</th>\n",
       "      <th>transCost</th>\n",
       "    </tr>\n",
       "  </thead>\n",
       "  <tbody>\n",
       "    <tr>\n",
       "      <th>0</th>\n",
       "      <td>0</td>\n",
       "      <td>0</td>\n",
       "      <td>stock_daily</td>\n",
       "      <td>000585.SZ</td>\n",
       "      <td>2021-01-04 15:00:00</td>\n",
       "      <td>long</td>\n",
       "      <td>2.161231</td>\n",
       "      <td>4360.005</td>\n",
       "      <td>-1</td>\n",
       "      <td>4.711489</td>\n",
       "    </tr>\n",
       "    <tr>\n",
       "      <th>1</th>\n",
       "      <td>1</td>\n",
       "      <td>1</td>\n",
       "      <td>stock_daily</td>\n",
       "      <td>000820.SZ</td>\n",
       "      <td>2021-01-04 15:00:00</td>\n",
       "      <td>long</td>\n",
       "      <td>2.367632</td>\n",
       "      <td>14058.737</td>\n",
       "      <td>-1</td>\n",
       "      <td>16.642957</td>\n",
       "    </tr>\n",
       "    <tr>\n",
       "      <th>2</th>\n",
       "      <td>2</td>\n",
       "      <td>2</td>\n",
       "      <td>stock_daily</td>\n",
       "      <td>000980.SZ</td>\n",
       "      <td>2021-01-04 15:00:00</td>\n",
       "      <td>long</td>\n",
       "      <td>2.830359</td>\n",
       "      <td>15491.800</td>\n",
       "      <td>-1</td>\n",
       "      <td>21.923674</td>\n",
       "    </tr>\n",
       "    <tr>\n",
       "      <th>3</th>\n",
       "      <td>3</td>\n",
       "      <td>3</td>\n",
       "      <td>stock_daily</td>\n",
       "      <td>000882.SZ</td>\n",
       "      <td>2021-01-04 15:00:00</td>\n",
       "      <td>long</td>\n",
       "      <td>5.537988</td>\n",
       "      <td>15757.301</td>\n",
       "      <td>-1</td>\n",
       "      <td>43.631873</td>\n",
       "    </tr>\n",
       "    <tr>\n",
       "      <th>4</th>\n",
       "      <td>4</td>\n",
       "      <td>4</td>\n",
       "      <td>stock_daily</td>\n",
       "      <td>000882.SZ</td>\n",
       "      <td>2021-01-08 09:30:00</td>\n",
       "      <td>net</td>\n",
       "      <td>5.389118</td>\n",
       "      <td>-15757.301</td>\n",
       "      <td>3</td>\n",
       "      <td>127.376921</td>\n",
       "    </tr>\n",
       "  </tbody>\n",
       "</table>\n",
       "</div>"
      ],
      "text/plain": [
       "   tradeID  orderID     secuType       code           transTime direction  \\\n",
       "0        0        0  stock_daily  000585.SZ 2021-01-04 15:00:00      long   \n",
       "1        1        1  stock_daily  000820.SZ 2021-01-04 15:00:00      long   \n",
       "2        2        2  stock_daily  000980.SZ 2021-01-04 15:00:00      long   \n",
       "3        3        3  stock_daily  000882.SZ 2021-01-04 15:00:00      long   \n",
       "4        4        4  stock_daily  000882.SZ 2021-01-08 09:30:00       net   \n",
       "\n",
       "   transPrice   transVol  offsetID   transCost  \n",
       "0    2.161231   4360.005        -1    4.711489  \n",
       "1    2.367632  14058.737        -1   16.642957  \n",
       "2    2.830359  15491.800        -1   21.923674  \n",
       "3    5.537988  15757.301        -1   43.631873  \n",
       "4    5.389118 -15757.301         3  127.376921  "
      ]
     },
     "execution_count": 48,
     "metadata": {},
     "output_type": "execute_result"
    }
   ],
   "source": [
    "ts = TradeSession(PMVWAP, start_datetime='2021-01-01', end_datetime='2022-02-01',markets='stock_daily')\n",
    "obs = ts.run()\n",
    "obs.trade_records.head()"
   ]
  },
  {
   "cell_type": "code",
   "execution_count": 49,
   "id": "83dfa56d",
   "metadata": {
    "ExecuteTime": {
     "end_time": "2023-04-14T03:25:28.649903Z",
     "start_time": "2023-04-14T03:25:14.559563Z"
    },
    "execution": {
     "iopub.execute_input": "2023-10-09T08:18:33.908274Z",
     "iopub.status.busy": "2023-10-09T08:18:33.907273Z",
     "iopub.status.idle": "2023-10-09T08:18:44.192154Z",
     "shell.execute_reply": "2023-10-09T08:18:44.191153Z",
     "shell.execute_reply.started": "2023-10-09T08:18:33.908274Z"
    }
   },
   "outputs": [
    {
     "data": {
      "text/html": [
       "<div>\n",
       "<style scoped>\n",
       "    .dataframe tbody tr th:only-of-type {\n",
       "        vertical-align: middle;\n",
       "    }\n",
       "\n",
       "    .dataframe tbody tr th {\n",
       "        vertical-align: top;\n",
       "    }\n",
       "\n",
       "    .dataframe thead th {\n",
       "        text-align: right;\n",
       "    }\n",
       "</style>\n",
       "<table border=\"1\" class=\"dataframe\">\n",
       "  <thead>\n",
       "    <tr style=\"text-align: right;\">\n",
       "      <th></th>\n",
       "      <th>tradeID</th>\n",
       "      <th>orderID</th>\n",
       "      <th>secuType</th>\n",
       "      <th>code</th>\n",
       "      <th>transTime</th>\n",
       "      <th>direction</th>\n",
       "      <th>transPrice</th>\n",
       "      <th>transVol</th>\n",
       "      <th>offsetID</th>\n",
       "      <th>transCost</th>\n",
       "    </tr>\n",
       "  </thead>\n",
       "  <tbody>\n",
       "    <tr>\n",
       "      <th>0</th>\n",
       "      <td>0</td>\n",
       "      <td>0</td>\n",
       "      <td>stock_daily</td>\n",
       "      <td>000585.SZ</td>\n",
       "      <td>2021-01-04 15:00:00</td>\n",
       "      <td>long</td>\n",
       "      <td>2.161231</td>\n",
       "      <td>87200.10</td>\n",
       "      <td>-1</td>\n",
       "      <td>94.229786</td>\n",
       "    </tr>\n",
       "    <tr>\n",
       "      <th>1</th>\n",
       "      <td>1</td>\n",
       "      <td>1</td>\n",
       "      <td>stock_daily</td>\n",
       "      <td>000820.SZ</td>\n",
       "      <td>2021-01-04 15:00:00</td>\n",
       "      <td>long</td>\n",
       "      <td>2.367632</td>\n",
       "      <td>281174.74</td>\n",
       "      <td>-1</td>\n",
       "      <td>332.859145</td>\n",
       "    </tr>\n",
       "    <tr>\n",
       "      <th>2</th>\n",
       "      <td>2</td>\n",
       "      <td>2</td>\n",
       "      <td>stock_daily</td>\n",
       "      <td>000980.SZ</td>\n",
       "      <td>2021-01-04 15:00:00</td>\n",
       "      <td>long</td>\n",
       "      <td>2.830359</td>\n",
       "      <td>309836.00</td>\n",
       "      <td>-1</td>\n",
       "      <td>438.473487</td>\n",
       "    </tr>\n",
       "    <tr>\n",
       "      <th>3</th>\n",
       "      <td>3</td>\n",
       "      <td>3</td>\n",
       "      <td>stock_daily</td>\n",
       "      <td>000882.SZ</td>\n",
       "      <td>2021-01-04 15:00:00</td>\n",
       "      <td>long</td>\n",
       "      <td>5.537988</td>\n",
       "      <td>315146.02</td>\n",
       "      <td>-1</td>\n",
       "      <td>872.637467</td>\n",
       "    </tr>\n",
       "    <tr>\n",
       "      <th>4</th>\n",
       "      <td>4</td>\n",
       "      <td>4</td>\n",
       "      <td>stock_daily</td>\n",
       "      <td>000882.SZ</td>\n",
       "      <td>2021-01-08 09:30:00</td>\n",
       "      <td>net</td>\n",
       "      <td>5.389118</td>\n",
       "      <td>-315146.02</td>\n",
       "      <td>3</td>\n",
       "      <td>2547.538411</td>\n",
       "    </tr>\n",
       "  </tbody>\n",
       "</table>\n",
       "</div>"
      ],
      "text/plain": [
       "   tradeID  orderID     secuType       code           transTime direction  \\\n",
       "0        0        0  stock_daily  000585.SZ 2021-01-04 15:00:00      long   \n",
       "1        1        1  stock_daily  000820.SZ 2021-01-04 15:00:00      long   \n",
       "2        2        2  stock_daily  000980.SZ 2021-01-04 15:00:00      long   \n",
       "3        3        3  stock_daily  000882.SZ 2021-01-04 15:00:00      long   \n",
       "4        4        4  stock_daily  000882.SZ 2021-01-08 09:30:00       net   \n",
       "\n",
       "   transPrice   transVol  offsetID    transCost  \n",
       "0    2.161231   87200.10        -1    94.229786  \n",
       "1    2.367632  281174.74        -1   332.859145  \n",
       "2    2.830359  309836.00        -1   438.473487  \n",
       "3    5.537988  315146.02        -1   872.637467  \n",
       "4    5.389118 -315146.02         3  2547.538411  "
      ]
     },
     "execution_count": 49,
     "metadata": {},
     "output_type": "execute_result"
    }
   ],
   "source": [
    "PMVWAP.ratio_limit = 0.02\n",
    "obs = ts.run()\n",
    "obs.trade_records.head()"
   ]
  },
  {
   "cell_type": "markdown",
   "id": "7d8e421a",
   "metadata": {},
   "source": [
    "# 总结"
   ]
  },
  {
   "cell_type": "markdown",
   "id": "df7b800d",
   "metadata": {},
   "source": [
    "1. 使用方面：极简  \n",
    "    a. 代码复杂度约等于文字描述的复杂度；  \n",
    "    b. 回测实现无冗余操作；  \n",
    "    c. 回测条件的修改简单方便，无复杂依赖；  \n",
    "    d. 工具齐全，下单、分析、检查、数据获取方面均实现了相关方法可以随时调用。  \n",
    "2. 扩展性:极强  \n",
    "    a. 基于事件的回测框架实现了对交易的仿真模拟， 现实回测的任何环节都可以在框架中找映射；  \n",
    "    b. 事件模型结合订单策略几乎可以实现任何颗粒度的回测；  \n",
    "    c. 可支持多市场交易。\n",
    "3. 源码可读性强：  \n",
    "    a. 基于面向对象、面向接口的设计思路，与业务场景结合较强；  \n",
    "    b. 使用多种设计模式， 较少的代码冗余量；  \n",
    "    c. 均使用常见的实现方法。  "
   ]
  }
 ],
 "metadata": {
  "hide_input": false,
  "kernelspec": {
   "display_name": "py39",
   "language": "python",
   "name": "py39"
  },
  "language_info": {
   "codemirror_mode": {
    "name": "ipython",
    "version": 3
   },
   "file_extension": ".py",
   "mimetype": "text/x-python",
   "name": "python",
   "nbconvert_exporter": "python",
   "pygments_lexer": "ipython3",
   "version": "3.9.0"
  },
  "toc": {
   "base_numbering": 1,
   "nav_menu": {},
   "number_sections": true,
   "sideBar": true,
   "skip_h1_title": false,
   "title_cell": "Table of Contents",
   "title_sidebar": "Contents",
   "toc_cell": false,
   "toc_position": {
    "height": "calc(100% - 180px)",
    "left": "10px",
    "top": "150px",
    "width": "257.812px"
   },
   "toc_section_display": true,
   "toc_window_display": true
  },
  "varInspector": {
   "cols": {
    "lenName": 16,
    "lenType": 16,
    "lenVar": 40
   },
   "kernels_config": {
    "python": {
     "delete_cmd_postfix": "",
     "delete_cmd_prefix": "del ",
     "library": "var_list.py",
     "varRefreshCmd": "print(var_dic_list())"
    },
    "r": {
     "delete_cmd_postfix": ") ",
     "delete_cmd_prefix": "rm(",
     "library": "var_list.r",
     "varRefreshCmd": "cat(var_dic_list()) "
    }
   },
   "types_to_exclude": [
    "module",
    "function",
    "builtin_function_or_method",
    "instance",
    "_Feature"
   ],
   "window_display": false
  },
  "widgets": {
   "application/vnd.jupyter.widget-state+json": {
    "state": {},
    "version_major": 2,
    "version_minor": 0
   }
  }
 },
 "nbformat": 4,
 "nbformat_minor": 5
}
