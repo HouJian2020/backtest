{
 "cells": [
  {
   "cell_type": "code",
   "execution_count": 1,
   "id": "1590ea85",
   "metadata": {
    "ExecuteTime": {
     "end_time": "2023-05-18T10:57:04.934896Z",
     "start_time": "2023-05-18T10:57:04.834700Z"
    }
   },
   "outputs": [],
   "source": [
    "%load_ext autoreload\n",
    "%autoreload 2"
   ]
  },
  {
   "cell_type": "code",
   "execution_count": 2,
   "id": "b7da1cec",
   "metadata": {
    "ExecuteTime": {
     "end_time": "2023-05-18T10:57:05.375973Z",
     "start_time": "2023-05-18T10:57:04.937420Z"
    }
   },
   "outputs": [],
   "source": [
    "import pandas as pd \n",
    "df = pd.read_pickle('index300.pkl ')"
   ]
  },
  {
   "cell_type": "markdown",
   "id": "6450995a",
   "metadata": {},
   "source": [
    "# 回测模块导入"
   ]
  },
  {
   "cell_type": "code",
   "execution_count": 3,
   "id": "3dd971a2",
   "metadata": {
    "ExecuteTime": {
     "end_time": "2023-05-18T10:57:06.121556Z",
     "start_time": "2023-05-18T10:57:05.378980Z"
    }
   },
   "outputs": [],
   "source": [
    "from backtest.dataframe import TradeSession, PMPandas\n",
    "from backtest.base_api import event_generator"
   ]
  },
  {
   "cell_type": "markdown",
   "id": "26e63d62",
   "metadata": {},
   "source": [
    "# 一个例子"
   ]
  },
  {
   "cell_type": "markdown",
   "id": "e7de0067",
   "metadata": {},
   "source": [
    "## 极简回测实现"
   ]
  },
  {
   "cell_type": "markdown",
   "id": "576f2522",
   "metadata": {},
   "source": [
    "### 策略逻辑"
   ]
  },
  {
   "cell_type": "markdown",
   "id": "5bed974b",
   "metadata": {},
   "source": [
    "1. 每隔5个交易日，开盘的时候买入5个价格最低的股票（扣除即将退市）  \n",
    "    a. 如果开盘买入不成功则取消订单\n",
    "2. 持有至第4个交易日收盘， 以市价单卖出  \n",
    "    b. 如果收盘没有交易成功，直到交易成功为止  "
   ]
  },
  {
   "cell_type": "code",
   "execution_count": 4,
   "id": "cf90bb4b",
   "metadata": {
    "ExecuteTime": {
     "end_time": "2023-05-18T10:57:06.247913Z",
     "start_time": "2023-05-18T10:57:06.124078Z"
    }
   },
   "outputs": [],
   "source": [
    "class PM1(PMPandas):\n",
    "    \"\"\"基金经理（策略）的具体实现\"\"\"\n",
    "    \n",
    "    def init(self):        \n",
    "        # 获取市场数据， 粗略计算距离退市的时间\n",
    "        data = self.get_mkt_data()\n",
    "        data['ndelist'] = data.groupby('code', group_keys=False)['tradeDate'].apply(\n",
    "            lambda x: pd.Series(range(len(x), 0, -1), index=x.index))\n",
    "#         self.pb = pd.read_csv('xxx')\n",
    "        # 初始化一个计数的变量\n",
    "        self.open_count = 0 \n",
    "        print('-'*10 + '初始化工作完成' + '-'*10)\n",
    "        \n",
    "        \n",
    "    def after_open(self):\n",
    "        if  self.open_count % 5 == 0:   \n",
    "            self.cancel_orders(self.active_orders.query(\"targetVol > 0\"))\n",
    "            data = self.get_mkt_frame()\n",
    "            data = data.sort_values('settlePrice').head(5).query(\"ndelist > 30\")\n",
    "            data['ratio_relative'] = data['settlePrice'] # 以价格为成交比例 \n",
    "            data['code'] = data.index\n",
    "            self.send_orders(\n",
    "                data[['code', 'ratio_relative']].copy(),\n",
    "                ratio_to_netasset=0.5,  # 二分之一的仓位去交易\n",
    "                order_type='ratio_market',\n",
    "                order_seq=1)  # 交易优先级靠后， 保证有足够的资金释放\n",
    "        self.open_count += 1 \n",
    "        \n",
    "    def after_close(self):\n",
    "        if  (self.open_count+1) % 5 == 0:\n",
    "#             self.position_sell = self.position.query(\"code in {}\")\n",
    "            self.sell_position(self.position, \n",
    "                               order_seq=0) # 交易优先级靠前， 保证有足够的资金释放\n",
    "            \n",
    "#     def after_evnt(self):\n",
    "#         pass\n",
    "            \n",
    "    def __str__(self):\n",
    "        return(\"精简版本的策略\")"
   ]
  },
  {
   "cell_type": "markdown",
   "id": "fd01525b",
   "metadata": {},
   "source": [
    "### 策略运行"
   ]
  },
  {
   "cell_type": "code",
   "execution_count": 6,
   "id": "22f781a1",
   "metadata": {
    "ExecuteTime": {
     "end_time": "2023-05-18T10:57:22.183471Z",
     "start_time": "2023-05-18T10:57:15.225176Z"
    }
   },
   "outputs": [
    {
     "name": "stdout",
     "output_type": "stream",
     "text": [
      "----------初始化工作完成----------\n"
     ]
    }
   ],
   "source": [
    "ts = TradeSession(PM1, start_datetime='2021-01-01', end_datetime='2021-03-01', markets='stock_daily')\n",
    "obs = ts.run()"
   ]
  },
  {
   "cell_type": "markdown",
   "id": "562e1a38",
   "metadata": {},
   "source": [
    "## 回测结果"
   ]
  },
  {
   "cell_type": "markdown",
   "id": "d03b5a67",
   "metadata": {},
   "source": [
    "### 结果"
   ]
  },
  {
   "cell_type": "markdown",
   "id": "84afd156",
   "metadata": {},
   "source": [
    "#### 组合现状"
   ]
  },
  {
   "cell_type": "code",
   "execution_count": 7,
   "id": "4dde51af",
   "metadata": {
    "ExecuteTime": {
     "end_time": "2023-05-18T10:57:22.754180Z",
     "start_time": "2023-05-18T10:57:22.614148Z"
    }
   },
   "outputs": [
    {
     "data": {
      "text/html": [
       "<div>\n",
       "<style scoped>\n",
       "    .dataframe tbody tr th:only-of-type {\n",
       "        vertical-align: middle;\n",
       "    }\n",
       "\n",
       "    .dataframe tbody tr th {\n",
       "        vertical-align: top;\n",
       "    }\n",
       "\n",
       "    .dataframe thead th {\n",
       "        text-align: right;\n",
       "    }\n",
       "</style>\n",
       "<table border=\"1\" class=\"dataframe\">\n",
       "  <thead>\n",
       "    <tr style=\"text-align: right;\">\n",
       "      <th></th>\n",
       "      <th>orderID</th>\n",
       "      <th>tradeID</th>\n",
       "      <th>secuType</th>\n",
       "      <th>code</th>\n",
       "      <th>transTime</th>\n",
       "      <th>transPrice</th>\n",
       "      <th>settlePrice</th>\n",
       "      <th>volume</th>\n",
       "      <th>frozenVol</th>\n",
       "    </tr>\n",
       "  </thead>\n",
       "  <tbody>\n",
       "    <tr>\n",
       "      <th>0</th>\n",
       "      <td>58</td>\n",
       "      <td>60</td>\n",
       "      <td>stock_daily</td>\n",
       "      <td>000662.SZ</td>\n",
       "      <td>2021-02-26 09:30:00</td>\n",
       "      <td>2.819443</td>\n",
       "      <td>2.537499</td>\n",
       "      <td>3.090371e+06</td>\n",
       "      <td>-0.0</td>\n",
       "    </tr>\n",
       "    <tr>\n",
       "      <th>1</th>\n",
       "      <td>65</td>\n",
       "      <td>61</td>\n",
       "      <td>stock_daily</td>\n",
       "      <td>000585.SZ</td>\n",
       "      <td>2021-03-01 15:00:00</td>\n",
       "      <td>2.186808</td>\n",
       "      <td>2.186808</td>\n",
       "      <td>3.585720e+06</td>\n",
       "      <td>-0.0</td>\n",
       "    </tr>\n",
       "    <tr>\n",
       "      <th>2</th>\n",
       "      <td>66</td>\n",
       "      <td>62</td>\n",
       "      <td>stock_daily</td>\n",
       "      <td>000820.SZ</td>\n",
       "      <td>2021-03-01 15:00:00</td>\n",
       "      <td>2.771862</td>\n",
       "      <td>2.771862</td>\n",
       "      <td>3.503761e+06</td>\n",
       "      <td>-0.0</td>\n",
       "    </tr>\n",
       "    <tr>\n",
       "      <th>3</th>\n",
       "      <td>67</td>\n",
       "      <td>63</td>\n",
       "      <td>stock_daily</td>\n",
       "      <td>000809.SZ</td>\n",
       "      <td>2021-03-01 15:00:00</td>\n",
       "      <td>5.293855</td>\n",
       "      <td>5.293855</td>\n",
       "      <td>3.465468e+06</td>\n",
       "      <td>-0.0</td>\n",
       "    </tr>\n",
       "    <tr>\n",
       "      <th>4</th>\n",
       "      <td>68</td>\n",
       "      <td>64</td>\n",
       "      <td>stock_daily</td>\n",
       "      <td>000882.SZ</td>\n",
       "      <td>2021-03-01 15:00:00</td>\n",
       "      <td>5.329569</td>\n",
       "      <td>5.329569</td>\n",
       "      <td>3.445039e+06</td>\n",
       "      <td>-0.0</td>\n",
       "    </tr>\n",
       "  </tbody>\n",
       "</table>\n",
       "</div>"
      ],
      "text/plain": [
       "   orderID  tradeID     secuType       code           transTime  transPrice   \n",
       "0       58       60  stock_daily  000662.SZ 2021-02-26 09:30:00    2.819443  \\\n",
       "1       65       61  stock_daily  000585.SZ 2021-03-01 15:00:00    2.186808   \n",
       "2       66       62  stock_daily  000820.SZ 2021-03-01 15:00:00    2.771862   \n",
       "3       67       63  stock_daily  000809.SZ 2021-03-01 15:00:00    5.293855   \n",
       "4       68       64  stock_daily  000882.SZ 2021-03-01 15:00:00    5.329569   \n",
       "\n",
       "   settlePrice        volume  frozenVol  \n",
       "0     2.537499  3.090371e+06       -0.0  \n",
       "1     2.186808  3.585720e+06       -0.0  \n",
       "2     2.771862  3.503761e+06       -0.0  \n",
       "3     5.293855  3.465468e+06       -0.0  \n",
       "4     5.329569  3.445039e+06       -0.0  "
      ]
     },
     "execution_count": 7,
     "metadata": {},
     "output_type": "execute_result"
    }
   ],
   "source": [
    "obs.position"
   ]
  },
  {
   "cell_type": "code",
   "execution_count": 8,
   "id": "70113c6d",
   "metadata": {
    "ExecuteTime": {
     "end_time": "2023-05-18T10:57:23.292744Z",
     "start_time": "2023-05-18T10:57:23.168077Z"
    }
   },
   "outputs": [
    {
     "data": {
      "text/plain": [
       "{'netAsset': 108546093.89819728, 'cash': 46444798.81221024, 'frozenCash': 0}"
      ]
     },
     "execution_count": 8,
     "metadata": {},
     "output_type": "execute_result"
    }
   ],
   "source": [
    "obs.balance"
   ]
  },
  {
   "cell_type": "code",
   "execution_count": 9,
   "id": "0f524039",
   "metadata": {
    "ExecuteTime": {
     "end_time": "2023-05-18T10:57:23.877918Z",
     "start_time": "2023-05-18T10:57:23.737279Z"
    }
   },
   "outputs": [
    {
     "data": {
      "text/html": [
       "<div>\n",
       "<style scoped>\n",
       "    .dataframe tbody tr th:only-of-type {\n",
       "        vertical-align: middle;\n",
       "    }\n",
       "\n",
       "    .dataframe tbody tr th {\n",
       "        vertical-align: top;\n",
       "    }\n",
       "\n",
       "    .dataframe thead th {\n",
       "        text-align: right;\n",
       "    }\n",
       "</style>\n",
       "<table border=\"1\" class=\"dataframe\">\n",
       "  <thead>\n",
       "    <tr style=\"text-align: right;\">\n",
       "      <th></th>\n",
       "      <th>orderID</th>\n",
       "      <th>secuType</th>\n",
       "      <th>code</th>\n",
       "      <th>orderTime</th>\n",
       "      <th>orderType</th>\n",
       "      <th>direction</th>\n",
       "      <th>targetPrice</th>\n",
       "      <th>targetVol</th>\n",
       "      <th>filledVol</th>\n",
       "      <th>offsetID</th>\n",
       "      <th>status</th>\n",
       "      <th>orderSeq</th>\n",
       "    </tr>\n",
       "  </thead>\n",
       "  <tbody>\n",
       "  </tbody>\n",
       "</table>\n",
       "</div>"
      ],
      "text/plain": [
       "Empty DataFrame\n",
       "Columns: [orderID, secuType, code, orderTime, orderType, direction, targetPrice, targetVol, filledVol, offsetID, status, orderSeq]\n",
       "Index: []"
      ]
     },
     "execution_count": 9,
     "metadata": {},
     "output_type": "execute_result"
    }
   ],
   "source": [
    "obs.active_orders"
   ]
  },
  {
   "cell_type": "code",
   "execution_count": 10,
   "id": "8adbf634",
   "metadata": {
    "ExecuteTime": {
     "end_time": "2023-05-18T10:57:24.413137Z",
     "start_time": "2023-05-18T10:57:24.289534Z"
    }
   },
   "outputs": [
    {
     "data": {
      "text/plain": [
       "{}"
      ]
     },
     "execution_count": 10,
     "metadata": {},
     "output_type": "execute_result"
    }
   ],
   "source": [
    "obs.active_order_params"
   ]
  },
  {
   "cell_type": "markdown",
   "id": "86f815ed",
   "metadata": {},
   "source": [
    "#### 交易记录"
   ]
  },
  {
   "cell_type": "code",
   "execution_count": 11,
   "id": "0cfdc8f2",
   "metadata": {
    "ExecuteTime": {
     "end_time": "2023-05-18T10:57:24.938371Z",
     "start_time": "2023-05-18T10:57:24.813611Z"
    },
    "scrolled": false
   },
   "outputs": [
    {
     "data": {
      "text/html": [
       "<div>\n",
       "<style scoped>\n",
       "    .dataframe tbody tr th:only-of-type {\n",
       "        vertical-align: middle;\n",
       "    }\n",
       "\n",
       "    .dataframe tbody tr th {\n",
       "        vertical-align: top;\n",
       "    }\n",
       "\n",
       "    .dataframe thead th {\n",
       "        text-align: right;\n",
       "    }\n",
       "</style>\n",
       "<table border=\"1\" class=\"dataframe\">\n",
       "  <thead>\n",
       "    <tr style=\"text-align: right;\">\n",
       "      <th></th>\n",
       "      <th>tradeID</th>\n",
       "      <th>orderID</th>\n",
       "      <th>secuType</th>\n",
       "      <th>code</th>\n",
       "      <th>transTime</th>\n",
       "      <th>direction</th>\n",
       "      <th>transPrice</th>\n",
       "      <th>transVol</th>\n",
       "      <th>offsetID</th>\n",
       "      <th>transCost</th>\n",
       "    </tr>\n",
       "  </thead>\n",
       "  <tbody>\n",
       "    <tr>\n",
       "      <th>60</th>\n",
       "      <td>60</td>\n",
       "      <td>58</td>\n",
       "      <td>stock_daily</td>\n",
       "      <td>000662.SZ</td>\n",
       "      <td>2021-02-26 09:30:00</td>\n",
       "      <td>long</td>\n",
       "      <td>2.819443</td>\n",
       "      <td>3.090371e+06</td>\n",
       "      <td>-1</td>\n",
       "      <td>4356.562782</td>\n",
       "    </tr>\n",
       "    <tr>\n",
       "      <th>61</th>\n",
       "      <td>61</td>\n",
       "      <td>65</td>\n",
       "      <td>stock_daily</td>\n",
       "      <td>000585.SZ</td>\n",
       "      <td>2021-03-01 15:00:00</td>\n",
       "      <td>long</td>\n",
       "      <td>2.186808</td>\n",
       "      <td>3.585720e+06</td>\n",
       "      <td>-1</td>\n",
       "      <td>3920.640577</td>\n",
       "    </tr>\n",
       "    <tr>\n",
       "      <th>62</th>\n",
       "      <td>62</td>\n",
       "      <td>66</td>\n",
       "      <td>stock_daily</td>\n",
       "      <td>000820.SZ</td>\n",
       "      <td>2021-03-01 15:00:00</td>\n",
       "      <td>long</td>\n",
       "      <td>2.771862</td>\n",
       "      <td>3.503761e+06</td>\n",
       "      <td>-1</td>\n",
       "      <td>4855.970447</td>\n",
       "    </tr>\n",
       "    <tr>\n",
       "      <th>63</th>\n",
       "      <td>63</td>\n",
       "      <td>67</td>\n",
       "      <td>stock_daily</td>\n",
       "      <td>000809.SZ</td>\n",
       "      <td>2021-03-01 15:00:00</td>\n",
       "      <td>long</td>\n",
       "      <td>5.293855</td>\n",
       "      <td>3.465468e+06</td>\n",
       "      <td>-1</td>\n",
       "      <td>9172.843917</td>\n",
       "    </tr>\n",
       "    <tr>\n",
       "      <th>64</th>\n",
       "      <td>64</td>\n",
       "      <td>68</td>\n",
       "      <td>stock_daily</td>\n",
       "      <td>000882.SZ</td>\n",
       "      <td>2021-03-01 15:00:00</td>\n",
       "      <td>long</td>\n",
       "      <td>5.329569</td>\n",
       "      <td>3.445039e+06</td>\n",
       "      <td>-1</td>\n",
       "      <td>9180.286098</td>\n",
       "    </tr>\n",
       "  </tbody>\n",
       "</table>\n",
       "</div>"
      ],
      "text/plain": [
       "    tradeID  orderID     secuType       code           transTime direction   \n",
       "60       60       58  stock_daily  000662.SZ 2021-02-26 09:30:00      long  \\\n",
       "61       61       65  stock_daily  000585.SZ 2021-03-01 15:00:00      long   \n",
       "62       62       66  stock_daily  000820.SZ 2021-03-01 15:00:00      long   \n",
       "63       63       67  stock_daily  000809.SZ 2021-03-01 15:00:00      long   \n",
       "64       64       68  stock_daily  000882.SZ 2021-03-01 15:00:00      long   \n",
       "\n",
       "    transPrice      transVol  offsetID    transCost  \n",
       "60    2.819443  3.090371e+06        -1  4356.562782  \n",
       "61    2.186808  3.585720e+06        -1  3920.640577  \n",
       "62    2.771862  3.503761e+06        -1  4855.970447  \n",
       "63    5.293855  3.465468e+06        -1  9172.843917  \n",
       "64    5.329569  3.445039e+06        -1  9180.286098  "
      ]
     },
     "execution_count": 11,
     "metadata": {},
     "output_type": "execute_result"
    }
   ],
   "source": [
    "obs.trade_records.tail()"
   ]
  },
  {
   "cell_type": "markdown",
   "id": "2f230c02",
   "metadata": {},
   "source": [
    "#### balance记录"
   ]
  },
  {
   "cell_type": "code",
   "execution_count": 12,
   "id": "b8dc7421",
   "metadata": {
    "ExecuteTime": {
     "end_time": "2023-05-18T10:57:25.440992Z",
     "start_time": "2023-05-18T10:57:25.317366Z"
    }
   },
   "outputs": [
    {
     "data": {
      "text/html": [
       "<div>\n",
       "<style scoped>\n",
       "    .dataframe tbody tr th:only-of-type {\n",
       "        vertical-align: middle;\n",
       "    }\n",
       "\n",
       "    .dataframe tbody tr th {\n",
       "        vertical-align: top;\n",
       "    }\n",
       "\n",
       "    .dataframe thead th {\n",
       "        text-align: right;\n",
       "    }\n",
       "</style>\n",
       "<table border=\"1\" class=\"dataframe\">\n",
       "  <thead>\n",
       "    <tr style=\"text-align: right;\">\n",
       "      <th></th>\n",
       "      <th>recordTime</th>\n",
       "      <th>netAsset</th>\n",
       "      <th>cash</th>\n",
       "      <th>frozenCash</th>\n",
       "      <th>date</th>\n",
       "    </tr>\n",
       "  </thead>\n",
       "  <tbody>\n",
       "    <tr>\n",
       "      <th>31</th>\n",
       "      <td>2021-02-23 20:00:00</td>\n",
       "      <td>1.073770e+08</td>\n",
       "      <td>5.325937e+07</td>\n",
       "      <td>9.584438e+06</td>\n",
       "      <td>2021-02-23</td>\n",
       "    </tr>\n",
       "    <tr>\n",
       "      <th>32</th>\n",
       "      <td>2021-02-24 20:00:00</td>\n",
       "      <td>1.079282e+08</td>\n",
       "      <td>5.325937e+07</td>\n",
       "      <td>9.584438e+06</td>\n",
       "      <td>2021-02-24</td>\n",
       "    </tr>\n",
       "    <tr>\n",
       "      <th>33</th>\n",
       "      <td>2021-02-25 20:00:00</td>\n",
       "      <td>1.095299e+08</td>\n",
       "      <td>5.325937e+07</td>\n",
       "      <td>9.584438e+06</td>\n",
       "      <td>2021-02-25</td>\n",
       "    </tr>\n",
       "    <tr>\n",
       "      <th>34</th>\n",
       "      <td>2021-02-26 20:00:00</td>\n",
       "      <td>1.094445e+08</td>\n",
       "      <td>1.007314e+08</td>\n",
       "      <td>0.000000e+00</td>\n",
       "      <td>2021-02-26</td>\n",
       "    </tr>\n",
       "    <tr>\n",
       "      <th>35</th>\n",
       "      <td>2021-03-01 20:00:00</td>\n",
       "      <td>1.085461e+08</td>\n",
       "      <td>4.644480e+07</td>\n",
       "      <td>0.000000e+00</td>\n",
       "      <td>2021-03-01</td>\n",
       "    </tr>\n",
       "  </tbody>\n",
       "</table>\n",
       "</div>"
      ],
      "text/plain": [
       "            recordTime      netAsset          cash    frozenCash        date\n",
       "31 2021-02-23 20:00:00  1.073770e+08  5.325937e+07  9.584438e+06  2021-02-23\n",
       "32 2021-02-24 20:00:00  1.079282e+08  5.325937e+07  9.584438e+06  2021-02-24\n",
       "33 2021-02-25 20:00:00  1.095299e+08  5.325937e+07  9.584438e+06  2021-02-25\n",
       "34 2021-02-26 20:00:00  1.094445e+08  1.007314e+08  0.000000e+00  2021-02-26\n",
       "35 2021-03-01 20:00:00  1.085461e+08  4.644480e+07  0.000000e+00  2021-03-01"
      ]
     },
     "execution_count": 12,
     "metadata": {},
     "output_type": "execute_result"
    }
   ],
   "source": [
    "obs.balance_records.tail()"
   ]
  },
  {
   "cell_type": "markdown",
   "id": "d9c0c362",
   "metadata": {},
   "source": [
    "#### 持仓记录"
   ]
  },
  {
   "cell_type": "code",
   "execution_count": 13,
   "id": "fdbebf9d",
   "metadata": {
    "ExecuteTime": {
     "end_time": "2023-05-18T10:57:25.964297Z",
     "start_time": "2023-05-18T10:57:25.822854Z"
    }
   },
   "outputs": [
    {
     "data": {
      "text/html": [
       "<div>\n",
       "<style scoped>\n",
       "    .dataframe tbody tr th:only-of-type {\n",
       "        vertical-align: middle;\n",
       "    }\n",
       "\n",
       "    .dataframe tbody tr th {\n",
       "        vertical-align: top;\n",
       "    }\n",
       "\n",
       "    .dataframe thead th {\n",
       "        text-align: right;\n",
       "    }\n",
       "</style>\n",
       "<table border=\"1\" class=\"dataframe\">\n",
       "  <thead>\n",
       "    <tr style=\"text-align: right;\">\n",
       "      <th></th>\n",
       "      <th>recordTime</th>\n",
       "      <th>orderID</th>\n",
       "      <th>tradeID</th>\n",
       "      <th>secuType</th>\n",
       "      <th>code</th>\n",
       "      <th>transTime</th>\n",
       "      <th>transPrice</th>\n",
       "      <th>settlePrice</th>\n",
       "      <th>volume</th>\n",
       "      <th>frozenVol</th>\n",
       "      <th>date</th>\n",
       "      <th>mktv</th>\n",
       "    </tr>\n",
       "  </thead>\n",
       "  <tbody>\n",
       "    <tr>\n",
       "      <th>0</th>\n",
       "      <td>2021-01-04 20:00:00</td>\n",
       "      <td>0</td>\n",
       "      <td>0</td>\n",
       "      <td>stock_daily</td>\n",
       "      <td>000585.SZ</td>\n",
       "      <td>2021-01-04 15:00:00</td>\n",
       "      <td>2.161231</td>\n",
       "      <td>2.161231</td>\n",
       "      <td>2.885761e+06</td>\n",
       "      <td>-0.0</td>\n",
       "      <td>2021-01-04</td>\n",
       "      <td>6.236797e+06</td>\n",
       "    </tr>\n",
       "    <tr>\n",
       "      <th>1</th>\n",
       "      <td>2021-01-04 20:00:00</td>\n",
       "      <td>1</td>\n",
       "      <td>1</td>\n",
       "      <td>stock_daily</td>\n",
       "      <td>000820.SZ</td>\n",
       "      <td>2021-01-04 15:00:00</td>\n",
       "      <td>2.367632</td>\n",
       "      <td>2.367632</td>\n",
       "      <td>2.777867e+06</td>\n",
       "      <td>-0.0</td>\n",
       "      <td>2021-01-04</td>\n",
       "      <td>6.576966e+06</td>\n",
       "    </tr>\n",
       "    <tr>\n",
       "      <th>2</th>\n",
       "      <td>2021-01-04 20:00:00</td>\n",
       "      <td>2</td>\n",
       "      <td>2</td>\n",
       "      <td>stock_daily</td>\n",
       "      <td>000980.SZ</td>\n",
       "      <td>2021-01-04 15:00:00</td>\n",
       "      <td>2.830359</td>\n",
       "      <td>2.830359</td>\n",
       "      <td>2.877375e+06</td>\n",
       "      <td>-0.0</td>\n",
       "      <td>2021-01-04</td>\n",
       "      <td>8.144004e+06</td>\n",
       "    </tr>\n",
       "    <tr>\n",
       "      <th>3</th>\n",
       "      <td>2021-01-04 20:00:00</td>\n",
       "      <td>3</td>\n",
       "      <td>3</td>\n",
       "      <td>stock_daily</td>\n",
       "      <td>000662.SZ</td>\n",
       "      <td>2021-01-04 15:00:00</td>\n",
       "      <td>4.454720</td>\n",
       "      <td>4.454720</td>\n",
       "      <td>2.883355e+06</td>\n",
       "      <td>-0.0</td>\n",
       "      <td>2021-01-04</td>\n",
       "      <td>1.284454e+07</td>\n",
       "    </tr>\n",
       "    <tr>\n",
       "      <th>4</th>\n",
       "      <td>2021-01-04 20:00:00</td>\n",
       "      <td>4</td>\n",
       "      <td>4</td>\n",
       "      <td>stock_daily</td>\n",
       "      <td>000882.SZ</td>\n",
       "      <td>2021-01-04 15:00:00</td>\n",
       "      <td>5.537988</td>\n",
       "      <td>5.537988</td>\n",
       "      <td>2.920321e+06</td>\n",
       "      <td>-0.0</td>\n",
       "      <td>2021-01-04</td>\n",
       "      <td>1.617271e+07</td>\n",
       "    </tr>\n",
       "    <tr>\n",
       "      <th>...</th>\n",
       "      <td>...</td>\n",
       "      <td>...</td>\n",
       "      <td>...</td>\n",
       "      <td>...</td>\n",
       "      <td>...</td>\n",
       "      <td>...</td>\n",
       "      <td>...</td>\n",
       "      <td>...</td>\n",
       "      <td>...</td>\n",
       "      <td>...</td>\n",
       "      <td>...</td>\n",
       "      <td>...</td>\n",
       "    </tr>\n",
       "    <tr>\n",
       "      <th>146</th>\n",
       "      <td>2021-03-01 20:00:00</td>\n",
       "      <td>58</td>\n",
       "      <td>60</td>\n",
       "      <td>stock_daily</td>\n",
       "      <td>000662.SZ</td>\n",
       "      <td>2021-02-26 09:30:00</td>\n",
       "      <td>2.819443</td>\n",
       "      <td>2.537499</td>\n",
       "      <td>3.090371e+06</td>\n",
       "      <td>-0.0</td>\n",
       "      <td>2021-03-01</td>\n",
       "      <td>7.841813e+06</td>\n",
       "    </tr>\n",
       "    <tr>\n",
       "      <th>147</th>\n",
       "      <td>2021-03-01 20:00:00</td>\n",
       "      <td>65</td>\n",
       "      <td>61</td>\n",
       "      <td>stock_daily</td>\n",
       "      <td>000585.SZ</td>\n",
       "      <td>2021-03-01 15:00:00</td>\n",
       "      <td>2.186808</td>\n",
       "      <td>2.186808</td>\n",
       "      <td>3.585720e+06</td>\n",
       "      <td>-0.0</td>\n",
       "      <td>2021-03-01</td>\n",
       "      <td>7.841281e+06</td>\n",
       "    </tr>\n",
       "    <tr>\n",
       "      <th>148</th>\n",
       "      <td>2021-03-01 20:00:00</td>\n",
       "      <td>66</td>\n",
       "      <td>62</td>\n",
       "      <td>stock_daily</td>\n",
       "      <td>000820.SZ</td>\n",
       "      <td>2021-03-01 15:00:00</td>\n",
       "      <td>2.771862</td>\n",
       "      <td>2.771862</td>\n",
       "      <td>3.503761e+06</td>\n",
       "      <td>-0.0</td>\n",
       "      <td>2021-03-01</td>\n",
       "      <td>9.711941e+06</td>\n",
       "    </tr>\n",
       "    <tr>\n",
       "      <th>149</th>\n",
       "      <td>2021-03-01 20:00:00</td>\n",
       "      <td>67</td>\n",
       "      <td>63</td>\n",
       "      <td>stock_daily</td>\n",
       "      <td>000809.SZ</td>\n",
       "      <td>2021-03-01 15:00:00</td>\n",
       "      <td>5.293855</td>\n",
       "      <td>5.293855</td>\n",
       "      <td>3.465468e+06</td>\n",
       "      <td>-0.0</td>\n",
       "      <td>2021-03-01</td>\n",
       "      <td>1.834569e+07</td>\n",
       "    </tr>\n",
       "    <tr>\n",
       "      <th>150</th>\n",
       "      <td>2021-03-01 20:00:00</td>\n",
       "      <td>68</td>\n",
       "      <td>64</td>\n",
       "      <td>stock_daily</td>\n",
       "      <td>000882.SZ</td>\n",
       "      <td>2021-03-01 15:00:00</td>\n",
       "      <td>5.329569</td>\n",
       "      <td>5.329569</td>\n",
       "      <td>3.445039e+06</td>\n",
       "      <td>-0.0</td>\n",
       "      <td>2021-03-01</td>\n",
       "      <td>1.836057e+07</td>\n",
       "    </tr>\n",
       "  </tbody>\n",
       "</table>\n",
       "<p>151 rows × 12 columns</p>\n",
       "</div>"
      ],
      "text/plain": [
       "             recordTime  orderID  tradeID     secuType       code   \n",
       "0   2021-01-04 20:00:00        0        0  stock_daily  000585.SZ  \\\n",
       "1   2021-01-04 20:00:00        1        1  stock_daily  000820.SZ   \n",
       "2   2021-01-04 20:00:00        2        2  stock_daily  000980.SZ   \n",
       "3   2021-01-04 20:00:00        3        3  stock_daily  000662.SZ   \n",
       "4   2021-01-04 20:00:00        4        4  stock_daily  000882.SZ   \n",
       "..                  ...      ...      ...          ...        ...   \n",
       "146 2021-03-01 20:00:00       58       60  stock_daily  000662.SZ   \n",
       "147 2021-03-01 20:00:00       65       61  stock_daily  000585.SZ   \n",
       "148 2021-03-01 20:00:00       66       62  stock_daily  000820.SZ   \n",
       "149 2021-03-01 20:00:00       67       63  stock_daily  000809.SZ   \n",
       "150 2021-03-01 20:00:00       68       64  stock_daily  000882.SZ   \n",
       "\n",
       "              transTime  transPrice  settlePrice        volume  frozenVol   \n",
       "0   2021-01-04 15:00:00    2.161231     2.161231  2.885761e+06       -0.0  \\\n",
       "1   2021-01-04 15:00:00    2.367632     2.367632  2.777867e+06       -0.0   \n",
       "2   2021-01-04 15:00:00    2.830359     2.830359  2.877375e+06       -0.0   \n",
       "3   2021-01-04 15:00:00    4.454720     4.454720  2.883355e+06       -0.0   \n",
       "4   2021-01-04 15:00:00    5.537988     5.537988  2.920321e+06       -0.0   \n",
       "..                  ...         ...          ...           ...        ...   \n",
       "146 2021-02-26 09:30:00    2.819443     2.537499  3.090371e+06       -0.0   \n",
       "147 2021-03-01 15:00:00    2.186808     2.186808  3.585720e+06       -0.0   \n",
       "148 2021-03-01 15:00:00    2.771862     2.771862  3.503761e+06       -0.0   \n",
       "149 2021-03-01 15:00:00    5.293855     5.293855  3.465468e+06       -0.0   \n",
       "150 2021-03-01 15:00:00    5.329569     5.329569  3.445039e+06       -0.0   \n",
       "\n",
       "           date          mktv  \n",
       "0    2021-01-04  6.236797e+06  \n",
       "1    2021-01-04  6.576966e+06  \n",
       "2    2021-01-04  8.144004e+06  \n",
       "3    2021-01-04  1.284454e+07  \n",
       "4    2021-01-04  1.617271e+07  \n",
       "..          ...           ...  \n",
       "146  2021-03-01  7.841813e+06  \n",
       "147  2021-03-01  7.841281e+06  \n",
       "148  2021-03-01  9.711941e+06  \n",
       "149  2021-03-01  1.834569e+07  \n",
       "150  2021-03-01  1.836057e+07  \n",
       "\n",
       "[151 rows x 12 columns]"
      ]
     },
     "execution_count": 13,
     "metadata": {},
     "output_type": "execute_result"
    }
   ],
   "source": [
    "obs.position_records"
   ]
  },
  {
   "cell_type": "markdown",
   "id": "0e161b3c",
   "metadata": {},
   "source": [
    "### 检查"
   ]
  },
  {
   "cell_type": "markdown",
   "id": "af886db8",
   "metadata": {},
   "source": [
    "持仓资产+现金等于基金净值"
   ]
  },
  {
   "cell_type": "code",
   "execution_count": 14,
   "id": "0344b01c",
   "metadata": {
    "ExecuteTime": {
     "end_time": "2023-05-18T10:57:30.534765Z",
     "start_time": "2023-05-18T10:57:30.399971Z"
    },
    "scrolled": true
   },
   "outputs": [
    {
     "data": {
      "text/html": [
       "<div>\n",
       "<style scoped>\n",
       "    .dataframe tbody tr th:only-of-type {\n",
       "        vertical-align: middle;\n",
       "    }\n",
       "\n",
       "    .dataframe tbody tr th {\n",
       "        vertical-align: top;\n",
       "    }\n",
       "\n",
       "    .dataframe thead th {\n",
       "        text-align: right;\n",
       "    }\n",
       "</style>\n",
       "<table border=\"1\" class=\"dataframe\">\n",
       "  <thead>\n",
       "    <tr style=\"text-align: right;\">\n",
       "      <th></th>\n",
       "      <th>netAsset</th>\n",
       "      <th>cash</th>\n",
       "      <th>position_asset</th>\n",
       "      <th>netAsset_cal</th>\n",
       "    </tr>\n",
       "    <tr>\n",
       "      <th>recordTime</th>\n",
       "      <th></th>\n",
       "      <th></th>\n",
       "      <th></th>\n",
       "      <th></th>\n",
       "    </tr>\n",
       "  </thead>\n",
       "  <tbody>\n",
       "    <tr>\n",
       "      <th>2021-01-04 20:00:00</th>\n",
       "      <td>9.997501e+07</td>\n",
       "      <td>5.000000e+07</td>\n",
       "      <td>4.997501e+07</td>\n",
       "      <td>9.997501e+07</td>\n",
       "    </tr>\n",
       "    <tr>\n",
       "      <th>2021-01-05 20:00:00</th>\n",
       "      <td>9.903659e+07</td>\n",
       "      <td>5.000000e+07</td>\n",
       "      <td>4.903659e+07</td>\n",
       "      <td>9.903659e+07</td>\n",
       "    </tr>\n",
       "    <tr>\n",
       "      <th>2021-01-06 20:00:00</th>\n",
       "      <td>9.783459e+07</td>\n",
       "      <td>5.000000e+07</td>\n",
       "      <td>4.783459e+07</td>\n",
       "      <td>9.783459e+07</td>\n",
       "    </tr>\n",
       "    <tr>\n",
       "      <th>2021-01-07 20:00:00</th>\n",
       "      <td>9.638446e+07</td>\n",
       "      <td>5.000000e+07</td>\n",
       "      <td>4.638446e+07</td>\n",
       "      <td>9.638446e+07</td>\n",
       "    </tr>\n",
       "    <tr>\n",
       "      <th>2021-01-08 20:00:00</th>\n",
       "      <td>9.564847e+07</td>\n",
       "      <td>9.564847e+07</td>\n",
       "      <td>NaN</td>\n",
       "      <td>9.564847e+07</td>\n",
       "    </tr>\n",
       "    <tr>\n",
       "      <th>2021-01-11 20:00:00</th>\n",
       "      <td>9.562457e+07</td>\n",
       "      <td>4.782424e+07</td>\n",
       "      <td>4.780034e+07</td>\n",
       "      <td>9.562457e+07</td>\n",
       "    </tr>\n",
       "    <tr>\n",
       "      <th>2021-01-12 20:00:00</th>\n",
       "      <td>9.518475e+07</td>\n",
       "      <td>4.782424e+07</td>\n",
       "      <td>4.736052e+07</td>\n",
       "      <td>9.518475e+07</td>\n",
       "    </tr>\n",
       "    <tr>\n",
       "      <th>2021-01-13 20:00:00</th>\n",
       "      <td>9.490429e+07</td>\n",
       "      <td>4.782424e+07</td>\n",
       "      <td>4.708005e+07</td>\n",
       "      <td>9.490429e+07</td>\n",
       "    </tr>\n",
       "    <tr>\n",
       "      <th>2021-01-14 20:00:00</th>\n",
       "      <td>9.588625e+07</td>\n",
       "      <td>4.782424e+07</td>\n",
       "      <td>4.806201e+07</td>\n",
       "      <td>9.588625e+07</td>\n",
       "    </tr>\n",
       "    <tr>\n",
       "      <th>2021-01-15 20:00:00</th>\n",
       "      <td>9.603676e+07</td>\n",
       "      <td>8.644313e+07</td>\n",
       "      <td>9.593623e+06</td>\n",
       "      <td>9.603676e+07</td>\n",
       "    </tr>\n",
       "    <tr>\n",
       "      <th>2021-01-18 20:00:00</th>\n",
       "      <td>9.601755e+07</td>\n",
       "      <td>4.801715e+07</td>\n",
       "      <td>4.800041e+07</td>\n",
       "      <td>9.601755e+07</td>\n",
       "    </tr>\n",
       "    <tr>\n",
       "      <th>2021-01-19 20:00:00</th>\n",
       "      <td>9.778364e+07</td>\n",
       "      <td>4.801715e+07</td>\n",
       "      <td>4.976650e+07</td>\n",
       "      <td>9.778364e+07</td>\n",
       "    </tr>\n",
       "    <tr>\n",
       "      <th>2021-01-20 20:00:00</th>\n",
       "      <td>9.928268e+07</td>\n",
       "      <td>4.801715e+07</td>\n",
       "      <td>5.126553e+07</td>\n",
       "      <td>9.928268e+07</td>\n",
       "    </tr>\n",
       "    <tr>\n",
       "      <th>2021-01-21 20:00:00</th>\n",
       "      <td>1.006255e+08</td>\n",
       "      <td>4.801715e+07</td>\n",
       "      <td>5.260838e+07</td>\n",
       "      <td>1.006255e+08</td>\n",
       "    </tr>\n",
       "    <tr>\n",
       "      <th>2021-01-22 20:00:00</th>\n",
       "      <td>9.856347e+07</td>\n",
       "      <td>8.896985e+07</td>\n",
       "      <td>9.593623e+06</td>\n",
       "      <td>9.856347e+07</td>\n",
       "    </tr>\n",
       "    <tr>\n",
       "      <th>2021-01-25 20:00:00</th>\n",
       "      <td>9.854367e+07</td>\n",
       "      <td>4.934845e+07</td>\n",
       "      <td>4.919522e+07</td>\n",
       "      <td>9.854367e+07</td>\n",
       "    </tr>\n",
       "    <tr>\n",
       "      <th>2021-01-26 20:00:00</th>\n",
       "      <td>9.912141e+07</td>\n",
       "      <td>4.934845e+07</td>\n",
       "      <td>4.977296e+07</td>\n",
       "      <td>9.912141e+07</td>\n",
       "    </tr>\n",
       "    <tr>\n",
       "      <th>2021-01-27 20:00:00</th>\n",
       "      <td>1.000335e+08</td>\n",
       "      <td>4.934845e+07</td>\n",
       "      <td>5.068509e+07</td>\n",
       "      <td>1.000335e+08</td>\n",
       "    </tr>\n",
       "    <tr>\n",
       "      <th>2021-01-28 20:00:00</th>\n",
       "      <td>1.007791e+08</td>\n",
       "      <td>4.934845e+07</td>\n",
       "      <td>5.143067e+07</td>\n",
       "      <td>1.007791e+08</td>\n",
       "    </tr>\n",
       "    <tr>\n",
       "      <th>2021-01-29 20:00:00</th>\n",
       "      <td>1.025114e+08</td>\n",
       "      <td>9.291775e+07</td>\n",
       "      <td>9.593623e+06</td>\n",
       "      <td>1.025114e+08</td>\n",
       "    </tr>\n",
       "    <tr>\n",
       "      <th>2021-02-01 20:00:00</th>\n",
       "      <td>1.024908e+08</td>\n",
       "      <td>5.172812e+07</td>\n",
       "      <td>5.076267e+07</td>\n",
       "      <td>1.024908e+08</td>\n",
       "    </tr>\n",
       "    <tr>\n",
       "      <th>2021-02-02 20:00:00</th>\n",
       "      <td>1.043816e+08</td>\n",
       "      <td>5.172812e+07</td>\n",
       "      <td>5.265344e+07</td>\n",
       "      <td>1.043816e+08</td>\n",
       "    </tr>\n",
       "    <tr>\n",
       "      <th>2021-02-03 20:00:00</th>\n",
       "      <td>1.054181e+08</td>\n",
       "      <td>5.172812e+07</td>\n",
       "      <td>5.369000e+07</td>\n",
       "      <td>1.054181e+08</td>\n",
       "    </tr>\n",
       "    <tr>\n",
       "      <th>2021-02-04 20:00:00</th>\n",
       "      <td>1.043251e+08</td>\n",
       "      <td>5.172812e+07</td>\n",
       "      <td>5.259694e+07</td>\n",
       "      <td>1.043251e+08</td>\n",
       "    </tr>\n",
       "    <tr>\n",
       "      <th>2021-02-05 20:00:00</th>\n",
       "      <td>1.035563e+08</td>\n",
       "      <td>9.396271e+07</td>\n",
       "      <td>9.593623e+06</td>\n",
       "      <td>1.035563e+08</td>\n",
       "    </tr>\n",
       "    <tr>\n",
       "      <th>2021-02-08 20:00:00</th>\n",
       "      <td>1.035355e+08</td>\n",
       "      <td>5.220292e+07</td>\n",
       "      <td>5.133255e+07</td>\n",
       "      <td>1.035355e+08</td>\n",
       "    </tr>\n",
       "    <tr>\n",
       "      <th>2021-02-09 20:00:00</th>\n",
       "      <td>1.037355e+08</td>\n",
       "      <td>5.220292e+07</td>\n",
       "      <td>5.153261e+07</td>\n",
       "      <td>1.037355e+08</td>\n",
       "    </tr>\n",
       "    <tr>\n",
       "      <th>2021-02-10 20:00:00</th>\n",
       "      <td>1.045816e+08</td>\n",
       "      <td>5.220292e+07</td>\n",
       "      <td>5.237863e+07</td>\n",
       "      <td>1.045816e+08</td>\n",
       "    </tr>\n",
       "    <tr>\n",
       "      <th>2021-02-18 20:00:00</th>\n",
       "      <td>1.059779e+08</td>\n",
       "      <td>5.220292e+07</td>\n",
       "      <td>5.377498e+07</td>\n",
       "      <td>1.059779e+08</td>\n",
       "    </tr>\n",
       "    <tr>\n",
       "      <th>2021-02-19 20:00:00</th>\n",
       "      <td>1.065275e+08</td>\n",
       "      <td>9.693391e+07</td>\n",
       "      <td>9.593623e+06</td>\n",
       "      <td>1.065275e+08</td>\n",
       "    </tr>\n",
       "    <tr>\n",
       "      <th>2021-02-22 20:00:00</th>\n",
       "      <td>1.065057e+08</td>\n",
       "      <td>5.325937e+07</td>\n",
       "      <td>5.324633e+07</td>\n",
       "      <td>1.065057e+08</td>\n",
       "    </tr>\n",
       "    <tr>\n",
       "      <th>2021-02-23 20:00:00</th>\n",
       "      <td>1.073770e+08</td>\n",
       "      <td>5.325937e+07</td>\n",
       "      <td>5.411759e+07</td>\n",
       "      <td>1.073770e+08</td>\n",
       "    </tr>\n",
       "    <tr>\n",
       "      <th>2021-02-24 20:00:00</th>\n",
       "      <td>1.079282e+08</td>\n",
       "      <td>5.325937e+07</td>\n",
       "      <td>5.466882e+07</td>\n",
       "      <td>1.079282e+08</td>\n",
       "    </tr>\n",
       "    <tr>\n",
       "      <th>2021-02-25 20:00:00</th>\n",
       "      <td>1.095299e+08</td>\n",
       "      <td>5.325937e+07</td>\n",
       "      <td>5.627053e+07</td>\n",
       "      <td>1.095299e+08</td>\n",
       "    </tr>\n",
       "    <tr>\n",
       "      <th>2021-02-26 20:00:00</th>\n",
       "      <td>1.094445e+08</td>\n",
       "      <td>1.007314e+08</td>\n",
       "      <td>8.713126e+06</td>\n",
       "      <td>1.094445e+08</td>\n",
       "    </tr>\n",
       "    <tr>\n",
       "      <th>2021-03-01 20:00:00</th>\n",
       "      <td>1.085461e+08</td>\n",
       "      <td>4.644480e+07</td>\n",
       "      <td>6.210130e+07</td>\n",
       "      <td>1.085461e+08</td>\n",
       "    </tr>\n",
       "  </tbody>\n",
       "</table>\n",
       "</div>"
      ],
      "text/plain": [
       "                         netAsset          cash  position_asset  netAsset_cal\n",
       "recordTime                                                                   \n",
       "2021-01-04 20:00:00  9.997501e+07  5.000000e+07    4.997501e+07  9.997501e+07\n",
       "2021-01-05 20:00:00  9.903659e+07  5.000000e+07    4.903659e+07  9.903659e+07\n",
       "2021-01-06 20:00:00  9.783459e+07  5.000000e+07    4.783459e+07  9.783459e+07\n",
       "2021-01-07 20:00:00  9.638446e+07  5.000000e+07    4.638446e+07  9.638446e+07\n",
       "2021-01-08 20:00:00  9.564847e+07  9.564847e+07             NaN  9.564847e+07\n",
       "2021-01-11 20:00:00  9.562457e+07  4.782424e+07    4.780034e+07  9.562457e+07\n",
       "2021-01-12 20:00:00  9.518475e+07  4.782424e+07    4.736052e+07  9.518475e+07\n",
       "2021-01-13 20:00:00  9.490429e+07  4.782424e+07    4.708005e+07  9.490429e+07\n",
       "2021-01-14 20:00:00  9.588625e+07  4.782424e+07    4.806201e+07  9.588625e+07\n",
       "2021-01-15 20:00:00  9.603676e+07  8.644313e+07    9.593623e+06  9.603676e+07\n",
       "2021-01-18 20:00:00  9.601755e+07  4.801715e+07    4.800041e+07  9.601755e+07\n",
       "2021-01-19 20:00:00  9.778364e+07  4.801715e+07    4.976650e+07  9.778364e+07\n",
       "2021-01-20 20:00:00  9.928268e+07  4.801715e+07    5.126553e+07  9.928268e+07\n",
       "2021-01-21 20:00:00  1.006255e+08  4.801715e+07    5.260838e+07  1.006255e+08\n",
       "2021-01-22 20:00:00  9.856347e+07  8.896985e+07    9.593623e+06  9.856347e+07\n",
       "2021-01-25 20:00:00  9.854367e+07  4.934845e+07    4.919522e+07  9.854367e+07\n",
       "2021-01-26 20:00:00  9.912141e+07  4.934845e+07    4.977296e+07  9.912141e+07\n",
       "2021-01-27 20:00:00  1.000335e+08  4.934845e+07    5.068509e+07  1.000335e+08\n",
       "2021-01-28 20:00:00  1.007791e+08  4.934845e+07    5.143067e+07  1.007791e+08\n",
       "2021-01-29 20:00:00  1.025114e+08  9.291775e+07    9.593623e+06  1.025114e+08\n",
       "2021-02-01 20:00:00  1.024908e+08  5.172812e+07    5.076267e+07  1.024908e+08\n",
       "2021-02-02 20:00:00  1.043816e+08  5.172812e+07    5.265344e+07  1.043816e+08\n",
       "2021-02-03 20:00:00  1.054181e+08  5.172812e+07    5.369000e+07  1.054181e+08\n",
       "2021-02-04 20:00:00  1.043251e+08  5.172812e+07    5.259694e+07  1.043251e+08\n",
       "2021-02-05 20:00:00  1.035563e+08  9.396271e+07    9.593623e+06  1.035563e+08\n",
       "2021-02-08 20:00:00  1.035355e+08  5.220292e+07    5.133255e+07  1.035355e+08\n",
       "2021-02-09 20:00:00  1.037355e+08  5.220292e+07    5.153261e+07  1.037355e+08\n",
       "2021-02-10 20:00:00  1.045816e+08  5.220292e+07    5.237863e+07  1.045816e+08\n",
       "2021-02-18 20:00:00  1.059779e+08  5.220292e+07    5.377498e+07  1.059779e+08\n",
       "2021-02-19 20:00:00  1.065275e+08  9.693391e+07    9.593623e+06  1.065275e+08\n",
       "2021-02-22 20:00:00  1.065057e+08  5.325937e+07    5.324633e+07  1.065057e+08\n",
       "2021-02-23 20:00:00  1.073770e+08  5.325937e+07    5.411759e+07  1.073770e+08\n",
       "2021-02-24 20:00:00  1.079282e+08  5.325937e+07    5.466882e+07  1.079282e+08\n",
       "2021-02-25 20:00:00  1.095299e+08  5.325937e+07    5.627053e+07  1.095299e+08\n",
       "2021-02-26 20:00:00  1.094445e+08  1.007314e+08    8.713126e+06  1.094445e+08\n",
       "2021-03-01 20:00:00  1.085461e+08  4.644480e+07    6.210130e+07  1.085461e+08"
      ]
     },
     "execution_count": 14,
     "metadata": {},
     "output_type": "execute_result"
    }
   ],
   "source": [
    "obs.check_position_net()"
   ]
  },
  {
   "cell_type": "markdown",
   "id": "b31063d8",
   "metadata": {},
   "source": [
    "期初期末持仓价值变动+期间的交易的费用=期初期末净资产的变动"
   ]
  },
  {
   "cell_type": "code",
   "execution_count": 15,
   "id": "b9be0c2c",
   "metadata": {
    "ExecuteTime": {
     "end_time": "2023-05-18T10:57:53.967273Z",
     "start_time": "2023-05-18T10:57:53.841760Z"
    },
    "scrolled": true
   },
   "outputs": [
    {
     "data": {
      "text/plain": [
       "{'nav_end': 108546093.89819728,\n",
       " 'nav_start': 99975012.49375312,\n",
       " 'trade_amount': 2928910.527811222,\n",
       " 'trade_cost': 626290.6599785528,\n",
       " 'pv_end': 62101295.085986994,\n",
       " 'pv_start': 49975012.49375312,\n",
       " 'nav_end_cal': 108546093.89819722}"
      ]
     },
     "execution_count": 15,
     "metadata": {},
     "output_type": "execute_result"
    }
   ],
   "source": [
    "obs.check_trade_net()"
   ]
  },
  {
   "cell_type": "markdown",
   "id": "337d8911",
   "metadata": {},
   "source": [
    "期末持仓等于期初持仓+期间的交易"
   ]
  },
  {
   "cell_type": "code",
   "execution_count": 16,
   "id": "4bd433af",
   "metadata": {
    "ExecuteTime": {
     "end_time": "2023-05-18T10:57:55.466448Z",
     "start_time": "2023-05-18T10:57:55.336848Z"
    }
   },
   "outputs": [
    {
     "data": {
      "text/html": [
       "<div>\n",
       "<style scoped>\n",
       "    .dataframe tbody tr th:only-of-type {\n",
       "        vertical-align: middle;\n",
       "    }\n",
       "\n",
       "    .dataframe tbody tr th {\n",
       "        vertical-align: top;\n",
       "    }\n",
       "\n",
       "    .dataframe thead th {\n",
       "        text-align: right;\n",
       "    }\n",
       "</style>\n",
       "<table border=\"1\" class=\"dataframe\">\n",
       "  <thead>\n",
       "    <tr style=\"text-align: right;\">\n",
       "      <th></th>\n",
       "      <th></th>\n",
       "      <th>volume_start</th>\n",
       "      <th>volume_trade</th>\n",
       "      <th>volume_end</th>\n",
       "      <th>volume_net</th>\n",
       "    </tr>\n",
       "    <tr>\n",
       "      <th>secuType</th>\n",
       "      <th>code</th>\n",
       "      <th></th>\n",
       "      <th></th>\n",
       "      <th></th>\n",
       "      <th></th>\n",
       "    </tr>\n",
       "  </thead>\n",
       "  <tbody>\n",
       "    <tr>\n",
       "      <th rowspan=\"7\" valign=\"top\">stock_daily</th>\n",
       "      <th>000585.SZ</th>\n",
       "      <td>2.885761e+06</td>\n",
       "      <td>6.999589e+05</td>\n",
       "      <td>3.585720e+06</td>\n",
       "      <td>0.0</td>\n",
       "    </tr>\n",
       "    <tr>\n",
       "      <th>000662.SZ</th>\n",
       "      <td>2.883355e+06</td>\n",
       "      <td>2.070160e+05</td>\n",
       "      <td>3.090371e+06</td>\n",
       "      <td>0.0</td>\n",
       "    </tr>\n",
       "    <tr>\n",
       "      <th>000820.SZ</th>\n",
       "      <td>2.777867e+06</td>\n",
       "      <td>7.258943e+05</td>\n",
       "      <td>3.503761e+06</td>\n",
       "      <td>0.0</td>\n",
       "    </tr>\n",
       "    <tr>\n",
       "      <th>000882.SZ</th>\n",
       "      <td>2.920321e+06</td>\n",
       "      <td>5.247173e+05</td>\n",
       "      <td>3.445039e+06</td>\n",
       "      <td>0.0</td>\n",
       "    </tr>\n",
       "    <tr>\n",
       "      <th>000980.SZ</th>\n",
       "      <td>2.877375e+06</td>\n",
       "      <td>-2.877375e+06</td>\n",
       "      <td>NaN</td>\n",
       "      <td>0.0</td>\n",
       "    </tr>\n",
       "    <tr>\n",
       "      <th>000613.SZ</th>\n",
       "      <td>NaN</td>\n",
       "      <td>0.000000e+00</td>\n",
       "      <td>NaN</td>\n",
       "      <td>0.0</td>\n",
       "    </tr>\n",
       "    <tr>\n",
       "      <th>000809.SZ</th>\n",
       "      <td>NaN</td>\n",
       "      <td>3.465468e+06</td>\n",
       "      <td>3.465468e+06</td>\n",
       "      <td>0.0</td>\n",
       "    </tr>\n",
       "  </tbody>\n",
       "</table>\n",
       "</div>"
      ],
      "text/plain": [
       "                       volume_start  volume_trade    volume_end  volume_net\n",
       "secuType    code                                                           \n",
       "stock_daily 000585.SZ  2.885761e+06  6.999589e+05  3.585720e+06         0.0\n",
       "            000662.SZ  2.883355e+06  2.070160e+05  3.090371e+06         0.0\n",
       "            000820.SZ  2.777867e+06  7.258943e+05  3.503761e+06         0.0\n",
       "            000882.SZ  2.920321e+06  5.247173e+05  3.445039e+06         0.0\n",
       "            000980.SZ  2.877375e+06 -2.877375e+06           NaN         0.0\n",
       "            000613.SZ           NaN  0.000000e+00           NaN         0.0\n",
       "            000809.SZ           NaN  3.465468e+06  3.465468e+06         0.0"
      ]
     },
     "execution_count": 16,
     "metadata": {},
     "output_type": "execute_result"
    }
   ],
   "source": [
    "obs.check_trade_position()"
   ]
  },
  {
   "cell_type": "markdown",
   "id": "ed33da10",
   "metadata": {},
   "source": [
    "### 分析"
   ]
  },
  {
   "cell_type": "code",
   "execution_count": 17,
   "id": "29c16f61",
   "metadata": {
    "ExecuteTime": {
     "end_time": "2023-05-18T10:57:58.973027Z",
     "start_time": "2023-05-18T10:57:58.832726Z"
    }
   },
   "outputs": [
    {
     "data": {
      "text/html": [
       "<div>\n",
       "<style scoped>\n",
       "    .dataframe tbody tr th:only-of-type {\n",
       "        vertical-align: middle;\n",
       "    }\n",
       "\n",
       "    .dataframe tbody tr th {\n",
       "        vertical-align: top;\n",
       "    }\n",
       "\n",
       "    .dataframe thead th {\n",
       "        text-align: right;\n",
       "    }\n",
       "</style>\n",
       "<table border=\"1\" class=\"dataframe\">\n",
       "  <thead>\n",
       "    <tr style=\"text-align: right;\">\n",
       "      <th></th>\n",
       "      <th>总收益率</th>\n",
       "      <th>年化收益率</th>\n",
       "      <th>年化风险</th>\n",
       "      <th>最大回撤</th>\n",
       "      <th>夏普比率</th>\n",
       "      <th>信息比率</th>\n",
       "    </tr>\n",
       "  </thead>\n",
       "  <tbody>\n",
       "    <tr>\n",
       "      <th>netAsset</th>\n",
       "      <td>0.134844</td>\n",
       "      <td>1.275543</td>\n",
       "      <td>0.102642</td>\n",
       "      <td>0.008209</td>\n",
       "      <td>12.427060</td>\n",
       "      <td>4.573011</td>\n",
       "    </tr>\n",
       "    <tr>\n",
       "      <th>benchmark</th>\n",
       "      <td>-0.042332</td>\n",
       "      <td>-0.245088</td>\n",
       "      <td>0.279200</td>\n",
       "      <td>0.093827</td>\n",
       "      <td>-0.877824</td>\n",
       "      <td>NaN</td>\n",
       "    </tr>\n",
       "  </tbody>\n",
       "</table>\n",
       "</div>"
      ],
      "text/plain": [
       "               总收益率     年化收益率      年化风险      最大回撤       夏普比率      信息比率\n",
       "netAsset   0.134844  1.275543  0.102642  0.008209  12.427060  4.573011\n",
       "benchmark -0.042332 -0.245088  0.279200  0.093827  -0.877824       NaN"
      ]
     },
     "execution_count": 17,
     "metadata": {},
     "output_type": "execute_result"
    }
   ],
   "source": [
    "obs.pnl_analyse(freq='week', benchmark=df,  chicol=True)"
   ]
  },
  {
   "cell_type": "code",
   "execution_count": 18,
   "id": "1d4889ed",
   "metadata": {
    "ExecuteTime": {
     "end_time": "2023-05-18T10:58:16.120537Z",
     "start_time": "2023-05-18T10:58:15.969892Z"
    },
    "scrolled": false
   },
   "outputs": [
    {
     "data": {
      "text/html": [
       "<div>\n",
       "<style scoped>\n",
       "    .dataframe tbody tr th:only-of-type {\n",
       "        vertical-align: middle;\n",
       "    }\n",
       "\n",
       "    .dataframe tbody tr th {\n",
       "        vertical-align: top;\n",
       "    }\n",
       "\n",
       "    .dataframe thead th {\n",
       "        text-align: right;\n",
       "    }\n",
       "</style>\n",
       "<table border=\"1\" class=\"dataframe\">\n",
       "  <thead>\n",
       "    <tr style=\"text-align: right;\">\n",
       "      <th></th>\n",
       "      <th>netAsset</th>\n",
       "      <th>benchmark</th>\n",
       "    </tr>\n",
       "  </thead>\n",
       "  <tbody>\n",
       "    <tr>\n",
       "      <th>2021-01-10</th>\n",
       "      <td>9.564847e+07</td>\n",
       "      <td>5495.4306</td>\n",
       "    </tr>\n",
       "    <tr>\n",
       "      <th>2021-01-17</th>\n",
       "      <td>9.603676e+07</td>\n",
       "      <td>5458.0812</td>\n",
       "    </tr>\n",
       "    <tr>\n",
       "      <th>2021-01-24</th>\n",
       "      <td>9.856347e+07</td>\n",
       "      <td>5569.7760</td>\n",
       "    </tr>\n",
       "    <tr>\n",
       "      <th>2021-01-31</th>\n",
       "      <td>1.025114e+08</td>\n",
       "      <td>5351.9646</td>\n",
       "    </tr>\n",
       "    <tr>\n",
       "      <th>2021-02-07</th>\n",
       "      <td>1.035563e+08</td>\n",
       "      <td>5483.4140</td>\n",
       "    </tr>\n",
       "    <tr>\n",
       "      <th>2021-02-14</th>\n",
       "      <td>1.045816e+08</td>\n",
       "      <td>5807.7191</td>\n",
       "    </tr>\n",
       "    <tr>\n",
       "      <th>2021-02-21</th>\n",
       "      <td>1.065275e+08</td>\n",
       "      <td>5778.8420</td>\n",
       "    </tr>\n",
       "    <tr>\n",
       "      <th>2021-02-28</th>\n",
       "      <td>1.094445e+08</td>\n",
       "      <td>5336.7609</td>\n",
       "    </tr>\n",
       "    <tr>\n",
       "      <th>2021-03-07</th>\n",
       "      <td>1.085461e+08</td>\n",
       "      <td>5262.7958</td>\n",
       "    </tr>\n",
       "  </tbody>\n",
       "</table>\n",
       "</div>"
      ],
      "text/plain": [
       "                netAsset  benchmark\n",
       "2021-01-10  9.564847e+07  5495.4306\n",
       "2021-01-17  9.603676e+07  5458.0812\n",
       "2021-01-24  9.856347e+07  5569.7760\n",
       "2021-01-31  1.025114e+08  5351.9646\n",
       "2021-02-07  1.035563e+08  5483.4140\n",
       "2021-02-14  1.045816e+08  5807.7191\n",
       "2021-02-21  1.065275e+08  5778.8420\n",
       "2021-02-28  1.094445e+08  5336.7609\n",
       "2021-03-07  1.085461e+08  5262.7958"
      ]
     },
     "execution_count": 18,
     "metadata": {},
     "output_type": "execute_result"
    }
   ],
   "source": [
    "obs.get_pnl_net(benchmark=df, freq='week')"
   ]
  },
  {
   "cell_type": "code",
   "execution_count": 19,
   "id": "977d98d3",
   "metadata": {
    "ExecuteTime": {
     "end_time": "2023-05-18T10:58:17.595201Z",
     "start_time": "2023-05-18T10:58:17.290115Z"
    }
   },
   "outputs": [
    {
     "data": {
      "image/png": "[encoded data removed]",
      "text/plain": [
       "<Figure size 1000x500 with 1 Axes>"
      ]
     },
     "execution_count": 19,
     "metadata": {},
     "output_type": "execute_result"
    }
   ],
   "source": [
    "obs.pnl_plot(title='测试',benchmark=df, freq='week')"
   ]
  },
  {
   "cell_type": "markdown",
   "id": "bf359a88",
   "metadata": {},
   "source": [
    "# 策略端实现逻辑"
   ]
  },
  {
   "cell_type": "markdown",
   "id": "c4d28fc2",
   "metadata": {},
   "source": [
    "## 策略模板"
   ]
  },
  {
   "cell_type": "markdown",
   "id": "e7c304e7",
   "metadata": {},
   "source": [
    "回测的过程实际上就是在“事件”发生之后， 结合“市场数据”与“当前组合状态”而做出“决策”的过程  \n",
    "1. 事件\n",
    "    1. 行情触发类事件，如“open”， “close”\n",
    "    2. 记录类事件“record”\n",
    "    3. 自定义事件（见下例）\n",
    "2. 市场数据\n",
    "    1. 市场数据 self.get_mkt_data, self.get_mkt_obj, self.get_mkt_frame\n",
    "    2. 其它外部数据， 通过self.init实现数据或信号的传入\n",
    "3. 组合状态\n",
    "    1. 资产数据 self.balance\n",
    "    2. 持仓数据 self.position\n",
    "    3. 活跃的订单数据  self.active_orders\n",
    "4. 决策\n",
    "    1. 买入 self.send_orders\n",
    "    2. 取消订单 self.cancel_orders\n",
    "    3. 平仓 self.sell_position"
   ]
  },
  {
   "cell_type": "code",
   "execution_count": 21,
   "id": "d7d610ae",
   "metadata": {
    "ExecuteTime": {
     "end_time": "2023-05-18T11:00:15.883006Z",
     "start_time": "2023-05-18T11:00:15.757395Z"
    }
   },
   "outputs": [],
   "source": [
    "class PM2(PMPandas):\n",
    "    \"\"\"基金经理（策略）的具体实现\"\"\"\n",
    "    \n",
    "    def init(self):\n",
    "        print('回测前基金经理开始做准备工作了：') \n",
    "        print('先把计算好的信号放进来（可以读取外部数据，可以用内部数据计算）：')\n",
    "        self.signal = [0,1,2] \n",
    "        print(f'信号已经读进来了，信号是;{self.signal}')\n",
    "        print('其它的准备工作：')\n",
    "        # 获取市场数据， 粗略计算距离退市的时间\n",
    "        data = self.get_mkt_data()\n",
    "        data['ndelist'] = data.groupby('code', group_keys=False)['tradeDate'].apply(\n",
    "            lambda x: pd.Series(range(len(x), 0, -1), index=x.index))\n",
    "        \n",
    "        # 初始化一个计数的变量\n",
    "        self.n_any = self.open_count = 0 \n",
    "        print('其它的准备工作已经完成')\n",
    "        print('-'*10 + '初始化工作完成' + '-'*10)\n",
    "        \n",
    "        \n",
    "    def after_open(self):\n",
    "        if  self.open_count % 5 == 0:\n",
    "            self.cancel_orders(self.active_orders.query(\"targetVol > 0\"))\n",
    "            print(f'{self.observer.time}开盘了，且self.open_count是5的整数倍，执行买入操作')         \n",
    "            data = self.get_mkt_frame()\n",
    "            data = data.sort_values('settlePrice').head(5).query(\"ndelist > 30\")\n",
    "            data['ratio_relative'] = data['settlePrice'] # 以价格为成交比例\n",
    "            data['code'] = data.index\n",
    "            self.send_orders(\n",
    "                data[['code', 'ratio_relative']].copy(),\n",
    "                ratio_to_netasset=0.5,  # 二分之一的现金去交易\n",
    "                order_type='ratio_market',\n",
    "                order_seq=1)  # 交易优先级靠后， 保证有足够的资金释放\n",
    "        self.open_count += 1 \n",
    "        \n",
    "    def after_close(self):\n",
    "        if  (self.open_count+1) % 5 == 0:\n",
    "            print(f'{self.observer.time}收盘了，触发卖出条件，执行平仓操作') \n",
    "            self.sell_position(self.position)\n",
    "    \n",
    "    def after_any(self):\n",
    "        self.n_any += 1\n",
    "        print(f'{self.observer.time}any类型的事件第{self.n_any}次被触发了')\n",
    "        if self.n_any == 1:\n",
    "            print('---'*15)\n",
    "            print(\"当前基金经理可以获得的外部数据和内部数据包含：\")\n",
    "            print(f\"当前时间:{self.observer.time}\")\n",
    "            print(f\"当前持仓:{self.position}\")\n",
    "            print(f\"当前权益:{self.balance}\")\n",
    "            print(f\"当前活跃订单:{self.active_orders}\")\n",
    "            print(f\"当前市场行情:{self.get_mkt_data().tail()}\")\n",
    "            print(f\"外部输入的信号:{self.signal}\")\n",
    "            print('---'*15)\n",
    "            \n",
    "    def __str__(self):\n",
    "        return(\"打印注释版本的策略\")"
   ]
  },
  {
   "cell_type": "markdown",
   "id": "97aade44",
   "metadata": {},
   "source": [
    "## 增加any类事件"
   ]
  },
  {
   "cell_type": "markdown",
   "id": "b278b9a0",
   "metadata": {},
   "source": [
    "### 当前事件类型"
   ]
  },
  {
   "cell_type": "code",
   "execution_count": 22,
   "id": "add6330e",
   "metadata": {
    "ExecuteTime": {
     "end_time": "2023-05-18T11:00:18.288885Z",
     "start_time": "2023-05-18T11:00:18.050286Z"
    }
   },
   "outputs": [
    {
     "data": {
      "text/plain": [
       "event_type\n",
       "EventType.OPEN      2685\n",
       "EventType.CLOSE     2685\n",
       "EventType.RECORD      37\n",
       "Name: count, dtype: int64"
      ]
     },
     "execution_count": 22,
     "metadata": {},
     "output_type": "execute_result"
    }
   ],
   "source": [
    "pd.DataFrame(ts.events)['event_type'].value_counts()"
   ]
  },
  {
   "cell_type": "markdown",
   "id": "fd19ab7e",
   "metadata": {},
   "source": [
    "### 添加any类事件类型"
   ]
  },
  {
   "cell_type": "code",
   "execution_count": 23,
   "id": "03b4e0ee",
   "metadata": {
    "ExecuteTime": {
     "end_time": "2023-05-18T11:00:19.512494Z",
     "start_time": "2023-05-18T11:00:19.394465Z"
    }
   },
   "outputs": [],
   "source": [
    "t_series = pd.date_range('2021-01-01', '2021-03-01', freq='w')\n",
    "events = event_generator(t_series.to_pydatetime(), event_type='any')\n",
    "ts.add_events(events)"
   ]
  },
  {
   "cell_type": "code",
   "execution_count": 24,
   "id": "f6f79ccc",
   "metadata": {
    "ExecuteTime": {
     "end_time": "2023-05-18T11:00:20.348970Z",
     "start_time": "2023-05-18T11:00:20.114996Z"
    }
   },
   "outputs": [
    {
     "data": {
      "text/plain": [
       "event_type\n",
       "EventType.OPEN      2685\n",
       "EventType.CLOSE     2685\n",
       "EventType.RECORD      37\n",
       "any                    9\n",
       "Name: count, dtype: int64"
      ]
     },
     "execution_count": 24,
     "metadata": {},
     "output_type": "execute_result"
    }
   ],
   "source": [
    "pd.DataFrame(ts.events)['event_type'].value_counts()"
   ]
  },
  {
   "cell_type": "markdown",
   "id": "b5f83061",
   "metadata": {},
   "source": [
    "### 更改ts的PM类，重新回测"
   ]
  },
  {
   "cell_type": "code",
   "execution_count": 25,
   "id": "950bef74",
   "metadata": {
    "ExecuteTime": {
     "end_time": "2023-05-18T11:00:26.081818Z",
     "start_time": "2023-05-18T11:00:22.738787Z"
    },
    "scrolled": false
   },
   "outputs": [
    {
     "name": "stdout",
     "output_type": "stream",
     "text": [
      "回测前基金经理开始做准备工作了：\n",
      "先把计算好的信号放进来（可以读取外部数据，可以用内部数据计算）：\n",
      "信号已经读进来了，信号是;[0, 1, 2]\n",
      "其它的准备工作：\n",
      "其它的准备工作已经完成\n",
      "----------初始化工作完成----------\n",
      "2021-01-03 00:00:00any类型的事件第1次被触发了\n",
      "---------------------------------------------\n",
      "当前基金经理可以获得的外部数据和内部数据包含：\n",
      "当前时间:2021-01-03 00:00:00\n",
      "当前持仓:Empty DataFrame\n",
      "Columns: [orderID, tradeID, secuType, code, transTime, transPrice, settlePrice, volume, frozenVol]\n",
      "Index: []\n",
      "当前权益:{'netAsset': 100000000.0, 'cash': 100000000.0, 'frozenCash': 0.0}\n",
      "当前活跃订单:Empty DataFrame\n",
      "Columns: [orderID, secuType, code, orderTime, orderType, direction, targetPrice, targetVol, filledVol, offsetID, status, orderSeq]\n",
      "Index: []\n",
      "当前市场行情:              code  tradeDate     openAdj     highAdj     lowAdj    closeAdj   \n",
      "2993188  000999.SZ 2023-01-12   99.439538  101.938231  97.660806   98.846627  \\\n",
      "2993189  000999.SZ 2023-01-13   99.439538  101.535899  97.851385  101.366496   \n",
      "2993190  000999.SZ 2023-01-16  101.641776  102.869947  99.524239  100.286552   \n",
      "2993191  000999.SZ 2023-01-17  100.371254  101.366496  99.270135  100.244202   \n",
      "2993192  000999.SZ 2023-01-18   99.545414  100.223026  97.999612   99.714817   \n",
      "\n",
      "         vwapOpenAdj  vwapCloseAdj      volume        amount  ifSuspend   \n",
      "2993188    99.439538     98.846627   7170876.0  3.367665e+08      False  \\\n",
      "2993189    99.439538    101.366496   8426290.0  3.998636e+08      False   \n",
      "2993190   101.641776    100.286552  12989265.0  6.170321e+08      False   \n",
      "2993191   100.371254    100.244202   5968058.0  2.827078e+08      False   \n",
      "2993192    99.545414     99.714817   7430877.0  3.473432e+08      False   \n",
      "\n",
      "         downLimit     upLimit  ndelist  \n",
      "2993188  89.476526  109.360198        5  \n",
      "2993189  88.961964  108.731290        4  \n",
      "2993190  91.229847  111.503146        3  \n",
      "2993191  90.257897  110.315208        2  \n",
      "2993192  90.219781  110.268622        1  \n",
      "外部输入的信号:[0, 1, 2]\n",
      "---------------------------------------------\n",
      "2021-01-04 09:30:00开盘了，且self.open_count是5的整数倍，执行买入操作\n",
      "2021-01-07 15:00:00收盘了，触发卖出条件，执行平仓操作\n",
      "2021-01-10 00:00:00any类型的事件第2次被触发了\n",
      "2021-01-11 09:30:00开盘了，且self.open_count是5的整数倍，执行买入操作\n",
      "2021-01-14 15:00:00收盘了，触发卖出条件，执行平仓操作\n",
      "2021-01-17 00:00:00any类型的事件第3次被触发了\n",
      "2021-01-18 09:30:00开盘了，且self.open_count是5的整数倍，执行买入操作\n",
      "2021-01-21 15:00:00收盘了，触发卖出条件，执行平仓操作\n",
      "2021-01-24 00:00:00any类型的事件第4次被触发了\n",
      "2021-01-25 09:30:00开盘了，且self.open_count是5的整数倍，执行买入操作\n",
      "2021-01-28 15:00:00收盘了，触发卖出条件，执行平仓操作\n",
      "2021-01-31 00:00:00any类型的事件第5次被触发了\n",
      "2021-02-01 09:30:00开盘了，且self.open_count是5的整数倍，执行买入操作\n",
      "2021-02-04 15:00:00收盘了，触发卖出条件，执行平仓操作\n",
      "2021-02-07 00:00:00any类型的事件第6次被触发了\n",
      "2021-02-08 09:30:00开盘了，且self.open_count是5的整数倍，执行买入操作\n",
      "2021-02-14 00:00:00any类型的事件第7次被触发了\n",
      "2021-02-18 15:00:00收盘了，触发卖出条件，执行平仓操作\n",
      "2021-02-21 00:00:00any类型的事件第8次被触发了\n",
      "2021-02-22 09:30:00开盘了，且self.open_count是5的整数倍，执行买入操作\n",
      "2021-02-25 15:00:00收盘了，触发卖出条件，执行平仓操作\n",
      "2021-02-28 00:00:00any类型的事件第9次被触发了\n",
      "2021-03-01 09:30:00开盘了，且self.open_count是5的整数倍，执行买入操作\n"
     ]
    }
   ],
   "source": [
    "ts.PortfolioManager = PM2\n",
    "obs = ts.run()"
   ]
  },
  {
   "cell_type": "markdown",
   "id": "a930bd3d",
   "metadata": {},
   "source": [
    "# 回测参数修改"
   ]
  },
  {
   "cell_type": "markdown",
   "id": "5f1522a3",
   "metadata": {},
   "source": [
    "## 可通过赋值修改的参数"
   ]
  },
  {
   "cell_type": "code",
   "execution_count": 26,
   "id": "3bc53a8a",
   "metadata": {
    "ExecuteTime": {
     "end_time": "2023-05-18T11:00:32.058597Z",
     "start_time": "2023-05-18T11:00:31.939523Z"
    }
   },
   "outputs": [
    {
     "name": "stdout",
     "output_type": "stream",
     "text": [
      "2021-01-01 00:00:00\n",
      "2021-03-02 00:00:00\n",
      "打印注释版本的策略\n",
      "100000000.0\n"
     ]
    }
   ],
   "source": [
    "print(ts.start_datetime)\n",
    "print(ts.end_datetime)\n",
    "print(ts.pm) # 策略的实例化\n",
    "print(ts.cash)"
   ]
  },
  {
   "cell_type": "code",
   "execution_count": 27,
   "id": "182a7854",
   "metadata": {
    "ExecuteTime": {
     "end_time": "2023-05-18T11:00:32.963129Z",
     "start_time": "2023-05-18T11:00:32.850971Z"
    }
   },
   "outputs": [],
   "source": [
    "ts.start_datetime = '2018-01-01'# 更改回测开始时间\n",
    "ts.end_datetime = '2021-12-31' # 更改回测结束时间\n",
    "ts.PortfolioManager = PM1  # 更改策略\n",
    "ts.cash = 1e10 # 更改初始资金大小"
   ]
  },
  {
   "cell_type": "code",
   "execution_count": 28,
   "id": "3124cfe8",
   "metadata": {
    "ExecuteTime": {
     "end_time": "2023-05-18T11:00:34.337442Z",
     "start_time": "2023-05-18T11:00:34.220244Z"
    }
   },
   "outputs": [
    {
     "name": "stdout",
     "output_type": "stream",
     "text": [
      "2018-01-01 00:00:00\n",
      "2022-01-01 00:00:00\n",
      "<class '__main__.PM1'>\n",
      "10000000000.0\n"
     ]
    }
   ],
   "source": [
    "print(ts.start_datetime)\n",
    "print(ts.end_datetime)\n",
    "print(ts.PortfolioManager)  # 策略已经变为PM1了\n",
    "print(ts.cash)"
   ]
  },
  {
   "cell_type": "markdown",
   "id": "667e42b7",
   "metadata": {},
   "source": [
    "## 市场的修改"
   ]
  },
  {
   "cell_type": "code",
   "execution_count": 29,
   "id": "60b269b7",
   "metadata": {
    "ExecuteTime": {
     "end_time": "2023-05-18T11:00:36.381798Z",
     "start_time": "2023-05-18T11:00:36.260155Z"
    }
   },
   "outputs": [
    {
     "data": {
      "text/plain": [
       "Timestamp('2012-01-04 00:00:00')"
      ]
     },
     "execution_count": 29,
     "metadata": {},
     "output_type": "execute_result"
    }
   ],
   "source": [
    "ts.market_list[0].data['tradeDate'].min()"
   ]
  },
  {
   "cell_type": "code",
   "execution_count": 30,
   "id": "effada34",
   "metadata": {
    "ExecuteTime": {
     "end_time": "2023-05-18T11:00:41.919783Z",
     "start_time": "2023-05-18T11:00:37.987590Z"
    },
    "scrolled": true
   },
   "outputs": [
    {
     "data": {
      "text/plain": [
       "Timestamp('2017-01-03 00:00:00')"
      ]
     },
     "execution_count": 30,
     "metadata": {},
     "output_type": "execute_result"
    }
   ],
   "source": [
    "ts.reset_markets('stock_daily', mkt_startdate='2017-01-01') # 第一个值为模块名称， 第二个值为市场数读取时间\n",
    "ts.market_list[0].data['tradeDate'].min()"
   ]
  },
  {
   "cell_type": "markdown",
   "id": "2d6d3a2f",
   "metadata": {},
   "source": [
    "## 记录频率修改"
   ]
  },
  {
   "cell_type": "markdown",
   "id": "5fa0e47c",
   "metadata": {},
   "source": [
    "1. 记录类事件仅仅在ts初始化的时候初始化一次，后面修改回测时间区间的时候纪录类时间不会自动改变\n",
    "2. 纪录类时间可以通过init_records重新按固定的设置重新生成\n",
    "3. 纪录类时间可以通过reset_records替代当前的纪录类事件"
   ]
  },
  {
   "cell_type": "code",
   "execution_count": 31,
   "id": "2cb7ca1f",
   "metadata": {
    "ExecuteTime": {
     "end_time": "2023-05-18T11:00:48.202239Z",
     "start_time": "2023-05-18T11:00:48.012378Z"
    }
   },
   "outputs": [
    {
     "name": "stdout",
     "output_type": "stream",
     "text": [
      "目前纪录类事件还是初始化时候生成的\n"
     ]
    },
    {
     "data": {
      "text/plain": [
       "event_type\n",
       "EventType.OPEN      1471\n",
       "EventType.CLOSE     1471\n",
       "EventType.RECORD      37\n",
       "any                    9\n",
       "Name: count, dtype: int64"
      ]
     },
     "execution_count": 31,
     "metadata": {},
     "output_type": "execute_result"
    }
   ],
   "source": [
    "print(\"目前纪录类事件还是初始化时候生成的\")\n",
    "pd.DataFrame(ts.events)['event_type'].value_counts()"
   ]
  },
  {
   "cell_type": "code",
   "execution_count": 32,
   "id": "0b4cf7d8",
   "metadata": {
    "ExecuteTime": {
     "end_time": "2023-05-18T11:00:52.317367Z",
     "start_time": "2023-05-18T11:00:52.107618Z"
    }
   },
   "outputs": [
    {
     "name": "stdout",
     "output_type": "stream",
     "text": [
      "重新初始化后为周频记录\n"
     ]
    },
    {
     "data": {
      "text/plain": [
       "event_type\n",
       "EventType.OPEN      1471\n",
       "EventType.CLOSE     1471\n",
       "EventType.RECORD     973\n",
       "any                    9\n",
       "Name: count, dtype: int64"
      ]
     },
     "execution_count": 32,
     "metadata": {},
     "output_type": "execute_result"
    }
   ],
   "source": [
    "print(\"重新初始化后为周频记录\")\n",
    "ts.init_records()\n",
    "pd.DataFrame(ts.events)['event_type'].value_counts()"
   ]
  },
  {
   "cell_type": "code",
   "execution_count": 33,
   "id": "c204cdf0",
   "metadata": {
    "ExecuteTime": {
     "end_time": "2023-05-18T11:00:58.090301Z",
     "start_time": "2023-05-18T11:00:57.851455Z"
    }
   },
   "outputs": [
    {
     "name": "stdout",
     "output_type": "stream",
     "text": [
      "替换为日频记录\n"
     ]
    },
    {
     "data": {
      "text/plain": [
       "event_type\n",
       "EventType.OPEN      1471\n",
       "EventType.CLOSE     1471\n",
       "EventType.RECORD    1462\n",
       "any                    9\n",
       "Name: count, dtype: int64"
      ]
     },
     "execution_count": 33,
     "metadata": {},
     "output_type": "execute_result"
    }
   ],
   "source": [
    "t_series = pd.date_range(ts.start_datetime,ts.end_datetime)\n",
    "events = event_generator(t_series.to_pydatetime(), event_type='record')\n",
    "ts.reset_records(events)\n",
    "print(\"替换为日频记录\")\n",
    "pd.DataFrame(ts.events)['event_type'].value_counts()"
   ]
  },
  {
   "cell_type": "markdown",
   "id": "70807732",
   "metadata": {},
   "source": [
    "## 运行修改后的回测"
   ]
  },
  {
   "cell_type": "code",
   "execution_count": 34,
   "id": "a406c2ce",
   "metadata": {
    "ExecuteTime": {
     "end_time": "2023-05-18T11:01:43.390335Z",
     "start_time": "2023-05-18T11:01:05.443588Z"
    }
   },
   "outputs": [
    {
     "name": "stdout",
     "output_type": "stream",
     "text": [
      "----------初始化工作完成----------\n"
     ]
    }
   ],
   "source": [
    "obs = ts.run()"
   ]
  },
  {
   "cell_type": "code",
   "execution_count": 35,
   "id": "f13455d7",
   "metadata": {
    "ExecuteTime": {
     "end_time": "2023-05-18T11:02:17.474593Z",
     "start_time": "2023-05-18T11:02:17.357929Z"
    }
   },
   "outputs": [
    {
     "name": "stdout",
     "output_type": "stream",
     "text": [
      "精简版本的策略\n"
     ]
    }
   ],
   "source": [
    "print(ts.pm)  # 策略已经变为PM1了"
   ]
  },
  {
   "cell_type": "markdown",
   "id": "ebb363d9",
   "metadata": {},
   "source": [
    "### 结果"
   ]
  },
  {
   "cell_type": "markdown",
   "id": "66395ff4",
   "metadata": {},
   "source": [
    "#### 组合现状"
   ]
  },
  {
   "cell_type": "code",
   "execution_count": 36,
   "id": "766f1820",
   "metadata": {
    "ExecuteTime": {
     "end_time": "2023-05-18T11:02:20.982565Z",
     "start_time": "2023-05-18T11:02:20.861412Z"
    }
   },
   "outputs": [
    {
     "data": {
      "text/html": [
       "<div>\n",
       "<style scoped>\n",
       "    .dataframe tbody tr th:only-of-type {\n",
       "        vertical-align: middle;\n",
       "    }\n",
       "\n",
       "    .dataframe tbody tr th {\n",
       "        vertical-align: top;\n",
       "    }\n",
       "\n",
       "    .dataframe thead th {\n",
       "        text-align: right;\n",
       "    }\n",
       "</style>\n",
       "<table border=\"1\" class=\"dataframe\">\n",
       "  <thead>\n",
       "    <tr style=\"text-align: right;\">\n",
       "      <th></th>\n",
       "      <th>orderID</th>\n",
       "      <th>tradeID</th>\n",
       "      <th>secuType</th>\n",
       "      <th>code</th>\n",
       "      <th>transTime</th>\n",
       "      <th>transPrice</th>\n",
       "      <th>settlePrice</th>\n",
       "      <th>volume</th>\n",
       "      <th>frozenVol</th>\n",
       "    </tr>\n",
       "  </thead>\n",
       "  <tbody>\n",
       "    <tr>\n",
       "      <th>0</th>\n",
       "      <td>1860</td>\n",
       "      <td>1844</td>\n",
       "      <td>stock_daily</td>\n",
       "      <td>000585.SZ</td>\n",
       "      <td>2021-12-29 15:00:00</td>\n",
       "      <td>2.608823</td>\n",
       "      <td>2.621612</td>\n",
       "      <td>2.051892e+08</td>\n",
       "      <td>-0.0</td>\n",
       "    </tr>\n",
       "    <tr>\n",
       "      <th>1</th>\n",
       "      <td>1861</td>\n",
       "      <td>1845</td>\n",
       "      <td>stock_daily</td>\n",
       "      <td>000927.SZ</td>\n",
       "      <td>2021-12-29 15:00:00</td>\n",
       "      <td>5.638050</td>\n",
       "      <td>5.622168</td>\n",
       "      <td>2.050383e+08</td>\n",
       "      <td>-0.0</td>\n",
       "    </tr>\n",
       "    <tr>\n",
       "      <th>2</th>\n",
       "      <td>1862</td>\n",
       "      <td>1846</td>\n",
       "      <td>stock_daily</td>\n",
       "      <td>000882.SZ</td>\n",
       "      <td>2021-12-29 15:00:00</td>\n",
       "      <td>5.637086</td>\n",
       "      <td>5.696737</td>\n",
       "      <td>2.051090e+08</td>\n",
       "      <td>-0.0</td>\n",
       "    </tr>\n",
       "    <tr>\n",
       "      <th>3</th>\n",
       "      <td>1863</td>\n",
       "      <td>1847</td>\n",
       "      <td>stock_daily</td>\n",
       "      <td>000613.SZ</td>\n",
       "      <td>2021-12-29 15:00:00</td>\n",
       "      <td>5.519800</td>\n",
       "      <td>5.834400</td>\n",
       "      <td>2.104736e+08</td>\n",
       "      <td>-0.0</td>\n",
       "    </tr>\n",
       "    <tr>\n",
       "      <th>4</th>\n",
       "      <td>1864</td>\n",
       "      <td>1848</td>\n",
       "      <td>stock_daily</td>\n",
       "      <td>000687.SZ</td>\n",
       "      <td>2021-12-29 15:00:00</td>\n",
       "      <td>6.111182</td>\n",
       "      <td>6.111182</td>\n",
       "      <td>2.096559e+08</td>\n",
       "      <td>-0.0</td>\n",
       "    </tr>\n",
       "  </tbody>\n",
       "</table>\n",
       "</div>"
      ],
      "text/plain": [
       "   orderID  tradeID     secuType       code           transTime  transPrice   \n",
       "0     1860     1844  stock_daily  000585.SZ 2021-12-29 15:00:00    2.608823  \\\n",
       "1     1861     1845  stock_daily  000927.SZ 2021-12-29 15:00:00    5.638050   \n",
       "2     1862     1846  stock_daily  000882.SZ 2021-12-29 15:00:00    5.637086   \n",
       "3     1863     1847  stock_daily  000613.SZ 2021-12-29 15:00:00    5.519800   \n",
       "4     1864     1848  stock_daily  000687.SZ 2021-12-29 15:00:00    6.111182   \n",
       "\n",
       "   settlePrice        volume  frozenVol  \n",
       "0     2.621612  2.051892e+08       -0.0  \n",
       "1     5.622168  2.050383e+08       -0.0  \n",
       "2     5.696737  2.051090e+08       -0.0  \n",
       "3     5.834400  2.104736e+08       -0.0  \n",
       "4     6.111182  2.096559e+08       -0.0  "
      ]
     },
     "execution_count": 36,
     "metadata": {},
     "output_type": "execute_result"
    }
   ],
   "source": [
    "obs.position"
   ]
  },
  {
   "cell_type": "code",
   "execution_count": 37,
   "id": "78dc4880",
   "metadata": {
    "ExecuteTime": {
     "end_time": "2023-05-18T11:02:21.486763Z",
     "start_time": "2023-05-18T11:02:21.366130Z"
    }
   },
   "outputs": [
    {
     "data": {
      "text/plain": [
       "{'netAsset': 10661568085.042217, 'cash': 5293197814.438456, 'frozenCash': 0}"
      ]
     },
     "execution_count": 37,
     "metadata": {},
     "output_type": "execute_result"
    }
   ],
   "source": [
    "obs.balance"
   ]
  },
  {
   "cell_type": "code",
   "execution_count": 38,
   "id": "9e89b15c",
   "metadata": {
    "ExecuteTime": {
     "end_time": "2023-05-18T11:02:22.342469Z",
     "start_time": "2023-05-18T11:02:22.197972Z"
    }
   },
   "outputs": [
    {
     "data": {
      "text/html": [
       "<div>\n",
       "<style scoped>\n",
       "    .dataframe tbody tr th:only-of-type {\n",
       "        vertical-align: middle;\n",
       "    }\n",
       "\n",
       "    .dataframe tbody tr th {\n",
       "        vertical-align: top;\n",
       "    }\n",
       "\n",
       "    .dataframe thead th {\n",
       "        text-align: right;\n",
       "    }\n",
       "</style>\n",
       "<table border=\"1\" class=\"dataframe\">\n",
       "  <thead>\n",
       "    <tr style=\"text-align: right;\">\n",
       "      <th></th>\n",
       "      <th>orderID</th>\n",
       "      <th>secuType</th>\n",
       "      <th>code</th>\n",
       "      <th>orderTime</th>\n",
       "      <th>orderType</th>\n",
       "      <th>direction</th>\n",
       "      <th>targetPrice</th>\n",
       "      <th>targetVol</th>\n",
       "      <th>filledVol</th>\n",
       "      <th>offsetID</th>\n",
       "      <th>status</th>\n",
       "      <th>orderSeq</th>\n",
       "    </tr>\n",
       "  </thead>\n",
       "  <tbody>\n",
       "  </tbody>\n",
       "</table>\n",
       "</div>"
      ],
      "text/plain": [
       "Empty DataFrame\n",
       "Columns: [orderID, secuType, code, orderTime, orderType, direction, targetPrice, targetVol, filledVol, offsetID, status, orderSeq]\n",
       "Index: []"
      ]
     },
     "execution_count": 38,
     "metadata": {},
     "output_type": "execute_result"
    }
   ],
   "source": [
    "obs.active_orders"
   ]
  },
  {
   "cell_type": "code",
   "execution_count": 39,
   "id": "cb73a8e7",
   "metadata": {
    "ExecuteTime": {
     "end_time": "2023-05-18T11:02:22.943860Z",
     "start_time": "2023-05-18T11:02:22.815157Z"
    }
   },
   "outputs": [
    {
     "data": {
      "text/plain": [
       "{}"
      ]
     },
     "execution_count": 39,
     "metadata": {},
     "output_type": "execute_result"
    }
   ],
   "source": [
    "obs.active_order_params"
   ]
  },
  {
   "cell_type": "markdown",
   "id": "9293ef2d",
   "metadata": {},
   "source": [
    "#### 交易记录"
   ]
  },
  {
   "cell_type": "code",
   "execution_count": 40,
   "id": "21d49700",
   "metadata": {
    "ExecuteTime": {
     "end_time": "2023-05-18T11:02:24.178300Z",
     "start_time": "2023-05-18T11:02:24.038399Z"
    },
    "scrolled": false
   },
   "outputs": [
    {
     "data": {
      "text/html": [
       "<div>\n",
       "<style scoped>\n",
       "    .dataframe tbody tr th:only-of-type {\n",
       "        vertical-align: middle;\n",
       "    }\n",
       "\n",
       "    .dataframe tbody tr th {\n",
       "        vertical-align: top;\n",
       "    }\n",
       "\n",
       "    .dataframe thead th {\n",
       "        text-align: right;\n",
       "    }\n",
       "</style>\n",
       "<table border=\"1\" class=\"dataframe\">\n",
       "  <thead>\n",
       "    <tr style=\"text-align: right;\">\n",
       "      <th></th>\n",
       "      <th>tradeID</th>\n",
       "      <th>orderID</th>\n",
       "      <th>secuType</th>\n",
       "      <th>code</th>\n",
       "      <th>transTime</th>\n",
       "      <th>direction</th>\n",
       "      <th>transPrice</th>\n",
       "      <th>transVol</th>\n",
       "      <th>offsetID</th>\n",
       "      <th>transCost</th>\n",
       "    </tr>\n",
       "  </thead>\n",
       "  <tbody>\n",
       "    <tr>\n",
       "      <th>1844</th>\n",
       "      <td>1844</td>\n",
       "      <td>1860</td>\n",
       "      <td>stock_daily</td>\n",
       "      <td>000585.SZ</td>\n",
       "      <td>2021-12-29 15:00:00</td>\n",
       "      <td>long</td>\n",
       "      <td>2.608823</td>\n",
       "      <td>2.051892e+08</td>\n",
       "      <td>-1</td>\n",
       "      <td>267651.205239</td>\n",
       "    </tr>\n",
       "    <tr>\n",
       "      <th>1845</th>\n",
       "      <td>1845</td>\n",
       "      <td>1861</td>\n",
       "      <td>stock_daily</td>\n",
       "      <td>000927.SZ</td>\n",
       "      <td>2021-12-29 15:00:00</td>\n",
       "      <td>long</td>\n",
       "      <td>5.638050</td>\n",
       "      <td>2.050383e+08</td>\n",
       "      <td>-1</td>\n",
       "      <td>578008.067395</td>\n",
       "    </tr>\n",
       "    <tr>\n",
       "      <th>1846</th>\n",
       "      <td>1846</td>\n",
       "      <td>1862</td>\n",
       "      <td>stock_daily</td>\n",
       "      <td>000882.SZ</td>\n",
       "      <td>2021-12-29 15:00:00</td>\n",
       "      <td>long</td>\n",
       "      <td>5.637086</td>\n",
       "      <td>2.051090e+08</td>\n",
       "      <td>-1</td>\n",
       "      <td>578108.467203</td>\n",
       "    </tr>\n",
       "    <tr>\n",
       "      <th>1847</th>\n",
       "      <td>1847</td>\n",
       "      <td>1863</td>\n",
       "      <td>stock_daily</td>\n",
       "      <td>000613.SZ</td>\n",
       "      <td>2021-12-29 15:00:00</td>\n",
       "      <td>long</td>\n",
       "      <td>5.519800</td>\n",
       "      <td>2.104736e+08</td>\n",
       "      <td>-1</td>\n",
       "      <td>580886.001735</td>\n",
       "    </tr>\n",
       "    <tr>\n",
       "      <th>1848</th>\n",
       "      <td>1848</td>\n",
       "      <td>1864</td>\n",
       "      <td>stock_daily</td>\n",
       "      <td>000687.SZ</td>\n",
       "      <td>2021-12-29 15:00:00</td>\n",
       "      <td>long</td>\n",
       "      <td>6.111182</td>\n",
       "      <td>2.096559e+08</td>\n",
       "      <td>-1</td>\n",
       "      <td>640622.527513</td>\n",
       "    </tr>\n",
       "  </tbody>\n",
       "</table>\n",
       "</div>"
      ],
      "text/plain": [
       "      tradeID  orderID     secuType       code           transTime direction   \n",
       "1844     1844     1860  stock_daily  000585.SZ 2021-12-29 15:00:00      long  \\\n",
       "1845     1845     1861  stock_daily  000927.SZ 2021-12-29 15:00:00      long   \n",
       "1846     1846     1862  stock_daily  000882.SZ 2021-12-29 15:00:00      long   \n",
       "1847     1847     1863  stock_daily  000613.SZ 2021-12-29 15:00:00      long   \n",
       "1848     1848     1864  stock_daily  000687.SZ 2021-12-29 15:00:00      long   \n",
       "\n",
       "      transPrice      transVol  offsetID      transCost  \n",
       "1844    2.608823  2.051892e+08        -1  267651.205239  \n",
       "1845    5.638050  2.050383e+08        -1  578008.067395  \n",
       "1846    5.637086  2.051090e+08        -1  578108.467203  \n",
       "1847    5.519800  2.104736e+08        -1  580886.001735  \n",
       "1848    6.111182  2.096559e+08        -1  640622.527513  "
      ]
     },
     "execution_count": 40,
     "metadata": {},
     "output_type": "execute_result"
    }
   ],
   "source": [
    "obs.trade_records.tail()"
   ]
  },
  {
   "cell_type": "markdown",
   "id": "8ef6c865",
   "metadata": {},
   "source": [
    "#### balance记录"
   ]
  },
  {
   "cell_type": "code",
   "execution_count": 41,
   "id": "2da7a637",
   "metadata": {
    "ExecuteTime": {
     "end_time": "2023-05-18T11:02:25.732242Z",
     "start_time": "2023-05-18T11:02:25.613213Z"
    }
   },
   "outputs": [
    {
     "data": {
      "text/html": [
       "<div>\n",
       "<style scoped>\n",
       "    .dataframe tbody tr th:only-of-type {\n",
       "        vertical-align: middle;\n",
       "    }\n",
       "\n",
       "    .dataframe tbody tr th {\n",
       "        vertical-align: top;\n",
       "    }\n",
       "\n",
       "    .dataframe thead th {\n",
       "        text-align: right;\n",
       "    }\n",
       "</style>\n",
       "<table border=\"1\" class=\"dataframe\">\n",
       "  <thead>\n",
       "    <tr style=\"text-align: right;\">\n",
       "      <th></th>\n",
       "      <th>recordTime</th>\n",
       "      <th>netAsset</th>\n",
       "      <th>cash</th>\n",
       "      <th>frozenCash</th>\n",
       "      <th>date</th>\n",
       "    </tr>\n",
       "  </thead>\n",
       "  <tbody>\n",
       "    <tr>\n",
       "      <th>1457</th>\n",
       "      <td>2021-12-28</td>\n",
       "      <td>1.058617e+10</td>\n",
       "      <td>5.378084e+09</td>\n",
       "      <td>0.0</td>\n",
       "      <td>2021-12-28</td>\n",
       "    </tr>\n",
       "    <tr>\n",
       "      <th>1458</th>\n",
       "      <td>2021-12-29</td>\n",
       "      <td>1.058640e+10</td>\n",
       "      <td>1.058640e+10</td>\n",
       "      <td>0.0</td>\n",
       "      <td>2021-12-29</td>\n",
       "    </tr>\n",
       "    <tr>\n",
       "      <th>1459</th>\n",
       "      <td>2021-12-30</td>\n",
       "      <td>1.058375e+10</td>\n",
       "      <td>5.293198e+09</td>\n",
       "      <td>0.0</td>\n",
       "      <td>2021-12-30</td>\n",
       "    </tr>\n",
       "    <tr>\n",
       "      <th>1460</th>\n",
       "      <td>2021-12-31</td>\n",
       "      <td>1.063562e+10</td>\n",
       "      <td>5.293198e+09</td>\n",
       "      <td>0.0</td>\n",
       "      <td>2021-12-31</td>\n",
       "    </tr>\n",
       "    <tr>\n",
       "      <th>1461</th>\n",
       "      <td>2022-01-01</td>\n",
       "      <td>1.066157e+10</td>\n",
       "      <td>5.293198e+09</td>\n",
       "      <td>0.0</td>\n",
       "      <td>2022-01-01</td>\n",
       "    </tr>\n",
       "  </tbody>\n",
       "</table>\n",
       "</div>"
      ],
      "text/plain": [
       "     recordTime      netAsset          cash  frozenCash        date\n",
       "1457 2021-12-28  1.058617e+10  5.378084e+09         0.0  2021-12-28\n",
       "1458 2021-12-29  1.058640e+10  1.058640e+10         0.0  2021-12-29\n",
       "1459 2021-12-30  1.058375e+10  5.293198e+09         0.0  2021-12-30\n",
       "1460 2021-12-31  1.063562e+10  5.293198e+09         0.0  2021-12-31\n",
       "1461 2022-01-01  1.066157e+10  5.293198e+09         0.0  2022-01-01"
      ]
     },
     "execution_count": 41,
     "metadata": {},
     "output_type": "execute_result"
    }
   ],
   "source": [
    "obs.balance_records.tail()"
   ]
  },
  {
   "cell_type": "markdown",
   "id": "20c86706",
   "metadata": {},
   "source": [
    "#### 持仓记录"
   ]
  },
  {
   "cell_type": "code",
   "execution_count": 42,
   "id": "4d04d17b",
   "metadata": {
    "ExecuteTime": {
     "end_time": "2023-05-18T11:02:26.748340Z",
     "start_time": "2023-05-18T11:02:26.621577Z"
    }
   },
   "outputs": [
    {
     "data": {
      "text/html": [
       "<div>\n",
       "<style scoped>\n",
       "    .dataframe tbody tr th:only-of-type {\n",
       "        vertical-align: middle;\n",
       "    }\n",
       "\n",
       "    .dataframe tbody tr th {\n",
       "        vertical-align: top;\n",
       "    }\n",
       "\n",
       "    .dataframe thead th {\n",
       "        text-align: right;\n",
       "    }\n",
       "</style>\n",
       "<table border=\"1\" class=\"dataframe\">\n",
       "  <thead>\n",
       "    <tr style=\"text-align: right;\">\n",
       "      <th></th>\n",
       "      <th>recordTime</th>\n",
       "      <th>orderID</th>\n",
       "      <th>tradeID</th>\n",
       "      <th>secuType</th>\n",
       "      <th>code</th>\n",
       "      <th>transTime</th>\n",
       "      <th>transPrice</th>\n",
       "      <th>settlePrice</th>\n",
       "      <th>volume</th>\n",
       "      <th>frozenVol</th>\n",
       "      <th>date</th>\n",
       "      <th>mktv</th>\n",
       "    </tr>\n",
       "  </thead>\n",
       "  <tbody>\n",
       "    <tr>\n",
       "      <th>0</th>\n",
       "      <td>2018-01-03</td>\n",
       "      <td>0</td>\n",
       "      <td>0</td>\n",
       "      <td>stock_daily</td>\n",
       "      <td>000875.SZ</td>\n",
       "      <td>2018-01-02 15:00:00</td>\n",
       "      <td>5.489387</td>\n",
       "      <td>5.489387</td>\n",
       "      <td>1.408787e+08</td>\n",
       "      <td>-0.0</td>\n",
       "      <td>2018-01-03</td>\n",
       "      <td>7.733376e+08</td>\n",
       "    </tr>\n",
       "    <tr>\n",
       "      <th>1</th>\n",
       "      <td>2018-01-03</td>\n",
       "      <td>2</td>\n",
       "      <td>1</td>\n",
       "      <td>stock_daily</td>\n",
       "      <td>000927.SZ</td>\n",
       "      <td>2018-01-02 15:00:00</td>\n",
       "      <td>7.242114</td>\n",
       "      <td>7.242114</td>\n",
       "      <td>1.419708e+08</td>\n",
       "      <td>-0.0</td>\n",
       "      <td>2018-01-03</td>\n",
       "      <td>1.028169e+09</td>\n",
       "    </tr>\n",
       "    <tr>\n",
       "      <th>2</th>\n",
       "      <td>2018-01-03</td>\n",
       "      <td>3</td>\n",
       "      <td>2</td>\n",
       "      <td>stock_daily</td>\n",
       "      <td>000166.SZ</td>\n",
       "      <td>2018-01-02 15:00:00</td>\n",
       "      <td>7.521514</td>\n",
       "      <td>7.521514</td>\n",
       "      <td>1.417069e+08</td>\n",
       "      <td>-0.0</td>\n",
       "      <td>2018-01-03</td>\n",
       "      <td>1.065850e+09</td>\n",
       "    </tr>\n",
       "    <tr>\n",
       "      <th>3</th>\n",
       "      <td>2018-01-03</td>\n",
       "      <td>4</td>\n",
       "      <td>3</td>\n",
       "      <td>stock_daily</td>\n",
       "      <td>000931.SZ</td>\n",
       "      <td>2018-01-02 15:00:00</td>\n",
       "      <td>8.182565</td>\n",
       "      <td>8.182565</td>\n",
       "      <td>1.436168e+08</td>\n",
       "      <td>-0.0</td>\n",
       "      <td>2018-01-03</td>\n",
       "      <td>1.175154e+09</td>\n",
       "    </tr>\n",
       "    <tr>\n",
       "      <th>4</th>\n",
       "      <td>2018-01-04</td>\n",
       "      <td>0</td>\n",
       "      <td>0</td>\n",
       "      <td>stock_daily</td>\n",
       "      <td>000875.SZ</td>\n",
       "      <td>2018-01-02 15:00:00</td>\n",
       "      <td>5.489387</td>\n",
       "      <td>5.573839</td>\n",
       "      <td>1.408787e+08</td>\n",
       "      <td>-0.0</td>\n",
       "      <td>2018-01-04</td>\n",
       "      <td>7.852351e+08</td>\n",
       "    </tr>\n",
       "    <tr>\n",
       "      <th>...</th>\n",
       "      <td>...</td>\n",
       "      <td>...</td>\n",
       "      <td>...</td>\n",
       "      <td>...</td>\n",
       "      <td>...</td>\n",
       "      <td>...</td>\n",
       "      <td>...</td>\n",
       "      <td>...</td>\n",
       "      <td>...</td>\n",
       "      <td>...</td>\n",
       "      <td>...</td>\n",
       "      <td>...</td>\n",
       "    </tr>\n",
       "    <tr>\n",
       "      <th>5525</th>\n",
       "      <td>2022-01-01</td>\n",
       "      <td>1860</td>\n",
       "      <td>1844</td>\n",
       "      <td>stock_daily</td>\n",
       "      <td>000585.SZ</td>\n",
       "      <td>2021-12-29 15:00:00</td>\n",
       "      <td>2.608823</td>\n",
       "      <td>2.621612</td>\n",
       "      <td>2.051892e+08</td>\n",
       "      <td>-0.0</td>\n",
       "      <td>2022-01-01</td>\n",
       "      <td>5.379264e+08</td>\n",
       "    </tr>\n",
       "    <tr>\n",
       "      <th>5526</th>\n",
       "      <td>2022-01-01</td>\n",
       "      <td>1861</td>\n",
       "      <td>1845</td>\n",
       "      <td>stock_daily</td>\n",
       "      <td>000927.SZ</td>\n",
       "      <td>2021-12-29 15:00:00</td>\n",
       "      <td>5.638050</td>\n",
       "      <td>5.622168</td>\n",
       "      <td>2.050383e+08</td>\n",
       "      <td>-0.0</td>\n",
       "      <td>2022-01-01</td>\n",
       "      <td>1.152760e+09</td>\n",
       "    </tr>\n",
       "    <tr>\n",
       "      <th>5527</th>\n",
       "      <td>2022-01-01</td>\n",
       "      <td>1862</td>\n",
       "      <td>1846</td>\n",
       "      <td>stock_daily</td>\n",
       "      <td>000882.SZ</td>\n",
       "      <td>2021-12-29 15:00:00</td>\n",
       "      <td>5.637086</td>\n",
       "      <td>5.696737</td>\n",
       "      <td>2.051090e+08</td>\n",
       "      <td>-0.0</td>\n",
       "      <td>2022-01-01</td>\n",
       "      <td>1.168452e+09</td>\n",
       "    </tr>\n",
       "    <tr>\n",
       "      <th>5528</th>\n",
       "      <td>2022-01-01</td>\n",
       "      <td>1863</td>\n",
       "      <td>1847</td>\n",
       "      <td>stock_daily</td>\n",
       "      <td>000613.SZ</td>\n",
       "      <td>2021-12-29 15:00:00</td>\n",
       "      <td>5.519800</td>\n",
       "      <td>5.834400</td>\n",
       "      <td>2.104736e+08</td>\n",
       "      <td>-0.0</td>\n",
       "      <td>2022-01-01</td>\n",
       "      <td>1.227987e+09</td>\n",
       "    </tr>\n",
       "    <tr>\n",
       "      <th>5529</th>\n",
       "      <td>2022-01-01</td>\n",
       "      <td>1864</td>\n",
       "      <td>1848</td>\n",
       "      <td>stock_daily</td>\n",
       "      <td>000687.SZ</td>\n",
       "      <td>2021-12-29 15:00:00</td>\n",
       "      <td>6.111182</td>\n",
       "      <td>6.111182</td>\n",
       "      <td>2.096559e+08</td>\n",
       "      <td>-0.0</td>\n",
       "      <td>2022-01-01</td>\n",
       "      <td>1.281245e+09</td>\n",
       "    </tr>\n",
       "  </tbody>\n",
       "</table>\n",
       "<p>5530 rows × 12 columns</p>\n",
       "</div>"
      ],
      "text/plain": [
       "     recordTime  orderID  tradeID     secuType       code           transTime   \n",
       "0    2018-01-03        0        0  stock_daily  000875.SZ 2018-01-02 15:00:00  \\\n",
       "1    2018-01-03        2        1  stock_daily  000927.SZ 2018-01-02 15:00:00   \n",
       "2    2018-01-03        3        2  stock_daily  000166.SZ 2018-01-02 15:00:00   \n",
       "3    2018-01-03        4        3  stock_daily  000931.SZ 2018-01-02 15:00:00   \n",
       "4    2018-01-04        0        0  stock_daily  000875.SZ 2018-01-02 15:00:00   \n",
       "...         ...      ...      ...          ...        ...                 ...   \n",
       "5525 2022-01-01     1860     1844  stock_daily  000585.SZ 2021-12-29 15:00:00   \n",
       "5526 2022-01-01     1861     1845  stock_daily  000927.SZ 2021-12-29 15:00:00   \n",
       "5527 2022-01-01     1862     1846  stock_daily  000882.SZ 2021-12-29 15:00:00   \n",
       "5528 2022-01-01     1863     1847  stock_daily  000613.SZ 2021-12-29 15:00:00   \n",
       "5529 2022-01-01     1864     1848  stock_daily  000687.SZ 2021-12-29 15:00:00   \n",
       "\n",
       "      transPrice  settlePrice        volume  frozenVol        date   \n",
       "0       5.489387     5.489387  1.408787e+08       -0.0  2018-01-03  \\\n",
       "1       7.242114     7.242114  1.419708e+08       -0.0  2018-01-03   \n",
       "2       7.521514     7.521514  1.417069e+08       -0.0  2018-01-03   \n",
       "3       8.182565     8.182565  1.436168e+08       -0.0  2018-01-03   \n",
       "4       5.489387     5.573839  1.408787e+08       -0.0  2018-01-04   \n",
       "...          ...          ...           ...        ...         ...   \n",
       "5525    2.608823     2.621612  2.051892e+08       -0.0  2022-01-01   \n",
       "5526    5.638050     5.622168  2.050383e+08       -0.0  2022-01-01   \n",
       "5527    5.637086     5.696737  2.051090e+08       -0.0  2022-01-01   \n",
       "5528    5.519800     5.834400  2.104736e+08       -0.0  2022-01-01   \n",
       "5529    6.111182     6.111182  2.096559e+08       -0.0  2022-01-01   \n",
       "\n",
       "              mktv  \n",
       "0     7.733376e+08  \n",
       "1     1.028169e+09  \n",
       "2     1.065850e+09  \n",
       "3     1.175154e+09  \n",
       "4     7.852351e+08  \n",
       "...            ...  \n",
       "5525  5.379264e+08  \n",
       "5526  1.152760e+09  \n",
       "5527  1.168452e+09  \n",
       "5528  1.227987e+09  \n",
       "5529  1.281245e+09  \n",
       "\n",
       "[5530 rows x 12 columns]"
      ]
     },
     "execution_count": 42,
     "metadata": {},
     "output_type": "execute_result"
    }
   ],
   "source": [
    "obs.position_records"
   ]
  },
  {
   "cell_type": "markdown",
   "id": "fe3b87f9",
   "metadata": {},
   "source": [
    "### 检查"
   ]
  },
  {
   "cell_type": "markdown",
   "id": "df084862",
   "metadata": {},
   "source": [
    "持仓资产+现金等于基金净值"
   ]
  },
  {
   "cell_type": "code",
   "execution_count": 43,
   "id": "e67e3987",
   "metadata": {
    "ExecuteTime": {
     "end_time": "2023-05-18T11:02:28.453394Z",
     "start_time": "2023-05-18T11:02:28.157887Z"
    },
    "scrolled": true
   },
   "outputs": [
    {
     "data": {
      "text/html": [
       "<div>\n",
       "<style scoped>\n",
       "    .dataframe tbody tr th:only-of-type {\n",
       "        vertical-align: middle;\n",
       "    }\n",
       "\n",
       "    .dataframe tbody tr th {\n",
       "        vertical-align: top;\n",
       "    }\n",
       "\n",
       "    .dataframe thead th {\n",
       "        text-align: right;\n",
       "    }\n",
       "</style>\n",
       "<table border=\"1\" class=\"dataframe\">\n",
       "  <thead>\n",
       "    <tr style=\"text-align: right;\">\n",
       "      <th></th>\n",
       "      <th>netAsset</th>\n",
       "      <th>cash</th>\n",
       "      <th>position_asset</th>\n",
       "      <th>netAsset_cal</th>\n",
       "    </tr>\n",
       "    <tr>\n",
       "      <th>recordTime</th>\n",
       "      <th></th>\n",
       "      <th></th>\n",
       "      <th></th>\n",
       "      <th></th>\n",
       "    </tr>\n",
       "  </thead>\n",
       "  <tbody>\n",
       "    <tr>\n",
       "      <th>2018-01-01</th>\n",
       "      <td>1.000000e+10</td>\n",
       "      <td>1.000000e+10</td>\n",
       "      <td>NaN</td>\n",
       "      <td>1.000000e+10</td>\n",
       "    </tr>\n",
       "    <tr>\n",
       "      <th>2018-01-02</th>\n",
       "      <td>1.000000e+10</td>\n",
       "      <td>1.000000e+10</td>\n",
       "      <td>NaN</td>\n",
       "      <td>1.000000e+10</td>\n",
       "    </tr>\n",
       "    <tr>\n",
       "      <th>2018-01-03</th>\n",
       "      <td>9.997979e+09</td>\n",
       "      <td>5.955468e+09</td>\n",
       "      <td>4.042510e+09</td>\n",
       "      <td>9.997979e+09</td>\n",
       "    </tr>\n",
       "    <tr>\n",
       "      <th>2018-01-04</th>\n",
       "      <td>1.003740e+10</td>\n",
       "      <td>5.955468e+09</td>\n",
       "      <td>4.081931e+09</td>\n",
       "      <td>1.003740e+10</td>\n",
       "    </tr>\n",
       "    <tr>\n",
       "      <th>2018-01-05</th>\n",
       "      <td>1.002434e+10</td>\n",
       "      <td>5.955468e+09</td>\n",
       "      <td>4.068873e+09</td>\n",
       "      <td>1.002434e+10</td>\n",
       "    </tr>\n",
       "    <tr>\n",
       "      <th>...</th>\n",
       "      <td>...</td>\n",
       "      <td>...</td>\n",
       "      <td>...</td>\n",
       "      <td>...</td>\n",
       "    </tr>\n",
       "    <tr>\n",
       "      <th>2021-12-28</th>\n",
       "      <td>1.058617e+10</td>\n",
       "      <td>5.378084e+09</td>\n",
       "      <td>5.208083e+09</td>\n",
       "      <td>1.058617e+10</td>\n",
       "    </tr>\n",
       "    <tr>\n",
       "      <th>2021-12-29</th>\n",
       "      <td>1.058640e+10</td>\n",
       "      <td>1.058640e+10</td>\n",
       "      <td>NaN</td>\n",
       "      <td>1.058640e+10</td>\n",
       "    </tr>\n",
       "    <tr>\n",
       "      <th>2021-12-30</th>\n",
       "      <td>1.058375e+10</td>\n",
       "      <td>5.293198e+09</td>\n",
       "      <td>5.290553e+09</td>\n",
       "      <td>1.058375e+10</td>\n",
       "    </tr>\n",
       "    <tr>\n",
       "      <th>2021-12-31</th>\n",
       "      <td>1.063562e+10</td>\n",
       "      <td>5.293198e+09</td>\n",
       "      <td>5.342421e+09</td>\n",
       "      <td>1.063562e+10</td>\n",
       "    </tr>\n",
       "    <tr>\n",
       "      <th>2022-01-01</th>\n",
       "      <td>1.066157e+10</td>\n",
       "      <td>5.293198e+09</td>\n",
       "      <td>5.368370e+09</td>\n",
       "      <td>1.066157e+10</td>\n",
       "    </tr>\n",
       "  </tbody>\n",
       "</table>\n",
       "<p>1462 rows × 4 columns</p>\n",
       "</div>"
      ],
      "text/plain": [
       "                netAsset          cash  position_asset  netAsset_cal\n",
       "recordTime                                                          \n",
       "2018-01-01  1.000000e+10  1.000000e+10             NaN  1.000000e+10\n",
       "2018-01-02  1.000000e+10  1.000000e+10             NaN  1.000000e+10\n",
       "2018-01-03  9.997979e+09  5.955468e+09    4.042510e+09  9.997979e+09\n",
       "2018-01-04  1.003740e+10  5.955468e+09    4.081931e+09  1.003740e+10\n",
       "2018-01-05  1.002434e+10  5.955468e+09    4.068873e+09  1.002434e+10\n",
       "...                  ...           ...             ...           ...\n",
       "2021-12-28  1.058617e+10  5.378084e+09    5.208083e+09  1.058617e+10\n",
       "2021-12-29  1.058640e+10  1.058640e+10             NaN  1.058640e+10\n",
       "2021-12-30  1.058375e+10  5.293198e+09    5.290553e+09  1.058375e+10\n",
       "2021-12-31  1.063562e+10  5.293198e+09    5.342421e+09  1.063562e+10\n",
       "2022-01-01  1.066157e+10  5.293198e+09    5.368370e+09  1.066157e+10\n",
       "\n",
       "[1462 rows x 4 columns]"
      ]
     },
     "execution_count": 43,
     "metadata": {},
     "output_type": "execute_result"
    }
   ],
   "source": [
    "obs.check_position_net()"
   ]
  },
  {
   "cell_type": "markdown",
   "id": "e3675067",
   "metadata": {},
   "source": [
    "期初期末持仓价值变动+期间的交易的费用=期初期末净资产的变动"
   ]
  },
  {
   "cell_type": "code",
   "execution_count": 44,
   "id": "86633208",
   "metadata": {
    "ExecuteTime": {
     "end_time": "2023-05-18T11:02:29.633251Z",
     "start_time": "2023-05-18T11:02:29.510455Z"
    },
    "scrolled": true
   },
   "outputs": [
    {
     "data": {
      "text/plain": [
       "{'nav_end': 10661568085.042217,\n",
       " 'nav_start': 9997978744.789328,\n",
       " 'trade_amount': -1085238653.2366724,\n",
       " 'trade_cost': 1747509162.2432728,\n",
       " 'pv_end': 5368370270.60375,\n",
       " 'pv_start': 4042510421.344275,\n",
       " 'nav_end_cal': 10661568085.042204}"
      ]
     },
     "execution_count": 44,
     "metadata": {},
     "output_type": "execute_result"
    }
   ],
   "source": [
    "obs.check_trade_net()"
   ]
  },
  {
   "cell_type": "markdown",
   "id": "7c0fbd55",
   "metadata": {},
   "source": [
    "期末持仓等于期初持仓+期间的交易"
   ]
  },
  {
   "cell_type": "code",
   "execution_count": 45,
   "id": "8bf2b0f5",
   "metadata": {
    "ExecuteTime": {
     "end_time": "2023-05-18T11:02:30.684420Z",
     "start_time": "2023-05-18T11:02:30.542390Z"
    }
   },
   "outputs": [
    {
     "data": {
      "text/html": [
       "<div>\n",
       "<style scoped>\n",
       "    .dataframe tbody tr th:only-of-type {\n",
       "        vertical-align: middle;\n",
       "    }\n",
       "\n",
       "    .dataframe tbody tr th {\n",
       "        vertical-align: top;\n",
       "    }\n",
       "\n",
       "    .dataframe thead th {\n",
       "        text-align: right;\n",
       "    }\n",
       "</style>\n",
       "<table border=\"1\" class=\"dataframe\">\n",
       "  <thead>\n",
       "    <tr style=\"text-align: right;\">\n",
       "      <th></th>\n",
       "      <th></th>\n",
       "      <th>volume_start</th>\n",
       "      <th>volume_trade</th>\n",
       "      <th>volume_end</th>\n",
       "      <th>volume_net</th>\n",
       "    </tr>\n",
       "    <tr>\n",
       "      <th>secuType</th>\n",
       "      <th>code</th>\n",
       "      <th></th>\n",
       "      <th></th>\n",
       "      <th></th>\n",
       "      <th></th>\n",
       "    </tr>\n",
       "  </thead>\n",
       "  <tbody>\n",
       "    <tr>\n",
       "      <th rowspan=\"23\" valign=\"top\">stock_daily</th>\n",
       "      <th>000166.SZ</th>\n",
       "      <td>1.417069e+08</td>\n",
       "      <td>-1.417069e+08</td>\n",
       "      <td>NaN</td>\n",
       "      <td>0.0</td>\n",
       "    </tr>\n",
       "    <tr>\n",
       "      <th>000875.SZ</th>\n",
       "      <td>1.408787e+08</td>\n",
       "      <td>-1.408787e+08</td>\n",
       "      <td>NaN</td>\n",
       "      <td>0.0</td>\n",
       "    </tr>\n",
       "    <tr>\n",
       "      <th>000927.SZ</th>\n",
       "      <td>1.419708e+08</td>\n",
       "      <td>6.306753e+07</td>\n",
       "      <td>2.050383e+08</td>\n",
       "      <td>0.0</td>\n",
       "    </tr>\n",
       "    <tr>\n",
       "      <th>000931.SZ</th>\n",
       "      <td>1.436168e+08</td>\n",
       "      <td>-1.436168e+08</td>\n",
       "      <td>NaN</td>\n",
       "      <td>0.0</td>\n",
       "    </tr>\n",
       "    <tr>\n",
       "      <th>000068.SZ</th>\n",
       "      <td>NaN</td>\n",
       "      <td>0.000000e+00</td>\n",
       "      <td>NaN</td>\n",
       "      <td>0.0</td>\n",
       "    </tr>\n",
       "    <tr>\n",
       "      <th>000155.SZ</th>\n",
       "      <td>NaN</td>\n",
       "      <td>0.000000e+00</td>\n",
       "      <td>NaN</td>\n",
       "      <td>0.0</td>\n",
       "    </tr>\n",
       "    <tr>\n",
       "      <th>000533.SZ</th>\n",
       "      <td>NaN</td>\n",
       "      <td>0.000000e+00</td>\n",
       "      <td>NaN</td>\n",
       "      <td>0.0</td>\n",
       "    </tr>\n",
       "    <tr>\n",
       "      <th>000536.SZ</th>\n",
       "      <td>NaN</td>\n",
       "      <td>0.000000e+00</td>\n",
       "      <td>NaN</td>\n",
       "      <td>0.0</td>\n",
       "    </tr>\n",
       "    <tr>\n",
       "      <th>000585.SZ</th>\n",
       "      <td>NaN</td>\n",
       "      <td>2.051892e+08</td>\n",
       "      <td>2.051892e+08</td>\n",
       "      <td>0.0</td>\n",
       "    </tr>\n",
       "    <tr>\n",
       "      <th>000613.SZ</th>\n",
       "      <td>NaN</td>\n",
       "      <td>2.104736e+08</td>\n",
       "      <td>2.104736e+08</td>\n",
       "      <td>0.0</td>\n",
       "    </tr>\n",
       "    <tr>\n",
       "      <th>000620.SZ</th>\n",
       "      <td>NaN</td>\n",
       "      <td>0.000000e+00</td>\n",
       "      <td>NaN</td>\n",
       "      <td>0.0</td>\n",
       "    </tr>\n",
       "    <tr>\n",
       "      <th>000662.SZ</th>\n",
       "      <td>NaN</td>\n",
       "      <td>0.000000e+00</td>\n",
       "      <td>NaN</td>\n",
       "      <td>0.0</td>\n",
       "    </tr>\n",
       "    <tr>\n",
       "      <th>000669.SZ</th>\n",
       "      <td>NaN</td>\n",
       "      <td>0.000000e+00</td>\n",
       "      <td>NaN</td>\n",
       "      <td>0.0</td>\n",
       "    </tr>\n",
       "    <tr>\n",
       "      <th>000687.SZ</th>\n",
       "      <td>NaN</td>\n",
       "      <td>2.096559e+08</td>\n",
       "      <td>2.096559e+08</td>\n",
       "      <td>0.0</td>\n",
       "    </tr>\n",
       "    <tr>\n",
       "      <th>000761.SZ</th>\n",
       "      <td>NaN</td>\n",
       "      <td>0.000000e+00</td>\n",
       "      <td>NaN</td>\n",
       "      <td>0.0</td>\n",
       "    </tr>\n",
       "    <tr>\n",
       "      <th>000809.SZ</th>\n",
       "      <td>NaN</td>\n",
       "      <td>0.000000e+00</td>\n",
       "      <td>NaN</td>\n",
       "      <td>0.0</td>\n",
       "    </tr>\n",
       "    <tr>\n",
       "      <th>000820.SZ</th>\n",
       "      <td>NaN</td>\n",
       "      <td>0.000000e+00</td>\n",
       "      <td>NaN</td>\n",
       "      <td>0.0</td>\n",
       "    </tr>\n",
       "    <tr>\n",
       "      <th>000882.SZ</th>\n",
       "      <td>NaN</td>\n",
       "      <td>2.051090e+08</td>\n",
       "      <td>2.051090e+08</td>\n",
       "      <td>0.0</td>\n",
       "    </tr>\n",
       "    <tr>\n",
       "      <th>000918.SZ</th>\n",
       "      <td>NaN</td>\n",
       "      <td>0.000000e+00</td>\n",
       "      <td>NaN</td>\n",
       "      <td>0.0</td>\n",
       "    </tr>\n",
       "    <tr>\n",
       "      <th>000972.SZ</th>\n",
       "      <td>NaN</td>\n",
       "      <td>0.000000e+00</td>\n",
       "      <td>NaN</td>\n",
       "      <td>0.0</td>\n",
       "    </tr>\n",
       "    <tr>\n",
       "      <th>000980.SZ</th>\n",
       "      <td>NaN</td>\n",
       "      <td>0.000000e+00</td>\n",
       "      <td>NaN</td>\n",
       "      <td>0.0</td>\n",
       "    </tr>\n",
       "    <tr>\n",
       "      <th>000981.SZ</th>\n",
       "      <td>NaN</td>\n",
       "      <td>0.000000e+00</td>\n",
       "      <td>NaN</td>\n",
       "      <td>0.0</td>\n",
       "    </tr>\n",
       "    <tr>\n",
       "      <th>000995.SZ</th>\n",
       "      <td>NaN</td>\n",
       "      <td>0.000000e+00</td>\n",
       "      <td>NaN</td>\n",
       "      <td>0.0</td>\n",
       "    </tr>\n",
       "  </tbody>\n",
       "</table>\n",
       "</div>"
      ],
      "text/plain": [
       "                       volume_start  volume_trade    volume_end  volume_net\n",
       "secuType    code                                                           \n",
       "stock_daily 000166.SZ  1.417069e+08 -1.417069e+08           NaN         0.0\n",
       "            000875.SZ  1.408787e+08 -1.408787e+08           NaN         0.0\n",
       "            000927.SZ  1.419708e+08  6.306753e+07  2.050383e+08         0.0\n",
       "            000931.SZ  1.436168e+08 -1.436168e+08           NaN         0.0\n",
       "            000068.SZ           NaN  0.000000e+00           NaN         0.0\n",
       "            000155.SZ           NaN  0.000000e+00           NaN         0.0\n",
       "            000533.SZ           NaN  0.000000e+00           NaN         0.0\n",
       "            000536.SZ           NaN  0.000000e+00           NaN         0.0\n",
       "            000585.SZ           NaN  2.051892e+08  2.051892e+08         0.0\n",
       "            000613.SZ           NaN  2.104736e+08  2.104736e+08         0.0\n",
       "            000620.SZ           NaN  0.000000e+00           NaN         0.0\n",
       "            000662.SZ           NaN  0.000000e+00           NaN         0.0\n",
       "            000669.SZ           NaN  0.000000e+00           NaN         0.0\n",
       "            000687.SZ           NaN  2.096559e+08  2.096559e+08         0.0\n",
       "            000761.SZ           NaN  0.000000e+00           NaN         0.0\n",
       "            000809.SZ           NaN  0.000000e+00           NaN         0.0\n",
       "            000820.SZ           NaN  0.000000e+00           NaN         0.0\n",
       "            000882.SZ           NaN  2.051090e+08  2.051090e+08         0.0\n",
       "            000918.SZ           NaN  0.000000e+00           NaN         0.0\n",
       "            000972.SZ           NaN  0.000000e+00           NaN         0.0\n",
       "            000980.SZ           NaN  0.000000e+00           NaN         0.0\n",
       "            000981.SZ           NaN  0.000000e+00           NaN         0.0\n",
       "            000995.SZ           NaN  0.000000e+00           NaN         0.0"
      ]
     },
     "execution_count": 45,
     "metadata": {},
     "output_type": "execute_result"
    }
   ],
   "source": [
    "obs.check_trade_position()"
   ]
  },
  {
   "cell_type": "markdown",
   "id": "b14d3739",
   "metadata": {},
   "source": [
    "### 分析"
   ]
  },
  {
   "cell_type": "code",
   "execution_count": 46,
   "id": "caa38c20",
   "metadata": {
    "ExecuteTime": {
     "end_time": "2023-05-18T11:02:31.924919Z",
     "start_time": "2023-05-18T11:02:31.782244Z"
    }
   },
   "outputs": [
    {
     "data": {
      "text/html": [
       "<div>\n",
       "<style scoped>\n",
       "    .dataframe tbody tr th:only-of-type {\n",
       "        vertical-align: middle;\n",
       "    }\n",
       "\n",
       "    .dataframe tbody tr th {\n",
       "        vertical-align: top;\n",
       "    }\n",
       "\n",
       "    .dataframe thead th {\n",
       "        text-align: right;\n",
       "    }\n",
       "</style>\n",
       "<table border=\"1\" class=\"dataframe\">\n",
       "  <thead>\n",
       "    <tr style=\"text-align: right;\">\n",
       "      <th></th>\n",
       "      <th>总收益率</th>\n",
       "      <th>年化收益率</th>\n",
       "      <th>年化风险</th>\n",
       "      <th>最大回撤</th>\n",
       "      <th>夏普比率</th>\n",
       "      <th>信息比率</th>\n",
       "    </tr>\n",
       "  </thead>\n",
       "  <tbody>\n",
       "    <tr>\n",
       "      <th>netAsset</th>\n",
       "      <td>0.063562</td>\n",
       "      <td>0.015590</td>\n",
       "      <td>0.116182</td>\n",
       "      <td>0.244836</td>\n",
       "      <td>0.134182</td>\n",
       "      <td>-0.135915</td>\n",
       "    </tr>\n",
       "    <tr>\n",
       "      <th>benchmark</th>\n",
       "      <td>0.208683</td>\n",
       "      <td>0.048728</td>\n",
       "      <td>0.204022</td>\n",
       "      <td>0.324620</td>\n",
       "      <td>0.238837</td>\n",
       "      <td>NaN</td>\n",
       "    </tr>\n",
       "  </tbody>\n",
       "</table>\n",
       "</div>"
      ],
      "text/plain": [
       "               总收益率     年化收益率      年化风险      最大回撤      夏普比率      信息比率\n",
       "netAsset   0.063562  0.015590  0.116182  0.244836  0.134182 -0.135915\n",
       "benchmark  0.208683  0.048728  0.204022  0.324620  0.238837       NaN"
      ]
     },
     "execution_count": 46,
     "metadata": {},
     "output_type": "execute_result"
    }
   ],
   "source": [
    "obs.pnl_analyse(freq='day', benchmark=df,  chicol=True)"
   ]
  },
  {
   "cell_type": "code",
   "execution_count": 47,
   "id": "51b4b6a0",
   "metadata": {
    "ExecuteTime": {
     "end_time": "2023-05-18T11:02:32.831155Z",
     "start_time": "2023-05-18T11:02:32.702034Z"
    },
    "scrolled": false
   },
   "outputs": [
    {
     "data": {
      "text/html": [
       "<div>\n",
       "<style scoped>\n",
       "    .dataframe tbody tr th:only-of-type {\n",
       "        vertical-align: middle;\n",
       "    }\n",
       "\n",
       "    .dataframe tbody tr th {\n",
       "        vertical-align: top;\n",
       "    }\n",
       "\n",
       "    .dataframe thead th {\n",
       "        text-align: right;\n",
       "    }\n",
       "</style>\n",
       "<table border=\"1\" class=\"dataframe\">\n",
       "  <thead>\n",
       "    <tr style=\"text-align: right;\">\n",
       "      <th></th>\n",
       "      <th>netAsset</th>\n",
       "      <th>benchmark</th>\n",
       "    </tr>\n",
       "  </thead>\n",
       "  <tbody>\n",
       "    <tr>\n",
       "      <th>2018-01-02</th>\n",
       "      <td>1.000000e+10</td>\n",
       "      <td>4087.4012</td>\n",
       "    </tr>\n",
       "    <tr>\n",
       "      <th>2018-01-03</th>\n",
       "      <td>9.997979e+09</td>\n",
       "      <td>4111.3925</td>\n",
       "    </tr>\n",
       "    <tr>\n",
       "      <th>2018-01-04</th>\n",
       "      <td>1.003740e+10</td>\n",
       "      <td>4128.8119</td>\n",
       "    </tr>\n",
       "    <tr>\n",
       "      <th>2018-01-05</th>\n",
       "      <td>1.002434e+10</td>\n",
       "      <td>4138.7505</td>\n",
       "    </tr>\n",
       "    <tr>\n",
       "      <th>2018-01-08</th>\n",
       "      <td>1.007038e+10</td>\n",
       "      <td>4160.1595</td>\n",
       "    </tr>\n",
       "    <tr>\n",
       "      <th>...</th>\n",
       "      <td>...</td>\n",
       "      <td>...</td>\n",
       "    </tr>\n",
       "    <tr>\n",
       "      <th>2021-12-27</th>\n",
       "      <td>1.055769e+10</td>\n",
       "      <td>4919.3238</td>\n",
       "    </tr>\n",
       "    <tr>\n",
       "      <th>2021-12-28</th>\n",
       "      <td>1.058617e+10</td>\n",
       "      <td>4955.9644</td>\n",
       "    </tr>\n",
       "    <tr>\n",
       "      <th>2021-12-29</th>\n",
       "      <td>1.058640e+10</td>\n",
       "      <td>4883.4804</td>\n",
       "    </tr>\n",
       "    <tr>\n",
       "      <th>2021-12-30</th>\n",
       "      <td>1.058375e+10</td>\n",
       "      <td>4921.5109</td>\n",
       "    </tr>\n",
       "    <tr>\n",
       "      <th>2021-12-31</th>\n",
       "      <td>1.063562e+10</td>\n",
       "      <td>4940.3733</td>\n",
       "    </tr>\n",
       "  </tbody>\n",
       "</table>\n",
       "<p>973 rows × 2 columns</p>\n",
       "</div>"
      ],
      "text/plain": [
       "                netAsset  benchmark\n",
       "2018-01-02  1.000000e+10  4087.4012\n",
       "2018-01-03  9.997979e+09  4111.3925\n",
       "2018-01-04  1.003740e+10  4128.8119\n",
       "2018-01-05  1.002434e+10  4138.7505\n",
       "2018-01-08  1.007038e+10  4160.1595\n",
       "...                  ...        ...\n",
       "2021-12-27  1.055769e+10  4919.3238\n",
       "2021-12-28  1.058617e+10  4955.9644\n",
       "2021-12-29  1.058640e+10  4883.4804\n",
       "2021-12-30  1.058375e+10  4921.5109\n",
       "2021-12-31  1.063562e+10  4940.3733\n",
       "\n",
       "[973 rows x 2 columns]"
      ]
     },
     "execution_count": 47,
     "metadata": {},
     "output_type": "execute_result"
    }
   ],
   "source": [
    "obs.get_pnl_net(benchmark=df, freq='day')"
   ]
  },
  {
   "cell_type": "code",
   "execution_count": 48,
   "id": "cf6bf0c3",
   "metadata": {
    "ExecuteTime": {
     "end_time": "2023-05-18T11:02:38.297774Z",
     "start_time": "2023-05-18T11:02:37.997153Z"
    }
   },
   "outputs": [
    {
     "data": {
      "image/png": "[encoded data removed]",
      "text/plain": [
       "<Figure size 1000x500 with 1 Axes>"
      ]
     },
     "execution_count": 48,
     "metadata": {},
     "output_type": "execute_result"
    }
   ],
   "source": [
    "obs.pnl_plot(title='测试',benchmark=df, freq='day')"
   ]
  },
  {
   "cell_type": "markdown",
   "id": "a7556168",
   "metadata": {},
   "source": [
    "# 添加新市场和新的订单策略"
   ]
  },
  {
   "cell_type": "markdown",
   "id": "a74c3c5b",
   "metadata": {},
   "source": [
    "1. 在dataframe框架下， 同一个市场类型（SecuType）的市场类和订单策略类要放在一个模块下（参考stock_daily)\n",
    "2. 市场类型和策略订单类型要在constant脚本中的SecuType, OrderType下添加成员"
   ]
  },
  {
   "cell_type": "markdown",
   "id": "de17831a",
   "metadata": {},
   "source": [
    "## 新增市场要点"
   ]
  },
  {
   "cell_type": "markdown",
   "id": "aa94f2d6",
   "metadata": {},
   "source": [
    "1. 类变量实现手续费率与证券类型\n",
    "2. 初始化方法：\n",
    "    1. start_data为参数， 确定数据读取的范围，如果有其它参数建议传入默认值\n",
    "    1. 执行后， 实例需要有self.data, self.trigger_events属性\n",
    "3. init方法必须实现，执行后市场状态会改变至t时刻之间\n",
    "4. on_trigger方法必须实现，定义了遇到行情推动事件时市场状态如何改变 \n",
    "5. settlement方法必须实现，输入持仓数据， 返回结算好的持仓数据与盈利值"
   ]
  },
  {
   "cell_type": "markdown",
   "id": "59cf1a2c",
   "metadata": {},
   "source": [
    "## 新增订单策略要点"
   ]
  },
  {
   "cell_type": "markdown",
   "id": "74ec4aac",
   "metadata": {},
   "source": [
    "1. 类变量实现证券类型与订单类型\n",
    "2. 实现send_orders方法\n",
    "    1. 传入参数要包含order_seq参数， 确定订单执行的相对顺序\n",
    "    2. 函数实现后要执行两行代码：\n",
    "        1. self.observer.add_active_orders(order_data)  # 提交订单\n",
    "        2. self.observer.cal_frozen()  # 计算冻结的资金和冻结的持仓\n",
    "    3. 函数内部实现该类订单的生成的过程\n",
    "2. 基于行情推动事件的交易逻辑（如 on_close）：\n",
    "    1. 方法以‘on_’+ EventType.value的形式命名\n",
    "    2. 方法的输入为属于该订单策略处理的订单数据\n",
    "    3. 方法的输出为订单的三个去向\n",
    "        1. 未完成交易并继续执行订单；\n",
    "        2. 未完成交易并取消订单；\n",
    "        3. 完成交易。\n",
    "    4. 市场有几个行情推动事件， 订单策略就必须实现几个对应的方法，如果不准备调用该方法直接pass也可以\n"
   ]
  },
  {
   "cell_type": "markdown",
   "id": "f1ca172e",
   "metadata": {},
   "source": [
    "# 新的订单策略-VWAP"
   ]
  },
  {
   "cell_type": "code",
   "execution_count": 56,
   "id": "ac4507de",
   "metadata": {
    "ExecuteTime": {
     "end_time": "2023-05-18T11:11:55.020766Z",
     "start_time": "2023-05-18T11:11:54.506915Z"
    }
   },
   "outputs": [],
   "source": [
    "class PMVWAP(PMPandas):\n",
    "    \"\"\"基金经理（策略）的具体实现\"\"\"\n",
    "    ratio_limit = 0.001\n",
    "\n",
    "    def init(self):\n",
    "        # 获取市场数据， 粗略计算距离退市的时间\n",
    "        data = self.get_mkt_data()\n",
    "        data['ndelist'] = data.groupby(\n",
    "            'code', group_keys=False)['tradeDate'].apply(\n",
    "                lambda x: pd.Series(range(len(x), 0, -1), index=x.index))\n",
    "\n",
    "        # 初始化一个计数的变量\n",
    "        self.open_count = 0\n",
    "\n",
    "    def after_open(self):\n",
    "        if self.open_count % 5 == 0:\n",
    "            self.cancel_orders(self.active_orders.query(\"targetVol > 0\"))\n",
    "            data = self.get_mkt_frame()\n",
    "            data = data.sort_values('settlePrice').head(5).query(\n",
    "                \"ndelist > 30\")\n",
    "            data['ratio_relative'] = data['settlePrice']  # 以价格为成交比例\n",
    "            data['code'] = data.index\n",
    "            self.send_orders(\n",
    "                data[['code', 'ratio_relative']].copy(),\n",
    "                ratio_to_netasset=0.5,  # 二分之一的现金去交易\n",
    "                vwap_volume_limit_ratio=self.ratio_limit,\n",
    "                order_type='ratio_vwap',\n",
    "                order_seq=1)  # 交易优先级靠后， 保证有足够的资金释放\n",
    "        self.open_count += 1\n",
    "\n",
    "    def after_close(self):\n",
    "        if (self.open_count + 1) % 5 == 0:\n",
    "            self.sell_position(self.position,\n",
    "                               order_seq=0)  # 交易优先级靠前， 保证有足够的资金释放\n",
    "\n",
    "    def __str__(self):\n",
    "        return (\"vwap订单测试\")"
   ]
  },
  {
   "cell_type": "code",
   "execution_count": 59,
   "id": "76a693af",
   "metadata": {
    "ExecuteTime": {
     "end_time": "2023-05-18T11:14:26.362801Z",
     "start_time": "2023-05-18T11:14:10.458908Z"
    }
   },
   "outputs": [
    {
     "data": {
      "text/html": [
       "<div>\n",
       "<style scoped>\n",
       "    .dataframe tbody tr th:only-of-type {\n",
       "        vertical-align: middle;\n",
       "    }\n",
       "\n",
       "    .dataframe tbody tr th {\n",
       "        vertical-align: top;\n",
       "    }\n",
       "\n",
       "    .dataframe thead th {\n",
       "        text-align: right;\n",
       "    }\n",
       "</style>\n",
       "<table border=\"1\" class=\"dataframe\">\n",
       "  <thead>\n",
       "    <tr style=\"text-align: right;\">\n",
       "      <th></th>\n",
       "      <th>tradeID</th>\n",
       "      <th>orderID</th>\n",
       "      <th>secuType</th>\n",
       "      <th>code</th>\n",
       "      <th>transTime</th>\n",
       "      <th>direction</th>\n",
       "      <th>transPrice</th>\n",
       "      <th>transVol</th>\n",
       "      <th>offsetID</th>\n",
       "      <th>transCost</th>\n",
       "    </tr>\n",
       "  </thead>\n",
       "  <tbody>\n",
       "    <tr>\n",
       "      <th>0</th>\n",
       "      <td>0</td>\n",
       "      <td>0</td>\n",
       "      <td>stock_daily</td>\n",
       "      <td>000585.SZ</td>\n",
       "      <td>2021-01-04 15:00:00</td>\n",
       "      <td>long</td>\n",
       "      <td>2.161231</td>\n",
       "      <td>4360.005</td>\n",
       "      <td>-1</td>\n",
       "      <td>4.711489</td>\n",
       "    </tr>\n",
       "    <tr>\n",
       "      <th>1</th>\n",
       "      <td>1</td>\n",
       "      <td>1</td>\n",
       "      <td>stock_daily</td>\n",
       "      <td>000820.SZ</td>\n",
       "      <td>2021-01-04 15:00:00</td>\n",
       "      <td>long</td>\n",
       "      <td>2.367632</td>\n",
       "      <td>14058.737</td>\n",
       "      <td>-1</td>\n",
       "      <td>16.642957</td>\n",
       "    </tr>\n",
       "    <tr>\n",
       "      <th>2</th>\n",
       "      <td>2</td>\n",
       "      <td>2</td>\n",
       "      <td>stock_daily</td>\n",
       "      <td>000980.SZ</td>\n",
       "      <td>2021-01-04 15:00:00</td>\n",
       "      <td>long</td>\n",
       "      <td>2.830359</td>\n",
       "      <td>15491.800</td>\n",
       "      <td>-1</td>\n",
       "      <td>21.923674</td>\n",
       "    </tr>\n",
       "    <tr>\n",
       "      <th>3</th>\n",
       "      <td>3</td>\n",
       "      <td>3</td>\n",
       "      <td>stock_daily</td>\n",
       "      <td>000662.SZ</td>\n",
       "      <td>2021-01-04 15:00:00</td>\n",
       "      <td>long</td>\n",
       "      <td>4.454720</td>\n",
       "      <td>70238.931</td>\n",
       "      <td>-1</td>\n",
       "      <td>156.447383</td>\n",
       "    </tr>\n",
       "    <tr>\n",
       "      <th>4</th>\n",
       "      <td>4</td>\n",
       "      <td>4</td>\n",
       "      <td>stock_daily</td>\n",
       "      <td>000882.SZ</td>\n",
       "      <td>2021-01-04 15:00:00</td>\n",
       "      <td>long</td>\n",
       "      <td>5.537988</td>\n",
       "      <td>15757.301</td>\n",
       "      <td>-1</td>\n",
       "      <td>43.631873</td>\n",
       "    </tr>\n",
       "  </tbody>\n",
       "</table>\n",
       "</div>"
      ],
      "text/plain": [
       "   tradeID  orderID     secuType       code           transTime direction   \n",
       "0        0        0  stock_daily  000585.SZ 2021-01-04 15:00:00      long  \\\n",
       "1        1        1  stock_daily  000820.SZ 2021-01-04 15:00:00      long   \n",
       "2        2        2  stock_daily  000980.SZ 2021-01-04 15:00:00      long   \n",
       "3        3        3  stock_daily  000662.SZ 2021-01-04 15:00:00      long   \n",
       "4        4        4  stock_daily  000882.SZ 2021-01-04 15:00:00      long   \n",
       "\n",
       "   transPrice   transVol  offsetID   transCost  \n",
       "0    2.161231   4360.005        -1    4.711489  \n",
       "1    2.367632  14058.737        -1   16.642957  \n",
       "2    2.830359  15491.800        -1   21.923674  \n",
       "3    4.454720  70238.931        -1  156.447383  \n",
       "4    5.537988  15757.301        -1   43.631873  "
      ]
     },
     "execution_count": 59,
     "metadata": {},
     "output_type": "execute_result"
    }
   ],
   "source": [
    "ts = TradeSession(PMVWAP, start_datetime='2021-01-01', end_datetime='2022-02-01', markets='stock_daily')\n",
    "obs = ts.run()\n",
    "obs.trade_records.head()"
   ]
  },
  {
   "cell_type": "code",
   "execution_count": 60,
   "id": "d9a675a4",
   "metadata": {
    "ExecuteTime": {
     "end_time": "2023-05-18T11:14:43.572561Z",
     "start_time": "2023-05-18T11:14:32.499833Z"
    }
   },
   "outputs": [
    {
     "data": {
      "text/html": [
       "<div>\n",
       "<style scoped>\n",
       "    .dataframe tbody tr th:only-of-type {\n",
       "        vertical-align: middle;\n",
       "    }\n",
       "\n",
       "    .dataframe tbody tr th {\n",
       "        vertical-align: top;\n",
       "    }\n",
       "\n",
       "    .dataframe thead th {\n",
       "        text-align: right;\n",
       "    }\n",
       "</style>\n",
       "<table border=\"1\" class=\"dataframe\">\n",
       "  <thead>\n",
       "    <tr style=\"text-align: right;\">\n",
       "      <th></th>\n",
       "      <th>tradeID</th>\n",
       "      <th>orderID</th>\n",
       "      <th>secuType</th>\n",
       "      <th>code</th>\n",
       "      <th>transTime</th>\n",
       "      <th>direction</th>\n",
       "      <th>transPrice</th>\n",
       "      <th>transVol</th>\n",
       "      <th>offsetID</th>\n",
       "      <th>transCost</th>\n",
       "    </tr>\n",
       "  </thead>\n",
       "  <tbody>\n",
       "    <tr>\n",
       "      <th>0</th>\n",
       "      <td>0</td>\n",
       "      <td>0</td>\n",
       "      <td>stock_daily</td>\n",
       "      <td>000585.SZ</td>\n",
       "      <td>2021-01-04 15:00:00</td>\n",
       "      <td>long</td>\n",
       "      <td>2.161231</td>\n",
       "      <td>87200.10</td>\n",
       "      <td>-1</td>\n",
       "      <td>94.229786</td>\n",
       "    </tr>\n",
       "    <tr>\n",
       "      <th>1</th>\n",
       "      <td>1</td>\n",
       "      <td>1</td>\n",
       "      <td>stock_daily</td>\n",
       "      <td>000820.SZ</td>\n",
       "      <td>2021-01-04 15:00:00</td>\n",
       "      <td>long</td>\n",
       "      <td>2.367632</td>\n",
       "      <td>281174.74</td>\n",
       "      <td>-1</td>\n",
       "      <td>332.859145</td>\n",
       "    </tr>\n",
       "    <tr>\n",
       "      <th>2</th>\n",
       "      <td>2</td>\n",
       "      <td>2</td>\n",
       "      <td>stock_daily</td>\n",
       "      <td>000980.SZ</td>\n",
       "      <td>2021-01-04 15:00:00</td>\n",
       "      <td>long</td>\n",
       "      <td>2.830359</td>\n",
       "      <td>309836.00</td>\n",
       "      <td>-1</td>\n",
       "      <td>438.473487</td>\n",
       "    </tr>\n",
       "    <tr>\n",
       "      <th>3</th>\n",
       "      <td>3</td>\n",
       "      <td>3</td>\n",
       "      <td>stock_daily</td>\n",
       "      <td>000662.SZ</td>\n",
       "      <td>2021-01-04 15:00:00</td>\n",
       "      <td>long</td>\n",
       "      <td>4.454720</td>\n",
       "      <td>1404778.62</td>\n",
       "      <td>-1</td>\n",
       "      <td>3128.947665</td>\n",
       "    </tr>\n",
       "    <tr>\n",
       "      <th>4</th>\n",
       "      <td>4</td>\n",
       "      <td>4</td>\n",
       "      <td>stock_daily</td>\n",
       "      <td>000882.SZ</td>\n",
       "      <td>2021-01-04 15:00:00</td>\n",
       "      <td>long</td>\n",
       "      <td>5.537988</td>\n",
       "      <td>315146.02</td>\n",
       "      <td>-1</td>\n",
       "      <td>872.637467</td>\n",
       "    </tr>\n",
       "  </tbody>\n",
       "</table>\n",
       "</div>"
      ],
      "text/plain": [
       "   tradeID  orderID     secuType       code           transTime direction   \n",
       "0        0        0  stock_daily  000585.SZ 2021-01-04 15:00:00      long  \\\n",
       "1        1        1  stock_daily  000820.SZ 2021-01-04 15:00:00      long   \n",
       "2        2        2  stock_daily  000980.SZ 2021-01-04 15:00:00      long   \n",
       "3        3        3  stock_daily  000662.SZ 2021-01-04 15:00:00      long   \n",
       "4        4        4  stock_daily  000882.SZ 2021-01-04 15:00:00      long   \n",
       "\n",
       "   transPrice    transVol  offsetID    transCost  \n",
       "0    2.161231    87200.10        -1    94.229786  \n",
       "1    2.367632   281174.74        -1   332.859145  \n",
       "2    2.830359   309836.00        -1   438.473487  \n",
       "3    4.454720  1404778.62        -1  3128.947665  \n",
       "4    5.537988   315146.02        -1   872.637467  "
      ]
     },
     "execution_count": 60,
     "metadata": {},
     "output_type": "execute_result"
    }
   ],
   "source": [
    "PMVWAP.ratio_limit = 0.02\n",
    "obs = ts.run()\n",
    "obs.trade_records.head()"
   ]
  },
  {
   "cell_type": "markdown",
   "id": "cbbb6527",
   "metadata": {},
   "source": [
    "# 总结"
   ]
  },
  {
   "cell_type": "markdown",
   "id": "90146883",
   "metadata": {},
   "source": [
    "1. 使用方面：极简  \n",
    "    a. 代码复杂度约等于文字描述的复杂度；  \n",
    "    b. 回测实现无冗余操作；  \n",
    "    c. 回测条件的修改简单方便，无复杂依赖；  \n",
    "    d. 工具齐全，下单、分析、检查、数据获取方面均实现了相关方法可以随时调用。  \n",
    "2. 扩展性:极强  \n",
    "    a. 基于事件的回测框架实现了对交易的仿真模拟， 现实回测的任何环节都可以在框架中找映射；  \n",
    "    b. 事件模型结合订单策略几乎可以实现任何颗粒度的回测；  \n",
    "    c. 可支持多市场交易。\n",
    "3. 源码可读性强：  \n",
    "    a. 基于面向对象、面向接口的设计思路，与业务场景结合较强；  \n",
    "    b. 使用多种设计模式， 较少的代码冗余量；  \n",
    "    c. 均使用常见的实现方法。  "
   ]
  }
 ],
 "metadata": {
  "hide_input": false,
  "kernelspec": {
   "display_name": "Python 3 (ipykernel)",
   "language": "python",
   "name": "python3"
  },
  "language_info": {
   "codemirror_mode": {
    "name": "ipython",
    "version": 3
   },
   "file_extension": ".py",
   "mimetype": "text/x-python",
   "name": "python",
   "nbconvert_exporter": "python",
   "pygments_lexer": "ipython3",
   "version": "3.8.8"
  },
  "toc": {
   "base_numbering": 1,
   "nav_menu": {},
   "number_sections": true,
   "sideBar": true,
   "skip_h1_title": false,
   "title_cell": "Table of Contents",
   "title_sidebar": "Contents",
   "toc_cell": false,
   "toc_position": {
    "height": "calc(100% - 180px)",
    "left": "10px",
    "top": "150px",
    "width": "190.139px"
   },
   "toc_section_display": true,
   "toc_window_display": true
  },
  "varInspector": {
   "cols": {
    "lenName": 16,
    "lenType": 16,
    "lenVar": 40
   },
   "kernels_config": {
    "python": {
     "delete_cmd_postfix": "",
     "delete_cmd_prefix": "del ",
     "library": "var_list.py",
     "varRefreshCmd": "print(var_dic_list())"
    },
    "r": {
     "delete_cmd_postfix": ") ",
     "delete_cmd_prefix": "rm(",
     "library": "var_list.r",
     "varRefreshCmd": "cat(var_dic_list()) "
    }
   },
   "types_to_exclude": [
    "module",
    "function",
    "builtin_function_or_method",
    "instance",
    "_Feature"
   ],
   "window_display": false
  }
 },
 "nbformat": 4,
 "nbformat_minor": 5
}
