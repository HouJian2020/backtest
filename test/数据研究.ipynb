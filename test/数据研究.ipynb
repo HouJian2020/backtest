{
 "cells": [
  {
   "cell_type": "code",
   "execution_count": 1,
   "id": "e30e0cc6",
   "metadata": {
    "ExecuteTime": {
     "end_time": "2023-05-09T08:35:36.443397Z",
     "start_time": "2023-05-09T08:35:35.975289Z"
    }
   },
   "outputs": [],
   "source": [
    "import os \n",
    "import numpy as np\n",
    "import pandas as pd\n",
    "path = r'D:\\mypkgs\\backtest\\data_mock\\cb'"
   ]
  },
  {
   "cell_type": "markdown",
   "id": "8e42ac13",
   "metadata": {},
   "source": [
    "# 数据分析"
   ]
  },
  {
   "cell_type": "code",
   "execution_count": 2,
   "id": "19ed6d7c",
   "metadata": {
    "ExecuteTime": {
     "end_time": "2023-05-09T08:35:39.795667Z",
     "start_time": "2023-05-09T08:35:39.708982Z"
    },
    "scrolled": true
   },
   "outputs": [
    {
     "data": {
      "text/html": [
       "<div>\n",
       "<style scoped>\n",
       "    .dataframe tbody tr th:only-of-type {\n",
       "        vertical-align: middle;\n",
       "    }\n",
       "\n",
       "    .dataframe tbody tr th {\n",
       "        vertical-align: top;\n",
       "    }\n",
       "\n",
       "    .dataframe thead th {\n",
       "        text-align: right;\n",
       "    }\n",
       "</style>\n",
       "<table border=\"1\" class=\"dataframe\">\n",
       "  <thead>\n",
       "    <tr style=\"text-align: right;\">\n",
       "      <th></th>\n",
       "      <th>date</th>\n",
       "      <th>windcode</th>\n",
       "      <th>转债余额</th>\n",
       "      <th>成交量</th>\n",
       "      <th>成交额</th>\n",
       "      <th>成交额_净价</th>\n",
       "      <th>最高价</th>\n",
       "      <th>最低价</th>\n",
       "      <th>开盘价</th>\n",
       "      <th>收盘价</th>\n",
       "    </tr>\n",
       "  </thead>\n",
       "  <tbody>\n",
       "    <tr>\n",
       "      <th>421843</th>\n",
       "      <td>2023-05-08</td>\n",
       "      <td>128140.SZ</td>\n",
       "      <td>10.893835</td>\n",
       "      <td>50651100.0</td>\n",
       "      <td>94973126.6</td>\n",
       "      <td>9.476081e+07</td>\n",
       "      <td>189.8808</td>\n",
       "      <td>182.5808</td>\n",
       "      <td>189.8458</td>\n",
       "      <td>187.7178</td>\n",
       "    </tr>\n",
       "    <tr>\n",
       "      <th>421844</th>\n",
       "      <td>2023-05-08</td>\n",
       "      <td>128141.SZ</td>\n",
       "      <td>12.701455</td>\n",
       "      <td>19859500.0</td>\n",
       "      <td>24853729.3</td>\n",
       "      <td>2.477592e+07</td>\n",
       "      <td>125.2152</td>\n",
       "      <td>124.4972</td>\n",
       "      <td>124.5092</td>\n",
       "      <td>124.6332</td>\n",
       "    </tr>\n",
       "    <tr>\n",
       "      <th>421845</th>\n",
       "      <td>2023-05-08</td>\n",
       "      <td>128142.SZ</td>\n",
       "      <td>7.179734</td>\n",
       "      <td>40435900.0</td>\n",
       "      <td>49713314.9</td>\n",
       "      <td>4.955600e+07</td>\n",
       "      <td>123.2080</td>\n",
       "      <td>121.9110</td>\n",
       "      <td>122.8950</td>\n",
       "      <td>122.6110</td>\n",
       "    </tr>\n",
       "    <tr>\n",
       "      <th>421846</th>\n",
       "      <td>2023-05-08</td>\n",
       "      <td>128143.SZ</td>\n",
       "      <td>2.439694</td>\n",
       "      <td>2969000.0</td>\n",
       "      <td>3561457.0</td>\n",
       "      <td>3.549646e+06</td>\n",
       "      <td>119.9312</td>\n",
       "      <td>119.3032</td>\n",
       "      <td>119.7532</td>\n",
       "      <td>119.4722</td>\n",
       "    </tr>\n",
       "    <tr>\n",
       "      <th>421847</th>\n",
       "      <td>2023-05-08</td>\n",
       "      <td>128144.SZ</td>\n",
       "      <td>9.793808</td>\n",
       "      <td>8380000.0</td>\n",
       "      <td>9786963.7</td>\n",
       "      <td>9.774290e+06</td>\n",
       "      <td>117.0238</td>\n",
       "      <td>115.9748</td>\n",
       "      <td>115.9748</td>\n",
       "      <td>116.9488</td>\n",
       "    </tr>\n",
       "  </tbody>\n",
       "</table>\n",
       "</div>"
      ],
      "text/plain": [
       "             date   windcode       转债余额         成交量         成交额        成交额_净价   \n",
       "421843 2023-05-08  128140.SZ  10.893835  50651100.0  94973126.6  9.476081e+07  \\\n",
       "421844 2023-05-08  128141.SZ  12.701455  19859500.0  24853729.3  2.477592e+07   \n",
       "421845 2023-05-08  128142.SZ   7.179734  40435900.0  49713314.9  4.955600e+07   \n",
       "421846 2023-05-08  128143.SZ   2.439694   2969000.0   3561457.0  3.549646e+06   \n",
       "421847 2023-05-08  128144.SZ   9.793808   8380000.0   9786963.7  9.774290e+06   \n",
       "\n",
       "             最高价       最低价       开盘价       收盘价  \n",
       "421843  189.8808  182.5808  189.8458  187.7178  \n",
       "421844  125.2152  124.4972  124.5092  124.6332  \n",
       "421845  123.2080  121.9110  122.8950  122.6110  \n",
       "421846  119.9312  119.3032  119.7532  119.4722  \n",
       "421847  117.0238  115.9748  115.9748  116.9488  "
      ]
     },
     "execution_count": 2,
     "metadata": {},
     "output_type": "execute_result"
    }
   ],
   "source": [
    "df_data = pd.read_pickle(os.path.join(path, 'cbmkt.pickle'))\n",
    "df_data.reset_index(inplace=True)\n",
    "df_data['date'] = pd.to_datetime(df_data['date'])\n",
    "df_data.tail()"
   ]
  },
  {
   "cell_type": "code",
   "execution_count": 3,
   "id": "53e84ebc",
   "metadata": {
    "ExecuteTime": {
     "end_time": "2023-05-09T08:35:40.558002Z",
     "start_time": "2023-05-09T08:35:40.525009Z"
    }
   },
   "outputs": [
    {
     "data": {
      "text/plain": [
       "date          0\n",
       "windcode      0\n",
       "转债余额        599\n",
       "成交量         599\n",
       "成交额         599\n",
       "成交额_净价        8\n",
       "最高价           8\n",
       "最低价           8\n",
       "开盘价           8\n",
       "收盘价           8\n",
       "label         0\n",
       "dtype: int64"
      ]
     },
     "execution_count": 3,
     "metadata": {},
     "output_type": "execute_result"
    }
   ],
   "source": [
    "df_data['label'] = 1\n",
    "df_data.isnull().sum()"
   ]
  },
  {
   "cell_type": "markdown",
   "id": "00a77980",
   "metadata": {},
   "source": [
    "## 可转债交易日"
   ]
  },
  {
   "cell_type": "markdown",
   "id": "70bdd3bd",
   "metadata": {},
   "source": [
    "1. 可转债交易日暂时使用cbmkt字段date的并集替代\n",
    "2. 可以单独维护一个可转债交易日的数据"
   ]
  },
  {
   "cell_type": "code",
   "execution_count": 4,
   "id": "9421e6e7",
   "metadata": {
    "ExecuteTime": {
     "end_time": "2023-05-09T08:35:45.988143Z",
     "start_time": "2023-05-09T08:35:45.967139Z"
    }
   },
   "outputs": [
    {
     "data": {
      "text/plain": [
       "4686   2023-04-18\n",
       "4687   2023-04-19\n",
       "4688   2023-04-20\n",
       "4689   2023-04-21\n",
       "4690   2023-04-24\n",
       "4691   2023-04-25\n",
       "4692   2023-04-26\n",
       "4693   2023-04-27\n",
       "4694   2023-04-28\n",
       "4695   2023-05-04\n",
       "4696   2023-05-05\n",
       "4697   2023-05-08\n",
       "dtype: datetime64[ns]"
      ]
     },
     "execution_count": 4,
     "metadata": {},
     "output_type": "execute_result"
    }
   ],
   "source": [
    "trade_dates = pd.Series(np.sort(df_data['date'].unique()))\n",
    "trade_dates.tail(12)"
   ]
  },
  {
   "cell_type": "markdown",
   "id": "aec52462",
   "metadata": {},
   "source": [
    "## 成交量缺失"
   ]
  },
  {
   "cell_type": "code",
   "execution_count": 5,
   "id": "9c8086be",
   "metadata": {
    "ExecuteTime": {
     "end_time": "2023-05-09T08:35:47.081007Z",
     "start_time": "2023-05-09T08:35:47.067999Z"
    }
   },
   "outputs": [],
   "source": [
    "l_amount_nan = df_data['成交额'].isnull()\n",
    "l_volume_nan = df_data['成交量'].isnull()\n",
    "l_amount_zero = df_data['成交额'] == 0\n",
    "l_volume_zero = df_data['成交量'] == 0\n",
    "l_zzye_nan = df_data['转债余额'].isnull()"
   ]
  },
  {
   "cell_type": "code",
   "execution_count": 6,
   "id": "84c0e6d7",
   "metadata": {
    "ExecuteTime": {
     "end_time": "2023-05-09T08:35:47.547020Z",
     "start_time": "2023-05-09T08:35:47.508024Z"
    }
   },
   "outputs": [
    {
     "name": "stdout",
     "output_type": "stream",
     "text": [
      "转债余额与成交量缺失值一致\n"
     ]
    },
    {
     "data": {
      "text/plain": [
       "0"
      ]
     },
     "execution_count": 6,
     "metadata": {},
     "output_type": "execute_result"
    }
   ],
   "source": [
    "print(\"转债余额与成交量缺失值一致\")\n",
    "sum(l_volume_nan != l_zzye_nan)"
   ]
  },
  {
   "cell_type": "code",
   "execution_count": 7,
   "id": "28120c06",
   "metadata": {
    "ExecuteTime": {
     "end_time": "2023-05-09T08:35:48.126344Z",
     "start_time": "2023-05-09T08:35:48.076020Z"
    }
   },
   "outputs": [
    {
     "name": "stdout",
     "output_type": "stream",
     "text": [
      "成交额缺失  则  成交量缺失或成交量为0\n"
     ]
    },
    {
     "data": {
      "text/plain": [
       "0"
      ]
     },
     "execution_count": 7,
     "metadata": {},
     "output_type": "execute_result"
    }
   ],
   "source": [
    "print(\"成交额缺失  则  成交量缺失或成交量为0\")\n",
    "sum(l_amount_nan & (~(l_volume_nan | l_volume_zero)))"
   ]
  },
  {
   "cell_type": "code",
   "execution_count": 8,
   "id": "d3a0f8d4",
   "metadata": {
    "ExecuteTime": {
     "end_time": "2023-05-09T08:35:49.029352Z",
     "start_time": "2023-05-09T08:35:48.980003Z"
    }
   },
   "outputs": [
    {
     "name": "stdout",
     "output_type": "stream",
     "text": [
      "成交额与成交量信息一致\n"
     ]
    },
    {
     "data": {
      "text/plain": [
       "0"
      ]
     },
     "execution_count": 8,
     "metadata": {},
     "output_type": "execute_result"
    }
   ],
   "source": [
    "print(\"成交额与成交量信息一致\")\n",
    "sum((l_amount_nan | l_amount_zero) != (l_volume_nan | l_volume_zero))"
   ]
  },
  {
   "cell_type": "markdown",
   "id": "84b41c17",
   "metadata": {},
   "source": [
    "## 价格缺失"
   ]
  },
  {
   "cell_type": "code",
   "execution_count": 9,
   "id": "8d2f8a46",
   "metadata": {
    "ExecuteTime": {
     "end_time": "2023-05-09T08:35:50.487056Z",
     "start_time": "2023-05-09T08:35:50.447067Z"
    }
   },
   "outputs": [
    {
     "name": "stdout",
     "output_type": "stream",
     "text": [
      "开始与结束均有空值\n"
     ]
    },
    {
     "data": {
      "text/html": [
       "<div>\n",
       "<style scoped>\n",
       "    .dataframe tbody tr th:only-of-type {\n",
       "        vertical-align: middle;\n",
       "    }\n",
       "\n",
       "    .dataframe tbody tr th {\n",
       "        vertical-align: top;\n",
       "    }\n",
       "\n",
       "    .dataframe thead th {\n",
       "        text-align: right;\n",
       "    }\n",
       "</style>\n",
       "<table border=\"1\" class=\"dataframe\">\n",
       "  <thead>\n",
       "    <tr style=\"text-align: right;\">\n",
       "      <th></th>\n",
       "      <th>date</th>\n",
       "      <th>windcode</th>\n",
       "      <th>转债余额</th>\n",
       "      <th>成交量</th>\n",
       "      <th>成交额</th>\n",
       "      <th>成交额_净价</th>\n",
       "      <th>最高价</th>\n",
       "      <th>最低价</th>\n",
       "      <th>开盘价</th>\n",
       "      <th>收盘价</th>\n",
       "      <th>label</th>\n",
       "    </tr>\n",
       "  </thead>\n",
       "  <tbody>\n",
       "    <tr>\n",
       "      <th>109678</th>\n",
       "      <td>2019-10-21</td>\n",
       "      <td>128078.SZ</td>\n",
       "      <td>10.000000</td>\n",
       "      <td>0.0</td>\n",
       "      <td>0.0</td>\n",
       "      <td>0.0</td>\n",
       "      <td>99.9989</td>\n",
       "      <td>99.9989</td>\n",
       "      <td>99.9989</td>\n",
       "      <td>99.9989</td>\n",
       "      <td>1</td>\n",
       "    </tr>\n",
       "    <tr>\n",
       "      <th>109863</th>\n",
       "      <td>2019-10-22</td>\n",
       "      <td>128078.SZ</td>\n",
       "      <td>10.000000</td>\n",
       "      <td>0.0</td>\n",
       "      <td>0.0</td>\n",
       "      <td>0.0</td>\n",
       "      <td>99.9978</td>\n",
       "      <td>99.9978</td>\n",
       "      <td>99.9978</td>\n",
       "      <td>99.9978</td>\n",
       "      <td>1</td>\n",
       "    </tr>\n",
       "    <tr>\n",
       "      <th>110049</th>\n",
       "      <td>2019-10-23</td>\n",
       "      <td>128078.SZ</td>\n",
       "      <td>10.000000</td>\n",
       "      <td>0.0</td>\n",
       "      <td>0.0</td>\n",
       "      <td>0.0</td>\n",
       "      <td>99.9967</td>\n",
       "      <td>99.9967</td>\n",
       "      <td>99.9967</td>\n",
       "      <td>99.9967</td>\n",
       "      <td>1</td>\n",
       "    </tr>\n",
       "    <tr>\n",
       "      <th>110236</th>\n",
       "      <td>2019-10-24</td>\n",
       "      <td>128078.SZ</td>\n",
       "      <td>10.000000</td>\n",
       "      <td>0.0</td>\n",
       "      <td>0.0</td>\n",
       "      <td>0.0</td>\n",
       "      <td>99.9956</td>\n",
       "      <td>99.9956</td>\n",
       "      <td>99.9956</td>\n",
       "      <td>99.9956</td>\n",
       "      <td>1</td>\n",
       "    </tr>\n",
       "    <tr>\n",
       "      <th>110423</th>\n",
       "      <td>2019-10-25</td>\n",
       "      <td>128078.SZ</td>\n",
       "      <td>10.000000</td>\n",
       "      <td>0.0</td>\n",
       "      <td>0.0</td>\n",
       "      <td>0.0</td>\n",
       "      <td>99.9945</td>\n",
       "      <td>99.9945</td>\n",
       "      <td>99.9945</td>\n",
       "      <td>99.9945</td>\n",
       "      <td>1</td>\n",
       "    </tr>\n",
       "    <tr>\n",
       "      <th>...</th>\n",
       "      <td>...</td>\n",
       "      <td>...</td>\n",
       "      <td>...</td>\n",
       "      <td>...</td>\n",
       "      <td>...</td>\n",
       "      <td>...</td>\n",
       "      <td>...</td>\n",
       "      <td>...</td>\n",
       "      <td>...</td>\n",
       "      <td>...</td>\n",
       "      <td>...</td>\n",
       "    </tr>\n",
       "    <tr>\n",
       "      <th>416728</th>\n",
       "      <td>2023-04-19</td>\n",
       "      <td>128078.SZ</td>\n",
       "      <td>0.006643</td>\n",
       "      <td>0.0</td>\n",
       "      <td>0.0</td>\n",
       "      <td>0.0</td>\n",
       "      <td>212.0002</td>\n",
       "      <td>212.0002</td>\n",
       "      <td>212.0002</td>\n",
       "      <td>212.0002</td>\n",
       "      <td>1</td>\n",
       "    </tr>\n",
       "    <tr>\n",
       "      <th>417236</th>\n",
       "      <td>2023-04-20</td>\n",
       "      <td>128078.SZ</td>\n",
       "      <td>0.006643</td>\n",
       "      <td>0.0</td>\n",
       "      <td>0.0</td>\n",
       "      <td>0.0</td>\n",
       "      <td>211.9961</td>\n",
       "      <td>211.9961</td>\n",
       "      <td>211.9961</td>\n",
       "      <td>211.9961</td>\n",
       "      <td>1</td>\n",
       "    </tr>\n",
       "    <tr>\n",
       "      <th>417744</th>\n",
       "      <td>2023-04-21</td>\n",
       "      <td>128078.SZ</td>\n",
       "      <td>0.006643</td>\n",
       "      <td>0.0</td>\n",
       "      <td>0.0</td>\n",
       "      <td>0.0</td>\n",
       "      <td>0.0000</td>\n",
       "      <td>0.0000</td>\n",
       "      <td>0.0000</td>\n",
       "      <td>0.0000</td>\n",
       "      <td>1</td>\n",
       "    </tr>\n",
       "    <tr>\n",
       "      <th>418252</th>\n",
       "      <td>2023-04-24</td>\n",
       "      <td>128078.SZ</td>\n",
       "      <td>0.006643</td>\n",
       "      <td>0.0</td>\n",
       "      <td>0.0</td>\n",
       "      <td>0.0</td>\n",
       "      <td>0.0000</td>\n",
       "      <td>0.0000</td>\n",
       "      <td>0.0000</td>\n",
       "      <td>0.0000</td>\n",
       "      <td>1</td>\n",
       "    </tr>\n",
       "    <tr>\n",
       "      <th>418760</th>\n",
       "      <td>2023-04-25</td>\n",
       "      <td>128078.SZ</td>\n",
       "      <td>0.006643</td>\n",
       "      <td>0.0</td>\n",
       "      <td>0.0</td>\n",
       "      <td>0.0</td>\n",
       "      <td>0.0000</td>\n",
       "      <td>0.0000</td>\n",
       "      <td>0.0000</td>\n",
       "      <td>0.0000</td>\n",
       "      <td>1</td>\n",
       "    </tr>\n",
       "  </tbody>\n",
       "</table>\n",
       "<p>855 rows × 11 columns</p>\n",
       "</div>"
      ],
      "text/plain": [
       "             date   windcode       转债余额  成交量  成交额  成交额_净价       最高价       最低价   \n",
       "109678 2019-10-21  128078.SZ  10.000000  0.0  0.0     0.0   99.9989   99.9989  \\\n",
       "109863 2019-10-22  128078.SZ  10.000000  0.0  0.0     0.0   99.9978   99.9978   \n",
       "110049 2019-10-23  128078.SZ  10.000000  0.0  0.0     0.0   99.9967   99.9967   \n",
       "110236 2019-10-24  128078.SZ  10.000000  0.0  0.0     0.0   99.9956   99.9956   \n",
       "110423 2019-10-25  128078.SZ  10.000000  0.0  0.0     0.0   99.9945   99.9945   \n",
       "...           ...        ...        ...  ...  ...     ...       ...       ...   \n",
       "416728 2023-04-19  128078.SZ   0.006643  0.0  0.0     0.0  212.0002  212.0002   \n",
       "417236 2023-04-20  128078.SZ   0.006643  0.0  0.0     0.0  211.9961  211.9961   \n",
       "417744 2023-04-21  128078.SZ   0.006643  0.0  0.0     0.0    0.0000    0.0000   \n",
       "418252 2023-04-24  128078.SZ   0.006643  0.0  0.0     0.0    0.0000    0.0000   \n",
       "418760 2023-04-25  128078.SZ   0.006643  0.0  0.0     0.0    0.0000    0.0000   \n",
       "\n",
       "             开盘价       收盘价  label  \n",
       "109678   99.9989   99.9989      1  \n",
       "109863   99.9978   99.9978      1  \n",
       "110049   99.9967   99.9967      1  \n",
       "110236   99.9956   99.9956      1  \n",
       "110423   99.9945   99.9945      1  \n",
       "...          ...       ...    ...  \n",
       "416728  212.0002  212.0002      1  \n",
       "417236  211.9961  211.9961      1  \n",
       "417744    0.0000    0.0000      1  \n",
       "418252    0.0000    0.0000      1  \n",
       "418760    0.0000    0.0000      1  \n",
       "\n",
       "[855 rows x 11 columns]"
      ]
     },
     "execution_count": 9,
     "metadata": {},
     "output_type": "execute_result"
    }
   ],
   "source": [
    "print('开始与结束均有空值')\n",
    "df_data.query(\"windcode == '128078.SZ'\")"
   ]
  },
  {
   "cell_type": "markdown",
   "id": "d51b5ebc",
   "metadata": {},
   "source": [
    "1. 价格缺失可认为当天没有交易（成交量为0或者nan）\n",
    "2. 价格缺失可填充方案\n",
    "    1. 优先用同期其它价格填充\n",
    "    2. 如果还是缺失，则用前收盘填充"
   ]
  },
  {
   "cell_type": "code",
   "execution_count": 10,
   "id": "6102ca94",
   "metadata": {
    "ExecuteTime": {
     "end_time": "2023-05-09T08:36:02.165259Z",
     "start_time": "2023-05-09T08:36:02.133260Z"
    }
   },
   "outputs": [],
   "source": [
    "l_close_nan = df_data['收盘价'].isnull()\n",
    "l_price_nan = df_data[['开盘价', '最高价', '最低价']].isnull().any(axis=1)\n",
    "l_price_nan_all = df_data[['开盘价', '最高价', '最低价']].isnull().all(axis=1)"
   ]
  },
  {
   "cell_type": "code",
   "execution_count": 11,
   "id": "1d268d3f",
   "metadata": {
    "ExecuteTime": {
     "end_time": "2023-05-09T08:36:06.224078Z",
     "start_time": "2023-05-09T08:36:06.173030Z"
    }
   },
   "outputs": [
    {
     "name": "stdout",
     "output_type": "stream",
     "text": [
      "收盘价缺失  则  成交量缺失或成交量为0\n"
     ]
    },
    {
     "data": {
      "text/plain": [
       "0"
      ]
     },
     "execution_count": 11,
     "metadata": {},
     "output_type": "execute_result"
    }
   ],
   "source": [
    "print(\"收盘价缺失  则  成交量缺失或成交量为0\")\n",
    "sum(l_close_nan & (~(l_volume_nan | l_volume_zero)))"
   ]
  },
  {
   "cell_type": "code",
   "execution_count": 14,
   "id": "1704028a",
   "metadata": {
    "ExecuteTime": {
     "end_time": "2023-05-09T08:36:47.262153Z",
     "start_time": "2023-05-09T08:36:47.214078Z"
    }
   },
   "outputs": [
    {
     "name": "stdout",
     "output_type": "stream",
     "text": [
      "开高低缺失值信息一致\n"
     ]
    },
    {
     "data": {
      "text/plain": [
       "0"
      ]
     },
     "execution_count": 14,
     "metadata": {},
     "output_type": "execute_result"
    }
   ],
   "source": [
    "print(\"开高低缺失值信息一致\")\n",
    "sum(l_price_nan != l_price_nan_all)"
   ]
  },
  {
   "cell_type": "code",
   "execution_count": 13,
   "id": "4c55f0f6",
   "metadata": {
    "ExecuteTime": {
     "end_time": "2023-05-09T08:36:16.290003Z",
     "start_time": "2023-05-09T08:36:16.253008Z"
    }
   },
   "outputs": [
    {
     "name": "stdout",
     "output_type": "stream",
     "text": [
      "价格缺失  与  收盘价缺失不等的情况较少\n"
     ]
    },
    {
     "data": {
      "text/plain": [
       "0"
      ]
     },
     "execution_count": 13,
     "metadata": {},
     "output_type": "execute_result"
    }
   ],
   "source": [
    "print(\"价格缺失  与  收盘价缺失不等的情况较少\")\n",
    "sum(l_price_nan != l_close_nan)"
   ]
  },
  {
   "cell_type": "code",
   "execution_count": 15,
   "id": "b6a2f4b9",
   "metadata": {
    "ExecuteTime": {
     "end_time": "2023-05-09T08:36:54.335075Z",
     "start_time": "2023-05-09T08:36:54.319071Z"
    }
   },
   "outputs": [
    {
     "data": {
      "text/html": [
       "<div>\n",
       "<style scoped>\n",
       "    .dataframe tbody tr th:only-of-type {\n",
       "        vertical-align: middle;\n",
       "    }\n",
       "\n",
       "    .dataframe tbody tr th {\n",
       "        vertical-align: top;\n",
       "    }\n",
       "\n",
       "    .dataframe thead th {\n",
       "        text-align: right;\n",
       "    }\n",
       "</style>\n",
       "<table border=\"1\" class=\"dataframe\">\n",
       "  <thead>\n",
       "    <tr style=\"text-align: right;\">\n",
       "      <th></th>\n",
       "      <th>date</th>\n",
       "      <th>windcode</th>\n",
       "      <th>转债余额</th>\n",
       "      <th>成交量</th>\n",
       "      <th>成交额</th>\n",
       "      <th>成交额_净价</th>\n",
       "      <th>最高价</th>\n",
       "      <th>最低价</th>\n",
       "      <th>开盘价</th>\n",
       "      <th>收盘价</th>\n",
       "      <th>label</th>\n",
       "    </tr>\n",
       "  </thead>\n",
       "  <tbody>\n",
       "  </tbody>\n",
       "</table>\n",
       "</div>"
      ],
      "text/plain": [
       "Empty DataFrame\n",
       "Columns: [date, windcode, 转债余额, 成交量, 成交额, 成交额_净价, 最高价, 最低价, 开盘价, 收盘价, label]\n",
       "Index: []"
      ]
     },
     "execution_count": 15,
     "metadata": {},
     "output_type": "execute_result"
    }
   ],
   "source": [
    "df_data.loc[l_close_nan != l_price_nan]"
   ]
  },
  {
   "cell_type": "markdown",
   "id": "01685d1c",
   "metadata": {},
   "source": [
    "## vwap复权因子"
   ]
  },
  {
   "cell_type": "markdown",
   "id": "ce946943",
   "metadata": {},
   "source": [
    "1. 成交额/成交量得到的是当日未复权的vwap价格，需要复权因子才能计算出复权的vwap\n",
    "2. 复权因子计算可以用当日复权收盘价/当日收盘价计算得到\n",
    "3. 除了复权因子， 有一些异常数据如’125002.SZ\t2004-01-02‘有整数倍的误差"
   ]
  },
  {
   "cell_type": "code",
   "execution_count": 16,
   "id": "6a5d475e",
   "metadata": {
    "ExecuteTime": {
     "end_time": "2023-05-09T08:36:57.856231Z",
     "start_time": "2023-05-09T08:36:57.837086Z"
    }
   },
   "outputs": [],
   "source": [
    "df_data['vwap'] = 100*df_data['成交额_净价']/df_data['成交量']"
   ]
  },
  {
   "cell_type": "code",
   "execution_count": 17,
   "id": "c26473ef",
   "metadata": {
    "ExecuteTime": {
     "end_time": "2023-05-09T08:36:58.445432Z",
     "start_time": "2023-05-09T08:36:58.397087Z"
    }
   },
   "outputs": [
    {
     "name": "stdout",
     "output_type": "stream",
     "text": [
      "vwap异常数量：\n",
      "2682\n"
     ]
    }
   ],
   "source": [
    "l1 = df_data['vwap'] > df_data['最高价']\n",
    "l2 = df_data['vwap'] < df_data['最低价']\n",
    "print('vwap异常数量：')\n",
    "print(sum(l1 | l2))"
   ]
  },
  {
   "cell_type": "code",
   "execution_count": 18,
   "id": "7c3d0621",
   "metadata": {
    "ExecuteTime": {
     "end_time": "2023-05-09T08:36:59.952082Z",
     "start_time": "2023-05-09T08:36:59.933089Z"
    }
   },
   "outputs": [
    {
     "data": {
      "text/html": [
       "<div>\n",
       "<style scoped>\n",
       "    .dataframe tbody tr th:only-of-type {\n",
       "        vertical-align: middle;\n",
       "    }\n",
       "\n",
       "    .dataframe tbody tr th {\n",
       "        vertical-align: top;\n",
       "    }\n",
       "\n",
       "    .dataframe thead th {\n",
       "        text-align: right;\n",
       "    }\n",
       "</style>\n",
       "<table border=\"1\" class=\"dataframe\">\n",
       "  <thead>\n",
       "    <tr style=\"text-align: right;\">\n",
       "      <th></th>\n",
       "      <th>windcode</th>\n",
       "      <th>date</th>\n",
       "      <th>收盘价</th>\n",
       "      <th>vwap</th>\n",
       "      <th>开盘价</th>\n",
       "      <th>最高价</th>\n",
       "      <th>最低价</th>\n",
       "    </tr>\n",
       "  </thead>\n",
       "  <tbody>\n",
       "    <tr>\n",
       "      <th>6</th>\n",
       "      <td>125002.SZ</td>\n",
       "      <td>2004-01-02</td>\n",
       "      <td>116.5816</td>\n",
       "      <td>11.629270</td>\n",
       "      <td>114.7416</td>\n",
       "      <td>117.3416</td>\n",
       "      <td>114.6216</td>\n",
       "    </tr>\n",
       "    <tr>\n",
       "      <th>7</th>\n",
       "      <td>125629.SZ</td>\n",
       "      <td>2004-01-02</td>\n",
       "      <td>129.1481</td>\n",
       "      <td>13.033300</td>\n",
       "      <td>131.0481</td>\n",
       "      <td>131.5781</td>\n",
       "      <td>128.6181</td>\n",
       "    </tr>\n",
       "    <tr>\n",
       "      <th>10</th>\n",
       "      <td>125930.SZ</td>\n",
       "      <td>2004-01-02</td>\n",
       "      <td>101.9474</td>\n",
       "      <td>103.075820</td>\n",
       "      <td>101.7574</td>\n",
       "      <td>102.2674</td>\n",
       "      <td>101.7474</td>\n",
       "    </tr>\n",
       "    <tr>\n",
       "      <th>11</th>\n",
       "      <td>125936.SZ</td>\n",
       "      <td>2004-01-02</td>\n",
       "      <td>98.2164</td>\n",
       "      <td>98.766870</td>\n",
       "      <td>98.1564</td>\n",
       "      <td>98.3364</td>\n",
       "      <td>98.0564</td>\n",
       "    </tr>\n",
       "    <tr>\n",
       "      <th>18</th>\n",
       "      <td>125002.SZ</td>\n",
       "      <td>2004-01-05</td>\n",
       "      <td>123.0693</td>\n",
       "      <td>12.225332</td>\n",
       "      <td>116.7693</td>\n",
       "      <td>123.6193</td>\n",
       "      <td>116.7693</td>\n",
       "    </tr>\n",
       "    <tr>\n",
       "      <th>...</th>\n",
       "      <td>...</td>\n",
       "      <td>...</td>\n",
       "      <td>...</td>\n",
       "      <td>...</td>\n",
       "      <td>...</td>\n",
       "      <td>...</td>\n",
       "      <td>...</td>\n",
       "    </tr>\n",
       "    <tr>\n",
       "      <th>384795</th>\n",
       "      <td>127077.SZ</td>\n",
       "      <td>2023-01-10</td>\n",
       "      <td>129.9671</td>\n",
       "      <td>129.967123</td>\n",
       "      <td>129.9671</td>\n",
       "      <td>129.9671</td>\n",
       "      <td>129.9671</td>\n",
       "    </tr>\n",
       "    <tr>\n",
       "      <th>405576</th>\n",
       "      <td>123175.SZ</td>\n",
       "      <td>2023-03-17</td>\n",
       "      <td>129.9803</td>\n",
       "      <td>129.980274</td>\n",
       "      <td>129.9803</td>\n",
       "      <td>129.9803</td>\n",
       "      <td>129.9803</td>\n",
       "    </tr>\n",
       "    <tr>\n",
       "      <th>407058</th>\n",
       "      <td>123176.SZ</td>\n",
       "      <td>2023-03-22</td>\n",
       "      <td>129.9885</td>\n",
       "      <td>129.988493</td>\n",
       "      <td>129.9885</td>\n",
       "      <td>129.9885</td>\n",
       "      <td>129.9885</td>\n",
       "    </tr>\n",
       "    <tr>\n",
       "      <th>415595</th>\n",
       "      <td>123182.SZ</td>\n",
       "      <td>2023-04-17</td>\n",
       "      <td>129.9778</td>\n",
       "      <td>129.977808</td>\n",
       "      <td>129.9778</td>\n",
       "      <td>129.9778</td>\n",
       "      <td>129.9778</td>\n",
       "    </tr>\n",
       "    <tr>\n",
       "      <th>420880</th>\n",
       "      <td>111006.SH</td>\n",
       "      <td>2023-05-05</td>\n",
       "      <td>102.2027</td>\n",
       "      <td>0.000000</td>\n",
       "      <td>102.2027</td>\n",
       "      <td>102.2027</td>\n",
       "      <td>102.2027</td>\n",
       "    </tr>\n",
       "  </tbody>\n",
       "</table>\n",
       "<p>2682 rows × 7 columns</p>\n",
       "</div>"
      ],
      "text/plain": [
       "         windcode       date       收盘价        vwap       开盘价       最高价   \n",
       "6       125002.SZ 2004-01-02  116.5816   11.629270  114.7416  117.3416  \\\n",
       "7       125629.SZ 2004-01-02  129.1481   13.033300  131.0481  131.5781   \n",
       "10      125930.SZ 2004-01-02  101.9474  103.075820  101.7574  102.2674   \n",
       "11      125936.SZ 2004-01-02   98.2164   98.766870   98.1564   98.3364   \n",
       "18      125002.SZ 2004-01-05  123.0693   12.225332  116.7693  123.6193   \n",
       "...           ...        ...       ...         ...       ...       ...   \n",
       "384795  127077.SZ 2023-01-10  129.9671  129.967123  129.9671  129.9671   \n",
       "405576  123175.SZ 2023-03-17  129.9803  129.980274  129.9803  129.9803   \n",
       "407058  123176.SZ 2023-03-22  129.9885  129.988493  129.9885  129.9885   \n",
       "415595  123182.SZ 2023-04-17  129.9778  129.977808  129.9778  129.9778   \n",
       "420880  111006.SH 2023-05-05  102.2027    0.000000  102.2027  102.2027   \n",
       "\n",
       "             最低价  \n",
       "6       114.6216  \n",
       "7       128.6181  \n",
       "10      101.7474  \n",
       "11       98.0564  \n",
       "18      116.7693  \n",
       "...          ...  \n",
       "384795  129.9671  \n",
       "405576  129.9803  \n",
       "407058  129.9885  \n",
       "415595  129.9778  \n",
       "420880  102.2027  \n",
       "\n",
       "[2682 rows x 7 columns]"
      ]
     },
     "execution_count": 18,
     "metadata": {},
     "output_type": "execute_result"
    }
   ],
   "source": [
    "df_data.loc[l1 | l2,['windcode', 'date', '收盘价', 'vwap', '开盘价', '最高价', '最低价']]"
   ]
  },
  {
   "cell_type": "markdown",
   "id": "31967a13",
   "metadata": {},
   "source": [
    "## 数据缺失"
   ]
  },
  {
   "cell_type": "code",
   "execution_count": 19,
   "id": "04832a25",
   "metadata": {
    "ExecuteTime": {
     "end_time": "2023-05-09T08:37:18.660979Z",
     "start_time": "2023-05-09T08:37:18.214321Z"
    }
   },
   "outputs": [],
   "source": [
    "df_info = df_data.loc[~l_close_nan].groupby('windcode')['date'].agg(['min', 'max'])\n",
    "date_set = df_info.apply(\n",
    "    lambda x: pd.Series(pd.date_range(x['min'], x['max'])),\n",
    "    axis=1).stack().reset_index()\n",
    "\n",
    "date_set.columns = ['windcode', 'id', 'date']\n",
    "del date_set['id']\n",
    "date_set = date_set.query(\"date in @trade_dates\")"
   ]
  },
  {
   "cell_type": "code",
   "execution_count": 20,
   "id": "642805f3",
   "metadata": {
    "ExecuteTime": {
     "end_time": "2023-05-09T08:37:21.366251Z",
     "start_time": "2023-05-09T08:37:21.118160Z"
    }
   },
   "outputs": [],
   "source": [
    "df_data = pd.merge(date_set, df_data, how='left', on=['windcode', 'date'])"
   ]
  },
  {
   "cell_type": "code",
   "execution_count": 21,
   "id": "4a61c914",
   "metadata": {
    "ExecuteTime": {
     "end_time": "2023-05-09T08:37:27.787371Z",
     "start_time": "2023-05-09T08:37:27.777370Z"
    }
   },
   "outputs": [
    {
     "name": "stdout",
     "output_type": "stream",
     "text": [
      "数据缺失量\n"
     ]
    },
    {
     "data": {
      "text/plain": [
       "180"
      ]
     },
     "execution_count": 21,
     "metadata": {},
     "output_type": "execute_result"
    }
   ],
   "source": [
    "print('数据缺失量')\n",
    "df_data['label'].isnull().sum()"
   ]
  },
  {
   "cell_type": "code",
   "execution_count": 22,
   "id": "ab8bb8b2",
   "metadata": {
    "ExecuteTime": {
     "end_time": "2023-05-09T08:38:31.030500Z",
     "start_time": "2023-05-09T08:38:31.009492Z"
    }
   },
   "outputs": [
    {
     "data": {
      "text/html": [
       "<div>\n",
       "<style scoped>\n",
       "    .dataframe tbody tr th:only-of-type {\n",
       "        vertical-align: middle;\n",
       "    }\n",
       "\n",
       "    .dataframe tbody tr th {\n",
       "        vertical-align: top;\n",
       "    }\n",
       "\n",
       "    .dataframe thead th {\n",
       "        text-align: right;\n",
       "    }\n",
       "</style>\n",
       "<table border=\"1\" class=\"dataframe\">\n",
       "  <thead>\n",
       "    <tr style=\"text-align: right;\">\n",
       "      <th></th>\n",
       "      <th>windcode</th>\n",
       "      <th>date</th>\n",
       "      <th>转债余额</th>\n",
       "      <th>成交量</th>\n",
       "      <th>成交额</th>\n",
       "      <th>成交额_净价</th>\n",
       "      <th>最高价</th>\n",
       "      <th>最低价</th>\n",
       "      <th>开盘价</th>\n",
       "      <th>收盘价</th>\n",
       "      <th>label</th>\n",
       "      <th>vwap</th>\n",
       "    </tr>\n",
       "  </thead>\n",
       "  <tbody>\n",
       "    <tr>\n",
       "      <th>365421</th>\n",
       "      <td>128050.SZ</td>\n",
       "      <td>2022-01-28</td>\n",
       "      <td>NaN</td>\n",
       "      <td>NaN</td>\n",
       "      <td>NaN</td>\n",
       "      <td>NaN</td>\n",
       "      <td>NaN</td>\n",
       "      <td>NaN</td>\n",
       "      <td>NaN</td>\n",
       "      <td>NaN</td>\n",
       "      <td>NaN</td>\n",
       "      <td>NaN</td>\n",
       "    </tr>\n",
       "    <tr>\n",
       "      <th>365422</th>\n",
       "      <td>128050.SZ</td>\n",
       "      <td>2022-02-07</td>\n",
       "      <td>NaN</td>\n",
       "      <td>NaN</td>\n",
       "      <td>NaN</td>\n",
       "      <td>NaN</td>\n",
       "      <td>NaN</td>\n",
       "      <td>NaN</td>\n",
       "      <td>NaN</td>\n",
       "      <td>NaN</td>\n",
       "      <td>NaN</td>\n",
       "      <td>NaN</td>\n",
       "    </tr>\n",
       "    <tr>\n",
       "      <th>383844</th>\n",
       "      <td>128079.SZ</td>\n",
       "      <td>2019-11-19</td>\n",
       "      <td>NaN</td>\n",
       "      <td>NaN</td>\n",
       "      <td>NaN</td>\n",
       "      <td>NaN</td>\n",
       "      <td>NaN</td>\n",
       "      <td>NaN</td>\n",
       "      <td>NaN</td>\n",
       "      <td>NaN</td>\n",
       "      <td>NaN</td>\n",
       "      <td>NaN</td>\n",
       "    </tr>\n",
       "    <tr>\n",
       "      <th>410411</th>\n",
       "      <td>128127.SZ</td>\n",
       "      <td>2021-12-17</td>\n",
       "      <td>NaN</td>\n",
       "      <td>NaN</td>\n",
       "      <td>NaN</td>\n",
       "      <td>NaN</td>\n",
       "      <td>NaN</td>\n",
       "      <td>NaN</td>\n",
       "      <td>NaN</td>\n",
       "      <td>NaN</td>\n",
       "      <td>NaN</td>\n",
       "      <td>NaN</td>\n",
       "    </tr>\n",
       "    <tr>\n",
       "      <th>410412</th>\n",
       "      <td>128127.SZ</td>\n",
       "      <td>2021-12-20</td>\n",
       "      <td>NaN</td>\n",
       "      <td>NaN</td>\n",
       "      <td>NaN</td>\n",
       "      <td>NaN</td>\n",
       "      <td>NaN</td>\n",
       "      <td>NaN</td>\n",
       "      <td>NaN</td>\n",
       "      <td>NaN</td>\n",
       "      <td>NaN</td>\n",
       "      <td>NaN</td>\n",
       "    </tr>\n",
       "  </tbody>\n",
       "</table>\n",
       "</div>"
      ],
      "text/plain": [
       "         windcode       date  转债余额  成交量  成交额  成交额_净价  最高价  最低价  开盘价  收盘价   \n",
       "365421  128050.SZ 2022-01-28   NaN  NaN  NaN     NaN  NaN  NaN  NaN  NaN  \\\n",
       "365422  128050.SZ 2022-02-07   NaN  NaN  NaN     NaN  NaN  NaN  NaN  NaN   \n",
       "383844  128079.SZ 2019-11-19   NaN  NaN  NaN     NaN  NaN  NaN  NaN  NaN   \n",
       "410411  128127.SZ 2021-12-17   NaN  NaN  NaN     NaN  NaN  NaN  NaN  NaN   \n",
       "410412  128127.SZ 2021-12-20   NaN  NaN  NaN     NaN  NaN  NaN  NaN  NaN   \n",
       "\n",
       "        label  vwap  \n",
       "365421    NaN   NaN  \n",
       "365422    NaN   NaN  \n",
       "383844    NaN   NaN  \n",
       "410411    NaN   NaN  \n",
       "410412    NaN   NaN  "
      ]
     },
     "execution_count": 22,
     "metadata": {},
     "output_type": "execute_result"
    }
   ],
   "source": [
    "df_data.query(\"label != label\").tail()"
   ]
  },
  {
   "cell_type": "code",
   "execution_count": 23,
   "id": "0164cdd6",
   "metadata": {
    "ExecuteTime": {
     "end_time": "2023-05-09T08:38:33.825197Z",
     "start_time": "2023-05-09T08:38:33.804180Z"
    }
   },
   "outputs": [
    {
     "data": {
      "text/plain": [
       "date\n",
       "2022-08-02    16\n",
       "2022-08-11    14\n",
       "2022-01-05    13\n",
       "2022-01-07    12\n",
       "2022-01-14    10\n",
       "2022-01-17    10\n",
       "2022-01-06     9\n",
       "2022-01-10     8\n",
       "2022-01-11     8\n",
       "2022-01-12     8\n",
       "2022-01-13     8\n",
       "2019-11-19     6\n",
       "2022-01-18     6\n",
       "2022-01-19     6\n",
       "2022-01-20     5\n",
       "2021-12-20     4\n",
       "2021-12-31     3\n",
       "2021-12-17     3\n",
       "2022-01-21     3\n",
       "2022-04-07     3\n",
       "2022-01-25     2\n",
       "2022-01-26     2\n",
       "2022-02-07     2\n",
       "2022-01-28     2\n",
       "2022-01-27     2\n",
       "2022-01-24     2\n",
       "2022-07-27     1\n",
       "2021-12-29     1\n",
       "2014-06-09     1\n",
       "2014-06-06     1\n",
       "2021-12-30     1\n",
       "2021-12-27     1\n",
       "2021-12-28     1\n",
       "2021-12-24     1\n",
       "2021-12-23     1\n",
       "2022-07-26     1\n",
       "2021-12-13     1\n",
       "2022-07-15     1\n",
       "2014-06-10     1\n",
       "Name: count, dtype: int64"
      ]
     },
     "execution_count": 23,
     "metadata": {},
     "output_type": "execute_result"
    }
   ],
   "source": [
    "df_data.query(\"label != label\")['date'].value_counts()"
   ]
  },
  {
   "cell_type": "code",
   "execution_count": 24,
   "id": "9f2f286f",
   "metadata": {
    "ExecuteTime": {
     "end_time": "2023-05-09T08:38:36.914535Z",
     "start_time": "2023-05-09T08:38:36.902541Z"
    }
   },
   "outputs": [
    {
     "data": {
      "text/plain": [
       "windcode\n",
       "123029.SZ    24\n",
       "118004.SH    16\n",
       "127052.SZ    13\n",
       "123133.SZ    12\n",
       "113638.SH    12\n",
       "113637.SH    11\n",
       "123135.SZ    10\n",
       "110084.SH     9\n",
       "123134.SZ     9\n",
       "113653.SH     4\n",
       "110034.SH     3\n",
       "128050.SZ     3\n",
       "128003.SZ     3\n",
       "123053.SZ     3\n",
       "118014.SH     3\n",
       "113052.SH     3\n",
       "113652.SH     2\n",
       "123074.SZ     2\n",
       "113009.SH     2\n",
       "127067.SZ     2\n",
       "127014.SZ     2\n",
       "123153.SZ     2\n",
       "123152.SZ     2\n",
       "113061.SH     2\n",
       "128127.SZ     2\n",
       "118015.SH     2\n",
       "113651.SH     2\n",
       "118016.SH     1\n",
       "123154.SZ     1\n",
       "128079.SZ     1\n",
       "110061.SH     1\n",
       "113655.SH     1\n",
       "127066.SZ     1\n",
       "127065.SZ     1\n",
       "113043.SH     1\n",
       "118010.SH     1\n",
       "118011.SH     1\n",
       "118017.SH     1\n",
       "118012.SH     1\n",
       "118013.SH     1\n",
       "110060.SH     1\n",
       "113546.SH     1\n",
       "113654.SH     1\n",
       "123081.SZ     1\n",
       "113548.SH     1\n",
       "113650.SH     1\n",
       "123132.SZ     1\n",
       "Name: count, dtype: int64"
      ]
     },
     "execution_count": 24,
     "metadata": {},
     "output_type": "execute_result"
    }
   ],
   "source": [
    "df_data.query(\"label != label\")['windcode'].value_counts()"
   ]
  },
  {
   "cell_type": "markdown",
   "id": "4c073eeb",
   "metadata": {},
   "source": [
    "### 扣除头尾收盘价缺失数据后缺失值大量减少"
   ]
  },
  {
   "cell_type": "code",
   "execution_count": 25,
   "id": "c5caa8be",
   "metadata": {
    "ExecuteTime": {
     "end_time": "2023-05-09T08:38:40.554885Z",
     "start_time": "2023-05-09T08:38:40.517192Z"
    }
   },
   "outputs": [
    {
     "data": {
      "text/plain": [
       "windcode        0\n",
       "date            0\n",
       "转债余额          779\n",
       "成交量           779\n",
       "成交额           779\n",
       "成交额_净价        180\n",
       "最高价           180\n",
       "最低价           180\n",
       "开盘价           180\n",
       "收盘价           180\n",
       "label         180\n",
       "vwap        22258\n",
       "dtype: int64"
      ]
     },
     "execution_count": 25,
     "metadata": {},
     "output_type": "execute_result"
    }
   ],
   "source": [
    "df_data.isnull().sum()"
   ]
  },
  {
   "cell_type": "markdown",
   "id": "03207bc1",
   "metadata": {},
   "source": [
    "# 数据清洗过程"
   ]
  },
  {
   "cell_type": "code",
   "execution_count": 26,
   "id": "2477886f",
   "metadata": {
    "ExecuteTime": {
     "end_time": "2023-05-09T08:39:14.680859Z",
     "start_time": "2023-05-09T08:39:14.590425Z"
    }
   },
   "outputs": [
    {
     "data": {
      "text/plain": [
       "(421848, 10)"
      ]
     },
     "execution_count": 26,
     "metadata": {},
     "output_type": "execute_result"
    }
   ],
   "source": [
    "df_data = pd.read_pickle(os.path.join(path, 'cbmkt.pickle'))\n",
    "df_data.reset_index(inplace=True)\n",
    "df_data['date'] = pd.to_datetime(df_data['date'])\n",
    "df_data.shape"
   ]
  },
  {
   "cell_type": "code",
   "execution_count": 27,
   "id": "1f2779ad",
   "metadata": {
    "ExecuteTime": {
     "end_time": "2023-05-09T08:39:15.863670Z",
     "start_time": "2023-05-09T08:39:15.845102Z"
    }
   },
   "outputs": [],
   "source": [
    "trade_dates = pd.Series(np.sort(df_data['date'].unique()))"
   ]
  },
  {
   "cell_type": "code",
   "execution_count": 28,
   "id": "6101f325",
   "metadata": {
    "ExecuteTime": {
     "end_time": "2023-05-09T08:39:18.841524Z",
     "start_time": "2023-05-09T08:39:18.750237Z"
    }
   },
   "outputs": [],
   "source": [
    "# 用成交量判断当日是否有交易， 选择每一个标的当日有交易的最大与最小日期\n",
    "l_nan = df_data['成交量'].isnull() | (df_data['成交量'] == 0)\n",
    "df_info = df_data.loc[~l_nan].groupby(\n",
    "    'windcode')['date'].agg(['min', 'max'])\n",
    "\n",
    "# 如果标的数据最新有数据，哪怕是停牌数据，也要暂认为标的处于存续期\n",
    "# 如果不想添加这个逻辑可以把以下三行代码注释掉\n",
    "max_date = df_data.groupby('windcode')['date'].max()\n",
    "secu_subsist = max_date.index[max_date == trade_dates.max()]\n",
    "df_info.loc[secu_subsist.intersection(df_info.index), 'max'] = max_date"
   ]
  },
  {
   "cell_type": "code",
   "execution_count": 29,
   "id": "d84003c6",
   "metadata": {
    "ExecuteTime": {
     "end_time": "2023-05-09T08:39:20.870652Z",
     "start_time": "2023-05-09T08:39:20.493239Z"
    }
   },
   "outputs": [],
   "source": [
    "date_set = df_info.apply(\n",
    "    lambda x: pd.Series(pd.date_range(x['min'], x['max'])),\n",
    "    axis=1).stack().reset_index()\n",
    "\n",
    "date_set.columns = ['windcode', 'id', 'date']\n",
    "del date_set['id']\n",
    "date_set = date_set.query(\"date in @trade_dates\")"
   ]
  },
  {
   "cell_type": "code",
   "execution_count": 30,
   "id": "fd6c20b9",
   "metadata": {
    "ExecuteTime": {
     "end_time": "2023-05-09T08:39:21.814230Z",
     "start_time": "2023-05-09T08:39:21.572221Z"
    }
   },
   "outputs": [],
   "source": [
    "cols = ['windcode', 'date', '开盘价', '最高价', '最低价', '收盘价', '成交量', '成交额']\n",
    "df_data = pd.merge(date_set, df_data[cols], how='left', on=['windcode', 'date'])"
   ]
  },
  {
   "cell_type": "code",
   "execution_count": 31,
   "id": "98d9252c",
   "metadata": {
    "ExecuteTime": {
     "end_time": "2023-05-09T08:39:23.031969Z",
     "start_time": "2023-05-09T08:39:22.812236Z"
    }
   },
   "outputs": [
    {
     "data": {
      "text/plain": [
       "windcode    0\n",
       "date        0\n",
       "开盘价         0\n",
       "最高价         0\n",
       "最低价         0\n",
       "收盘价         0\n",
       "成交量         0\n",
       "成交额         0\n",
       "dtype: int64"
      ]
     },
     "execution_count": 31,
     "metadata": {},
     "output_type": "execute_result"
    }
   ],
   "source": [
    "# 量额用0填充缺失值\n",
    "cols = ['成交量', '成交额']\n",
    "df_data[cols] = df_data[cols].fillna(0)\n",
    "\n",
    "# 如果收盘价缺失， 则开、高、低数据无效\n",
    "l_close_nan = df_data['收盘价'].isnull()\n",
    "df_data.loc[l_close_nan, ['开盘价', '最高价', '最低价']] = np.nan\n",
    "\n",
    "# 收盘用前值填充缺失值\n",
    "df_data['收盘价'] = df_data.groupby(\n",
    "    'windcode')['收盘价'].fillna(method='ffill')\n",
    "\n",
    "# 开、高、 低用受安排填缺失值\n",
    "for col in ['开盘价', '最高价', '最低价']:\n",
    "    df_data[col] = df_data[col].fillna(df_data['收盘价'])\n",
    "    \n",
    "df_data.isnull().sum()"
   ]
  },
  {
   "cell_type": "code",
   "execution_count": 32,
   "id": "57862a34",
   "metadata": {
    "ExecuteTime": {
     "end_time": "2023-05-09T08:39:26.946328Z",
     "start_time": "2023-05-09T08:39:26.908325Z"
    }
   },
   "outputs": [
    {
     "name": "stdout",
     "output_type": "stream",
     "text": [
      "开始与结束均有空值\n"
     ]
    },
    {
     "data": {
      "text/html": [
       "<div>\n",
       "<style scoped>\n",
       "    .dataframe tbody tr th:only-of-type {\n",
       "        vertical-align: middle;\n",
       "    }\n",
       "\n",
       "    .dataframe tbody tr th {\n",
       "        vertical-align: top;\n",
       "    }\n",
       "\n",
       "    .dataframe thead th {\n",
       "        text-align: right;\n",
       "    }\n",
       "</style>\n",
       "<table border=\"1\" class=\"dataframe\">\n",
       "  <thead>\n",
       "    <tr style=\"text-align: right;\">\n",
       "      <th></th>\n",
       "      <th>windcode</th>\n",
       "      <th>date</th>\n",
       "      <th>开盘价</th>\n",
       "      <th>最高价</th>\n",
       "      <th>最低价</th>\n",
       "      <th>收盘价</th>\n",
       "      <th>成交量</th>\n",
       "      <th>成交额</th>\n",
       "    </tr>\n",
       "  </thead>\n",
       "  <tbody>\n",
       "    <tr>\n",
       "      <th>365929</th>\n",
       "      <td>128078.SZ</td>\n",
       "      <td>2019-11-08</td>\n",
       "      <td>117.4792</td>\n",
       "      <td>121.8792</td>\n",
       "      <td>116.9992</td>\n",
       "      <td>120.1792</td>\n",
       "      <td>6.375121e+08</td>\n",
       "      <td>7.618980e+08</td>\n",
       "    </tr>\n",
       "    <tr>\n",
       "      <th>365930</th>\n",
       "      <td>128078.SZ</td>\n",
       "      <td>2019-11-11</td>\n",
       "      <td>119.5459</td>\n",
       "      <td>121.8639</td>\n",
       "      <td>119.5459</td>\n",
       "      <td>120.7259</td>\n",
       "      <td>1.188741e+08</td>\n",
       "      <td>1.436794e+08</td>\n",
       "    </tr>\n",
       "    <tr>\n",
       "      <th>365931</th>\n",
       "      <td>128078.SZ</td>\n",
       "      <td>2019-11-12</td>\n",
       "      <td>121.0948</td>\n",
       "      <td>121.3748</td>\n",
       "      <td>118.4848</td>\n",
       "      <td>120.5948</td>\n",
       "      <td>3.760050e+07</td>\n",
       "      <td>4.496918e+07</td>\n",
       "    </tr>\n",
       "    <tr>\n",
       "      <th>365932</th>\n",
       "      <td>128078.SZ</td>\n",
       "      <td>2019-11-13</td>\n",
       "      <td>119.4397</td>\n",
       "      <td>120.8737</td>\n",
       "      <td>119.4397</td>\n",
       "      <td>120.6337</td>\n",
       "      <td>2.902540e+07</td>\n",
       "      <td>3.490675e+07</td>\n",
       "    </tr>\n",
       "    <tr>\n",
       "      <th>365933</th>\n",
       "      <td>128078.SZ</td>\n",
       "      <td>2019-11-14</td>\n",
       "      <td>120.1726</td>\n",
       "      <td>123.7526</td>\n",
       "      <td>119.4726</td>\n",
       "      <td>123.4726</td>\n",
       "      <td>3.023550e+07</td>\n",
       "      <td>3.659758e+07</td>\n",
       "    </tr>\n",
       "    <tr>\n",
       "      <th>...</th>\n",
       "      <td>...</td>\n",
       "      <td>...</td>\n",
       "      <td>...</td>\n",
       "      <td>...</td>\n",
       "      <td>...</td>\n",
       "      <td>...</td>\n",
       "      <td>...</td>\n",
       "      <td>...</td>\n",
       "    </tr>\n",
       "    <tr>\n",
       "      <th>366759</th>\n",
       "      <td>128078.SZ</td>\n",
       "      <td>2023-04-11</td>\n",
       "      <td>193.2890</td>\n",
       "      <td>200.8390</td>\n",
       "      <td>188.2070</td>\n",
       "      <td>192.3840</td>\n",
       "      <td>5.015484e+08</td>\n",
       "      <td>9.816364e+08</td>\n",
       "    </tr>\n",
       "    <tr>\n",
       "      <th>366760</th>\n",
       "      <td>128078.SZ</td>\n",
       "      <td>2023-04-12</td>\n",
       "      <td>193.2849</td>\n",
       "      <td>208.7849</td>\n",
       "      <td>190.4849</td>\n",
       "      <td>203.6849</td>\n",
       "      <td>1.071524e+09</td>\n",
       "      <td>2.180152e+09</td>\n",
       "    </tr>\n",
       "    <tr>\n",
       "      <th>366761</th>\n",
       "      <td>128078.SZ</td>\n",
       "      <td>2023-04-13</td>\n",
       "      <td>203.0968</td>\n",
       "      <td>210.7428</td>\n",
       "      <td>198.5548</td>\n",
       "      <td>200.9548</td>\n",
       "      <td>6.040599e+08</td>\n",
       "      <td>1.235554e+09</td>\n",
       "    </tr>\n",
       "    <tr>\n",
       "      <th>366762</th>\n",
       "      <td>128078.SZ</td>\n",
       "      <td>2023-04-14</td>\n",
       "      <td>202.2727</td>\n",
       "      <td>211.2567</td>\n",
       "      <td>198.2867</td>\n",
       "      <td>203.4987</td>\n",
       "      <td>5.172054e+08</td>\n",
       "      <td>1.060896e+09</td>\n",
       "    </tr>\n",
       "    <tr>\n",
       "      <th>366763</th>\n",
       "      <td>128078.SZ</td>\n",
       "      <td>2023-04-17</td>\n",
       "      <td>204.6744</td>\n",
       "      <td>220.5644</td>\n",
       "      <td>204.2654</td>\n",
       "      <td>212.0084</td>\n",
       "      <td>6.899074e+08</td>\n",
       "      <td>1.477197e+09</td>\n",
       "    </tr>\n",
       "  </tbody>\n",
       "</table>\n",
       "<p>835 rows × 8 columns</p>\n",
       "</div>"
      ],
      "text/plain": [
       "         windcode       date       开盘价       最高价       最低价       收盘价   \n",
       "365929  128078.SZ 2019-11-08  117.4792  121.8792  116.9992  120.1792  \\\n",
       "365930  128078.SZ 2019-11-11  119.5459  121.8639  119.5459  120.7259   \n",
       "365931  128078.SZ 2019-11-12  121.0948  121.3748  118.4848  120.5948   \n",
       "365932  128078.SZ 2019-11-13  119.4397  120.8737  119.4397  120.6337   \n",
       "365933  128078.SZ 2019-11-14  120.1726  123.7526  119.4726  123.4726   \n",
       "...           ...        ...       ...       ...       ...       ...   \n",
       "366759  128078.SZ 2023-04-11  193.2890  200.8390  188.2070  192.3840   \n",
       "366760  128078.SZ 2023-04-12  193.2849  208.7849  190.4849  203.6849   \n",
       "366761  128078.SZ 2023-04-13  203.0968  210.7428  198.5548  200.9548   \n",
       "366762  128078.SZ 2023-04-14  202.2727  211.2567  198.2867  203.4987   \n",
       "366763  128078.SZ 2023-04-17  204.6744  220.5644  204.2654  212.0084   \n",
       "\n",
       "                 成交量           成交额  \n",
       "365929  6.375121e+08  7.618980e+08  \n",
       "365930  1.188741e+08  1.436794e+08  \n",
       "365931  3.760050e+07  4.496918e+07  \n",
       "365932  2.902540e+07  3.490675e+07  \n",
       "365933  3.023550e+07  3.659758e+07  \n",
       "...              ...           ...  \n",
       "366759  5.015484e+08  9.816364e+08  \n",
       "366760  1.071524e+09  2.180152e+09  \n",
       "366761  6.040599e+08  1.235554e+09  \n",
       "366762  5.172054e+08  1.060896e+09  \n",
       "366763  6.899074e+08  1.477197e+09  \n",
       "\n",
       "[835 rows x 8 columns]"
      ]
     },
     "execution_count": 32,
     "metadata": {},
     "output_type": "execute_result"
    }
   ],
   "source": [
    "print('开始与结束均有空值')\n",
    "df_data.query(\"windcode == '128078.SZ'\")"
   ]
  },
  {
   "cell_type": "code",
   "execution_count": 33,
   "id": "b6c6903d",
   "metadata": {
    "ExecuteTime": {
     "end_time": "2023-05-09T08:39:32.621637Z",
     "start_time": "2023-05-09T08:39:32.612654Z"
    }
   },
   "outputs": [
    {
     "data": {
      "text/plain": [
       "(403677, 8)"
      ]
     },
     "execution_count": 33,
     "metadata": {},
     "output_type": "execute_result"
    }
   ],
   "source": [
    "df_data.shape"
   ]
  },
  {
   "cell_type": "markdown",
   "id": "60192448",
   "metadata": {},
   "source": [
    "# 其它数据"
   ]
  },
  {
   "cell_type": "code",
   "execution_count": 34,
   "id": "7303a13c",
   "metadata": {
    "ExecuteTime": {
     "end_time": "2023-05-09T08:39:40.437564Z",
     "start_time": "2023-05-09T08:39:40.413561Z"
    }
   },
   "outputs": [
    {
     "data": {
      "text/plain": [
       "[('20171229', '113502.SH'),\n",
       " ('20180102', '113502.SH'),\n",
       " ('20180102', '113503.SH'),\n",
       " ('20180103', '113502.SH'),\n",
       " ('20180103', '113503.SH')]"
      ]
     },
     "execution_count": 34,
     "metadata": {},
     "output_type": "execute_result"
    }
   ],
   "source": [
    "df_data = pd.read_pickle(os.path.join(path, 'not_include_list.pickle'))\n",
    "df_data[:5]"
   ]
  },
  {
   "cell_type": "code",
   "execution_count": 35,
   "id": "cbeab5a2",
   "metadata": {
    "ExecuteTime": {
     "end_time": "2023-05-09T08:39:40.838060Z",
     "start_time": "2023-05-09T08:39:40.812006Z"
    }
   },
   "outputs": [],
   "source": [
    "f = pd.DataFrame(df_data, columns=['date', 'windcode'])"
   ]
  },
  {
   "cell_type": "code",
   "execution_count": 36,
   "id": "8134f198",
   "metadata": {
    "ExecuteTime": {
     "end_time": "2023-05-09T08:39:41.180901Z",
     "start_time": "2023-05-09T08:39:41.169901Z"
    }
   },
   "outputs": [
    {
     "data": {
      "text/html": [
       "<div>\n",
       "<style scoped>\n",
       "    .dataframe tbody tr th:only-of-type {\n",
       "        vertical-align: middle;\n",
       "    }\n",
       "\n",
       "    .dataframe tbody tr th {\n",
       "        vertical-align: top;\n",
       "    }\n",
       "\n",
       "    .dataframe thead th {\n",
       "        text-align: right;\n",
       "    }\n",
       "</style>\n",
       "<table border=\"1\" class=\"dataframe\">\n",
       "  <thead>\n",
       "    <tr style=\"text-align: right;\">\n",
       "      <th></th>\n",
       "      <th>date</th>\n",
       "      <th>windcode</th>\n",
       "    </tr>\n",
       "  </thead>\n",
       "  <tbody>\n",
       "    <tr>\n",
       "      <th>120</th>\n",
       "      <td>20180601</td>\n",
       "      <td>110038.SH</td>\n",
       "    </tr>\n",
       "    <tr>\n",
       "      <th>123</th>\n",
       "      <td>20180604</td>\n",
       "      <td>110038.SH</td>\n",
       "    </tr>\n",
       "    <tr>\n",
       "      <th>126</th>\n",
       "      <td>20180605</td>\n",
       "      <td>110038.SH</td>\n",
       "    </tr>\n",
       "    <tr>\n",
       "      <th>129</th>\n",
       "      <td>20180606</td>\n",
       "      <td>110038.SH</td>\n",
       "    </tr>\n",
       "    <tr>\n",
       "      <th>133</th>\n",
       "      <td>20180607</td>\n",
       "      <td>110038.SH</td>\n",
       "    </tr>\n",
       "    <tr>\n",
       "      <th>137</th>\n",
       "      <td>20180608</td>\n",
       "      <td>110038.SH</td>\n",
       "    </tr>\n",
       "    <tr>\n",
       "      <th>141</th>\n",
       "      <td>20180611</td>\n",
       "      <td>110038.SH</td>\n",
       "    </tr>\n",
       "    <tr>\n",
       "      <th>145</th>\n",
       "      <td>20180612</td>\n",
       "      <td>110038.SH</td>\n",
       "    </tr>\n",
       "    <tr>\n",
       "      <th>149</th>\n",
       "      <td>20180613</td>\n",
       "      <td>110038.SH</td>\n",
       "    </tr>\n",
       "    <tr>\n",
       "      <th>153</th>\n",
       "      <td>20180614</td>\n",
       "      <td>110038.SH</td>\n",
       "    </tr>\n",
       "    <tr>\n",
       "      <th>157</th>\n",
       "      <td>20180615</td>\n",
       "      <td>110038.SH</td>\n",
       "    </tr>\n",
       "    <tr>\n",
       "      <th>161</th>\n",
       "      <td>20180619</td>\n",
       "      <td>110038.SH</td>\n",
       "    </tr>\n",
       "    <tr>\n",
       "      <th>165</th>\n",
       "      <td>20180620</td>\n",
       "      <td>110038.SH</td>\n",
       "    </tr>\n",
       "    <tr>\n",
       "      <th>169</th>\n",
       "      <td>20180621</td>\n",
       "      <td>110038.SH</td>\n",
       "    </tr>\n",
       "    <tr>\n",
       "      <th>173</th>\n",
       "      <td>20180622</td>\n",
       "      <td>110038.SH</td>\n",
       "    </tr>\n",
       "    <tr>\n",
       "      <th>177</th>\n",
       "      <td>20180625</td>\n",
       "      <td>110038.SH</td>\n",
       "    </tr>\n",
       "    <tr>\n",
       "      <th>181</th>\n",
       "      <td>20180626</td>\n",
       "      <td>110038.SH</td>\n",
       "    </tr>\n",
       "    <tr>\n",
       "      <th>185</th>\n",
       "      <td>20180627</td>\n",
       "      <td>110038.SH</td>\n",
       "    </tr>\n",
       "    <tr>\n",
       "      <th>189</th>\n",
       "      <td>20180628</td>\n",
       "      <td>110038.SH</td>\n",
       "    </tr>\n",
       "    <tr>\n",
       "      <th>193</th>\n",
       "      <td>20180629</td>\n",
       "      <td>110038.SH</td>\n",
       "    </tr>\n",
       "    <tr>\n",
       "      <th>197</th>\n",
       "      <td>20180702</td>\n",
       "      <td>110038.SH</td>\n",
       "    </tr>\n",
       "    <tr>\n",
       "      <th>201</th>\n",
       "      <td>20180703</td>\n",
       "      <td>110038.SH</td>\n",
       "    </tr>\n",
       "    <tr>\n",
       "      <th>205</th>\n",
       "      <td>20180704</td>\n",
       "      <td>110038.SH</td>\n",
       "    </tr>\n",
       "    <tr>\n",
       "      <th>209</th>\n",
       "      <td>20180705</td>\n",
       "      <td>110038.SH</td>\n",
       "    </tr>\n",
       "    <tr>\n",
       "      <th>213</th>\n",
       "      <td>20180706</td>\n",
       "      <td>110038.SH</td>\n",
       "    </tr>\n",
       "    <tr>\n",
       "      <th>70559</th>\n",
       "      <td>20221024</td>\n",
       "      <td>110038.SH</td>\n",
       "    </tr>\n",
       "    <tr>\n",
       "      <th>70654</th>\n",
       "      <td>20221025</td>\n",
       "      <td>110038.SH</td>\n",
       "    </tr>\n",
       "    <tr>\n",
       "      <th>70749</th>\n",
       "      <td>20221026</td>\n",
       "      <td>110038.SH</td>\n",
       "    </tr>\n",
       "    <tr>\n",
       "      <th>70844</th>\n",
       "      <td>20221027</td>\n",
       "      <td>110038.SH</td>\n",
       "    </tr>\n",
       "    <tr>\n",
       "      <th>70939</th>\n",
       "      <td>20221028</td>\n",
       "      <td>110038.SH</td>\n",
       "    </tr>\n",
       "    <tr>\n",
       "      <th>71033</th>\n",
       "      <td>20221031</td>\n",
       "      <td>110038.SH</td>\n",
       "    </tr>\n",
       "    <tr>\n",
       "      <th>71126</th>\n",
       "      <td>20221101</td>\n",
       "      <td>110038.SH</td>\n",
       "    </tr>\n",
       "    <tr>\n",
       "      <th>71219</th>\n",
       "      <td>20221102</td>\n",
       "      <td>110038.SH</td>\n",
       "    </tr>\n",
       "    <tr>\n",
       "      <th>71313</th>\n",
       "      <td>20221103</td>\n",
       "      <td>110038.SH</td>\n",
       "    </tr>\n",
       "    <tr>\n",
       "      <th>71407</th>\n",
       "      <td>20221104</td>\n",
       "      <td>110038.SH</td>\n",
       "    </tr>\n",
       "  </tbody>\n",
       "</table>\n",
       "</div>"
      ],
      "text/plain": [
       "           date   windcode\n",
       "120    20180601  110038.SH\n",
       "123    20180604  110038.SH\n",
       "126    20180605  110038.SH\n",
       "129    20180606  110038.SH\n",
       "133    20180607  110038.SH\n",
       "137    20180608  110038.SH\n",
       "141    20180611  110038.SH\n",
       "145    20180612  110038.SH\n",
       "149    20180613  110038.SH\n",
       "153    20180614  110038.SH\n",
       "157    20180615  110038.SH\n",
       "161    20180619  110038.SH\n",
       "165    20180620  110038.SH\n",
       "169    20180621  110038.SH\n",
       "173    20180622  110038.SH\n",
       "177    20180625  110038.SH\n",
       "181    20180626  110038.SH\n",
       "185    20180627  110038.SH\n",
       "189    20180628  110038.SH\n",
       "193    20180629  110038.SH\n",
       "197    20180702  110038.SH\n",
       "201    20180703  110038.SH\n",
       "205    20180704  110038.SH\n",
       "209    20180705  110038.SH\n",
       "213    20180706  110038.SH\n",
       "70559  20221024  110038.SH\n",
       "70654  20221025  110038.SH\n",
       "70749  20221026  110038.SH\n",
       "70844  20221027  110038.SH\n",
       "70939  20221028  110038.SH\n",
       "71033  20221031  110038.SH\n",
       "71126  20221101  110038.SH\n",
       "71219  20221102  110038.SH\n",
       "71313  20221103  110038.SH\n",
       "71407  20221104  110038.SH"
      ]
     },
     "execution_count": 36,
     "metadata": {},
     "output_type": "execute_result"
    }
   ],
   "source": [
    "f.query(\"windcode == '110038.SH'\")"
   ]
  },
  {
   "cell_type": "code",
   "execution_count": 37,
   "id": "9a3e0a06",
   "metadata": {
    "ExecuteTime": {
     "end_time": "2023-05-09T08:39:41.559603Z",
     "start_time": "2023-05-09T08:39:41.546588Z"
    }
   },
   "outputs": [
    {
     "data": {
      "text/plain": [
       "date\n",
       "20121008    1.000065\n",
       "20121009    1.006255\n",
       "20121010    1.006772\n",
       "20121011    1.006590\n",
       "20121012    1.006184\n",
       "Name: 转债等权指数, dtype: float64"
      ]
     },
     "execution_count": 37,
     "metadata": {},
     "output_type": "execute_result"
    }
   ],
   "source": [
    "zzeq = pd.read_pickle(os.path.join(path, 'zzeq.pickle'))\n",
    "zzeq.head()"
   ]
  },
  {
   "cell_type": "code",
   "execution_count": 38,
   "id": "e11a8b10",
   "metadata": {
    "ExecuteTime": {
     "end_time": "2023-05-09T08:39:42.682208Z",
     "start_time": "2023-05-09T08:39:41.935936Z"
    }
   },
   "outputs": [
    {
     "data": {
      "text/plain": [
       "<AxesSubplot:xlabel='date'>"
      ]
     },
     "execution_count": 38,
     "metadata": {},
     "output_type": "execute_result"
    },
    {
     "data": {
      "image/png": "[encoded data removed]",
      "text/plain": [
       "<Figure size 640x480 with 1 Axes>"
      ]
     },
     "metadata": {},
     "output_type": "display_data"
    }
   ],
   "source": [
    "zzeq.plot()"
   ]
  }
 ],
 "metadata": {
  "hide_input": false,
  "kernelspec": {
   "display_name": "Python [conda env:root] *",
   "language": "python",
   "name": "conda-root-py"
  },
  "language_info": {
   "codemirror_mode": {
    "name": "ipython",
    "version": 3
   },
   "file_extension": ".py",
   "mimetype": "text/x-python",
   "name": "python",
   "nbconvert_exporter": "python",
   "pygments_lexer": "ipython3",
   "version": "3.8.8"
  },
  "toc": {
   "base_numbering": 1,
   "nav_menu": {},
   "number_sections": true,
   "sideBar": true,
   "skip_h1_title": false,
   "title_cell": "Table of Contents",
   "title_sidebar": "Contents",
   "toc_cell": false,
   "toc_position": {
    "height": "calc(100% - 180px)",
    "left": "10px",
    "top": "150px",
    "width": "178.333px"
   },
   "toc_section_display": true,
   "toc_window_display": true
  },
  "varInspector": {
   "cols": {
    "lenName": 16,
    "lenType": 16,
    "lenVar": 40
   },
   "kernels_config": {
    "python": {
     "delete_cmd_postfix": "",
     "delete_cmd_prefix": "del ",
     "library": "var_list.py",
     "varRefreshCmd": "print(var_dic_list())"
    },
    "r": {
     "delete_cmd_postfix": ") ",
     "delete_cmd_prefix": "rm(",
     "library": "var_list.r",
     "varRefreshCmd": "cat(var_dic_list()) "
    }
   },
   "types_to_exclude": [
    "module",
    "function",
    "builtin_function_or_method",
    "instance",
    "_Feature"
   ],
   "window_display": false
  }
 },
 "nbformat": 4,
 "nbformat_minor": 5
}
