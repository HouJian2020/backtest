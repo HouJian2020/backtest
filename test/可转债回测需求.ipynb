{
 "cells": [
  {
   "cell_type": "code",
   "execution_count": 1,
   "id": "fa0785dc",
   "metadata": {
    "ExecuteTime": {
     "end_time": "2023-05-12T02:46:48.607033Z",
     "start_time": "2023-05-12T02:46:48.578036Z"
    },
    "execution": {
     "iopub.execute_input": "2023-10-09T03:24:15.556556Z",
     "iopub.status.busy": "2023-10-09T03:24:15.555554Z",
     "iopub.status.idle": "2023-10-09T03:24:15.975045Z",
     "shell.execute_reply": "2023-10-09T03:24:15.974043Z",
     "shell.execute_reply.started": "2023-10-09T03:24:15.556556Z"
    }
   },
   "outputs": [
    {
     "data": {
      "text/plain": [
       "date      windcode \n",
       "20230427  128140.SZ    18.829575\n",
       "          128141.SZ     4.113737\n",
       "          128142.SZ     4.907253\n",
       "          128143.SZ    10.290646\n",
       "          128144.SZ     5.070907\n",
       "Name: 因子值, dtype: float64"
      ]
     },
     "execution_count": 1,
     "metadata": {},
     "output_type": "execute_result"
    }
   ],
   "source": [
    "import os\n",
    "import pandas as pd\n",
    "#用于回测的单因子\n",
    "fct=pd.read_pickle(\"./data/factor.pickle\") #单因子值,格式为有name的pd.series\n",
    "fct.dropna().tail()"
   ]
  },
  {
   "cell_type": "markdown",
   "id": "6450995a",
   "metadata": {},
   "source": [
    "# 回测模块导入"
   ]
  },
  {
   "cell_type": "code",
   "execution_count": 2,
   "id": "3dd971a2",
   "metadata": {
    "ExecuteTime": {
     "end_time": "2023-04-28T15:37:14.966614Z",
     "start_time": "2023-04-28T15:37:13.985611Z"
    },
    "execution": {
     "iopub.execute_input": "2023-10-09T03:24:15.977046Z",
     "iopub.status.busy": "2023-10-09T03:24:15.977046Z",
     "iopub.status.idle": "2023-10-09T03:24:16.367132Z",
     "shell.execute_reply": "2023-10-09T03:24:16.366131Z",
     "shell.execute_reply.started": "2023-10-09T03:24:15.977046Z"
    }
   },
   "outputs": [],
   "source": [
    "from backtest.dataframe import TradeSession, PMPandas #如果只回测的话\n",
    "from backtest.base_api import event_generator #生成事件"
   ]
  },
  {
   "cell_type": "markdown",
   "id": "b2a27248",
   "metadata": {},
   "source": [
    "# 需求表述"
   ]
  },
  {
   "cell_type": "markdown",
   "id": "0a79330f",
   "metadata": {},
   "source": [
    "## 数据导入"
   ]
  },
  {
   "cell_type": "code",
   "execution_count": 3,
   "id": "8df225e6",
   "metadata": {
    "ExecuteTime": {
     "end_time": "2023-04-28T15:37:15.349767Z",
     "start_time": "2023-04-28T15:37:14.967613Z"
    },
    "execution": {
     "iopub.execute_input": "2023-10-09T03:24:16.369144Z",
     "iopub.status.busy": "2023-10-09T03:24:16.369144Z",
     "iopub.status.idle": "2023-10-09T03:24:16.399140Z",
     "shell.execute_reply": "2023-10-09T03:24:16.398141Z",
     "shell.execute_reply.started": "2023-10-09T03:24:16.369144Z"
    }
   },
   "outputs": [],
   "source": [
    "path = r'D:\\mypkgs\\backtest\\data_mock'\n",
    "mkt=pd.read_pickle(os.path.join(path, 'cbmkt.pickle'))"
   ]
  },
  {
   "cell_type": "markdown",
   "id": "b2d499c9",
   "metadata": {},
   "source": [
    "cbmkt是我会定期更新的一个dataframe，里面包含可转债的交易数据（高开低收成交量成交额）及部分与回测无关的数据（债底、收盘价、YTM等，忽略即可）\n",
    "\n",
    "可以编写函数/修改源码，并从cbmkt中提取回测所需的数据："
   ]
  },
  {
   "cell_type": "markdown",
   "id": "a658be40",
   "metadata": {},
   "source": [
    "1.高开低收数据，在cbmkt中已包含："
   ]
  },
  {
   "cell_type": "code",
   "execution_count": 4,
   "id": "2e2b34f3",
   "metadata": {
    "ExecuteTime": {
     "end_time": "2023-04-28T15:37:15.707648Z",
     "start_time": "2023-04-28T15:37:15.351767Z"
    },
    "execution": {
     "iopub.execute_input": "2023-10-09T03:24:16.401142Z",
     "iopub.status.busy": "2023-10-09T03:24:16.400142Z",
     "iopub.status.idle": "2023-10-09T03:24:16.430480Z",
     "shell.execute_reply": "2023-10-09T03:24:16.429487Z",
     "shell.execute_reply.started": "2023-10-09T03:24:16.401142Z"
    }
   },
   "outputs": [
    {
     "data": {
      "text/html": [
       "<div>\n",
       "<style scoped>\n",
       "    .dataframe tbody tr th:only-of-type {\n",
       "        vertical-align: middle;\n",
       "    }\n",
       "\n",
       "    .dataframe tbody tr th {\n",
       "        vertical-align: top;\n",
       "    }\n",
       "\n",
       "    .dataframe thead th {\n",
       "        text-align: right;\n",
       "    }\n",
       "</style>\n",
       "<table border=\"1\" class=\"dataframe\">\n",
       "  <thead>\n",
       "    <tr style=\"text-align: right;\">\n",
       "      <th></th>\n",
       "      <th></th>\n",
       "      <th>转债余额</th>\n",
       "      <th>成交量</th>\n",
       "      <th>成交额</th>\n",
       "      <th>成交额_净价</th>\n",
       "      <th>最高价</th>\n",
       "      <th>最低价</th>\n",
       "      <th>开盘价</th>\n",
       "      <th>收盘价</th>\n",
       "    </tr>\n",
       "    <tr>\n",
       "      <th>date</th>\n",
       "      <th>windcode</th>\n",
       "      <th></th>\n",
       "      <th></th>\n",
       "      <th></th>\n",
       "      <th></th>\n",
       "      <th></th>\n",
       "      <th></th>\n",
       "      <th></th>\n",
       "      <th></th>\n",
       "    </tr>\n",
       "  </thead>\n",
       "  <tbody>\n",
       "    <tr>\n",
       "      <th rowspan=\"5\" valign=\"top\">20230508</th>\n",
       "      <th>128140.SZ</th>\n",
       "      <td>10.893835</td>\n",
       "      <td>50651100.0</td>\n",
       "      <td>94973126.6</td>\n",
       "      <td>9.476081e+07</td>\n",
       "      <td>189.8808</td>\n",
       "      <td>182.5808</td>\n",
       "      <td>189.8458</td>\n",
       "      <td>187.7178</td>\n",
       "    </tr>\n",
       "    <tr>\n",
       "      <th>128141.SZ</th>\n",
       "      <td>12.701455</td>\n",
       "      <td>19859500.0</td>\n",
       "      <td>24853729.3</td>\n",
       "      <td>2.477592e+07</td>\n",
       "      <td>125.2152</td>\n",
       "      <td>124.4972</td>\n",
       "      <td>124.5092</td>\n",
       "      <td>124.6332</td>\n",
       "    </tr>\n",
       "    <tr>\n",
       "      <th>128142.SZ</th>\n",
       "      <td>7.179734</td>\n",
       "      <td>40435900.0</td>\n",
       "      <td>49713314.9</td>\n",
       "      <td>4.955600e+07</td>\n",
       "      <td>123.2080</td>\n",
       "      <td>121.9110</td>\n",
       "      <td>122.8950</td>\n",
       "      <td>122.6110</td>\n",
       "    </tr>\n",
       "    <tr>\n",
       "      <th>128143.SZ</th>\n",
       "      <td>2.439694</td>\n",
       "      <td>2969000.0</td>\n",
       "      <td>3561457.0</td>\n",
       "      <td>3.549646e+06</td>\n",
       "      <td>119.9312</td>\n",
       "      <td>119.3032</td>\n",
       "      <td>119.7532</td>\n",
       "      <td>119.4722</td>\n",
       "    </tr>\n",
       "    <tr>\n",
       "      <th>128144.SZ</th>\n",
       "      <td>9.793808</td>\n",
       "      <td>8380000.0</td>\n",
       "      <td>9786963.7</td>\n",
       "      <td>9.774290e+06</td>\n",
       "      <td>117.0238</td>\n",
       "      <td>115.9748</td>\n",
       "      <td>115.9748</td>\n",
       "      <td>116.9488</td>\n",
       "    </tr>\n",
       "  </tbody>\n",
       "</table>\n",
       "</div>"
      ],
      "text/plain": [
       "                         转债余额         成交量         成交额        成交额_净价       最高价  \\\n",
       "date     windcode                                                               \n",
       "20230508 128140.SZ  10.893835  50651100.0  94973126.6  9.476081e+07  189.8808   \n",
       "         128141.SZ  12.701455  19859500.0  24853729.3  2.477592e+07  125.2152   \n",
       "         128142.SZ   7.179734  40435900.0  49713314.9  4.955600e+07  123.2080   \n",
       "         128143.SZ   2.439694   2969000.0   3561457.0  3.549646e+06  119.9312   \n",
       "         128144.SZ   9.793808   8380000.0   9786963.7  9.774290e+06  117.0238   \n",
       "\n",
       "                         最低价       开盘价       收盘价  \n",
       "date     windcode                                 \n",
       "20230508 128140.SZ  182.5808  189.8458  187.7178  \n",
       "         128141.SZ  124.4972  124.5092  124.6332  \n",
       "         128142.SZ  121.9110  122.8950  122.6110  \n",
       "         128143.SZ  119.3032  119.7532  119.4722  \n",
       "         128144.SZ  115.9748  115.9748  116.9488  "
      ]
     },
     "execution_count": 4,
     "metadata": {},
     "output_type": "execute_result"
    }
   ],
   "source": [
    "mkt.tail()"
   ]
  },
  {
   "cell_type": "markdown",
   "id": "96d7f3e4",
   "metadata": {},
   "source": [
    "2.vwap可通过成交量、成交额计算，cbmkt中二者的单位均是元，成交额是当天转债成交的市值金额、成交量是转债成交的面值金额，由于转债的面值为一张100元，因此vaap=mkt.成交额/mkt.成交量*100；\n",
    "\n",
    "BTW: 转债应该很难获取vwapopen/vwapclose的数据，可直接假设按全天vwap成交。"
   ]
  },
  {
   "cell_type": "code",
   "execution_count": 5,
   "id": "866a6957",
   "metadata": {
    "ExecuteTime": {
     "end_time": "2023-04-28T15:37:16.149647Z",
     "start_time": "2023-04-28T15:37:15.709718Z"
    },
    "execution": {
     "iopub.execute_input": "2023-10-09T03:24:16.432478Z",
     "iopub.status.busy": "2023-10-09T03:24:16.431479Z",
     "iopub.status.idle": "2023-10-09T03:24:16.460485Z",
     "shell.execute_reply": "2023-10-09T03:24:16.459482Z",
     "shell.execute_reply.started": "2023-10-09T03:24:16.432478Z"
    }
   },
   "outputs": [
    {
     "data": {
      "text/plain": [
       "date      windcode \n",
       "20230508  128140.SZ    187.504569\n",
       "          128141.SZ    125.147810\n",
       "          128142.SZ    122.943510\n",
       "          128143.SZ    119.954766\n",
       "          128144.SZ    116.789543\n",
       "dtype: float64"
      ]
     },
     "execution_count": 5,
     "metadata": {},
     "output_type": "execute_result"
    }
   ],
   "source": [
    "#vwap\n",
    "(mkt.成交额/mkt.成交量*100).tail()"
   ]
  },
  {
   "cell_type": "markdown",
   "id": "c62a9be9",
   "metadata": {},
   "source": [
    "3.转债暂无“当天是否停牌”的数据, 直接用成交额来管理实际能买入的量即可；\n",
    "\n",
    "BTW:有的转债会在上市前、退市后还在cbmkt中留有数据，因此我建议直接剔除掉cbmkt中成交额=0的样本再用于回测"
   ]
  },
  {
   "cell_type": "code",
   "execution_count": 6,
   "id": "42203849",
   "metadata": {
    "ExecuteTime": {
     "end_time": "2023-04-28T15:37:16.719425Z",
     "start_time": "2023-04-28T15:37:16.150647Z"
    },
    "execution": {
     "iopub.execute_input": "2023-10-09T03:24:16.462494Z",
     "iopub.status.busy": "2023-10-09T03:24:16.461481Z",
     "iopub.status.idle": "2023-10-09T03:24:16.506510Z",
     "shell.execute_reply": "2023-10-09T03:24:16.505503Z",
     "shell.execute_reply.started": "2023-10-09T03:24:16.462494Z"
    }
   },
   "outputs": [
    {
     "data": {
      "text/html": [
       "<div>\n",
       "<style scoped>\n",
       "    .dataframe tbody tr th:only-of-type {\n",
       "        vertical-align: middle;\n",
       "    }\n",
       "\n",
       "    .dataframe tbody tr th {\n",
       "        vertical-align: top;\n",
       "    }\n",
       "\n",
       "    .dataframe thead th {\n",
       "        text-align: right;\n",
       "    }\n",
       "</style>\n",
       "<table border=\"1\" class=\"dataframe\">\n",
       "  <thead>\n",
       "    <tr style=\"text-align: right;\">\n",
       "      <th></th>\n",
       "      <th></th>\n",
       "      <th>转债余额</th>\n",
       "      <th>成交量</th>\n",
       "      <th>成交额</th>\n",
       "      <th>成交额_净价</th>\n",
       "      <th>最高价</th>\n",
       "      <th>最低价</th>\n",
       "      <th>开盘价</th>\n",
       "      <th>收盘价</th>\n",
       "    </tr>\n",
       "    <tr>\n",
       "      <th>date</th>\n",
       "      <th>windcode</th>\n",
       "      <th></th>\n",
       "      <th></th>\n",
       "      <th></th>\n",
       "      <th></th>\n",
       "      <th></th>\n",
       "      <th></th>\n",
       "      <th></th>\n",
       "      <th></th>\n",
       "    </tr>\n",
       "  </thead>\n",
       "  <tbody>\n",
       "    <tr>\n",
       "      <th rowspan=\"5\" valign=\"top\">20230508</th>\n",
       "      <th>128140.SZ</th>\n",
       "      <td>10.893835</td>\n",
       "      <td>50651100.0</td>\n",
       "      <td>94973126.6</td>\n",
       "      <td>9.476081e+07</td>\n",
       "      <td>189.8808</td>\n",
       "      <td>182.5808</td>\n",
       "      <td>189.8458</td>\n",
       "      <td>187.7178</td>\n",
       "    </tr>\n",
       "    <tr>\n",
       "      <th>128141.SZ</th>\n",
       "      <td>12.701455</td>\n",
       "      <td>19859500.0</td>\n",
       "      <td>24853729.3</td>\n",
       "      <td>2.477592e+07</td>\n",
       "      <td>125.2152</td>\n",
       "      <td>124.4972</td>\n",
       "      <td>124.5092</td>\n",
       "      <td>124.6332</td>\n",
       "    </tr>\n",
       "    <tr>\n",
       "      <th>128142.SZ</th>\n",
       "      <td>7.179734</td>\n",
       "      <td>40435900.0</td>\n",
       "      <td>49713314.9</td>\n",
       "      <td>4.955600e+07</td>\n",
       "      <td>123.2080</td>\n",
       "      <td>121.9110</td>\n",
       "      <td>122.8950</td>\n",
       "      <td>122.6110</td>\n",
       "    </tr>\n",
       "    <tr>\n",
       "      <th>128143.SZ</th>\n",
       "      <td>2.439694</td>\n",
       "      <td>2969000.0</td>\n",
       "      <td>3561457.0</td>\n",
       "      <td>3.549646e+06</td>\n",
       "      <td>119.9312</td>\n",
       "      <td>119.3032</td>\n",
       "      <td>119.7532</td>\n",
       "      <td>119.4722</td>\n",
       "    </tr>\n",
       "    <tr>\n",
       "      <th>128144.SZ</th>\n",
       "      <td>9.793808</td>\n",
       "      <td>8380000.0</td>\n",
       "      <td>9786963.7</td>\n",
       "      <td>9.774290e+06</td>\n",
       "      <td>117.0238</td>\n",
       "      <td>115.9748</td>\n",
       "      <td>115.9748</td>\n",
       "      <td>116.9488</td>\n",
       "    </tr>\n",
       "  </tbody>\n",
       "</table>\n",
       "</div>"
      ],
      "text/plain": [
       "                         转债余额         成交量         成交额        成交额_净价       最高价  \\\n",
       "date     windcode                                                               \n",
       "20230508 128140.SZ  10.893835  50651100.0  94973126.6  9.476081e+07  189.8808   \n",
       "         128141.SZ  12.701455  19859500.0  24853729.3  2.477592e+07  125.2152   \n",
       "         128142.SZ   7.179734  40435900.0  49713314.9  4.955600e+07  123.2080   \n",
       "         128143.SZ   2.439694   2969000.0   3561457.0  3.549646e+06  119.9312   \n",
       "         128144.SZ   9.793808   8380000.0   9786963.7  9.774290e+06  117.0238   \n",
       "\n",
       "                         最低价       开盘价       收盘价  \n",
       "date     windcode                                 \n",
       "20230508 128140.SZ  182.5808  189.8458  187.7178  \n",
       "         128141.SZ  124.4972  124.5092  124.6332  \n",
       "         128142.SZ  121.9110  122.8950  122.6110  \n",
       "         128143.SZ  119.3032  119.7532  119.4722  \n",
       "         128144.SZ  115.9748  115.9748  116.9488  "
      ]
     },
     "execution_count": 6,
     "metadata": {},
     "output_type": "execute_result"
    }
   ],
   "source": [
    "mkt1=mkt[(mkt.成交量>0)].copy()\n",
    "mkt1.tail()"
   ]
  },
  {
   "cell_type": "markdown",
   "id": "2e542afc",
   "metadata": {},
   "source": [
    "4.最后，由于转债并没有一个标准化的“距离退市日期”数据（债券有行权条款，退市日并不是确定的日期），为了防止选入即将退市的转债，有退市可能性及其它我不想选到的转债会在本地单独计算并装入变量not_include_list、再传入回测系统，请添加“不选not_include_list中的转债”的回测逻辑\n",
    "\n",
    "not_include_list 是一个列表，以(日期,转债代码)的格式装载，表明哪些日期的哪些转债不参与回测"
   ]
  },
  {
   "cell_type": "code",
   "execution_count": 7,
   "id": "849f90ad",
   "metadata": {
    "ExecuteTime": {
     "end_time": "2023-04-28T15:37:17.307970Z",
     "start_time": "2023-04-28T15:37:16.714417Z"
    },
    "execution": {
     "iopub.execute_input": "2023-10-09T03:24:16.509500Z",
     "iopub.status.busy": "2023-10-09T03:24:16.508511Z",
     "iopub.status.idle": "2023-10-09T03:24:16.537511Z",
     "shell.execute_reply": "2023-10-09T03:24:16.536511Z",
     "shell.execute_reply.started": "2023-10-09T03:24:16.509500Z"
    }
   },
   "outputs": [
    {
     "data": {
      "text/plain": [
       "[('20230518', '128111.SZ'),\n",
       " ('20230518', '128118.SZ'),\n",
       " ('20230518', '128120.SZ'),\n",
       " ('20230518', '128122.SZ'),\n",
       " ('20230518', '128143.SZ')]"
      ]
     },
     "execution_count": 7,
     "metadata": {},
     "output_type": "execute_result"
    }
   ],
   "source": [
    "not_include_list=pd.read_pickle(\"./data/not_include_list.pickle\")\n",
    "not_include_list[-5:]"
   ]
  },
  {
   "cell_type": "markdown",
   "id": "024ae0d1",
   "metadata": {},
   "source": [
    "## 单因子回测"
   ]
  },
  {
   "cell_type": "code",
   "execution_count": 8,
   "id": "d11f121a",
   "metadata": {
    "ExecuteTime": {
     "end_time": "2023-04-28T15:37:17.773525Z",
     "start_time": "2023-04-28T15:37:17.296971Z"
    },
    "execution": {
     "iopub.execute_input": "2023-10-09T03:24:16.538504Z",
     "iopub.status.busy": "2023-10-09T03:24:16.538504Z",
     "iopub.status.idle": "2023-10-09T03:24:16.567519Z",
     "shell.execute_reply": "2023-10-09T03:24:16.566507Z",
     "shell.execute_reply.started": "2023-10-09T03:24:16.538504Z"
    }
   },
   "outputs": [
    {
     "data": {
      "text/plain": [
       "date      windcode \n",
       "20230427  128140.SZ    18.829575\n",
       "          128141.SZ     4.113737\n",
       "          128142.SZ     4.907253\n",
       "          128143.SZ    10.290646\n",
       "          128144.SZ     5.070907\n",
       "Name: 因子值, dtype: float64"
      ]
     },
     "execution_count": 8,
     "metadata": {},
     "output_type": "execute_result"
    }
   ],
   "source": [
    "#用于回测的单因子\n",
    "fct=pd.read_pickle(\"./data/factor.pickle\") #单因子值,格式为有name的pd.series\n",
    "fct.dropna().tail()"
   ]
  },
  {
   "cell_type": "markdown",
   "id": "076eb1ee",
   "metadata": {},
   "source": [
    "### 简单的定期选股回测"
   ]
  },
  {
   "cell_type": "markdown",
   "id": "8ff272dc",
   "metadata": {},
   "source": [
    "1. 回测时间段为20171229至今，策略净值的起始日为20180102，20171229的数据仅用于观察因子值排名、并确定20180102的持仓名单，严格意义上的回测是20180102至今；\n",
    "\n",
    "\n",
    "2. 调仓周期为周度，假设W1、W2为连续两个自然周，W1的最后一个交易日观察因子排名，【按fct中的因子值排名后20%得到W2的转债持仓list(等权持有)】，并于W2的第一个交易日开盘进行调仓与再平衡（买入在list中但未持有的转债、卖出不在list中但正持有的转债，对在list中且正持有的转债进行再平衡）；\n",
    "\n",
    "\n",
    "3. 成交顺序为先卖出再买入（确保有足够多的现金）；\n",
    "\n",
    "\n",
    "4. W1第一个交易日收盘时，观察实际成交的情况，可考虑将交易划分为三类：建仓、清仓、再平衡（如下图）：\n",
    "\n",
    "    1） 对于清仓的转债，若存在未卖完的部分，第二个、第三个、第四个交易日继续卖，直到卖完为止； 若到W1的最后一个交易日收盘仍未卖完，则根据W1最后一个交易日因子值给出得list建议进行操作，若不在list中，则在W2中继续卖；若在list中，则撤出剩余的卖单，根据list建议在W2中进行买入\n",
    "    \n",
    "    2） 对于建仓及再平衡的转债，若剩余未成交金额<=15w，则撤单不再买入，否则在第二个、第三个、第四个交易日继续交易，直到交易完成或者本周最后一个交易日，按照更新后的持仓list进行操作\n",
    "    \n",
    "    \n",
    "5. 回测2中情形，1）没有成交额限制（个券成交额不高于当日实际成交额的100%）；2）有成交额限制（不高于当日实际成交额的10%）\n",
    "\n",
    "\n",
    "6. 交易成本的假设：按vwap成交的情况下，无需考虑冲击成本？ or 冲击成本单边1‰\n",
    "\n",
    "\n",
    "7. 返回内容：策略净值、持仓/调仓记录、策略换手情况"
   ]
  },
  {
   "attachments": {
    "39f689247e47c82e8aca9e097ea33e4.png": {
     "image/png": "[encoded data removed]"
    }
   },
   "cell_type": "markdown",
   "id": "54e4d7b7",
   "metadata": {},
   "source": [
    "![39f689247e47c82e8aca9e097ea33e4.png](attachment:39f689247e47c82e8aca9e097ea33e4.png)"
   ]
  },
  {
   "cell_type": "markdown",
   "id": "5f597c50",
   "metadata": {},
   "source": [
    "### 定期选股回测+自下而上的仓位管理"
   ]
  },
  {
   "cell_type": "markdown",
   "id": "5b48106b",
   "metadata": {},
   "source": [
    "【按fct中的因子值<=0得到W2的转债持仓list(等权持有)，每期最多选30只，默认满仓，若满足条件的个券数量<30，则空出（1-N/30）的仓位】"
   ]
  },
  {
   "cell_type": "markdown",
   "id": "b61b48da",
   "metadata": {},
   "source": [
    "### 定期选股回测+止盈止损事件"
   ]
  },
  {
   "cell_type": "markdown",
   "id": "70130bc0",
   "metadata": {},
   "source": [
    "1. 【按fct中的因子值排名后20%得到W2的转债持仓list(等权持有)】\n",
    "2. 【若持仓期间W1-W2任意一个交易日，个券累计涨幅超过10%，则于次日起清仓，未成交的买单取消】；\n",
    "3. 【若持仓期间W1-W2任意一个交易日，个券累计跌幅超过5%，则于次日起清仓，未成交的买单取消】；"
   ]
  },
  {
   "cell_type": "markdown",
   "id": "00ddc52f",
   "metadata": {},
   "source": [
    "### 定期选股回测+自下而上的仓位管理+根据因子调入调出事件"
   ]
  },
  {
   "cell_type": "markdown",
   "id": "71fde575",
   "metadata": {},
   "source": [
    "1. 【按fct中的因子值排名后20%得到W2的转债持仓list(等权持有)】\n",
    "2. W1-W2之间的每个交易日，观察因子排名，若当日有N只持仓个券的排名跌出了20%（不满足入选list的条件），则于次日卖出该N只个券（取消未成交的买单单），卖出个券所腾出的仓位，由当日排名最靠前（fct因子值最低）且不在list中的N只个券填充"
   ]
  }
 ],
 "metadata": {
  "hide_input": false,
  "kernelspec": {
   "display_name": "py39",
   "language": "python",
   "name": "py39"
  },
  "language_info": {
   "codemirror_mode": {
    "name": "ipython",
    "version": 3
   },
   "file_extension": ".py",
   "mimetype": "text/x-python",
   "name": "python",
   "nbconvert_exporter": "python",
   "pygments_lexer": "ipython3",
   "version": "3.9.0"
  },
  "toc": {
   "base_numbering": 1,
   "nav_menu": {},
   "number_sections": true,
   "sideBar": true,
   "skip_h1_title": false,
   "title_cell": "Table of Contents",
   "title_sidebar": "Contents",
   "toc_cell": false,
   "toc_position": {
    "height": "calc(100% - 180px)",
    "left": "10px",
    "top": "150px",
    "width": "196.938px"
   },
   "toc_section_display": true,
   "toc_window_display": true
  },
  "varInspector": {
   "cols": {
    "lenName": 16,
    "lenType": 16,
    "lenVar": 40
   },
   "kernels_config": {
    "python": {
     "delete_cmd_postfix": "",
     "delete_cmd_prefix": "del ",
     "library": "var_list.py",
     "varRefreshCmd": "print(var_dic_list())"
    },
    "r": {
     "delete_cmd_postfix": ") ",
     "delete_cmd_prefix": "rm(",
     "library": "var_list.r",
     "varRefreshCmd": "cat(var_dic_list()) "
    }
   },
   "types_to_exclude": [
    "module",
    "function",
    "builtin_function_or_method",
    "instance",
    "_Feature"
   ],
   "window_display": false
  },
  "widgets": {
   "application/vnd.jupyter.widget-state+json": {
    "state": {},
    "version_major": 2,
    "version_minor": 0
   }
  }
 },
 "nbformat": 4,
 "nbformat_minor": 5
}
